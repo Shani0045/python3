{
 "cells": [
  {
   "cell_type": "markdown",
   "metadata": {},
   "source": [
    "# setter and getter"
   ]
  },
  {
   "cell_type": "code",
   "execution_count": 21,
   "metadata": {},
   "outputs": [
    {
     "data": {
      "text/plain": [
       "2"
      ]
     },
     "execution_count": 21,
     "metadata": {},
     "output_type": "execute_result"
    }
   ],
   "source": [
    "class sampleclass:\n",
    "    def __int__(self,a):\n",
    "        self.__a=a\n",
    "    def get_a(self):  # getter to get the value\n",
    "        return self.__a\n",
    "    def set_a(self,a):  # setter to set the value\n",
    "        self.__a=a\n",
    "obj=sampleclass()\n",
    "obj.set_a(2)\n",
    "obj.get_a()\n",
    "        "
   ]
  },
  {
   "cell_type": "markdown",
   "metadata": {},
   "source": [
    "## by @property decoder to get the value  Nd @function name.setter decodet to set the value"
   ]
  },
  {
   "cell_type": "code",
   "execution_count": 34,
   "metadata": {},
   "outputs": [
    {
     "name": "stdout",
     "output_type": "stream",
     "text": [
      "25\n"
     ]
    }
   ],
   "source": [
    "class sampleclass:\n",
    "    def __int__(self,a):\n",
    "        self.__a=a\n",
    "    @property\n",
    "    def a(self):  # getter to get the value\n",
    "        return self.__a\n",
    "    @a.setter\n",
    "    def a(self,a):  # setter to set the value\n",
    "        self.__a=a\n",
    "obj=sampleclass()\n",
    "obj.a=25\n",
    "print(obj.a)\n",
    "        "
   ]
  },
  {
   "cell_type": "code",
   "execution_count": null,
   "metadata": {},
   "outputs": [],
   "source": []
  }
 ],
 "metadata": {
  "kernelspec": {
   "display_name": "Python 3",
   "language": "python",
   "name": "python3"
  },
  "language_info": {
   "codemirror_mode": {
    "name": "ipython",
    "version": 3
   },
   "file_extension": ".py",
   "mimetype": "text/x-python",
   "name": "python",
   "nbconvert_exporter": "python",
   "pygments_lexer": "ipython3",
   "version": "3.6.5"
  }
 },
 "nbformat": 4,
 "nbformat_minor": 2
}
