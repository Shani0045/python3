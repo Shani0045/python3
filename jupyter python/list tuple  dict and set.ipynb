{
 "cells": [
  {
   "cell_type": "code",
   "execution_count": 1,
   "metadata": {},
   "outputs": [],
   "source": [
    "list=[10,20,50,2,5,60,30,25]"
   ]
  },
  {
   "cell_type": "code",
   "execution_count": 2,
   "metadata": {},
   "outputs": [
    {
     "name": "stdout",
     "output_type": "stream",
     "text": [
      "10\n",
      "20\n",
      "50\n",
      "2\n",
      "5\n",
      "60\n",
      "30\n",
      "25\n"
     ]
    }
   ],
   "source": [
    "for i in list:\n",
    "    print(i)"
   ]
  },
  {
   "cell_type": "code",
   "execution_count": 3,
   "metadata": {},
   "outputs": [
    {
     "name": "stdout",
     "output_type": "stream",
     "text": [
      "10\n",
      "20\n",
      "50\n",
      "2\n",
      "5\n",
      "60\n",
      "30\n",
      "25\n"
     ]
    }
   ],
   "source": [
    "tuple=(10,20,50,2,5,60,30,25)\n",
    "for i in tuple:\n",
    "    print(i)"
   ]
  },
  {
   "cell_type": "code",
   "execution_count": 4,
   "metadata": {},
   "outputs": [
    {
     "name": "stdout",
     "output_type": "stream",
     "text": [
      "2\n",
      "5\n",
      "10\n",
      "50\n",
      "20\n",
      "25\n",
      "60\n",
      "30\n"
     ]
    }
   ],
   "source": [
    "set={10,20,50,2,5,60,30,25}\n",
    "for i in set:\n",
    "    print(i)"
   ]
  },
  {
   "cell_type": "code",
   "execution_count": 12,
   "metadata": {},
   "outputs": [
    {
     "name": "stdout",
     "output_type": "stream",
     "text": [
      "1 : 10\n",
      "3 : 20\n",
      "2 : 50\n",
      "6 : 2\n",
      "4 : 5\n",
      "5 : 60\n",
      "9 : 30\n",
      "8 : 25\n",
      "{1: 10, 3: 20, 2: 50, 6: 2, 4: 5, 5: 60, 9: 30, 8: 25}\n"
     ]
    }
   ],
   "source": [
    "dict={1:10,3:20,2:50,6:2,4:5,5:60,9:30,8:25}\n",
    "for i in dict:\n",
    "    print(i,\":\",dict[i])\n",
    "    \n",
    "print(dict)"
   ]
  },
  {
   "cell_type": "code",
   "execution_count": 13,
   "metadata": {},
   "outputs": [
    {
     "name": "stdout",
     "output_type": "stream",
     "text": [
      "[10, 20, 50, 2, 5, 60, 30, 25]\n",
      "(10, 20, 50, 2, 5, 60, 30, 25)\n",
      "{1: 10, 3: 20, 2: 50, 6: 2, 4: 5, 5: 60, 9: 30, 8: 25}\n",
      "{2, 5, 10, 50, 20, 25, 60, 30}\n"
     ]
    }
   ],
   "source": [
    "print(list)\n",
    "print(tuple)\n",
    "print(dict)\n",
    "print(set)"
   ]
  },
  {
   "cell_type": "code",
   "execution_count": null,
   "metadata": {},
   "outputs": [],
   "source": []
  },
  {
   "cell_type": "code",
   "execution_count": null,
   "metadata": {},
   "outputs": [],
   "source": []
  }
 ],
 "metadata": {
  "kernelspec": {
   "display_name": "Python 3",
   "language": "python",
   "name": "python3"
  },
  "language_info": {
   "codemirror_mode": {
    "name": "ipython",
    "version": 3
   },
   "file_extension": ".py",
   "mimetype": "text/x-python",
   "name": "python",
   "nbconvert_exporter": "python",
   "pygments_lexer": "ipython3",
   "version": "3.6.5"
  }
 },
 "nbformat": 4,
 "nbformat_minor": 2
}
