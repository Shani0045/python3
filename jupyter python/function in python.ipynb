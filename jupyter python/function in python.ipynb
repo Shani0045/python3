{
 "cells": [
  {
   "cell_type": "markdown",
   "metadata": {},
   "source": [
    "## without argument"
   ]
  },
  {
   "cell_type": "code",
   "execution_count": 4,
   "metadata": {},
   "outputs": [
    {
     "name": "stdout",
     "output_type": "stream",
     "text": [
      "my name is shani\n"
     ]
    }
   ],
   "source": [
    "def shani():\n",
    "    print(\"my name is shani\")\n",
    "shani()"
   ]
  },
  {
   "cell_type": "markdown",
   "metadata": {},
   "source": [
    "## with argument"
   ]
  },
  {
   "cell_type": "code",
   "execution_count": 5,
   "metadata": {},
   "outputs": [
    {
     "name": "stdout",
     "output_type": "stream",
     "text": [
      "my name is  shani\n"
     ]
    }
   ],
   "source": [
    "def shani(a):\n",
    "    print(\"my name is \",a)\n",
    "shani(\"shani\")"
   ]
  },
  {
   "cell_type": "code",
   "execution_count": 6,
   "metadata": {},
   "outputs": [
    {
     "name": "stdout",
     "output_type": "stream",
     "text": [
      "5\n"
     ]
    }
   ],
   "source": [
    "def add(a,b):\n",
    "    c=a+b\n",
    "    return c\n",
    "z=add(2,3)\n",
    "print(z)"
   ]
  },
  {
   "cell_type": "code",
   "execution_count": 7,
   "metadata": {},
   "outputs": [
    {
     "name": "stdout",
     "output_type": "stream",
     "text": [
      "the multification is 12\n"
     ]
    }
   ],
   "source": [
    "def mul(a,b):\n",
    "    c=a*b\n",
    "    return c\n",
    "z=mul(3,4)\n",
    "print(\"the multification is {}\".format(z))"
   ]
  },
  {
   "cell_type": "code",
   "execution_count": 8,
   "metadata": {},
   "outputs": [
    {
     "name": "stdout",
     "output_type": "stream",
     "text": [
      "the multification is 12\n"
     ]
    }
   ],
   "source": [
    "def mul(a,b):\n",
    "    c=a*b\n",
    "    return c\n",
    "z=mul(3,4)\n",
    "print(f\"the multification is {z}\")"
   ]
  },
  {
   "cell_type": "code",
   "execution_count": 9,
   "metadata": {},
   "outputs": [
    {
     "name": "stdout",
     "output_type": "stream",
     "text": [
      "the multification is 12\n"
     ]
    }
   ],
   "source": [
    "def mul(a,b):\n",
    "    c=a*b\n",
    "    return c\n",
    "z=mul(3,4)\n",
    "print(\"the multification is %d\"%(z))"
   ]
  },
  {
   "cell_type": "code",
   "execution_count": 10,
   "metadata": {},
   "outputs": [
    {
     "name": "stdout",
     "output_type": "stream",
     "text": [
      "the multification is 12\n",
      "the multification is 12\n",
      "the multification is 12\n",
      "the multification is 12\n",
      "the multification is 12\n"
     ]
    }
   ],
   "source": [
    "def mul(a,b):\n",
    "    for i in range(5):\n",
    "        c=a*b\n",
    "        print(\"the multification is {}\".format(z))\n",
    "        \n",
    "mul(3,4)\n"
   ]
  },
  {
   "cell_type": "code",
   "execution_count": 11,
   "metadata": {},
   "outputs": [
    {
     "name": "stdout",
     "output_type": "stream",
     "text": [
      "3\n"
     ]
    }
   ],
   "source": [
    "def add(x,y):\n",
    "        a=x+y\n",
    "        return a\n",
    "z=add(1,2)\n",
    "print(z)\n"
   ]
  },
  {
   "cell_type": "code",
   "execution_count": 12,
   "metadata": {},
   "outputs": [
    {
     "name": "stdout",
     "output_type": "stream",
     "text": [
      "enter x1\n",
      "enter y2\n",
      "3\n"
     ]
    }
   ],
   "source": [
    "def add(x,y):\n",
    "    z=x+y\n",
    "    return z\n",
    "xt=int(input(\"enter x\"))\n",
    "yt=int(input(\"enter y\"))\n",
    "a=add(xt,yt)\n",
    "print(a)"
   ]
  },
  {
   "cell_type": "markdown",
   "metadata": {},
   "source": [
    "linear model"
   ]
  },
  {
   "cell_type": "code",
   "execution_count": 6,
   "metadata": {},
   "outputs": [],
   "source": []
  },
  {
   "cell_type": "code",
   "execution_count": 39,
   "metadata": {},
   "outputs": [],
   "source": [
    "import numpy as np\n",
    "from numpy import mean\n",
    "import math"
   ]
  },
  {
   "cell_type": "code",
   "execution_count": 97,
   "metadata": {},
   "outputs": [
    {
     "name": "stdout",
     "output_type": "stream",
     "text": [
      "m= -0.8324324324324316\n",
      "c= 10.87567567567567\n"
     ]
    },
    {
     "data": {
      "text/plain": [
       "7"
      ]
     },
     "execution_count": 97,
     "metadata": {},
     "output_type": "execute_result"
    }
   ],
   "source": [
    "x=np.array([2,4,3,6,8,8,10])\n",
    "y=np.array([10,9,6,6,6,3,2])\n",
    "def linear(x,y):\n",
    "    m=(mean(x)*mean(y)-(mean(x*y)))/((mean(x)**2)-mean(x**2))\n",
    "    c=mean(y)-m*mean(x)\n",
    "    print(f\"m= {m}\\nc= {c}\")\n",
    "\n",
    "linear(x,y)\n",
    "len(x)"
   ]
  },
  {
   "cell_type": "code",
   "execution_count": 147,
   "metadata": {},
   "outputs": [
    {
     "name": "stdout",
     "output_type": "stream",
     "text": [
      "14.877551020408161\n",
      "3.4489795918367334\n",
      "8.163265306122447\n",
      "0.020408163265306232\n",
      "4.591836734693879\n",
      "4.591836734693879\n",
      "17.16326530612245\n"
     ]
    }
   ],
   "source": [
    "\n",
    "x=np.array([2,4,3,6,8,8,10])\n",
    "y=np.array([10,9,6,6,6,3,2])\n",
    "def linear(x,y):\n",
    "    i=0\n",
    "    while i<len(x): \n",
    "        m=((x[i]-mean(x))**2)\n",
    "        i+=1\n",
    "        print(m)\n",
    "        \n",
    "        \n",
    "        \n",
    "#         c=mean(y)-m*mean(x)\n",
    "#     print(f\"m= {m}\\nc= {c}\")\n",
    "\n",
    "linear(x,y)"
   ]
  },
  {
   "cell_type": "markdown",
   "metadata": {},
   "source": [
    "# knn1"
   ]
  },
  {
   "cell_type": "code",
   "execution_count": 3,
   "metadata": {},
   "outputs": [],
   "source": [
    "import numpy as np"
   ]
  },
  {
   "cell_type": "code",
   "execution_count": 4,
   "metadata": {},
   "outputs": [],
   "source": [
    "from collections import Counter"
   ]
  },
  {
   "cell_type": "code",
   "execution_count": 22,
   "metadata": {},
   "outputs": [
    {
     "name": "stdout",
     "output_type": "stream",
     "text": [
      "[(3.0, 'good'), (3.605551275463989, 'good'), (4.0, 'bad')]\n",
      "\n"
     ]
    }
   ],
   "source": [
    "x=np.array([7,7,3,1])\n",
    "y=np.array([7,4,4,4])\n",
    "clas=[\"bad\",\"bad\",\"good\",\"good\"]\n",
    "def knn(x,y,x1,y1):\n",
    "    dict={}\n",
    "    ed=np.sqrt((x-x1)**2+(y-y1)**2)\n",
    "    for i in range(len(x)):\n",
    "        dict[ed[i]]=clas[i]\n",
    "#         a=sorted(dict.items())\n",
    "#         d=dict.items()\n",
    "        b=Counter(dict).most_common(3)\n",
    "    print(b)\n",
    "        \n",
    "        \n",
    "#  or   dict={i:j for (i,j) in zip(ed,clas)}\n",
    "    \n",
    "    \n",
    "    \n",
    "knn(x,y,3,7)\n",
    "print()"
   ]
  },
  {
   "cell_type": "code",
   "execution_count": 4,
   "metadata": {},
   "outputs": [],
   "source": [
    "dict={}\n",
    "dict[\"s\"]=1\n",
    "dict[\"a\"]=2"
   ]
  },
  {
   "cell_type": "code",
   "execution_count": 5,
   "metadata": {},
   "outputs": [
    {
     "data": {
      "text/plain": [
       "{'s': 1, 'a': 2}"
      ]
     },
     "execution_count": 5,
     "metadata": {},
     "output_type": "execute_result"
    }
   ],
   "source": [
    "dict"
   ]
  },
  {
   "cell_type": "code",
   "execution_count": 6,
   "metadata": {},
   "outputs": [],
   "source": [
    "a=[1,2,3,4,5]\n",
    "b=[\"a\",\"b\",\"c\",\"d\",\"e\"]"
   ]
  },
  {
   "cell_type": "code",
   "execution_count": 8,
   "metadata": {},
   "outputs": [
    {
     "data": {
      "text/plain": [
       "{1: 'a', 2: 'b', 3: 'c', 4: 'd', 5: 'e'}"
      ]
     },
     "execution_count": 8,
     "metadata": {},
     "output_type": "execute_result"
    }
   ],
   "source": [
    "d={i:j for (i,j) in zip(a,b)}\n",
    "d"
   ]
  },
  {
   "cell_type": "markdown",
   "metadata": {},
   "source": [
    "# local variable"
   ]
  },
  {
   "cell_type": "code",
   "execution_count": 17,
   "metadata": {},
   "outputs": [
    {
     "name": "stdout",
     "output_type": "stream",
     "text": [
      "value of a is 200\n"
     ]
    }
   ],
   "source": [
    "\n",
    "def abc():\n",
    "    a=200   #local varible\n",
    "    print(\"value of a is {}\".format(a))\n",
    "abc()"
   ]
  },
  {
   "cell_type": "markdown",
   "metadata": {},
   "source": [
    "# global varible"
   ]
  },
  {
   "cell_type": "code",
   "execution_count": 18,
   "metadata": {},
   "outputs": [
    {
     "name": "stdout",
     "output_type": "stream",
     "text": [
      "value of a is 200\n"
     ]
    }
   ],
   "source": [
    "\n",
    "def abc():\n",
    "    \n",
    "    print(\"value of a is {}\".format(a))\n",
    "a=200  #global varible\n",
    "abc()"
   ]
  },
  {
   "cell_type": "code",
   "execution_count": 19,
   "metadata": {},
   "outputs": [
    {
     "name": "stdout",
     "output_type": "stream",
     "text": [
      "me too\n"
     ]
    }
   ],
   "source": [
    "def  fun():\n",
    "    s=\"me too\"\n",
    "    print(s)\n",
    "s=\"i love india\"\n",
    "fun()"
   ]
  },
  {
   "cell_type": "code",
   "execution_count": 3,
   "metadata": {},
   "outputs": [
    {
     "name": "stdout",
     "output_type": "stream",
     "text": [
      "this is outside fun\n",
      "this is inside fun\n"
     ]
    }
   ],
   "source": [
    "def fun():\n",
    "    global a\n",
    "    print(a)\n",
    "    a=\"this is inside fun\"\n",
    "    print(a)\n",
    "a=\"this is outside fun\"\n",
    "fun()"
   ]
  },
  {
   "cell_type": "markdown",
   "metadata": {},
   "source": [
    "## lambda funtion\n",
    "anonymous function"
   ]
  },
  {
   "cell_type": "markdown",
   "metadata": {},
   "source": [
    "## a=lambda x,y: statements or return"
   ]
  },
  {
   "cell_type": "code",
   "execution_count": 1,
   "metadata": {},
   "outputs": [
    {
     "name": "stdout",
     "output_type": "stream",
     "text": [
      "5\n"
     ]
    }
   ],
   "source": [
    "a=lambda a,b:a+b\n",
    "print(a(2,3))\n"
   ]
  },
  {
   "cell_type": "code",
   "execution_count": 2,
   "metadata": {},
   "outputs": [
    {
     "name": "stdout",
     "output_type": "stream",
     "text": [
      "False\n"
     ]
    }
   ],
   "source": [
    "b=lambda x,y:x>y\n",
    "print(b(2,3))"
   ]
  },
  {
   "cell_type": "code",
   "execution_count": 6,
   "metadata": {},
   "outputs": [
    {
     "name": "stdout",
     "output_type": "stream",
     "text": [
      "1\n",
      "4\n",
      "9\n",
      "16\n",
      "25\n"
     ]
    }
   ],
   "source": [
    "a=[1,2,3,4,5]\n",
    "b=map(lambda x:x**2,a)\n",
    "for i in b:\n",
    "    print(i)"
   ]
  },
  {
   "cell_type": "code",
   "execution_count": null,
   "metadata": {},
   "outputs": [],
   "source": []
  }
 ],
 "metadata": {
  "kernelspec": {
   "display_name": "Python 3",
   "language": "python",
   "name": "python3"
  },
  "language_info": {
   "codemirror_mode": {
    "name": "ipython",
    "version": 3
   },
   "file_extension": ".py",
   "mimetype": "text/x-python",
   "name": "python",
   "nbconvert_exporter": "python",
   "pygments_lexer": "ipython3",
   "version": "3.6.5"
  }
 },
 "nbformat": 4,
 "nbformat_minor": 2
}
