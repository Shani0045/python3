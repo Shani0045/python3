{
 "cells": [
  {
   "cell_type": "code",
   "execution_count": 2,
   "metadata": {},
   "outputs": [],
   "source": [
    "from glob import glob"
   ]
  },
  {
   "cell_type": "code",
   "execution_count": 17,
   "metadata": {},
   "outputs": [
    {
     "data": {
      "text/plain": [
       "['f:/deep learning ducat']"
      ]
     },
     "execution_count": 17,
     "metadata": {},
     "output_type": "execute_result"
    }
   ],
   "source": [
    "a=glob(\"f:/deep learning*\")\n",
    "a"
   ]
  },
  {
   "cell_type": "code",
   "execution_count": 19,
   "metadata": {},
   "outputs": [
    {
     "data": {
      "text/plain": [
       "['f:/!qhlogs.doc',\n",
       " 'f:/$RECYCLE.BIN',\n",
       " 'f:/attendance system.ipynb',\n",
       " 'f:/bank.txt',\n",
       " 'f:/bank1.txt',\n",
       " 'f:/bank4.txt',\n",
       " 'f:/c project',\n",
       " 'f:/cheat sheat',\n",
       " 'f:/Config.Msi',\n",
       " 'f:/D.L',\n",
       " 'f:/debug.log',\n",
       " 'f:/deep learning ducat',\n",
       " 'f:/desktop file',\n",
       " 'f:/Django tutorial',\n",
       " 'f:/DL 16 aug 2020 ducat',\n",
       " 'f:/exe file of python',\n",
       " 'f:/face recognition',\n",
       " 'f:/face-mask-detection-keras-master',\n",
       " 'f:/Flask',\n",
       " 'f:/folder img',\n",
       " 'f:/github',\n",
       " 'f:/hands on ML',\n",
       " 'f:/Html tutorial',\n",
       " 'f:/Java tutorial',\n",
       " 'f:/kaggle',\n",
       " 'f:/mnist_cnn_model.h5',\n",
       " 'f:/myimages',\n",
       " 'f:/mysql',\n",
       " 'f:/newtxt.txt',\n",
       " 'f:/opencv',\n",
       " 'f:/program',\n",
       " 'f:/Project',\n",
       " 'f:/python',\n",
       " 'f:/Python Notes',\n",
       " 'f:/shanidata',\n",
       " 'f:/sir',\n",
       " 'f:/soft computing',\n",
       " 'f:/Software',\n",
       " 'f:/Speech to text vice versa',\n",
       " 'f:/System Volume Information',\n",
       " 'f:/tkinter',\n",
       " 'f:/ubnto',\n",
       " 'f:/Ubuntu18.04',\n",
       " 'f:/Untitled.ipynb',\n",
       " 'f:/VertualBox',\n",
       " 'f:/visual studio python']"
      ]
     },
     "execution_count": 19,
     "metadata": {},
     "output_type": "execute_result"
    }
   ],
   "source": [
    "glob(\"f:/*\")"
   ]
  },
  {
   "cell_type": "code",
   "execution_count": 24,
   "metadata": {},
   "outputs": [
    {
     "name": "stdout",
     "output_type": "stream",
     "text": [
      "f:/bank.txt\n",
      "f:/bank1.txt\n",
      "f:/bank4.txt\n"
     ]
    }
   ],
   "source": [
    "s=glob(\"f:/ban*\")\n",
    "for i in s:\n",
    "    print(i)"
   ]
  },
  {
   "cell_type": "code",
   "execution_count": 28,
   "metadata": {},
   "outputs": [
    {
     "data": {
      "text/plain": [
       "['f:/bank.txt', 'f:/bank1.txt', 'f:/bank4.txt', 'f:/newtxt.txt']"
      ]
     },
     "execution_count": 28,
     "metadata": {},
     "output_type": "execute_result"
    }
   ],
   "source": [
    "glob(\"f:/*.txt\")"
   ]
  },
  {
   "cell_type": "code",
   "execution_count": 31,
   "metadata": {},
   "outputs": [
    {
     "data": {
      "text/plain": [
       "['f:/bank.txt', 'f:/bank1.txt', 'f:/bank4.txt', 'f:/newtxt.txt']"
      ]
     },
     "execution_count": 31,
     "metadata": {},
     "output_type": "execute_result"
    }
   ],
   "source": [
    "glob(\"f:/*.txt\",recursive=True)"
   ]
  },
  {
   "cell_type": "code",
   "execution_count": 32,
   "metadata": {},
   "outputs": [],
   "source": [
    "import os"
   ]
  },
  {
   "cell_type": "code",
   "execution_count": 33,
   "metadata": {},
   "outputs": [
    {
     "data": {
      "text/plain": [
       "['!qhlogs.doc',\n",
       " '$RECYCLE.BIN',\n",
       " '.ipynb_checkpoints',\n",
       " 'attendance system.ipynb',\n",
       " 'bank.txt',\n",
       " 'bank1.txt',\n",
       " 'bank4.txt',\n",
       " 'c project',\n",
       " 'cheat sheat',\n",
       " 'Config.Msi',\n",
       " 'D.L',\n",
       " 'debug.log',\n",
       " 'deep learning ducat',\n",
       " 'desktop file',\n",
       " 'Django tutorial',\n",
       " 'DL 16 aug 2020 ducat',\n",
       " 'exe file of python',\n",
       " 'face recognition',\n",
       " 'face-mask-detection-keras-master',\n",
       " 'Flask',\n",
       " 'folder img',\n",
       " 'github',\n",
       " 'hands on ML',\n",
       " 'Html tutorial',\n",
       " 'Java tutorial',\n",
       " 'kaggle',\n",
       " 'mnist_cnn_model.h5',\n",
       " 'myimages',\n",
       " 'mysql',\n",
       " 'newtxt.txt',\n",
       " 'opencv',\n",
       " 'program',\n",
       " 'Project',\n",
       " 'python',\n",
       " 'Python Notes',\n",
       " 'shanidata',\n",
       " 'sir',\n",
       " 'soft computing',\n",
       " 'Software',\n",
       " 'Speech to text vice versa',\n",
       " 'System Volume Information',\n",
       " 'tkinter',\n",
       " 'ubnto',\n",
       " 'Ubuntu18.04',\n",
       " 'Untitled.ipynb',\n",
       " 'VertualBox',\n",
       " 'visual studio python']"
      ]
     },
     "execution_count": 33,
     "metadata": {},
     "output_type": "execute_result"
    }
   ],
   "source": [
    "os.listdir(\"f:/\")"
   ]
  },
  {
   "cell_type": "code",
   "execution_count": 43,
   "metadata": {},
   "outputs": [
    {
     "name": "stdout",
     "output_type": "stream",
     "text": [
      "bank.txt\n",
      "bank1.txt\n",
      "bank4.txt\n",
      "newtxt.txt\n"
     ]
    }
   ],
   "source": [
    "lst=os.listdir(\"f:/\")\n",
    "for i in lst:\n",
    "    if i.endswith(\".txt\"):\n",
    "        print(i)"
   ]
  },
  {
   "cell_type": "code",
   "execution_count": null,
   "metadata": {},
   "outputs": [],
   "source": []
  }
 ],
 "metadata": {
  "kernelspec": {
   "display_name": "Python 3",
   "language": "python",
   "name": "python3"
  },
  "language_info": {
   "codemirror_mode": {
    "name": "ipython",
    "version": 3
   },
   "file_extension": ".py",
   "mimetype": "text/x-python",
   "name": "python",
   "nbconvert_exporter": "python",
   "pygments_lexer": "ipython3",
   "version": "3.6.5"
  }
 },
 "nbformat": 4,
 "nbformat_minor": 2
}
