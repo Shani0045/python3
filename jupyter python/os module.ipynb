{
 "cells": [
  {
   "cell_type": "code",
   "execution_count": 1,
   "metadata": {},
   "outputs": [],
   "source": [
    "import os"
   ]
  },
  {
   "cell_type": "code",
   "execution_count": 8,
   "metadata": {
    "collapsed": true
   },
   "outputs": [
    {
     "data": {
      "text/plain": [
       "['DirEntry',\n",
       " 'F_OK',\n",
       " 'MutableMapping',\n",
       " 'O_APPEND',\n",
       " 'O_BINARY',\n",
       " 'O_CREAT',\n",
       " 'O_EXCL',\n",
       " 'O_NOINHERIT',\n",
       " 'O_RANDOM',\n",
       " 'O_RDONLY',\n",
       " 'O_RDWR',\n",
       " 'O_SEQUENTIAL',\n",
       " 'O_SHORT_LIVED',\n",
       " 'O_TEMPORARY',\n",
       " 'O_TEXT',\n",
       " 'O_TRUNC',\n",
       " 'O_WRONLY',\n",
       " 'P_DETACH',\n",
       " 'P_NOWAIT',\n",
       " 'P_NOWAITO',\n",
       " 'P_OVERLAY',\n",
       " 'P_WAIT',\n",
       " 'PathLike',\n",
       " 'R_OK',\n",
       " 'SEEK_CUR',\n",
       " 'SEEK_END',\n",
       " 'SEEK_SET',\n",
       " 'TMP_MAX',\n",
       " 'W_OK',\n",
       " 'X_OK',\n",
       " '_Environ',\n",
       " '__all__',\n",
       " '__builtins__',\n",
       " '__cached__',\n",
       " '__doc__',\n",
       " '__file__',\n",
       " '__loader__',\n",
       " '__name__',\n",
       " '__package__',\n",
       " '__spec__',\n",
       " '_execvpe',\n",
       " '_exists',\n",
       " '_exit',\n",
       " '_fspath',\n",
       " '_get_exports_list',\n",
       " '_putenv',\n",
       " '_unsetenv',\n",
       " '_wrap_close',\n",
       " 'abc',\n",
       " 'abort',\n",
       " 'access',\n",
       " 'altsep',\n",
       " 'chdir',\n",
       " 'chmod',\n",
       " 'close',\n",
       " 'closerange',\n",
       " 'cpu_count',\n",
       " 'curdir',\n",
       " 'defpath',\n",
       " 'device_encoding',\n",
       " 'devnull',\n",
       " 'dup',\n",
       " 'dup2',\n",
       " 'environ',\n",
       " 'errno',\n",
       " 'error',\n",
       " 'execl',\n",
       " 'execle',\n",
       " 'execlp',\n",
       " 'execlpe',\n",
       " 'execv',\n",
       " 'execve',\n",
       " 'execvp',\n",
       " 'execvpe',\n",
       " 'extsep',\n",
       " 'fdopen',\n",
       " 'fsdecode',\n",
       " 'fsencode',\n",
       " 'fspath',\n",
       " 'fstat',\n",
       " 'fsync',\n",
       " 'ftruncate',\n",
       " 'get_exec_path',\n",
       " 'get_handle_inheritable',\n",
       " 'get_inheritable',\n",
       " 'get_terminal_size',\n",
       " 'getcwd',\n",
       " 'getcwdb',\n",
       " 'getenv',\n",
       " 'getlogin',\n",
       " 'getpid',\n",
       " 'getppid',\n",
       " 'isatty',\n",
       " 'kill',\n",
       " 'linesep',\n",
       " 'link',\n",
       " 'listdir',\n",
       " 'lseek',\n",
       " 'lstat',\n",
       " 'makedirs',\n",
       " 'mkdir',\n",
       " 'name',\n",
       " 'open',\n",
       " 'pardir',\n",
       " 'path',\n",
       " 'pathsep',\n",
       " 'pipe',\n",
       " 'popen',\n",
       " 'putenv',\n",
       " 'read',\n",
       " 'readlink',\n",
       " 'remove',\n",
       " 'removedirs',\n",
       " 'rename',\n",
       " 'renames',\n",
       " 'replace',\n",
       " 'rmdir',\n",
       " 'scandir',\n",
       " 'sep',\n",
       " 'set_handle_inheritable',\n",
       " 'set_inheritable',\n",
       " 'spawnl',\n",
       " 'spawnle',\n",
       " 'spawnv',\n",
       " 'spawnve',\n",
       " 'st',\n",
       " 'startfile',\n",
       " 'stat',\n",
       " 'stat_float_times',\n",
       " 'stat_result',\n",
       " 'statvfs_result',\n",
       " 'strerror',\n",
       " 'supports_bytes_environ',\n",
       " 'supports_dir_fd',\n",
       " 'supports_effective_ids',\n",
       " 'supports_fd',\n",
       " 'supports_follow_symlinks',\n",
       " 'symlink',\n",
       " 'sys',\n",
       " 'system',\n",
       " 'terminal_size',\n",
       " 'times',\n",
       " 'times_result',\n",
       " 'truncate',\n",
       " 'umask',\n",
       " 'uname_result',\n",
       " 'unlink',\n",
       " 'urandom',\n",
       " 'utime',\n",
       " 'waitpid',\n",
       " 'walk',\n",
       " 'write']"
      ]
     },
     "execution_count": 8,
     "metadata": {},
     "output_type": "execute_result"
    }
   ],
   "source": [
    "dir(os)"
   ]
  },
  {
   "cell_type": "code",
   "execution_count": 2,
   "metadata": {},
   "outputs": [
    {
     "name": "stdout",
     "output_type": "stream",
     "text": [
      "nt\n"
     ]
    }
   ],
   "source": [
    "print(os.name)"
   ]
  },
  {
   "cell_type": "code",
   "execution_count": null,
   "metadata": {},
   "outputs": [],
   "source": []
  },
  {
   "cell_type": "code",
   "execution_count": 5,
   "metadata": {},
   "outputs": [
    {
     "name": "stdout",
     "output_type": "stream",
     "text": [
      "F:\\python\\python program\\jupyter python\n"
     ]
    }
   ],
   "source": [
    "print(os.getcwd()) # returns current working directory"
   ]
  },
  {
   "cell_type": "code",
   "execution_count": 6,
   "metadata": {},
   "outputs": [
    {
     "data": {
      "text/plain": [
       "['.ipynb_checkpoints',\n",
       " 'any and all function.ipynb',\n",
       " 'class in python.ipynb',\n",
       " 'collection and counter .ipynb',\n",
       " 'comic.png',\n",
       " 'convert decimal to binary.ipynb',\n",
       " 'converting list to tuple string to list.ipynb',\n",
       " 'dictionary  and list append and comprehension.ipynb',\n",
       " 'encapsulation and data abstraction and data hiding.ipynb',\n",
       " 'file handling.ipynb',\n",
       " 'file.txt',\n",
       " 'file1.txt',\n",
       " 'function in python.ipynb',\n",
       " 'google library.ipynb',\n",
       " 'how to change tuple value.ipynb',\n",
       " 'how to remove dublicate item in list.ipynb',\n",
       " 'if else elif.ipynb',\n",
       " 'inheritance.ipynb',\n",
       " 'nested for loop in python.ipynb',\n",
       " 'nested list.ipynb',\n",
       " 'operation in ,not in and or  logical.ipynb',\n",
       " 'operator membership and identity and bitwise.ipynb',\n",
       " 'operator overloading in python.ipynb',\n",
       " 'operator overloading.ipynb',\n",
       " 'os module.ipynb',\n",
       " 'random method.ipynb',\n",
       " 'regular expression in py.ipynb',\n",
       " 'setter getter and decorator.ipynb',\n",
       " 'spam.tsv',\n",
       " 'string related function.ipynb',\n",
       " 'Untitled1.ipynb',\n",
       " 'Untitled2.ipynb',\n",
       " 'urllib and request http.ipynb',\n",
       " 'zip ,map, enumerate eval function and filter function.ipynb']"
      ]
     },
     "execution_count": 6,
     "metadata": {},
     "output_type": "execute_result"
    }
   ],
   "source": [
    "os.listdir()"
   ]
  },
  {
   "cell_type": "code",
   "execution_count": 7,
   "metadata": {},
   "outputs": [
    {
     "data": {
      "text/plain": [
       "['BHOOL BHOOLIYA 2007',\n",
       " 'Dear_Comrade_(2020)_New_Released_Hindi_Dubbed_Full_Movie__Vijay_Devarakonda,_Rashmika,_Shruti(360p).mp4',\n",
       " 'Dumdaar_Khiladi_(Hello_Guru_Prema_Kosame)_Hindi_Dubbed_720p_HDRip_X264_AAC_1.mkv',\n",
       " 'Geetha Govindam (2018) [ Bolly4u.Guru ] HDRip Hindi Dubbed 720p 950MB.mkv',\n",
       " 'Good_Newwz_2019_Hindi_480p_pDVDRip(1).mkv',\n",
       " 'Housefull (2010) 720p',\n",
       " 'Housefull 4 (2019) [ Bolly4u.Guru ] WEB-DL Hindi 720p 999MB.mkv',\n",
       " 'Hum Saath Saath Hain 1999.mkv',\n",
       " 'Humpty Sharma Ki Dulhania 2014.mkv',\n",
       " 'Kabir Singh 2019 Hindi www.9kmovies.press 720p DVDRip 1.4GB.mkv',\n",
       " 'Kuch Kuch Hota Hai (1998) 720p.mkv',\n",
       " 'Masti__Riteish_Deshmukh__Vivek_Oberoi__Aftab_Shivdasani__Genelia___Amrita_Roa_-_Tara_Sharma(480p).mp4',\n",
       " 'Mission Mangal (2019) www.9kmovies.press Hindi Movie 1080p HDRip 1.2GB F.mkv',\n",
       " 'Okka_Kshanam__Shoorveer_2__2019_New_Released_Hindi_Dubbed_Movie__Allu_Sirish%2C_Surabhi(480p).mp4',\n",
       " 'Saaho (2019) [ Bolly4u.best ] HDRip Hindi 720p 1.1GB.mkv',\n",
       " 'Super 30 2019 Hindi www.9kmovies.press 720p HDRip 1.4GB ESub.mkv',\n",
       " 'Tanhaji The Unsung Warrior 2020 PreDvDRip HDFriday HDFriday.mp4',\n",
       " 'Vivah (2006) - 1080P - BRRip - X264 - ESubs By ~=[101]=~ [TMRG].mkv',\n",
       " 'War (2019) www.9kmovies.today Hindi Movie 720p HDRip 1.5GB ESub.mkv']"
      ]
     },
     "execution_count": 7,
     "metadata": {},
     "output_type": "execute_result"
    }
   ],
   "source": [
    "os.listdir(\"d:/movies\")"
   ]
  },
  {
   "cell_type": "code",
   "execution_count": 10,
   "metadata": {},
   "outputs": [],
   "source": [
    "os.chdir(\"d:/videos\")"
   ]
  },
  {
   "cell_type": "code",
   "execution_count": 12,
   "metadata": {},
   "outputs": [
    {
     "ename": "TypeError",
     "evalue": "Required argument 'flags' (pos 2) not found",
     "output_type": "error",
     "traceback": [
      "\u001b[1;31m---------------------------------------------------------------------------\u001b[0m",
      "\u001b[1;31mTypeError\u001b[0m                                 Traceback (most recent call last)",
      "\u001b[1;32m<ipython-input-12-0b1669388f0d>\u001b[0m in \u001b[0;36m<module>\u001b[1;34m\u001b[0m\n\u001b[1;32m----> 1\u001b[1;33m \u001b[0mos\u001b[0m\u001b[1;33m.\u001b[0m\u001b[0mopen\u001b[0m\u001b[1;33m(\u001b[0m\u001b[1;34m\"d:/videos/Kinna_Sona_Full_Video___Marjaavaan___Sidharth_M%2C_Tara_S___Meet_Bros%2CJubin_N%2C_Dhvani_Bhanushali(1080p).mp4\"\u001b[0m\u001b[1;33m)\u001b[0m\u001b[1;33m\u001b[0m\u001b[0m\n\u001b[0m",
      "\u001b[1;31mTypeError\u001b[0m: Required argument 'flags' (pos 2) not found"
     ]
    }
   ],
   "source": [
    "os.open(\"d:/videos/Kinna_Sona_Full_Video___Marjaavaan___Sidharth_M%2C_Tara_S___Meet_Bros%2CJubin_N%2C_Dhvani_Bhanushali(1080p).mp4\")"
   ]
  },
  {
   "cell_type": "code",
   "execution_count": null,
   "metadata": {},
   "outputs": [],
   "source": []
  }
 ],
 "metadata": {
  "kernelspec": {
   "display_name": "Python 3",
   "language": "python",
   "name": "python3"
  },
  "language_info": {
   "codemirror_mode": {
    "name": "ipython",
    "version": 3
   },
   "file_extension": ".py",
   "mimetype": "text/x-python",
   "name": "python",
   "nbconvert_exporter": "python",
   "pygments_lexer": "ipython3",
   "version": "3.6.5"
  }
 },
 "nbformat": 4,
 "nbformat_minor": 2
}
