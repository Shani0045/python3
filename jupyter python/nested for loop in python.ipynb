{
 "cells": [
  {
   "cell_type": "markdown",
   "metadata": {},
   "source": [
    "# nested for loop in python"
   ]
  },
  {
   "cell_type": "code",
   "execution_count": 1,
   "metadata": {},
   "outputs": [
    {
     "name": "stdout",
     "output_type": "stream",
     "text": [
      "1\n",
      "1234567\n",
      "2\n",
      "1234567\n",
      "3\n",
      "1234567\n",
      "4\n",
      "1234567\n",
      "5\n",
      "1234567\n",
      "6\n",
      "1234567\n",
      "7\n",
      "1234567\n"
     ]
    }
   ],
   "source": [
    "for i in range(1,8):\n",
    "    print(i)\n",
    "    for j in range(1,8):\n",
    "        print(j,end=\"\")  # end =\" \" means jo next time print hoga vo ek hi line me hoga new line me nhi\n",
    "    print()"
   ]
  },
  {
   "cell_type": "code",
   "execution_count": 4,
   "metadata": {},
   "outputs": [
    {
     "name": "stdout",
     "output_type": "stream",
     "text": [
      "2 3 4 5 6 7 \n",
      "2 3 4 5 6 7 \n",
      "2 3 4 5 6 7 \n",
      "2 3 4 5 6 7 \n"
     ]
    }
   ],
   "source": [
    "for i in range(1,5):\n",
    "    for j in range(2,8):\n",
    "        print(j,end=\" \")\n",
    "    print()  \n",
    "\n",
    "# loop 5 bar chalega jisme se 1st time j ki har value print karega ek ek karke  2nd time  J ki har value print karega aise karta jayega.\n"
   ]
  },
  {
   "cell_type": "code",
   "execution_count": 8,
   "metadata": {},
   "outputs": [
    {
     "name": "stdout",
     "output_type": "stream",
     "text": [
      "1 2\n",
      "1 3\n",
      "1 4\n",
      "1 5\n",
      "1 6\n",
      "1 7\n",
      "\n",
      "2 2\n",
      "2 3\n",
      "2 4\n",
      "2 5\n",
      "2 6\n",
      "2 7\n",
      "\n",
      "3 2\n",
      "3 3\n",
      "3 4\n",
      "3 5\n",
      "3 6\n",
      "3 7\n",
      "\n",
      "4 2\n",
      "4 3\n",
      "4 4\n",
      "4 5\n",
      "4 6\n",
      "4 7\n",
      "\n"
     ]
    }
   ],
   "source": [
    "for i in range(1,5):\n",
    "    for j in range(2,8):\n",
    "        print(i,j)\n",
    "    print() \n",
    "# loop 5 bar chalege jisme se 1st time 1 ke liye print karega har value j ki 2nd time  2 ke liya j ki har value print karega ek ek karke"
   ]
  },
  {
   "cell_type": "code",
   "execution_count": 19,
   "metadata": {},
   "outputs": [
    {
     "name": "stdout",
     "output_type": "stream",
     "text": [
      "1 2 1 3 1 4 \n",
      "2 2 2 3 2 4 \n",
      "3 2 3 3 3 4 \n",
      "4 2 4 3 4 4 \n"
     ]
    }
   ],
   "source": [
    "\n",
    "for i in range(1,5):\n",
    "    for j in range(2,5):\n",
    "        print(i,j,end=\" \")\n",
    "    print()\n",
    "# loop 5 bar chlega 1st time i ki ek value ke liye j ki har value waise 2nd time i ki 2 value ke liye j ki har value.\n",
    "# yha par end =\" \" karne par sab ek line me aa jayega."
   ]
  },
  {
   "cell_type": "code",
   "execution_count": 33,
   "metadata": {},
   "outputs": [
    {
     "name": "stdout",
     "output_type": "stream",
     "text": [
      "1\n",
      "2\n",
      "2\n",
      "3\n",
      "3\n",
      "3\n",
      "4\n",
      "4\n",
      "4\n",
      "4\n"
     ]
    }
   ],
   "source": [
    "for i in range(1,5):\n",
    "    for j in range(i):\n",
    "#         print(i,j,end=\" \")\n",
    "     print(i)\n",
    "# yaha j me i ki total value gyi ab jitni bar i ki value j me hogi utna print karega\n",
    "# mean j me 1 ke liye 1 bar j me 2 ke liye 2 bar j me 3 ke liye 3 bar"
   ]
  },
  {
   "cell_type": "code",
   "execution_count": 39,
   "metadata": {},
   "outputs": [
    {
     "name": "stdout",
     "output_type": "stream",
     "text": [
      "1 0 \n",
      "2 0 2 1 \n",
      "3 0 3 1 3 2 \n",
      "4 0 4 1 4 2 4 3 \n"
     ]
    }
   ],
   "source": [
    "for i in range(1,5):\n",
    "    for j in range(i):  # j me 0 to 4 [0,1,2,3,4]  and  [1,2,3,4] loop  hai matlab ye loop ha i value ek bar 2 bar 3 bar aur 4 bar chalegi \n",
    "        print(i,j,end=\" \")\n",
    "    print()\n",
    "# first time chlege to print karega i ki 1 bar 1,0 and second bar 2,0 aur 2,1,three time 3,0,  3,1,  3,2  ise 4 ke liye"
   ]
  },
  {
   "cell_type": "code",
   "execution_count": 41,
   "metadata": {},
   "outputs": [
    {
     "name": "stdout",
     "output_type": "stream",
     "text": [
      "\n",
      "1 \n",
      "1 2 \n",
      "1 2 3 \n"
     ]
    }
   ],
   "source": [
    "for i in range(1,5):\n",
    "    for j in range(1,i):  # j me 1 se 4 hai matlab [1,2,3] hai aur loop [1,2,3,4] hai. \n",
    "        print(j,end=\" \")\n",
    "    print()\n"
   ]
  },
  {
   "cell_type": "code",
   "execution_count": 46,
   "metadata": {},
   "outputs": [
    {
     "name": "stdout",
     "output_type": "stream",
     "text": [
      "1 2 3 4\n",
      "4 5 6 7\n",
      "7 8 9 10\n",
      "10 11 12 13\n"
     ]
    }
   ],
   "source": [
    "n=1\n",
    "for i in range(1,5):\n",
    "    for i in range(1,4):# 5 bar loop chalega jisme se panhi bar 1 aur dusri bar two aur 3 bar 3 time chalega.\n",
    "        print(n,end=\" \")\n",
    "        n+=1\n",
    "    print(n)"
   ]
  },
  {
   "cell_type": "code",
   "execution_count": null,
   "metadata": {},
   "outputs": [],
   "source": []
  },
  {
   "cell_type": "code",
   "execution_count": 2,
   "metadata": {},
   "outputs": [
    {
     "name": "stdout",
     "output_type": "stream",
     "text": [
      "    2     3     4     5     6     7     8     9    10 \n",
      "    4     6     8    10    12    14    16    18    20 \n",
      "    6     9    12    15    18    21    24    27    30 \n",
      "    8    12    16    20    24    28    32    36    40 \n",
      "   10    15    20    25    30    35    40    45    50 \n",
      "   12    18    24    30    36    42    48    54    60 \n",
      "   14    21    28    35    42    49    56    63    70 \n",
      "   16    24    32    40    48    56    64    72    80 \n",
      "   18    27    36    45    54    63    72    81    90 \n",
      "   20    30    40    50    60    70    80    90   100 \n"
     ]
    }
   ],
   "source": [
    "for i in range(1,11):\n",
    "    for j in range(2,11):\n",
    "        print(\"%5d\" %(i*j),end=\" \")\n",
    "    print()"
   ]
  },
  {
   "cell_type": "code",
   "execution_count": 71,
   "metadata": {},
   "outputs": [
    {
     "name": "stdout",
     "output_type": "stream",
     "text": [
      "10+10 = 20\n",
      "20+10 = 30\n",
      "30+10 = 40\n",
      "40+10 = 50\n",
      "50+10 = 60\n"
     ]
    }
   ],
   "source": [
    "l1=[10,20,30,40,50]\n",
    "l2=[10]\n",
    "for i in l1:\n",
    "    for j in l2:\n",
    "        print(f\"{i}+{j} = {i+j}\",end=\"\")\n",
    "    print()\n",
    "        "
   ]
  },
  {
   "cell_type": "code",
   "execution_count": 73,
   "metadata": {},
   "outputs": [
    {
     "name": "stdout",
     "output_type": "stream",
     "text": [
      "*\n",
      "**\n",
      "***\n",
      "****\n",
      "*****\n",
      "******\n",
      "*******\n",
      "********\n",
      "*********\n"
     ]
    }
   ],
   "source": [
    "for i in range(1,10):\n",
    "    for j in range(i):\n",
    "        print(\"*\",end=\"\")\n",
    "    print()\n",
    "        "
   ]
  },
  {
   "cell_type": "code",
   "execution_count": 74,
   "metadata": {},
   "outputs": [
    {
     "name": "stdout",
     "output_type": "stream",
     "text": [
      "***\n",
      "****\n",
      "*****\n",
      "******\n",
      "*******\n",
      "********\n",
      "*********\n",
      "**********\n",
      "***********\n"
     ]
    }
   ],
   "source": [
    "for i in range(1,10):\n",
    "    for j in range(i+2):\n",
    "        print(\"*\",end=\"\")\n",
    "    print()\n",
    "        "
   ]
  },
  {
   "cell_type": "code",
   "execution_count": 75,
   "metadata": {},
   "outputs": [
    {
     "name": "stdout",
     "output_type": "stream",
     "text": [
      "*********\n",
      "********\n",
      "*******\n",
      "******\n",
      "*****\n",
      "****\n",
      "***\n",
      "**\n",
      "*\n"
     ]
    }
   ],
   "source": [
    "for i in range(1,10):\n",
    "    for j in range(10-i):\n",
    "        print(\"*\",end=\"\")\n",
    "    print()\n",
    "        "
   ]
  },
  {
   "cell_type": "code",
   "execution_count": 91,
   "metadata": {},
   "outputs": [
    {
     "name": "stdout",
     "output_type": "stream",
     "text": [
      "*\n",
      "**\n",
      "***\n",
      "****\n",
      "*****\n",
      "******\n",
      "*******\n",
      "********\n",
      "*********\n"
     ]
    }
   ],
   "source": [
    "k=1\n",
    "for i in range(1,10):\n",
    "    for j in range(k):\n",
    "        print(\"*\",end=\"\")\n",
    "    k=k+1\n",
    "    print()\n",
    "        "
   ]
  },
  {
   "cell_type": "code",
   "execution_count": 115,
   "metadata": {},
   "outputs": [
    {
     "name": "stdout",
     "output_type": "stream",
     "text": [
      "\n",
      "*\n",
      "**\n",
      "***\n",
      "****\n",
      "*****\n",
      "******\n",
      "*******\n",
      "\n",
      "*\n",
      "**\n",
      "***\n",
      "****\n",
      "*****\n",
      "******\n",
      "*******\n",
      "********\n",
      "*********\n",
      "\n",
      "*\n",
      "**\n",
      "***\n",
      "****\n",
      "*****\n",
      "******\n",
      "*******\n",
      "********\n",
      "*********\n",
      "**********\n",
      "***********\n",
      "************\n",
      "*************\n"
     ]
    }
   ],
   "source": [
    "def pattern(n):\n",
    "    for i in range(n):\n",
    "        for j in range(i):\n",
    "            print(\"*\",end=\"\")\n",
    "        print()\n",
    "pattern(8)\n",
    "pattern(10)\n",
    "pattern(14)"
   ]
  },
  {
   "cell_type": "code",
   "execution_count": 114,
   "metadata": {},
   "outputs": [
    {
     "name": "stdout",
     "output_type": "stream",
     "text": [
      "********\n",
      "*******\n",
      "******\n",
      "*****\n",
      "****\n",
      "***\n",
      "**\n",
      "*\n",
      "**********\n",
      "*********\n",
      "********\n",
      "*******\n",
      "******\n",
      "*****\n",
      "****\n",
      "***\n",
      "**\n",
      "*\n",
      "**************\n",
      "*************\n",
      "************\n",
      "***********\n",
      "**********\n",
      "*********\n",
      "********\n",
      "*******\n",
      "******\n",
      "*****\n",
      "****\n",
      "***\n",
      "**\n",
      "*\n"
     ]
    }
   ],
   "source": [
    "def pattern(n):\n",
    "    for i in range(n):\n",
    "        for j in range(n-i):\n",
    "            print(\"*\",end=\"\")\n",
    "        print()\n",
    "pattern(8)\n",
    "pattern(10)\n",
    "pattern(14)"
   ]
  },
  {
   "cell_type": "code",
   "execution_count": 25,
   "metadata": {},
   "outputs": [
    {
     "name": "stdout",
     "output_type": "stream",
     "text": [
      "0\n",
      "Shani\n",
      "Shani\n",
      "Shani\n",
      "Shani\n",
      "\n",
      "1\n",
      "Shani\n",
      "Shani\n",
      "Shani\n",
      "Shani\n",
      "\n",
      "2\n",
      "Shani\n",
      "Shani\n",
      "Shani\n",
      "Shani\n",
      "\n",
      "3\n",
      "Shani\n",
      "Shani\n",
      "Shani\n",
      "Shani\n",
      "\n",
      "4\n",
      "Shani\n",
      "Shani\n",
      "Shani\n",
      "Shani\n",
      "\n"
     ]
    }
   ],
   "source": [
    "for i in range(5):\n",
    "    print(i)\n",
    "    for j in range(4):\n",
    "        print(\"Shani\")  # means shani 4 bar 5 time print karega\n",
    "    print()"
   ]
  },
  {
   "cell_type": "code",
   "execution_count": 41,
   "metadata": {},
   "outputs": [
    {
     "name": "stdout",
     "output_type": "stream",
     "text": [
      "\n",
      "Shani\n",
      "\n",
      "Shani\n",
      "Shani\n",
      "\n",
      "Shani\n",
      "Shani\n",
      "Shani\n",
      "\n",
      "Shani\n",
      "Shani\n",
      "Shani\n",
      "Shani\n",
      "\n"
     ]
    }
   ],
   "source": [
    "for i in range(5):\n",
    "    for j in range(i):\n",
    "        print(\"Shani\")  # means shani 1st time 1 and 2nd time 2 3rd time 3 bar print karega\n",
    "    print()"
   ]
  },
  {
   "cell_type": "code",
   "execution_count": 40,
   "metadata": {},
   "outputs": [
    {
     "name": "stdout",
     "output_type": "stream",
     "text": [
      "\n",
      "0 5 \n",
      "0 5 1 5 \n",
      "0 5 1 5 2 5 \n",
      "0 5 1 5 2 5 3 5 \n"
     ]
    }
   ],
   "source": [
    "for i in range(5):\n",
    "    for j in range(i):\n",
    "        a=2\n",
    "        b=3\n",
    "        c=a+b\n",
    "        print(j,c,end=\" \")\n",
    "    print()"
   ]
  },
  {
   "cell_type": "code",
   "execution_count": null,
   "metadata": {},
   "outputs": [],
   "source": []
  },
  {
   "cell_type": "code",
   "execution_count": null,
   "metadata": {},
   "outputs": [],
   "source": []
  }
 ],
 "metadata": {
  "kernelspec": {
   "display_name": "Python 3",
   "language": "python",
   "name": "python3"
  },
  "language_info": {
   "codemirror_mode": {
    "name": "ipython",
    "version": 3
   },
   "file_extension": ".py",
   "mimetype": "text/x-python",
   "name": "python",
   "nbconvert_exporter": "python",
   "pygments_lexer": "ipython3",
   "version": "3.6.5"
  }
 },
 "nbformat": 4,
 "nbformat_minor": 2
}
