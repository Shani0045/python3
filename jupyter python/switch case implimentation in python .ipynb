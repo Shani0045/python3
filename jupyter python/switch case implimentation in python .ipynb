{
 "cells": [
  {
   "cell_type": "code",
   "execution_count": 5,
   "metadata": {},
   "outputs": [],
   "source": [
    "def switch(n):\n",
    "    switcher={\n",
    "        0:\"a\",\n",
    "        1:\"b\",\n",
    "        2:\"c\",\n",
    "        3:\"d\"\n",
    "    }\n",
    "    \n",
    "    return switcher.get(n,\"option not available!\")"
   ]
  },
  {
   "cell_type": "code",
   "execution_count": 6,
   "metadata": {},
   "outputs": [
    {
     "data": {
      "text/plain": [
       "'d'"
      ]
     },
     "execution_count": 6,
     "metadata": {},
     "output_type": "execute_result"
    }
   ],
   "source": [
    "switch(3)"
   ]
  },
  {
   "cell_type": "code",
   "execution_count": 11,
   "metadata": {},
   "outputs": [],
   "source": [
    "def a():\n",
    "    return \"this a function!\"\n",
    "def b():\n",
    "    return \"this b function!\"\n",
    "def c():\n",
    "    return \"this c function!\"\n",
    "def d():\n",
    "    return \"this d function!\"\n",
    "\n",
    "\n",
    "def switch(n):\n",
    "    switcher={\n",
    "        0:a(),\n",
    "        1:b(),\n",
    "        2:c(),\n",
    "        3:d()\n",
    "    }\n",
    "    \n",
    "    return switcher.get(n,\"option not available!\")"
   ]
  },
  {
   "cell_type": "code",
   "execution_count": 12,
   "metadata": {},
   "outputs": [
    {
     "data": {
      "text/plain": [
       "'this b function!'"
      ]
     },
     "execution_count": 12,
     "metadata": {},
     "output_type": "execute_result"
    }
   ],
   "source": [
    "switch(1)"
   ]
  },
  {
   "cell_type": "code",
   "execution_count": 13,
   "metadata": {},
   "outputs": [],
   "source": [
    "def switch(n):\n",
    "    if n==1:\n",
    "        print(\"i am a\")\n",
    "    elif n==2:\n",
    "        print(\"i am b\")\n",
    "    else:\n",
    "        print(\"invalid input\")"
   ]
  },
  {
   "cell_type": "code",
   "execution_count": 15,
   "metadata": {},
   "outputs": [
    {
     "name": "stdout",
     "output_type": "stream",
     "text": [
      "i am b\n"
     ]
    }
   ],
   "source": [
    "switch(2)"
   ]
  },
  {
   "cell_type": "code",
   "execution_count": null,
   "metadata": {},
   "outputs": [],
   "source": [
    "de"
   ]
  }
 ],
 "metadata": {
  "kernelspec": {
   "display_name": "Python 3",
   "language": "python",
   "name": "python3"
  },
  "language_info": {
   "codemirror_mode": {
    "name": "ipython",
    "version": 3
   },
   "file_extension": ".py",
   "mimetype": "text/x-python",
   "name": "python",
   "nbconvert_exporter": "python",
   "pygments_lexer": "ipython3",
   "version": "3.6.5"
  }
 },
 "nbformat": 4,
 "nbformat_minor": 2
}
