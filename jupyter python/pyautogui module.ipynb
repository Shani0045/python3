{
 "cells": [
  {
   "cell_type": "code",
   "execution_count": 46,
   "metadata": {},
   "outputs": [],
   "source": [
    "import pyautogui as p"
   ]
  },
  {
   "cell_type": "markdown",
   "metadata": {},
   "source": [
    "# input box"
   ]
  },
  {
   "cell_type": "code",
   "execution_count": 3,
   "metadata": {},
   "outputs": [
    {
     "data": {
      "text/plain": [
       "'shani kumar'"
      ]
     },
     "execution_count": 3,
     "metadata": {},
     "output_type": "execute_result"
    }
   ],
   "source": [
    "p.prompt(\"enter anything\")"
   ]
  },
  {
   "cell_type": "code",
   "execution_count": null,
   "metadata": {},
   "outputs": [],
   "source": []
  },
  {
   "cell_type": "markdown",
   "metadata": {},
   "source": [
    "# password inputbox"
   ]
  },
  {
   "cell_type": "code",
   "execution_count": 13,
   "metadata": {},
   "outputs": [
    {
     "data": {
      "text/plain": [
       "'shani kmar12345'"
      ]
     },
     "execution_count": 13,
     "metadata": {},
     "output_type": "execute_result"
    }
   ],
   "source": [
    "p.password(\"Please enter your password\",\"pass\")"
   ]
  },
  {
   "cell_type": "markdown",
   "metadata": {},
   "source": [
    "# same as ask yesy/no"
   ]
  },
  {
   "cell_type": "code",
   "execution_count": 6,
   "metadata": {},
   "outputs": [
    {
     "data": {
      "text/plain": [
       "'Cancel'"
      ]
     },
     "execution_count": 6,
     "metadata": {},
     "output_type": "execute_result"
    }
   ],
   "source": [
    "p.confirm(\"do you want to quit?\",title=\"askyesno\")"
   ]
  },
  {
   "cell_type": "markdown",
   "metadata": {},
   "source": [
    "# ask ok"
   ]
  },
  {
   "cell_type": "code",
   "execution_count": 7,
   "metadata": {},
   "outputs": [
    {
     "data": {
      "text/plain": [
       "'OK'"
      ]
     },
     "execution_count": 7,
     "metadata": {},
     "output_type": "execute_result"
    }
   ],
   "source": [
    "p.alert(\"confirm\",\"confirm\")"
   ]
  },
  {
   "cell_type": "code",
   "execution_count": 53,
   "metadata": {},
   "outputs": [
    {
     "data": {
      "text/plain": [
       "'Ok'"
      ]
     },
     "execution_count": 53,
     "metadata": {},
     "output_type": "execute_result"
    }
   ],
   "source": [
    "a=p.prompt(\"ente the value of a....\")\n",
    "b=p.prompt(\"ente the value of b....\")\n",
    "c=int(a)+int(b)\n",
    "p.alert(f\"addition of a and b is = {c}\",\"addition\",button=\"Ok\")"
   ]
  },
  {
   "cell_type": "code",
   "execution_count": null,
   "metadata": {},
   "outputs": [],
   "source": []
  },
  {
   "cell_type": "markdown",
   "metadata": {},
   "source": [
    "# automatic write"
   ]
  },
  {
   "cell_type": "code",
   "execution_count": 22,
   "metadata": {},
   "outputs": [],
   "source": [
    "import time\n",
    "time.sleep(5)\n",
    "p.typewrite(\"shani kumar bharati\",interval=0.2)\n",
    "# typewrite and write work same"
   ]
  },
  {
   "cell_type": "code",
   "execution_count": 6,
   "metadata": {},
   "outputs": [],
   "source": [
    "import time\n",
    "time.sleep(5)\n",
    "p.typewrite(\"shani kumar bharati\",interval=0.2)\n",
    "# typewrite and write work same"
   ]
  },
  {
   "cell_type": "code",
   "execution_count": 7,
   "metadata": {},
   "outputs": [],
   "source": [
    "p.typewrite([\"enter\"])  #iske ander jo likhoge vo as a key kaam karega"
   ]
  },
  {
   "cell_type": "markdown",
   "metadata": {},
   "source": []
  },
  {
   "cell_type": "code",
   "execution_count": null,
   "metadata": {},
   "outputs": [],
   "source": []
  },
  {
   "cell_type": "code",
   "execution_count": 2,
   "metadata": {},
   "outputs": [
    {
     "name": "stdout",
     "output_type": "stream",
     "text": [
      "['\\t', '\\n', '\\r', ' ', '!', '\"', '#', '$', '%', '&', \"'\", '(', ')', '*', '+', ',', '-', '.', '/', '0', '1', '2', '3', '4', '5', '6', '7', '8', '9', ':', ';', '<', '=', '>', '?', '@', '[', '\\\\', ']', '^', '_', '`', 'a', 'b', 'c', 'd', 'e', 'f', 'g', 'h', 'i', 'j', 'k', 'l', 'm', 'n', 'o', 'p', 'q', 'r', 's', 't', 'u', 'v', 'w', 'x', 'y', 'z', '{', '|', '}', '~', 'accept', 'add', 'alt', 'altleft', 'altright', 'apps', 'backspace', 'browserback', 'browserfavorites', 'browserforward', 'browserhome', 'browserrefresh', 'browsersearch', 'browserstop', 'capslock', 'clear', 'convert', 'ctrl', 'ctrlleft', 'ctrlright', 'decimal', 'del', 'delete', 'divide', 'down', 'end', 'enter', 'esc', 'escape', 'execute', 'f1', 'f10', 'f11', 'f12', 'f13', 'f14', 'f15', 'f16', 'f17', 'f18', 'f19', 'f2', 'f20', 'f21', 'f22', 'f23', 'f24', 'f3', 'f4', 'f5', 'f6', 'f7', 'f8', 'f9', 'final', 'fn', 'hanguel', 'hangul', 'hanja', 'help', 'home', 'insert', 'junja', 'kana', 'kanji', 'launchapp1', 'launchapp2', 'launchmail', 'launchmediaselect', 'left', 'modechange', 'multiply', 'nexttrack', 'nonconvert', 'num0', 'num1', 'num2', 'num3', 'num4', 'num5', 'num6', 'num7', 'num8', 'num9', 'numlock', 'pagedown', 'pageup', 'pause', 'pgdn', 'pgup', 'playpause', 'prevtrack', 'print', 'printscreen', 'prntscrn', 'prtsc', 'prtscr', 'return', 'right', 'scrolllock', 'select', 'separator', 'shift', 'shiftleft', 'shiftright', 'sleep', 'space', 'stop', 'subtract', 'tab', 'up', 'volumedown', 'volumemute', 'volumeup', 'win', 'winleft', 'winright', 'yen', 'command', 'option', 'optionleft', 'optionright']\n"
     ]
    }
   ],
   "source": [
    "print(p.KEYBOARD_KEYS)"
   ]
  },
  {
   "cell_type": "code",
   "execution_count": 13,
   "metadata": {},
   "outputs": [],
   "source": [
    "p.moveTo(214,75,duration=5)  # cursor ko move karake us point pe laker chod dega"
   ]
  },
  {
   "cell_type": "code",
   "execution_count": 11,
   "metadata": {},
   "outputs": [],
   "source": [
    "p.click(1000,20)"
   ]
  },
  {
   "cell_type": "code",
   "execution_count": 16,
   "metadata": {},
   "outputs": [
    {
     "data": {
      "text/plain": [
       "Point(x=130, y=141)"
      ]
     },
     "execution_count": 16,
     "metadata": {},
     "output_type": "execute_result"
    }
   ],
   "source": [
    "time.sleep(3)\n",
    "p.position()  # jaha pe cursur hai waha ka position dega"
   ]
  },
  {
   "cell_type": "code",
   "execution_count": 18,
   "metadata": {},
   "outputs": [],
   "source": [
    "time.sleep(2)\n",
    "p.moveTo(130,141,duration=5)\n",
    "p.click()"
   ]
  },
  {
   "cell_type": "code",
   "execution_count": 19,
   "metadata": {},
   "outputs": [],
   "source": [
    "time.sleep(3)\n",
    "p.dragTo(233,100)"
   ]
  },
  {
   "cell_type": "code",
   "execution_count": 21,
   "metadata": {},
   "outputs": [
    {
     "name": "stdout",
     "output_type": "stream",
     "text": [
      "['\\t', '\\n', '\\r', ' ', '!', '\"', '#', '$', '%', '&', \"'\", '(', ')', '*', '+', ',', '-', '.', '/', '0', '1', '2', '3', '4', '5', '6', '7', '8', '9', ':', ';', '<', '=', '>', '?', '@', '[', '\\\\', ']', '^', '_', '`', 'a', 'b', 'c', 'd', 'e', 'f', 'g', 'h', 'i', 'j', 'k', 'l', 'm', 'n', 'o', 'p', 'q', 'r', 's', 't', 'u', 'v', 'w', 'x', 'y', 'z', '{', '|', '}', '~', 'accept', 'add', 'alt', 'altleft', 'altright', 'apps', 'backspace', 'browserback', 'browserfavorites', 'browserforward', 'browserhome', 'browserrefresh', 'browsersearch', 'browserstop', 'capslock', 'clear', 'convert', 'ctrl', 'ctrlleft', 'ctrlright', 'decimal', 'del', 'delete', 'divide', 'down', 'end', 'enter', 'esc', 'escape', 'execute', 'f1', 'f10', 'f11', 'f12', 'f13', 'f14', 'f15', 'f16', 'f17', 'f18', 'f19', 'f2', 'f20', 'f21', 'f22', 'f23', 'f24', 'f3', 'f4', 'f5', 'f6', 'f7', 'f8', 'f9', 'final', 'fn', 'hanguel', 'hangul', 'hanja', 'help', 'home', 'insert', 'junja', 'kana', 'kanji', 'launchapp1', 'launchapp2', 'launchmail', 'launchmediaselect', 'left', 'modechange', 'multiply', 'nexttrack', 'nonconvert', 'num0', 'num1', 'num2', 'num3', 'num4', 'num5', 'num6', 'num7', 'num8', 'num9', 'numlock', 'pagedown', 'pageup', 'pause', 'pgdn', 'pgup', 'playpause', 'prevtrack', 'print', 'printscreen', 'prntscrn', 'prtsc', 'prtscr', 'return', 'right', 'scrolllock', 'select', 'separator', 'shift', 'shiftleft', 'shiftright', 'sleep', 'space', 'stop', 'subtract', 'tab', 'up', 'volumedown', 'volumemute', 'volumeup', 'win', 'winleft', 'winright', 'yen', 'command', 'option', 'optionleft', 'optionright']\n"
     ]
    }
   ],
   "source": [
    "print(p.KEY_NAMES)"
   ]
  },
  {
   "cell_type": "code",
   "execution_count": 25,
   "metadata": {},
   "outputs": [],
   "source": [
    "p.scroll(244,100)"
   ]
  },
  {
   "cell_type": "code",
   "execution_count": 43,
   "metadata": {},
   "outputs": [
    {
     "data": {
      "text/plain": [
       "Point(x=336, y=377)"
      ]
     },
     "execution_count": 43,
     "metadata": {},
     "output_type": "execute_result"
    }
   ],
   "source": [
    "a=p.position()\n",
    "a"
   ]
  },
  {
   "cell_type": "code",
   "execution_count": 44,
   "metadata": {},
   "outputs": [
    {
     "name": "stdout",
     "output_type": "stream",
     "text": [
      "336 377\n"
     ]
    }
   ],
   "source": [
    "print(a[0],a[1])"
   ]
  },
  {
   "cell_type": "code",
   "execution_count": 67,
   "metadata": {},
   "outputs": [
    {
     "name": "stdout",
     "output_type": "stream",
     "text": [
      "Package                 Version\n",
      "----------------------- -------------------\n",
      "-                       encv-contrib-python\n",
      "-pencv-contrib-python   4.2.0.32\n",
      "-pencv-python           4.2.0.32\n",
      "absl-py                 0.8.0\n",
      "ann-visualizer          2.5\n",
      "appdirs                 1.4.3\n",
      "asgiref                 3.2.7\n",
      "astor                   0.8.0\n",
      "astropy                 4.0.1.post1\n",
      "attrs                   19.3.0\n",
      "automl-gs               0.2.1\n",
      "autopep8                1.4.4\n",
      "backcall                0.1.0\n",
      "beautifulsoup4          4.8.0\n",
      "bleach                  3.1.0\n",
      "bs4                     0.0.1\n",
      "cachetools              4.0.0\n",
      "certifi                 2019.9.11\n",
      "cffi                    1.13.2\n",
      "chardet                 3.0.4\n",
      "Click                   7.0\n",
      "cloudpickle             1.4.1\n",
      "cmake                   3.15.3\n",
      "colorama                0.4.1\n",
      "confuse                 1.1.0\n",
      "contextvars             2.4\n",
      "cryptography            2.8\n",
      "cycler                  0.10.0\n",
      "Cython                  0.29.14\n",
      "decorator               4.4.0\n",
      "defusedxml              0.6.0\n",
      "distlib                 0.3.0\n",
      "Django                  3.0.5\n",
      "dlib                    19.7.0\n",
      "entrypoints             0.3\n",
      "et-xmlfile              1.0.1\n",
      "face-recognition        1.2.3\n",
      "face-recognition-models 0.3.0\n",
      "feature-selector        1.0.0\n",
      "filelock                3.0.12\n",
      "Flask                   1.1.2\n",
      "freegames               2.3.2\n",
      "gast                    0.2.2\n",
      "google-auth             1.11.0\n",
      "google-auth-oauthlib    0.4.1\n",
      "google-pasta            0.1.7\n",
      "googletrans             3.0.0\n",
      "graphviz                0.13.2\n",
      "grpcio                  1.24.0\n",
      "gTTS                    2.0.4\n",
      "gTTS-token              1.1.3\n",
      "h11                     0.9.0\n",
      "h2                      3.2.0\n",
      "h5py                    2.10.0\n",
      "hpack                   3.0.0\n",
      "hstspreload             2020.6.23\n",
      "htmlmin                 0.1.12\n",
      "httpcore                0.9.1\n",
      "httpx                   0.13.3\n",
      "hyperframe              5.2.0\n",
      "idna                    2.8\n",
      "ImageHash               4.1.0\n",
      "imageio                 2.5.0\n",
      "imbalanced-learn        0.5.0\n",
      "imblearn                0.0\n",
      "immutables              0.14\n",
      "importlib-metadata      1.6.0\n",
      "importlib-resources     1.4.0\n",
      "imutils                 0.5.3\n",
      "inflection              0.3.1\n",
      "ipykernel               5.1.2\n",
      "ipython                 7.8.0\n",
      "ipython-genutils        0.2.0\n",
      "ipywidgets              7.5.1\n",
      "itsdangerous            1.1.0\n",
      "jdcal                   1.4.1\n",
      "jedi                    0.15.1\n",
      "Jinja2                  2.11.2\n",
      "joblib                  0.14.0\n",
      "json5                   0.8.5\n",
      "jsonschema              3.0.2\n",
      "jupyter                 1.0.0\n",
      "jupyter-client          5.3.3\n",
      "jupyter-console         6.0.0\n",
      "jupyter-core            4.5.0\n",
      "jupyter-server          0.2.0\n",
      "jupyterlab              1.2.4\n",
      "jupyterlab-server       1.0.6\n",
      "jupyterthemes           0.20.0\n",
      "Keras                   2.3.0\n",
      "Keras-Applications      1.0.8\n",
      "Keras-Preprocessing     1.1.0\n",
      "kiwisolver              1.1.0\n",
      "lab                     5.1\n",
      "lesscpy                 0.13.0\n",
      "lightgbm                2.1.1\n",
      "llvmlite                0.32.1\n",
      "lxml                    4.4.1\n",
      "Markdown                3.1.1\n",
      "MarkupSafe              1.1.1\n",
      "matplotlib              3.2.1\n",
      "missingno               0.4.2\n",
      "mistune                 0.8.4\n",
      "more-itertools          5.0.0\n",
      "MouseInfo               0.0.4\n",
      "mpld3                   0.5.1\n",
      "mtcnn                   0.1.0\n",
      "mysql-connector-python  8.0.17\n",
      "nbconvert               5.6.0\n",
      "nbformat                4.4.0\n",
      "ndg-httpsclient         0.5.1\n",
      "networkx                2.4\n",
      "nltk                    3.4.5\n",
      "notebook                6.0.1\n",
      "numba                   0.49.1\n",
      "numpy                   1.17.4\n",
      "oauthlib                3.1.0\n",
      "opencv-python           4.2.0.34\n",
      "openpyxl                3.0.3\n",
      "opt-einsum              3.1.0\n",
      "pandas                  1.0.4\n",
      "pandas-datareader       0.8.1\n",
      "pandas-profiling        2.8.0\n",
      "pandocfilters           1.4.2\n",
      "parso                   0.5.1\n",
      "pdfkit                  0.6.1\n",
      "phik                    0.10.0\n",
      "pickle-mixin            1.0.2\n",
      "pickleshare             0.7.5\n",
      "Pillow                  6.1.0\n",
      "pip                     20.1.1\n",
      "playsound               1.2.2\n",
      "ply                     3.11\n",
      "prometheus-client       0.7.1\n",
      "prompt-toolkit          2.0.9\n",
      "protobuf                3.9.2\n",
      "pyasn1                  0.4.7\n",
      "pyasn1-modules          0.2.8\n",
      "PyAudio                 0.2.11\n",
      "PyAutoGUI               0.9.47\n",
      "pycodestyle             2.5.0\n",
      "pycparser               2.19\n",
      "pydot                   1.4.1\n",
      "pydotplus               2.0.2\n",
      "PyGetWindow             0.0.7\n",
      "Pygments                2.4.2\n",
      "PyMsgBox                1.0.7\n",
      "pyOpenSSL               19.0.0\n",
      "pyparsing               2.4.2\n",
      "pyperclip               1.7.0\n",
      "PyQRCode                1.2.1\n",
      "PyRect                  0.1.4\n",
      "pyrsistent              0.15.4\n",
      "PyScreeze               0.1.22\n",
      "PySocks                 1.7.1\n",
      "python-dateutil         2.8.0\n",
      "PyTweening              1.0.3\n",
      "pytz                    2019.2\n",
      "PyWavelets              1.0.3\n",
      "pywin32                 225\n",
      "pywinpty                0.5.5\n",
      "PyYAML                  5.1.2\n",
      "pyzmq                   18.1.0\n",
      "qtconsole               4.5.5\n",
      "Quandl                  3.4.8\n",
      "requests                2.23.0\n",
      "requests-oauthlib       1.3.0\n",
      "rfc3986                 1.4.0\n",
      "rsa                     4.0\n",
      "scikit-image            0.15.0\n",
      "scikit-learn            0.22\n",
      "scipy                   1.4.1\n",
      "seaborn                 0.8.1\n",
      "Send2Trash              1.5.0\n",
      "setuptools              41.2.0\n",
      "simplejson              3.17.0\n",
      "six                     1.12.0\n",
      "sniffio                 1.1.0\n",
      "soupsieve               1.9.4\n",
      "SpeechRecognition       3.8.1\n",
      "spyder-kernels          0.5.2\n",
      "sqlparse                0.3.1\n",
      "tangled-up-in-unicode   0.0.6\n",
      "tensorboard             2.1.0\n",
      "tensorflow              2.1.0\n",
      "tensorflow-estimator    2.1.0\n",
      "termcolor               1.1.0\n",
      "terminado               0.8.2\n",
      "testpath                0.4.2\n",
      "textblob                0.15.3\n",
      "tornado                 6.0.3\n",
      "tqdm                    4.46.1\n",
      "traitlets               4.3.2\n",
      "tweepy                  3.8.0\n",
      "urllib3                 1.25.6\n",
      "virtualenv              20.0.18\n",
      "virtualenv-activator    0.1.2\n",
      "visions                 0.4.4\n",
      "wcwidth                 0.1.7\n",
      "webencodings            0.5.1\n",
      "Werkzeug                0.16.0\n",
      "wheel                   0.33.6\n",
      "widgetsnbextension      3.5.1\n",
      "wrapt                   1.11.2\n",
      "xgboost                 0.90\n",
      "xlrd                    1.2.0\n",
      "XlsxWriter              1.2.8\n",
      "xlwt                    1.3.0\n",
      "zipp                    3.1.0\n"
     ]
    }
   ],
   "source": [
    "!pip list"
   ]
  },
  {
   "cell_type": "code",
   "execution_count": null,
   "metadata": {},
   "outputs": [],
   "source": []
  }
 ],
 "metadata": {
  "kernelspec": {
   "display_name": "Python 3",
   "language": "python",
   "name": "python3"
  },
  "language_info": {
   "codemirror_mode": {
    "name": "ipython",
    "version": 3
   },
   "file_extension": ".py",
   "mimetype": "text/x-python",
   "name": "python",
   "nbconvert_exporter": "python",
   "pygments_lexer": "ipython3",
   "version": "3.6.5"
  }
 },
 "nbformat": 4,
 "nbformat_minor": 2
}
