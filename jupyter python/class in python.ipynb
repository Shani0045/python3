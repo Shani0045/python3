{
 "cells": [
  {
   "cell_type": "code",
   "execution_count": 1,
   "metadata": {},
   "outputs": [
    {
     "name": "stdout",
     "output_type": "stream",
     "text": [
      "my name is shani\n"
     ]
    }
   ],
   "source": [
    "class abc:\n",
    "    print(\"my name is shani\")\n",
    "a=abc()\n"
   ]
  },
  {
   "cell_type": "code",
   "execution_count": 2,
   "metadata": {},
   "outputs": [
    {
     "name": "stdout",
     "output_type": "stream",
     "text": [
      "10\n",
      "my name is shani\n"
     ]
    }
   ],
   "source": [
    "class abc:\n",
    "    a=10  # class varible\n",
    "    b=\"my name is shani\"\n",
    "    c=20\n",
    "x=abc()\n",
    "print(x.a)\n",
    "print(x.b)\n"
   ]
  },
  {
   "cell_type": "code",
   "execution_count": 18,
   "metadata": {},
   "outputs": [
    {
     "name": "stdout",
     "output_type": "stream",
     "text": [
      "220\n",
      "220\n"
     ]
    }
   ],
   "source": [
    "class car:\n",
    "    pass\n",
    "ford=car()\n",
    "honda=car()\n",
    "audi=car()\n",
    "ford.speed=220  #this is attritude after created a class\n",
    "honda.speed=220\n",
    "audi.speed=250\n",
    "print(ford.speed)\n",
    "print(honda.speed)"
   ]
  },
  {
   "cell_type": "code",
   "execution_count": null,
   "metadata": {},
   "outputs": [],
   "source": []
  },
  {
   "cell_type": "markdown",
   "metadata": {},
   "source": [
    "## class with function"
   ]
  },
  {
   "cell_type": "code",
   "execution_count": 4,
   "metadata": {},
   "outputs": [
    {
     "name": "stdout",
     "output_type": "stream",
     "text": [
      "id 10\n",
      "name is shani\n"
     ]
    }
   ],
   "source": [
    "class abc:\n",
    "    id=10\n",
    "    name=\"shani\"\n",
    "    def shani(self):\n",
    "        a=10 # isntance varible\n",
    "        print(\"id %d\\nname is %s\" %(self.id,self.name))\n",
    "obj=abc()\n",
    "obj.shani()\n",
    "        "
   ]
  },
  {
   "cell_type": "markdown",
   "metadata": {},
   "source": [
    "## init function"
   ]
  },
  {
   "cell_type": "code",
   "execution_count": 45,
   "metadata": {},
   "outputs": [
    {
     "name": "stdout",
     "output_type": "stream",
     "text": [
      "value of a is 1 and value of b is 2\n",
      "value of a is 2 and value of b is 3\n"
     ]
    }
   ],
   "source": [
    "class Abc:\n",
    "    def __init__(self,a,b):\n",
    "        self.a=a\n",
    "        self.b=b\n",
    "    def fun(self):\n",
    "        print(\"value of a is\",self.a,\"and value of b is\",self.b)\n",
    "obj=Abc(1,2)\n",
    "a=Abc(2,3)\n",
    "obj.fun()\n",
    "a.fun()\n"
   ]
  },
  {
   "cell_type": "markdown",
   "metadata": {},
   "source": [
    "# counting the no of onject in class"
   ]
  },
  {
   "cell_type": "code",
   "execution_count": 49,
   "metadata": {},
   "outputs": [
    {
     "name": "stdout",
     "output_type": "stream",
     "text": [
      "Here is 3 object of this class\n"
     ]
    }
   ],
   "source": [
    "class Student:\n",
    "    count=0\n",
    "    def __init__(self):\n",
    "        Student.count=Student.count+1\n",
    "s1=Student()\n",
    "s2=Student()\n",
    "s3=Student()\n",
    "print(f\"Here is {Student.count} object of this class\")"
   ]
  },
  {
   "cell_type": "markdown",
   "metadata": {},
   "source": [
    "# default or non parametrized constructor"
   ]
  },
  {
   "cell_type": "code",
   "execution_count": 51,
   "metadata": {},
   "outputs": [
    {
     "name": "stdout",
     "output_type": "stream",
     "text": [
      "default constructor\n",
      "the value of a is 2\n",
      "and b is 3\n"
     ]
    }
   ],
   "source": [
    "class abc:\n",
    "    def __init__(self):\n",
    "        print(\"default constructor\")\n",
    "    def fun(self,a,b):\n",
    "        print(f\"the value of a is {a}\\nand b is {b}\")\n",
    "obj=abc()\n",
    "obj.fun(2,3)"
   ]
  },
  {
   "cell_type": "markdown",
   "metadata": {},
   "source": [
    "## paramertrized construcor"
   ]
  },
  {
   "cell_type": "code",
   "execution_count": 13,
   "metadata": {},
   "outputs": [
    {
     "name": "stdout",
     "output_type": "stream",
     "text": [
      "parametrized constructor\n",
      "value of a is  2 \n",
      "and b is  3\n"
     ]
    }
   ],
   "source": [
    "class abc:\n",
    "    def __init__(self,a,b):\n",
    "        print(\"parametrized constructor\")\n",
    "        self.a=a\n",
    "        self.b=b\n",
    "    def fun(self):\n",
    "        print(\"value of a is \",self.a,\"\\nand b is \",self.b)\n",
    "obj=abc(2,3)\n",
    "obj.fun()"
   ]
  },
  {
   "cell_type": "code",
   "execution_count": 28,
   "metadata": {},
   "outputs": [
    {
     "name": "stdout",
     "output_type": "stream",
     "text": [
      "shani\n",
      "23\n"
     ]
    }
   ],
   "source": [
    "class shani:\n",
    "    def __init__(self,name,age):\n",
    "        self.name=name\n",
    "        self.age=age\n",
    "obj=shani(\"shani\",23)\n",
    "print(obj.name)\n",
    "print(obj.age)\n",
    "        "
   ]
  },
  {
   "cell_type": "code",
   "execution_count": 30,
   "metadata": {},
   "outputs": [
    {
     "name": "stdout",
     "output_type": "stream",
     "text": [
      "hello my name is shani\n"
     ]
    }
   ],
   "source": [
    "class shani:\n",
    "    def __init__(self,name,age):\n",
    "        self.name=name\n",
    "        self.age=age\n",
    "    def myfun(self):\n",
    "        print(\"hello my name is \"+self.name)\n",
    "obj=shani(\"shani\",23)\n",
    "obj.myfun()\n"
   ]
  },
  {
   "cell_type": "code",
   "execution_count": 35,
   "metadata": {},
   "outputs": [
    {
     "name": "stdout",
     "output_type": "stream",
     "text": [
      "hello my name is shani\n",
      "and my age is 23\n"
     ]
    }
   ],
   "source": [
    "class shani:\n",
    "    def __init__(self,name,age):\n",
    "        self.name=name\n",
    "        self.age=age\n",
    "    def myfun(self):\n",
    "        print(\"hello my name is \"+self.name)\n",
    "    def fun(self):\n",
    "        print(\"and my age is {}\".format(self.age))\n",
    "obj=shani(\"shani\",23)\n",
    "obj.myfun()\n",
    "obj.fun()\n"
   ]
  },
  {
   "cell_type": "code",
   "execution_count": 38,
   "metadata": {},
   "outputs": [
    {
     "name": "stdout",
     "output_type": "stream",
     "text": [
      "hello my name is shani\n",
      "and my age is 23\n",
      "hello my name is amit\n",
      "and my age is 34\n"
     ]
    }
   ],
   "source": [
    "class shani:\n",
    "    def __init__(self,name,age):\n",
    "        self.name=name\n",
    "        self.age=age\n",
    "    def myfun(self):\n",
    "        print(\"hello my name is \"+self.name)\n",
    "    def fun(self):\n",
    "        print(\"and my age is {}\".format(self.age))\n",
    "obj=shani(\"shani\",23)\n",
    "obj.myfun()\n",
    "obj.fun()\n",
    "ob=shani(\"amit\",34)\n",
    "ob.myfun()\n",
    "ob.fun()\n"
   ]
  },
  {
   "cell_type": "code",
   "execution_count": 41,
   "metadata": {},
   "outputs": [
    {
     "name": "stdout",
     "output_type": "stream",
     "text": [
      "hello my name is shani\n",
      "and my age is 23\n",
      "hello my name is amit\n",
      "and my age is 34\n"
     ]
    }
   ],
   "source": [
    "class shani:\n",
    "    def __init__(self,name,age):\n",
    "        self.name=name\n",
    "        self.age=age\n",
    "    def myfun(self):\n",
    "        print(\"hello my name is \"+self.name)\n",
    "    def fun(self):\n",
    "        print(\"and my age is {}\".format(self.age))\n",
    "obj=shani(\"shani\",23)\n",
    "obj.myfun()\n",
    "obj.fun()\n",
    "ob=shani(\"amit\",34)\n",
    "ob.myfun()\n",
    "ob.fun()\n"
   ]
  },
  {
   "cell_type": "code",
   "execution_count": 1,
   "metadata": {},
   "outputs": [
    {
     "name": "stdout",
     "output_type": "stream",
     "text": [
      "enter the roll no1613810031\n",
      "the roll no is 1613810031\n"
     ]
    }
   ],
   "source": [
    "class shani:\n",
    "    def __init__(self):\n",
    "        self.a=0\n",
    "    def roll(self):\n",
    "        self.a=int(input(\"enter the roll no\"))\n",
    "    def show(self):\n",
    "        print(\"the roll no is\",self.a)\n",
    "a=shani()\n",
    "a.roll()\n",
    "a.show()"
   ]
  },
  {
   "cell_type": "code",
   "execution_count": 4,
   "metadata": {},
   "outputs": [
    {
     "name": "stdout",
     "output_type": "stream",
     "text": [
      "enter the roll no13\n",
      "enter nameshani kumar\n",
      "the roll no is 13\n",
      "name is  shani kumar\n"
     ]
    }
   ],
   "source": [
    "class shani:\n",
    "    def __init__(self):\n",
    "        self.a=0\n",
    "        self.b=\"\"\n",
    "    def roll(self):\n",
    "        self.a=int(input(\"enter the roll no\"))\n",
    "        self.b=input(\"enter name\")\n",
    "    def show(self):\n",
    "        print(\"the roll no is\",self.a)\n",
    "        print(\"name is \",self.b)\n",
    "a=shani()\n",
    "a.roll()\n",
    "a.show()"
   ]
  },
  {
   "cell_type": "code",
   "execution_count": 13,
   "metadata": {},
   "outputs": [
    {
     "name": "stdout",
     "output_type": "stream",
     "text": [
      "enter the roll no 1613810080\n",
      "enter name shani kumar bharati\n",
      "the roll no is 1613810080.0\n",
      "name is  shani kumar bharati\n",
      "enter the roll no 1613810065\n",
      "enter name pradeep kumar\n",
      "the roll no is 1613810065.0\n",
      "name is  pradeep kumar\n"
     ]
    }
   ],
   "source": [
    "class shani:\n",
    "    def __init__(self):\n",
    "        self.a=0\n",
    "        self.b=\"\"\n",
    "    def roll(self):\n",
    "        self.a=float(input(\"enter the roll no \"))\n",
    "        self.b=input(\"enter name \")\n",
    "    def show(self):\n",
    "        print(\"the roll no is\",self.a)\n",
    "        print(\"name is \",self.b)\n",
    "a=shani()\n",
    "a.roll()\n",
    "a.show()\n",
    "b=shani()\n",
    "b.roll()\n",
    "b.show()"
   ]
  },
  {
   "cell_type": "code",
   "execution_count": 21,
   "metadata": {},
   "outputs": [
    {
     "name": "stdout",
     "output_type": "stream",
     "text": [
      "enter first no12\n",
      "enter second no12\n",
      "the addition no is 24\n"
     ]
    }
   ],
   "source": [
    "class shani:\n",
    "    def __init__(self,a,b):\n",
    "        self.a=\"<no no>\"\n",
    "        self.b=\"<no no>\"\n",
    "    def roll(self):\n",
    "        self.a=int(input(\"enter first no\"))\n",
    "        self.b=int(input(\"enter second no\"))\n",
    "    def show(self):\n",
    "        x=self.a+self.b\n",
    "        print(\"the addition no is\",x)\n",
    "a=shani(a,b)\n",
    "a.roll()\n",
    "a.show()"
   ]
  },
  {
   "cell_type": "code",
   "execution_count": 22,
   "metadata": {},
   "outputs": [
    {
     "name": "stdout",
     "output_type": "stream",
     "text": [
      "enter first no1\n",
      "enter second no2\n",
      "the addition no is 6\n"
     ]
    }
   ],
   "source": [
    "class shani:\n",
    "    def __init__(self,a,b):\n",
    "        self.a=\"<no no>\"\n",
    "        self.b=\"<no no>\"\n",
    "    def roll(self):\n",
    "        self.a=int(input(\"enter first no\"))\n",
    "        self.b=int(input(\"enter second no\"))\n",
    "    def show(self,c,d):\n",
    "        x=self.a+self.b+c+d\n",
    "        print(\"the addition no is\",x)\n",
    "a=shani(a,b)\n",
    "a.roll()\n",
    "a.show(1,2)"
   ]
  },
  {
   "cell_type": "code",
   "execution_count": null,
   "metadata": {},
   "outputs": [],
   "source": []
  }
 ],
 "metadata": {
  "kernelspec": {
   "display_name": "Python 3",
   "language": "python",
   "name": "python3"
  },
  "language_info": {
   "codemirror_mode": {
    "name": "ipython",
    "version": 3
   },
   "file_extension": ".py",
   "mimetype": "text/x-python",
   "name": "python",
   "nbconvert_exporter": "python",
   "pygments_lexer": "ipython3",
   "version": "3.6.5"
  }
 },
 "nbformat": 4,
 "nbformat_minor": 2
}
