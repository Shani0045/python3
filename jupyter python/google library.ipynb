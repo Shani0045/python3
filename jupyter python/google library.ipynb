{
 "cells": [
  {
   "cell_type": "code",
   "execution_count": 1,
   "metadata": {},
   "outputs": [],
   "source": [
    "import google"
   ]
  },
  {
   "cell_type": "code",
   "execution_count": 2,
   "metadata": {},
   "outputs": [
    {
     "data": {
      "text/plain": [
       "['__doc__',\n",
       " '__loader__',\n",
       " '__name__',\n",
       " '__package__',\n",
       " '__path__',\n",
       " '__spec__',\n",
       " 'protobuf']"
      ]
     },
     "execution_count": 2,
     "metadata": {},
     "output_type": "execute_result"
    }
   ],
   "source": [
    "dir(google)"
   ]
  },
  {
   "cell_type": "code",
   "execution_count": 4,
   "metadata": {},
   "outputs": [
    {
     "name": "stdout",
     "output_type": "stream",
     "text": [
      "Help on package google.protobuf in google:\n",
      "\n",
      "NAME\n",
      "    google.protobuf\n",
      "\n",
      "DESCRIPTION\n",
      "    # Protocol Buffers - Google's data interchange format\n",
      "    # Copyright 2008 Google Inc.  All rights reserved.\n",
      "    # https://developers.google.com/protocol-buffers/\n",
      "    #\n",
      "    # Redistribution and use in source and binary forms, with or without\n",
      "    # modification, are permitted provided that the following conditions are\n",
      "    # met:\n",
      "    #\n",
      "    #     * Redistributions of source code must retain the above copyright\n",
      "    # notice, this list of conditions and the following disclaimer.\n",
      "    #     * Redistributions in binary form must reproduce the above\n",
      "    # copyright notice, this list of conditions and the following disclaimer\n",
      "    # in the documentation and/or other materials provided with the\n",
      "    # distribution.\n",
      "    #     * Neither the name of Google Inc. nor the names of its\n",
      "    # contributors may be used to endorse or promote products derived from\n",
      "    # this software without specific prior written permission.\n",
      "    #\n",
      "    # THIS SOFTWARE IS PROVIDED BY THE COPYRIGHT HOLDERS AND CONTRIBUTORS\n",
      "    # \"AS IS\" AND ANY EXPRESS OR IMPLIED WARRANTIES, INCLUDING, BUT NOT\n",
      "    # LIMITED TO, THE IMPLIED WARRANTIES OF MERCHANTABILITY AND FITNESS FOR\n",
      "    # A PARTICULAR PURPOSE ARE DISCLAIMED. IN NO EVENT SHALL THE COPYRIGHT\n",
      "    # OWNER OR CONTRIBUTORS BE LIABLE FOR ANY DIRECT, INDIRECT, INCIDENTAL,\n",
      "    # SPECIAL, EXEMPLARY, OR CONSEQUENTIAL DAMAGES (INCLUDING, BUT NOT\n",
      "    # LIMITED TO, PROCUREMENT OF SUBSTITUTE GOODS OR SERVICES; LOSS OF USE,\n",
      "    # DATA, OR PROFITS; OR BUSINESS INTERRUPTION) HOWEVER CAUSED AND ON ANY\n",
      "    # THEORY OF LIABILITY, WHETHER IN CONTRACT, STRICT LIABILITY, OR TORT\n",
      "    # (INCLUDING NEGLIGENCE OR OTHERWISE) ARISING IN ANY WAY OUT OF THE USE\n",
      "    # OF THIS SOFTWARE, EVEN IF ADVISED OF THE POSSIBILITY OF SUCH DAMAGE.\n",
      "\n",
      "PACKAGE CONTENTS\n",
      "    any_pb2\n",
      "    any_test_pb2\n",
      "    api_pb2\n",
      "    compiler (package)\n",
      "    descriptor\n",
      "    descriptor_database\n",
      "    descriptor_pb2\n",
      "    descriptor_pool\n",
      "    duration_pb2\n",
      "    empty_pb2\n",
      "    field_mask_pb2\n",
      "    internal (package)\n",
      "    json_format\n",
      "    map_proto2_unittest_pb2\n",
      "    map_unittest_pb2\n",
      "    message\n",
      "    message_factory\n",
      "    proto_builder\n",
      "    pyext (package)\n",
      "    reflection\n",
      "    service\n",
      "    service_reflection\n",
      "    source_context_pb2\n",
      "    struct_pb2\n",
      "    symbol_database\n",
      "    test_messages_proto2_pb2\n",
      "    test_messages_proto3_pb2\n",
      "    text_encoding\n",
      "    text_format\n",
      "    timestamp_pb2\n",
      "    type_pb2\n",
      "    unittest_arena_pb2\n",
      "    unittest_custom_options_pb2\n",
      "    unittest_import_pb2\n",
      "    unittest_import_public_pb2\n",
      "    unittest_mset_pb2\n",
      "    unittest_mset_wire_format_pb2\n",
      "    unittest_no_arena_import_pb2\n",
      "    unittest_no_arena_pb2\n",
      "    unittest_no_generic_services_pb2\n",
      "    unittest_pb2\n",
      "    unittest_proto3_arena_pb2\n",
      "    util (package)\n",
      "    wrappers_pb2\n",
      "\n",
      "VERSION\n",
      "    3.9.2\n",
      "\n",
      "FILE\n",
      "    c:\\users\\hp\\appdata\\local\\programs\\python\\python36\\lib\\site-packages\\google\\protobuf\\__init__.py\n",
      "\n",
      "\n"
     ]
    }
   ],
   "source": [
    "help(google.protobuf)"
   ]
  },
  {
   "cell_type": "code",
   "execution_count": 18,
   "metadata": {},
   "outputs": [],
   "source": [
    "from scipy.linalg import "
   ]
  },
  {
   "cell_type": "code",
   "execution_count": null,
   "metadata": {},
   "outputs": [],
   "source": []
  },
  {
   "cell_type": "code",
   "execution_count": null,
   "metadata": {},
   "outputs": [],
   "source": []
  },
  {
   "cell_type": "code",
   "execution_count": null,
   "metadata": {},
   "outputs": [],
   "source": []
  }
 ],
 "metadata": {
  "kernelspec": {
   "display_name": "Python 3",
   "language": "python",
   "name": "python3"
  },
  "language_info": {
   "codemirror_mode": {
    "name": "ipython",
    "version": 3
   },
   "file_extension": ".py",
   "mimetype": "text/x-python",
   "name": "python",
   "nbconvert_exporter": "python",
   "pygments_lexer": "ipython3",
   "version": "3.6.5"
  }
 },
 "nbformat": 4,
 "nbformat_minor": 2
}
