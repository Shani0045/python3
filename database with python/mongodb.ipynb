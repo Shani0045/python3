{
 "cells": [
  {
   "cell_type": "code",
   "execution_count": 6,
   "metadata": {},
   "outputs": [],
   "source": [
    "import pymongo"
   ]
  },
  {
   "cell_type": "code",
   "execution_count": 7,
   "metadata": {},
   "outputs": [],
   "source": [
    "from pymongo import MongoClient"
   ]
  },
  {
   "cell_type": "code",
   "execution_count": 8,
   "metadata": {},
   "outputs": [],
   "source": [
    "client=MongoClient(\"localhost\",27017)"
   ]
  },
  {
   "cell_type": "markdown",
   "metadata": {},
   "source": [
    "# create database"
   ]
  },
  {
   "cell_type": "code",
   "execution_count": 11,
   "metadata": {},
   "outputs": [
    {
     "name": "stdout",
     "output_type": "stream",
     "text": [
      "database created......\n"
     ]
    }
   ],
   "source": [
    "db=client['mydb']\n",
    "print(\"database created......\")"
   ]
  },
  {
   "cell_type": "code",
   "execution_count": 13,
   "metadata": {},
   "outputs": [
    {
     "name": "stdout",
     "output_type": "stream",
     "text": [
      "['admin', 'config', 'local', 'shani']\n"
     ]
    }
   ],
   "source": [
    "print(client.list_database_names())"
   ]
  },
  {
   "cell_type": "markdown",
   "metadata": {},
   "source": [
    "# create collection"
   ]
  },
  {
   "cell_type": "code",
   "execution_count": 16,
   "metadata": {},
   "outputs": [
    {
     "name": "stdout",
     "output_type": "stream",
     "text": [
      "collection created......\n"
     ]
    }
   ],
   "source": [
    "collection=db[\"mycollection\"]\n",
    "print(\"collection created......\")"
   ]
  },
  {
   "cell_type": "markdown",
   "metadata": {},
   "source": [
    "# insert documents"
   ]
  },
  {
   "cell_type": "code",
   "execution_count": 17,
   "metadata": {},
   "outputs": [
    {
     "data": {
      "text/plain": [
       "<pymongo.results.InsertOneResult at 0x18a85618e88>"
      ]
     },
     "execution_count": 17,
     "metadata": {},
     "output_type": "execute_result"
    }
   ],
   "source": [
    "db=client['mydb']\n",
    "col=db['mycollection']\n",
    "doc1={\"name\":\"shani\",\"father_name\":\"dharmendra kumar\",\"age\":23,\"graduation\":\"b.tech passout\"}\n",
    "col.insert_one(doc1)"
   ]
  },
  {
   "cell_type": "code",
   "execution_count": 20,
   "metadata": {},
   "outputs": [
    {
     "data": {
      "text/plain": [
       "{'_id': ObjectId('5f9bb9114cd7f9efd9f96deb'),\n",
       " 'name': 'shani',\n",
       " 'father_name': 'dharmendra kumar',\n",
       " 'age': 23,\n",
       " 'graduation': 'b.tech passout'}"
      ]
     },
     "execution_count": 20,
     "metadata": {},
     "output_type": "execute_result"
    }
   ],
   "source": [
    "col.find_one()"
   ]
  },
  {
   "cell_type": "code",
   "execution_count": 22,
   "metadata": {},
   "outputs": [],
   "source": [
    "doc2=[\n",
    "    {\n",
    "        \"name\":\"amit kumar\",\n",
    "        \"age\":19\n",
    "    },\n",
    "    {\n",
    "        \"name\":\"rahul\",\n",
    "        \"age\":32\n",
    "    },\n",
    "    {\n",
    "        \"name\":\"ajay\",\n",
    "        \"age\":21\n",
    "    }\n",
    "]\n",
    "\n",
    "res=col.insert_many(doc2)"
   ]
  },
  {
   "cell_type": "code",
   "execution_count": 23,
   "metadata": {},
   "outputs": [
    {
     "data": {
      "text/plain": [
       "[ObjectId('5f9bb9c74cd7f9efd9f96def'),\n",
       " ObjectId('5f9bb9c74cd7f9efd9f96df0'),\n",
       " ObjectId('5f9bb9c74cd7f9efd9f96df1')]"
      ]
     },
     "execution_count": 23,
     "metadata": {},
     "output_type": "execute_result"
    }
   ],
   "source": [
    "res.inserted_ids"
   ]
  },
  {
   "cell_type": "code",
   "execution_count": null,
   "metadata": {},
   "outputs": [],
   "source": []
  },
  {
   "cell_type": "code",
   "execution_count": 25,
   "metadata": {},
   "outputs": [],
   "source": [
    "doc3=[\n",
    "    {   \"_id\":101,\n",
    "        \"name\":\"ram lal\",\n",
    "        \"age\":19\n",
    "    },\n",
    "    {   \"_id\":102,\n",
    "        \"name\":\"panday ji\",\n",
    "        \"age\":32\n",
    "    },\n",
    "    {   \"_id\":103,\n",
    "        \"name\":\"ajay\",\n",
    "        \"age\":21\n",
    "    }\n",
    "]\n",
    "\n",
    "res=col.insert_many(doc3)"
   ]
  },
  {
   "cell_type": "code",
   "execution_count": 26,
   "metadata": {},
   "outputs": [
    {
     "data": {
      "text/plain": [
       "[101, 102, 103]"
      ]
     },
     "execution_count": 26,
     "metadata": {},
     "output_type": "execute_result"
    }
   ],
   "source": [
    "res.inserted_ids"
   ]
  },
  {
   "cell_type": "code",
   "execution_count": 29,
   "metadata": {},
   "outputs": [
    {
     "data": {
      "text/plain": [
       "{'_id': ObjectId('5f9bb9114cd7f9efd9f96deb'),\n",
       " 'name': 'shani',\n",
       " 'father_name': 'dharmendra kumar',\n",
       " 'age': 23,\n",
       " 'graduation': 'b.tech passout'}"
      ]
     },
     "execution_count": 29,
     "metadata": {},
     "output_type": "execute_result"
    }
   ],
   "source": [
    "col.find_one()"
   ]
  },
  {
   "cell_type": "code",
   "execution_count": 27,
   "metadata": {},
   "outputs": [
    {
     "name": "stdout",
     "output_type": "stream",
     "text": [
      "{'_id': ObjectId('5f9bb9114cd7f9efd9f96deb'), 'name': 'shani', 'father_name': 'dharmendra kumar', 'age': 23, 'graduation': 'b.tech passout'}\n",
      "{'_id': ObjectId('5f9bb99c4cd7f9efd9f96dec'), 'name': 'amit kumar', 'age': 19}\n",
      "{'_id': ObjectId('5f9bb99c4cd7f9efd9f96ded'), 'name': 'rahul', 'age': 32}\n",
      "{'_id': ObjectId('5f9bb99c4cd7f9efd9f96dee'), 'name': 'ajay', 'age': 21}\n",
      "{'_id': ObjectId('5f9bb9c74cd7f9efd9f96def'), 'name': 'amit kumar', 'age': 19}\n",
      "{'_id': ObjectId('5f9bb9c74cd7f9efd9f96df0'), 'name': 'rahul', 'age': 32}\n",
      "{'_id': ObjectId('5f9bb9c74cd7f9efd9f96df1'), 'name': 'ajay', 'age': 21}\n",
      "{'_id': 101, 'name': 'ram lal', 'age': 19}\n",
      "{'_id': 102, 'name': 'panday ji', 'age': 32}\n",
      "{'_id': 103, 'name': 'ajay', 'age': 21}\n"
     ]
    }
   ],
   "source": [
    "for i in col.find():\n",
    "    print(i)"
   ]
  },
  {
   "cell_type": "markdown",
   "metadata": {},
   "source": [
    "# find "
   ]
  },
  {
   "cell_type": "code",
   "execution_count": 30,
   "metadata": {},
   "outputs": [
    {
     "name": "stdout",
     "output_type": "stream",
     "text": [
      "{'_id': ObjectId('5f9bb99c4cd7f9efd9f96dee'), 'name': 'ajay', 'age': 21}\n",
      "{'_id': ObjectId('5f9bb9c74cd7f9efd9f96df1'), 'name': 'ajay', 'age': 21}\n",
      "{'_id': 103, 'name': 'ajay', 'age': 21}\n"
     ]
    }
   ],
   "source": [
    "for i in col.find({\"name\":\"ajay\"}):\n",
    "    print(i)"
   ]
  },
  {
   "cell_type": "code",
   "execution_count": 31,
   "metadata": {},
   "outputs": [
    {
     "name": "stdout",
     "output_type": "stream",
     "text": [
      "{'_id': ObjectId('5f9bb9114cd7f9efd9f96deb'), 'name': 'shani', 'father_name': 'dharmendra kumar', 'age': 23, 'graduation': 'b.tech passout'}\n",
      "{'_id': ObjectId('5f9bb99c4cd7f9efd9f96ded'), 'name': 'rahul', 'age': 32}\n",
      "{'_id': ObjectId('5f9bb9c74cd7f9efd9f96df0'), 'name': 'rahul', 'age': 32}\n",
      "{'_id': 102, 'name': 'panday ji', 'age': 32}\n"
     ]
    }
   ],
   "source": [
    "for i in col.find({\"age\":{\"$gt\":21}}):\n",
    "    print(i)"
   ]
  },
  {
   "cell_type": "code",
   "execution_count": 36,
   "metadata": {},
   "outputs": [
    {
     "name": "stdout",
     "output_type": "stream",
     "text": [
      "{'_id': ObjectId('5f9bb99c4cd7f9efd9f96dee'), 'name': 'ajay', 'age': 21}\n",
      "{'_id': ObjectId('5f9bb9c74cd7f9efd9f96df1'), 'name': 'ajay', 'age': 21}\n",
      "{'_id': 103, 'name': 'ajay', 'age': 21}\n"
     ]
    }
   ],
   "source": [
    "for i in col.find({\"age\":21}):\n",
    "    print(i)"
   ]
  },
  {
   "cell_type": "markdown",
   "metadata": {},
   "source": [
    "# sorting"
   ]
  },
  {
   "cell_type": "code",
   "execution_count": 37,
   "metadata": {},
   "outputs": [
    {
     "name": "stdout",
     "output_type": "stream",
     "text": [
      "{'_id': ObjectId('5f9bb99c4cd7f9efd9f96dec'), 'name': 'amit kumar', 'age': 19}\n",
      "{'_id': ObjectId('5f9bb9c74cd7f9efd9f96def'), 'name': 'amit kumar', 'age': 19}\n",
      "{'_id': 101, 'name': 'ram lal', 'age': 19}\n",
      "{'_id': ObjectId('5f9bb99c4cd7f9efd9f96dee'), 'name': 'ajay', 'age': 21}\n",
      "{'_id': ObjectId('5f9bb9c74cd7f9efd9f96df1'), 'name': 'ajay', 'age': 21}\n",
      "{'_id': 103, 'name': 'ajay', 'age': 21}\n",
      "{'_id': ObjectId('5f9bb9114cd7f9efd9f96deb'), 'name': 'shani', 'father_name': 'dharmendra kumar', 'age': 23, 'graduation': 'b.tech passout'}\n",
      "{'_id': ObjectId('5f9bb99c4cd7f9efd9f96ded'), 'name': 'rahul', 'age': 32}\n",
      "{'_id': ObjectId('5f9bb9c74cd7f9efd9f96df0'), 'name': 'rahul', 'age': 32}\n",
      "{'_id': 102, 'name': 'panday ji', 'age': 32}\n"
     ]
    }
   ],
   "source": [
    "for i in col.find().sort(\"age\"):\n",
    "    print(i)"
   ]
  },
  {
   "cell_type": "code",
   "execution_count": 38,
   "metadata": {},
   "outputs": [
    {
     "name": "stdout",
     "output_type": "stream",
     "text": [
      "{'_id': ObjectId('5f9bb99c4cd7f9efd9f96ded'), 'name': 'rahul', 'age': 32}\n",
      "{'_id': ObjectId('5f9bb9c74cd7f9efd9f96df0'), 'name': 'rahul', 'age': 32}\n",
      "{'_id': 102, 'name': 'panday ji', 'age': 32}\n",
      "{'_id': ObjectId('5f9bb9114cd7f9efd9f96deb'), 'name': 'shani', 'father_name': 'dharmendra kumar', 'age': 23, 'graduation': 'b.tech passout'}\n",
      "{'_id': ObjectId('5f9bb99c4cd7f9efd9f96dee'), 'name': 'ajay', 'age': 21}\n",
      "{'_id': ObjectId('5f9bb9c74cd7f9efd9f96df1'), 'name': 'ajay', 'age': 21}\n",
      "{'_id': 103, 'name': 'ajay', 'age': 21}\n",
      "{'_id': ObjectId('5f9bb99c4cd7f9efd9f96dec'), 'name': 'amit kumar', 'age': 19}\n",
      "{'_id': ObjectId('5f9bb9c74cd7f9efd9f96def'), 'name': 'amit kumar', 'age': 19}\n",
      "{'_id': 101, 'name': 'ram lal', 'age': 19}\n"
     ]
    }
   ],
   "source": [
    "for i in col.find().sort(\"age\",-1):\n",
    "    print(i)"
   ]
  },
  {
   "cell_type": "markdown",
   "metadata": {},
   "source": [
    "# delete document"
   ]
  },
  {
   "cell_type": "code",
   "execution_count": 43,
   "metadata": {},
   "outputs": [
    {
     "name": "stdout",
     "output_type": "stream",
     "text": [
      "data deleted.....\n"
     ]
    }
   ],
   "source": [
    "col.delete_one({\"_id\":\"5f9bb99c4cd7f9efd9f96dec\"})\n",
    "print(\"data deleted.....\")"
   ]
  },
  {
   "cell_type": "code",
   "execution_count": 44,
   "metadata": {},
   "outputs": [
    {
     "name": "stdout",
     "output_type": "stream",
     "text": [
      "{'_id': ObjectId('5f9bb9114cd7f9efd9f96deb'), 'name': 'shani', 'father_name': 'dharmendra kumar', 'age': 23, 'graduation': 'b.tech passout'}\n",
      "{'_id': ObjectId('5f9bb99c4cd7f9efd9f96dec'), 'name': 'amit kumar', 'age': 19}\n",
      "{'_id': ObjectId('5f9bb99c4cd7f9efd9f96ded'), 'name': 'rahul', 'age': 32}\n",
      "{'_id': ObjectId('5f9bb9c74cd7f9efd9f96def'), 'name': 'amit kumar', 'age': 19}\n",
      "{'_id': ObjectId('5f9bb9c74cd7f9efd9f96df0'), 'name': 'rahul', 'age': 32}\n",
      "{'_id': ObjectId('5f9bb9c74cd7f9efd9f96df1'), 'name': 'ajay', 'age': 21}\n",
      "{'_id': 101, 'name': 'ram lal', 'age': 19}\n",
      "{'_id': 102, 'name': 'panday ji', 'age': 32}\n",
      "{'_id': 103, 'name': 'ajay', 'age': 21}\n"
     ]
    }
   ],
   "source": [
    "for i in col.find():\n",
    "    print(i)"
   ]
  },
  {
   "cell_type": "markdown",
   "metadata": {},
   "source": [
    "# limit"
   ]
  },
  {
   "cell_type": "code",
   "execution_count": 45,
   "metadata": {},
   "outputs": [
    {
     "name": "stdout",
     "output_type": "stream",
     "text": [
      "{'_id': ObjectId('5f9bb9114cd7f9efd9f96deb'), 'name': 'shani', 'father_name': 'dharmendra kumar', 'age': 23, 'graduation': 'b.tech passout'}\n",
      "{'_id': ObjectId('5f9bb99c4cd7f9efd9f96dec'), 'name': 'amit kumar', 'age': 19}\n",
      "{'_id': ObjectId('5f9bb99c4cd7f9efd9f96ded'), 'name': 'rahul', 'age': 32}\n"
     ]
    }
   ],
   "source": [
    "for i in col.find().limit(3):\n",
    "    print(i)"
   ]
  },
  {
   "cell_type": "code",
   "execution_count": 46,
   "metadata": {},
   "outputs": [
    {
     "name": "stdout",
     "output_type": "stream",
     "text": [
      "{'_id': ObjectId('5f9bb99c4cd7f9efd9f96ded'), 'name': 'rahul', 'age': 32}\n",
      "{'_id': ObjectId('5f9bb9c74cd7f9efd9f96def'), 'name': 'amit kumar', 'age': 19}\n",
      "{'_id': ObjectId('5f9bb9c74cd7f9efd9f96df0'), 'name': 'rahul', 'age': 32}\n"
     ]
    }
   ],
   "source": [
    "for i in col.find().limit(3).skip(2):\n",
    "    print(i)"
   ]
  },
  {
   "cell_type": "markdown",
   "metadata": {},
   "source": [
    "# update"
   ]
  },
  {
   "cell_type": "code",
   "execution_count": null,
   "metadata": {},
   "outputs": [],
   "source": []
  }
 ],
 "metadata": {
  "kernelspec": {
   "display_name": "Python 3",
   "language": "python",
   "name": "python3"
  },
  "language_info": {
   "codemirror_mode": {
    "name": "ipython",
    "version": 3
   },
   "file_extension": ".py",
   "mimetype": "text/x-python",
   "name": "python",
   "nbconvert_exporter": "python",
   "pygments_lexer": "ipython3",
   "version": "3.6.5"
  }
 },
 "nbformat": 4,
 "nbformat_minor": 2
}
