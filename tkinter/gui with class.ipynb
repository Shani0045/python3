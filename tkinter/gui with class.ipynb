{
 "cells": [
  {
   "cell_type": "code",
   "execution_count": 1,
   "metadata": {},
   "outputs": [],
   "source": [
    "from tkinter import*\n",
    "class gui(Tk):\n",
    "    def __init__(self):\n",
    "        super().__init__()\n",
    "        self.geometry('500x400')\n",
    "        self.l=Label(self,text='usename').pack()\n",
    "        self.e=Entry(self).pack()\n",
    "        self.l1=Label(self,text='password').pack()\n",
    "        self.e=Entry(self).pack()\n",
    "    def change_color(self,c):\n",
    "        self.config(background=c)\n",
    "root=gui()\n",
    "root.change_color(\"blue\")\n",
    "root.mainloop()\n",
    "        "
   ]
  },
  {
   "cell_type": "code",
   "execution_count": 1,
   "metadata": {},
   "outputs": [],
   "source": [
    "from tkinter import*\n",
    "class app(Tk):\n",
    "    def __init__(self):\n",
    "        super().__init__()\n",
    "        self.geometry(\"700x400\")\n",
    "        self.btn=Button(self,text=\"dark mode\",command=self.dark).pack()\n",
    "        self.btn=Button(self,text=\"light mode\",command=self.light).pack()\n",
    "    \n",
    "        self.lbl=Label(self,text=\"username\").pack()\n",
    "        self.enty=Entry(self)\n",
    "        self.enty.pack()\n",
    "        \n",
    "    def dark(self):\n",
    "        self.config(bg=\"black\")\n",
    "        self.enty.configure(bg=\"white\",fg=\"black\")\n",
    "        \n",
    "    def light(self):\n",
    "        self.config(bg=\"white\")\n",
    "        self.enty.configure(bg=\"black\",fg=\"white\")\n",
    "        \n",
    "        \n",
    "        \n",
    "root=app()\n",
    "root.mainloop()\n",
    "        "
   ]
  },
  {
   "cell_type": "code",
   "execution_count": 22,
   "metadata": {},
   "outputs": [],
   "source": [
    "from tkinter import*\n",
    "root=Tk()\n",
    "root.title(\"shani created this window..\")\n",
    "root.geometry(\"600x400\")\n",
    "class shani:\n",
    "    def __init__(self,master):\n",
    "        self.master=master\n",
    "        self.mybtn=Button(self.master,text=\"Click me\",command=self.clicker).pack()\n",
    "        self.mybtn=Button(frm.master,text=\"New window\",command=lambda:self.new_window(self.master)).pack()\n",
    "        \n",
    "    def clicker(self):\n",
    "        print(\"you clicked the button\")\n",
    "        \n",
    "    def new_window(self,win):\n",
    "        win.destroy()\n",
    "        \n",
    "        \n",
    "        \n",
    "                   \n",
    "e=shani(root)\n",
    "root.mainloop()"
   ]
  },
  {
   "cell_type": "code",
   "execution_count": null,
   "metadata": {},
   "outputs": [],
   "source": []
  }
 ],
 "metadata": {
  "kernelspec": {
   "display_name": "Python 3",
   "language": "python",
   "name": "python3"
  },
  "language_info": {
   "codemirror_mode": {
    "name": "ipython",
    "version": 3
   },
   "file_extension": ".py",
   "mimetype": "text/x-python",
   "name": "python",
   "nbconvert_exporter": "python",
   "pygments_lexer": "ipython3",
   "version": "3.6.5"
  }
 },
 "nbformat": 4,
 "nbformat_minor": 2
}
