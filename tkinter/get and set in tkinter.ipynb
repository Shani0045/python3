{
 "cells": [
  {
   "cell_type": "code",
   "execution_count": 5,
   "metadata": {},
   "outputs": [],
   "source": [
    "from tkinter import*\n",
    "root=Tk()\n",
    "root.geometry(\"700x400\")\n",
    "\n",
    "var=StringVar()\n",
    "def set_txt():\n",
    "    v=var.get()\n",
    "    l.configure(text=v)\n",
    "e=Entry(root,textvariable=var,font=(\"arial\",12)).pack()\n",
    "l=Label(root)\n",
    "l.pack()\n",
    "btn=Button(root,text=\"Set\",font=(\"ariel\",10),command=set_txt).pack()\n",
    "root.mainloop()"
   ]
  },
  {
   "cell_type": "code",
   "execution_count": 10,
   "metadata": {},
   "outputs": [],
   "source": [
    "from tkinter import*\n",
    "root=Tk()\n",
    "root.geometry(\"700x400\")\n",
    "\n",
    "var=StringVar()\n",
    "def set_txt():\n",
    "    v=var.get()\n",
    "    e.configure(bg=\"pink\",state='disable')\n",
    "    var.set(\"yes it worked\")\n",
    "    \n",
    "e=Entry(root,textvariable=var,font=(\"arial\",12))\n",
    "e.pack()\n",
    "btn=Button(root,text=\"Set\",font=(\"ariel\",10),command=set_txt).pack()\n",
    "root.mainloop()"
   ]
  },
  {
   "cell_type": "code",
   "execution_count": null,
   "metadata": {},
   "outputs": [],
   "source": []
  }
 ],
 "metadata": {
  "kernelspec": {
   "display_name": "Python 3",
   "language": "python",
   "name": "python3"
  },
  "language_info": {
   "codemirror_mode": {
    "name": "ipython",
    "version": 3
   },
   "file_extension": ".py",
   "mimetype": "text/x-python",
   "name": "python",
   "nbconvert_exporter": "python",
   "pygments_lexer": "ipython3",
   "version": "3.6.5"
  }
 },
 "nbformat": 4,
 "nbformat_minor": 2
}
