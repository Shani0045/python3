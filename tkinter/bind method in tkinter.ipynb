{
 "cells": [
  {
   "cell_type": "code",
   "execution_count": 15,
   "metadata": {},
   "outputs": [],
   "source": [
    "from tkinter import*\n",
    "root=Tk()\n",
    "def shani(event):\n",
    "    l=Label(root,text=\"hello shani,how are you?\")\n",
    "    l.pack()\n",
    "\n",
    "\n",
    "b=Button(root,text=\"click me\")\n",
    "#b.bind(event(btn name),action(fun))\n",
    "b.bind(\"<Button-3>\",shani) #3-right click work 1 for left click\n",
    "b.pack()\n",
    "root.mainloop()"
   ]
  },
  {
   "cell_type": "code",
   "execution_count": 17,
   "metadata": {},
   "outputs": [],
   "source": [
    "from tkinter import*\n",
    "root=Tk()\n",
    "def shani(event):\n",
    "    l=Label(root,text=\"hello shani,how are you?\")\n",
    "    l.pack()\n",
    "\n",
    "\n",
    "b=Button(root,text=\"click me\")\n",
    "#b.bind(event,action(fun))\n",
    "b.bind(\"<Enter>\",shani) #jaise hi mouse btn pe jayega click ho jayega\n",
    "b.pack()\n",
    "root.mainloop()"
   ]
  },
  {
   "cell_type": "code",
   "execution_count": 20,
   "metadata": {},
   "outputs": [],
   "source": [
    "from tkinter import*\n",
    "root=Tk()\n",
    "def shani(event):\n",
    "    l=Label(root,text=\"hello shani,how are you?\")\n",
    "    l.pack()\n",
    "\n",
    "\n",
    "b=Button(root,text=\"click me\")\n",
    "#b.bind(event,action(fun))\n",
    "b.bind(\"<Return>\",shani)# click enter key first click tab\n",
    "b.pack()\n",
    "root.mainloop()"
   ]
  },
  {
   "cell_type": "code",
   "execution_count": 22,
   "metadata": {},
   "outputs": [],
   "source": [
    "from tkinter import*\n",
    "root=Tk()\n",
    "def shani(event):\n",
    "    l=Label(root,text=\"hello shani,how are you?\")\n",
    "    l.pack()\n",
    "\n",
    "\n",
    "b=Button(root,text=\"click me\")\n",
    "#b.bind(event,action(fun))\n",
    "b.bind(\"<Key>\",shani)  #koi v key click karoge work karga first click tab\n",
    "b.pack()\n",
    "root.mainloop()"
   ]
  },
  {
   "cell_type": "code",
   "execution_count": 27,
   "metadata": {},
   "outputs": [],
   "source": [
    "from tkinter import*\n",
    "root=Tk()\n",
    "\n",
    "def ajay():\n",
    "    print(\"hello bhai\")\n",
    "root.bind(\"<Return>\",shani) # click enter key\n",
    "\n",
    "b=Button(root,text=\"click me\",command=ajay)\n",
    "b.pack()\n",
    "root.mainloop()"
   ]
  },
  {
   "cell_type": "code",
   "execution_count": 29,
   "metadata": {},
   "outputs": [],
   "source": [
    "from tkinter import*\n",
    "root=Tk()\n",
    "\n",
    "def ajay():\n",
    "    print(\"hello bhai\")\n",
    "root.bind(\"<Button-1>\",shani) # click enter key\n",
    "\n",
    "b=Button(root,text=\"click me\",command=ajay)\n",
    "b.pack()\n",
    "root.mainloop()"
   ]
  },
  {
   "cell_type": "code",
   "execution_count": 36,
   "metadata": {},
   "outputs": [],
   "source": [
    "from tkinter import*\n",
    "root=Tk()\n",
    "def shani(event):\n",
    "    l=Label(root,text=\"hello shani,how are you?\")\n",
    "    l.pack()\n",
    "root.bind(\"<Leave>\",shani)\n",
    "\n",
    "b=Button(root,text=\"click me\")\n",
    "b.pack()\n",
    "#b.bind(event,action(fun))\n",
    "root.mainloop()"
   ]
  },
  {
   "cell_type": "code",
   "execution_count": 38,
   "metadata": {},
   "outputs": [],
   "source": [
    "from tkinter import*\n",
    "root=Tk()\n",
    "def shani(event):\n",
    "    l=Label(root,text=\"hello shani,how are you?\")\n",
    "    l.pack()\n",
    "root.bind(\"<Double-1>\",shani) # double click\n",
    "\n",
    "b=Button(root,text=\"click me\")\n",
    "b.pack()\n",
    "#b.bind(event,action(fun))\n",
    "root.mainloop()"
   ]
  },
  {
   "cell_type": "markdown",
   "metadata": {},
   "source": [
    "# with lambda"
   ]
  },
  {
   "cell_type": "code",
   "execution_count": null,
   "metadata": {},
   "outputs": [],
   "source": [
    "from tkinter import*\n",
    "root=Tk()\n",
    "def shani(event):\n",
    "    key=event.char\n",
    "    print(key)\n",
    "root.bind(\"<Double-1>\",lambda a:shani(a)) # double click\n",
    "\n",
    "b=Button(root,text=\"click me\")\n",
    "b.pack()\n",
    "#b.bind(event,action(fun))\n",
    "root.mainloop()"
   ]
  },
  {
   "cell_type": "code",
   "execution_count": null,
   "metadata": {},
   "outputs": [],
   "source": []
  }
 ],
 "metadata": {
  "kernelspec": {
   "display_name": "Python 3",
   "language": "python",
   "name": "python3"
  },
  "language_info": {
   "codemirror_mode": {
    "name": "ipython",
    "version": 3
   },
   "file_extension": ".py",
   "mimetype": "text/x-python",
   "name": "python",
   "nbconvert_exporter": "python",
   "pygments_lexer": "ipython3",
   "version": "3.6.5"
  }
 },
 "nbformat": 4,
 "nbformat_minor": 2
}
