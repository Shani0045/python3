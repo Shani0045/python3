{
 "cells": [
  {
   "cell_type": "code",
   "execution_count": 1,
   "metadata": {},
   "outputs": [],
   "source": [
    "from tkinter import*\n",
    "from tkinter.filedialog import askopenfilename,askopenfile,asksaveasfilename"
   ]
  },
  {
   "cell_type": "code",
   "execution_count": 2,
   "metadata": {},
   "outputs": [
    {
     "name": "stdout",
     "output_type": "stream",
     "text": [
      "F:/Project/digit recognition/0.png\n"
     ]
    }
   ],
   "source": [
    "import re\n",
    "root=Tk()\n",
    "root.geometry(\"300x200\")\n",
    "def click():\n",
    "    import webbrowser\n",
    "    webbrowser.open(file1)\n",
    "def opp():\n",
    "    global file1\n",
    "    \n",
    "    \n",
    "#     file1=askopenfile(initialdir=\"/\",title=\"select file\",filetypes=((\"excel file\",\"*.xls\"),(\"all files\",\"*.*\")))\n",
    "    file1=askopenfilename()\n",
    "    varb.set(file1)\n",
    "    print(file1)\n",
    "\n",
    "    \n",
    "def save():\n",
    "    file=asksaveasfilename()\n",
    "    \n",
    "    \n",
    "    \n",
    "var=IntVar()\n",
    "varb=IntVar()\n",
    "\n",
    "btn=Button(root,text=\"open\",command=opp).pack()\n",
    "entry=Entry(root,textvariable=varb).pack()\n",
    "btn=Button(root,text=\"click\",command=click).pack()\n",
    "btn=Button(root,text=\"click\",command=save).pack()\n",
    "root.mainloop()"
   ]
  },
  {
   "cell_type": "code",
   "execution_count": null,
   "metadata": {},
   "outputs": [],
   "source": []
  }
 ],
 "metadata": {
  "kernelspec": {
   "display_name": "Python 3",
   "language": "python",
   "name": "python3"
  },
  "language_info": {
   "codemirror_mode": {
    "name": "ipython",
    "version": 3
   },
   "file_extension": ".py",
   "mimetype": "text/x-python",
   "name": "python",
   "nbconvert_exporter": "python",
   "pygments_lexer": "ipython3",
   "version": "3.6.5"
  }
 },
 "nbformat": 4,
 "nbformat_minor": 2
}
