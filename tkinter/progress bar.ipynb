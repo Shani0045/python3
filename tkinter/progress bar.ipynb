{
 "cells": [
  {
   "cell_type": "code",
   "execution_count": 1,
   "metadata": {},
   "outputs": [],
   "source": [
    "from tkinter import*\n",
    "from tkinter.ttk import*"
   ]
  },
  {
   "cell_type": "code",
   "execution_count": 16,
   "metadata": {},
   "outputs": [],
   "source": [
    "root=Tk()\n",
    "root.geometry(\"400x300\")\n",
    "\n",
    "def bar():\n",
    "    import time\n",
    "   \n",
    "    progress[\"value\"]=20\n",
    "    time.sleep(1)\n",
    "    root.update_idletasks()\n",
    "    time.sleep(1)\n",
    "    progress[\"value\"]=50\n",
    "    root.update_idletasks()\n",
    "    time.sleep(1)\n",
    "    progress[\"value\"]=80\n",
    "    root.update_idletasks()\n",
    "    time.sleep(1)\n",
    "    progress[\"value\"]=100\n",
    "    \n",
    "progress=Progressbar(root,orient=HORIZONTAL,length=200,mode=\"determinate\")\n",
    "progress.pack()\n",
    "\n",
    "btn=Button(root,text=\"click\",command=bar).pack()\n",
    "root.mainloop()"
   ]
  },
  {
   "cell_type": "code",
   "execution_count": 1,
   "metadata": {},
   "outputs": [
    {
     "name": "stderr",
     "output_type": "stream",
     "text": [
      "c:\\users\\hp\\appdata\\local\\programs\\python\\python36\\lib\\site-packages\\ipykernel_launcher.py:5: TqdmExperimentalWarning: GUI is experimental/alpha\n",
      "  \"\"\"\n"
     ]
    },
    {
     "name": "stdout",
     "output_type": "stream",
     "text": [
      "0\n"
     ]
    },
    {
     "data": {
      "text/plain": [
       "<Figure size 900x220 with 1 Axes>"
      ]
     },
     "metadata": {},
     "output_type": "display_data"
    },
    {
     "name": "stdout",
     "output_type": "stream",
     "text": [
      "1\n",
      "2\n",
      "3\n",
      "4\n",
      "5\n",
      "6\n",
      "7\n",
      "8\n",
      "9\n",
      "10\n"
     ]
    }
   ],
   "source": [
    "from tqdm import tqdm_notebook,tqdm_gui,\n",
    "import time\n",
    "import warnings\n",
    "\n",
    "for i in tqdm_gui(range(11)):\n",
    "    time.sleep(1)\n",
    "    print(i)\n",
    "    "
   ]
  },
  {
   "cell_type": "code",
   "execution_count": 39,
   "metadata": {},
   "outputs": [
    {
     "name": "stderr",
     "output_type": "stream",
     "text": [
      "Exception in Tkinter callback\n",
      "Traceback (most recent call last):\n",
      "  File \"c:\\users\\hp\\appdata\\local\\programs\\python\\python36\\lib\\tkinter\\__init__.py\", line 1702, in __call__\n",
      "    return self.func(*args)\n",
      "  File \"<ipython-input-39-14dc1317239c>\", line 6, in bar\n",
      "    for i in tqdm_notebook(range(10)):\n",
      "NameError: name 'tqdm_notebook' is not defined\n"
     ]
    }
   ],
   "source": [
    "root=Tk()\n",
    "root.geometry(\"400x300\")\n",
    "\n",
    "def bar():\n",
    "    import time\n",
    "    for i in tqdm_notebook(range(10)):\n",
    "        time.sleep(1)\n",
    "        l.config(text=i)\n",
    "l=Label(root)\n",
    "l.place(x=10,y=50)\n",
    "\n",
    "btn=Button(root,text=\"click\",command=bar).pack()\n",
    "root.mainloop()"
   ]
  },
  {
   "cell_type": "code",
   "execution_count": null,
   "metadata": {},
   "outputs": [],
   "source": [
    "root=Tk()\n",
    "root.geometry(\"400x300\")\n",
    "\n",
    "def bar():\n",
    "    import time\n",
    "    for i in tqdm_notebook(range(10)):\n",
    "        time.sleep(1)\n",
    "        l.config(text=i)\n",
    "l=Label(root)\n",
    "l.place(x=10,y=50)\n",
    "\n",
    "btn=Button(root,text=\"click\",command=bar).pack()\n",
    "root.mainloop()"
   ]
  },
  {
   "cell_type": "code",
   "execution_count": 4,
   "metadata": {},
   "outputs": [],
   "source": [
    "from tkinter import*\n",
    "from tkinter import ttk\n",
    "root=Tk()\n",
    "root.geometry(\"400x300\")\n",
    "\n",
    "def bar():\n",
    "    import time\n",
    "    for i in range(1,11):\n",
    "        progress[\"value\"]=10*i\n",
    "        time.sleep(1)\n",
    "        root.update_idletasks()\n",
    "        l.config(text=i,font=('ariel',15))\n",
    "l=Label(root)\n",
    "l.place(x=10,y=50)\n",
    "        \n",
    "progress=ttk.Progressbar(root,orient=HORIZONTAL,length=200,mode=\"determinate\")\n",
    "progress.pack()\n",
    "\n",
    "btn=Button(root,text=\"click\",command=bar).pack()\n",
    "root.mainloop()"
   ]
  },
  {
   "cell_type": "code",
   "execution_count": 34,
   "metadata": {},
   "outputs": [],
   "source": [
    "import timeit"
   ]
  },
  {
   "cell_type": "code",
   "execution_count": 33,
   "metadata": {},
   "outputs": [
    {
     "name": "stdout",
     "output_type": "stream",
     "text": [
      "Wall time: 0 ns\n"
     ]
    }
   ],
   "source": [
    "a=%time\n",
    "import pandas as pd"
   ]
  },
  {
   "cell_type": "code",
   "execution_count": 31,
   "metadata": {},
   "outputs": [
    {
     "name": "stdout",
     "output_type": "stream",
     "text": [
      "None\n"
     ]
    }
   ],
   "source": [
    "for i in range(10000):\n",
    "    "
   ]
  },
  {
   "cell_type": "code",
   "execution_count": 25,
   "metadata": {},
   "outputs": [
    {
     "data": {
      "text/plain": [
       "1592581713.4583585"
      ]
     },
     "execution_count": 25,
     "metadata": {},
     "output_type": "execute_result"
    }
   ],
   "source": [
    "time.time()"
   ]
  },
  {
   "cell_type": "code",
   "execution_count": null,
   "metadata": {},
   "outputs": [],
   "source": []
  }
 ],
 "metadata": {
  "kernelspec": {
   "display_name": "Python 3",
   "language": "python",
   "name": "python3"
  },
  "language_info": {
   "codemirror_mode": {
    "name": "ipython",
    "version": 3
   },
   "file_extension": ".py",
   "mimetype": "text/x-python",
   "name": "python",
   "nbconvert_exporter": "python",
   "pygments_lexer": "ipython3",
   "version": "3.6.5"
  }
 },
 "nbformat": 4,
 "nbformat_minor": 2
}
