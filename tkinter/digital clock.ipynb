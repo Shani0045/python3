{
 "cells": [
  {
   "cell_type": "code",
   "execution_count": 8,
   "metadata": {},
   "outputs": [],
   "source": [
    "from tkinter import*\n",
    "import time\n",
    "\n",
    "root=Tk()\n",
    "root.geometry(\"500x200\")\n",
    "def times():\n",
    "    current_time=time.strftime(\"%H:%M:%S\")\n",
    "    l.config(text=current_time)\n",
    "    l.after(200,times)\n",
    "\n",
    "l=Label(root,font=(\"times\",50),bg=\"white\")\n",
    "l.grid(row=2,column=2,padx=100,pady=25)\n",
    "\n",
    "times()\n",
    "l1=Label(root,text=\"digital clock\",font=(\"times\",24,\"bold\"))\n",
    "l1.grid(row=0,column=2)\n",
    "\n",
    "root.mainloop()"
   ]
  },
  {
   "cell_type": "code",
   "execution_count": null,
   "metadata": {},
   "outputs": [],
   "source": []
  }
 ],
 "metadata": {
  "kernelspec": {
   "display_name": "Python 3",
   "language": "python",
   "name": "python3"
  },
  "language_info": {
   "codemirror_mode": {
    "name": "ipython",
    "version": 3
   },
   "file_extension": ".py",
   "mimetype": "text/x-python",
   "name": "python",
   "nbconvert_exporter": "python",
   "pygments_lexer": "ipython3",
   "version": "3.6.5"
  }
 },
 "nbformat": 4,
 "nbformat_minor": 2
}
