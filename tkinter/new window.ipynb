{
 "cells": [
  {
   "cell_type": "code",
   "execution_count": 10,
   "metadata": {},
   "outputs": [
    {
     "name": "stdout",
     "output_type": "stream",
     "text": [
      "music 0 video 1\n"
     ]
    }
   ],
   "source": [
    "from tkinter import*\n",
    "import tkinter as tk\n",
    "from tkinter import ttk\n",
    "root=Tk()\n",
    "root.geometry(\"200x200\")\n",
    "\n",
    "def click():\n",
    "    print(\"music\",var.get(),\"video\",var2.get())\n",
    "    \n",
    "    win1=tk.Toplevel()\n",
    "    win1.geometry(\"200x200\")\n",
    "\n",
    "    l=Label(win1,text=\"shani\")\n",
    "    l.pack()\n",
    "    \n",
    "\n",
    "var=IntVar()\n",
    "var2=IntVar()\n",
    "check=Checkbutton(root,text=\"music\",variable=var).pack()\n",
    "ckeck2=Checkbutton(root,text=\"video\",variable=var2).pack()\n",
    "btn=ttk.Button(root,text=\"click\",command=click).pack()\n",
    "\n",
    "root.mainloop()"
   ]
  },
  {
   "cell_type": "code",
   "execution_count": 12,
   "metadata": {},
   "outputs": [
    {
     "name": "stdout",
     "output_type": "stream",
     "text": [
      "music 0 video 1\n",
      "music 1 video 1\n"
     ]
    }
   ],
   "source": [
    "from tkinter import*\n",
    "import tkinter as tk\n",
    "from tkinter import ttk\n",
    "root=Tk()\n",
    "root.geometry(\"200x200\")\n",
    "\n",
    "def click():\n",
    "    print(\"music\",var.get(),\"video\",var2.get())\n",
    "    \n",
    "    win1=tk.Toplevel()\n",
    "    win1.geometry(\"200x200\")\n",
    "    l=Label(win1,text=\"shani\")\n",
    "    l.pack()\n",
    "    \n",
    "    def a():\n",
    "        win2=tk.Toplevel()\n",
    "        win2.geometry(\"200x200\")\n",
    "\n",
    "    l=Label(win1,text=\"amit\")\n",
    "    l.pack()\n",
    "    btn1=Button(win1,text=\"button1\",command=a)\n",
    "   \n",
    "        \n",
    "\n",
    "var=IntVar()\n",
    "var2=IntVar()\n",
    "check=Checkbutton(root,text=\"music\",variable=var).pack()\n",
    "ckeck2=Checkbutton(root,text=\"video\",variable=var2).pack()\n",
    "btn=ttk.Button(root,text=\"click\",command=click).pack()\n",
    "\n",
    "root.mainloop()"
   ]
  },
  {
   "cell_type": "markdown",
   "metadata": {},
   "source": [
    "# Use it"
   ]
  },
  {
   "cell_type": "code",
   "execution_count": 13,
   "metadata": {},
   "outputs": [],
   "source": [
    "from tkinter import*\n",
    "root=Tk()\n",
    "root.geometry(\"700x400\")\n",
    "def scr():\n",
    "    lbl=Label(root,text=\"welcome screen\",font=(\"ariel\",20)).pack()\n",
    "    btn=Button(root,text=\"click me\",font=(\"ariel\",20),command=lambda:scr2()).pack()\n",
    "    \n",
    "def scr2():\n",
    "    root=Tk()\n",
    "    root.geometry(\"700x400\")\n",
    "    lbl=Label(root,text=\"welcome screen second\",font=(\"ariel\",20)).pack()\n",
    "    \n",
    "   \n",
    "scr()\n",
    "root.mainloop()"
   ]
  },
  {
   "cell_type": "code",
   "execution_count": 20,
   "metadata": {},
   "outputs": [],
   "source": [
    "from tkinter import*\n",
    "root=Tk()\n",
    "root.geometry(\"700x400\")\n",
    "def scr():\n",
    "    lbl=Label(root,text=\"welcome screen\",font=(\"ariel\",20)).pack()\n",
    "    btn=Button(root,text=\"click me\",font=(\"ariel\",20),command=lambda:scr2(root)).pack()\n",
    "    \n",
    "def scr2(frm):\n",
    "    frm.destroy()\n",
    "    root1=Tk()\n",
    "    root1.config(bg=\"pink\")\n",
    "    root1.geometry(\"700x400\")\n",
    "    lbl=Label(root1,text=\"welcome screen second\",font=(\"ariel\",20)).pack()\n",
    "      \n",
    "scr()\n",
    "root.mainloop()"
   ]
  },
  {
   "cell_type": "code",
   "execution_count": 5,
   "metadata": {},
   "outputs": [],
   "source": [
    "from tkinter import*\n",
    "def scr(pfrm=None):\n",
    "    root=Tk()\n",
    "    root.geometry(\"700x400\")\n",
    "    if pfrm!=None:\n",
    "        pfrm.destroy()\n",
    "    lbl=Label(root,text=\"welcome screen\",font=(\"ariel\",20)).pack()\n",
    "    btn=Button(root,text=\"click me\",font=(\"ariel\",20),command=lambda:scr2(root)).pack()\n",
    "    btn=Button(root,text=\"click me\",font=(\"ariel\",20),command=lambda:scr3(root)).pack()\n",
    "    \n",
    "def scr2(frm):\n",
    "    frm.destroy()\n",
    "    root1=Tk()\n",
    "    root1.config(bg=\"pink\")\n",
    "    root1.geometry(\"700x400\")\n",
    "    lbl=Label(root1,text=\"welcome screen second\",font=(\"ariel\",20)).pack()\n",
    "    btn=Button(root1,text=\"back\",font=(\"ariel\",12),command=lambda:scr(root1)).pack()\n",
    "    \n",
    "def scr3(frm):\n",
    "    frm.destroy()\n",
    "    root2=Tk()\n",
    "    root2.config(bg=\"blue\")\n",
    "    root2.geometry(\"700x400\")\n",
    "    lbl=Label(root2,text=\"welcome screen third\",font=(\"ariel\",20)).pack()\n",
    "    btn=Button(root2,text=\"click me\",font=(\"ariel\",12),command=lambda:scr(root2)).pack()\n",
    "\n",
    "      \n",
    "scr()\n",
    "root.mainloop()"
   ]
  },
  {
   "cell_type": "code",
   "execution_count": 5,
   "metadata": {},
   "outputs": [],
   "source": [
    "from tkinter import*\n",
    "def scr(pfrm=None):\n",
    "    if pfrm!=None:\n",
    "        pfrm.destroy()\n",
    "    root=Tk()\n",
    "    root.geometry(\"700x400\")\n",
    "    lbl=Label(root,text=\"welcome screen\",font=(\"ariel\",20)).pack()\n",
    "    btn=Button(root,text=\"click me\",font=(\"ariel\",20),command=lambda:scr2(root)).pack()\n",
    "    btn=Button(root,text=\"click me\",font=(\"ariel\",20),command=lambda:scr3(root)).pack()\n",
    "    root.mainloop()\n",
    "    \n",
    "def scr2(frm):\n",
    "    frm.destroy()\n",
    "    root1=Tk()\n",
    "    root1.config(bg=\"pink\")\n",
    "    root1.geometry(\"700x400\")\n",
    "    lbl=Label(root1,text=\"welcome screen second\",font=(\"ariel\",20)).pack()\n",
    "    btn=Button(root1,text=\"back\",font=(\"ariel\",12),command=lambda:scr(root1)).pack()\n",
    "    a=Entry(root1,font=(\"ariel\",10))\n",
    "    a.pack()\n",
    "    btn=Button(root1,text=\"Reset\",font=(\"ariel\",12),command=lambda:reset(a)).pack()\n",
    "    \n",
    "def scr3(frm):\n",
    "    frm.destroy()\n",
    "    root2=Tk()\n",
    "    root2.config(bg=\"blue\")\n",
    "    root2.geometry(\"700x400\")\n",
    "    lbl=Label(root2,text=\"welcome screen third\",font=(\"ariel\",20)).pack()\n",
    "    btn=Button(root2,text=\"click me\",font=(\"ariel\",12),command=lambda:scr(root2)).pack()\n",
    "\n",
    "def reset(x):\n",
    "    x.delete(0,END)\n",
    "      \n",
    "scr()"
   ]
  },
  {
   "cell_type": "code",
   "execution_count": null,
   "metadata": {},
   "outputs": [],
   "source": []
  }
 ],
 "metadata": {
  "kernelspec": {
   "display_name": "Python 3",
   "language": "python",
   "name": "python3"
  },
  "language_info": {
   "codemirror_mode": {
    "name": "ipython",
    "version": 3
   },
   "file_extension": ".py",
   "mimetype": "text/x-python",
   "name": "python",
   "nbconvert_exporter": "python",
   "pygments_lexer": "ipython3",
   "version": "3.6.5"
  }
 },
 "nbformat": 4,
 "nbformat_minor": 2
}
