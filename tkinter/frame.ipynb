{
 "cells": [
  {
   "cell_type": "code",
   "execution_count": 18,
   "metadata": {},
   "outputs": [],
   "source": [
    "from tkinter import ttk\n",
    "from tkinter import*"
   ]
  },
  {
   "cell_type": "code",
   "execution_count": 19,
   "metadata": {},
   "outputs": [],
   "source": [
    "root=Tk()\n",
    "root.geometry(\"400x400\")\n",
    "fr=Frame(root,bd=10,bg=\"green\",relief=RIDGE)\n",
    "fr.place(x=0,y=0,width=400,height=400)\n",
    "root.mainloop()\n"
   ]
  },
  {
   "cell_type": "code",
   "execution_count": null,
   "metadata": {},
   "outputs": [],
   "source": [
    "root=Tk()\n",
    "root.geometry(\"800x400\")\n",
    "fr=Frame(root,bd=10,bg=\"green\",relief=RIDGE)\n",
    "fr.place(x=0,y=0,width=400,height=400)\n",
    "\n",
    "fr=Frame(root,bd=10,bg=\"blue\",relief=RIDGE)\n",
    "fr.place(x=400,y=0,width=400,height=400)\n",
    "root.mainloop()\n"
   ]
  },
  {
   "cell_type": "code",
   "execution_count": 17,
   "metadata": {},
   "outputs": [],
   "source": [
    "root=Tk()\n",
    "root.geometry(\"800x800\")\n",
    "fr1=Frame(root,bd=10,bg=\"green\",relief=RIDGE)\n",
    "fr1.place(x=0,y=0,width=400,height=400)\n",
    "\n",
    "l=Label(fr1,text=\"i am in frame 1\").pack()\n",
    "\n",
    "fr2=Frame(root,bd=10,bg=\"blue\",relief=RIDGE)\n",
    "fr2.place(x=400,y=0,width=400,height=400)\n",
    "\n",
    "l=Label(fr2,text=\"i am in frame 2\").pack()\n",
    "\n",
    "fr3=Frame(root,bd=10,bg=\"pink\",relief=RIDGE)\n",
    "fr3.place(x=0,y=400,width=400,height=400)\n",
    "\n",
    "l=Label(fr3,text=\"i am in frame 3\").pack()\n",
    "\n",
    "fr4=Frame(root,bd=10,bg=\"tomato\",relief=RIDGE)\n",
    "fr4.place(x=400,y=400,width=400,height=400)\n",
    "\n",
    "l=Label(fr4,text=\"i am in frame 4\").pack()\n",
    "\n",
    "root.mainloop()"
   ]
  },
  {
   "cell_type": "code",
   "execution_count": null,
   "metadata": {},
   "outputs": [],
   "source": []
  }
 ],
 "metadata": {
  "kernelspec": {
   "display_name": "Python 3",
   "language": "python",
   "name": "python3"
  },
  "language_info": {
   "codemirror_mode": {
    "name": "ipython",
    "version": 3
   },
   "file_extension": ".py",
   "mimetype": "text/x-python",
   "name": "python",
   "nbconvert_exporter": "python",
   "pygments_lexer": "ipython3",
   "version": "3.6.5"
  }
 },
 "nbformat": 4,
 "nbformat_minor": 2
}
