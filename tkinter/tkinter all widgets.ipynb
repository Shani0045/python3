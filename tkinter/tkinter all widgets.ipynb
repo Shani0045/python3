{
 "cells": [
  {
   "cell_type": "code",
   "execution_count": 1,
   "metadata": {},
   "outputs": [],
   "source": [
    "from tkinter import*\n",
    "from tkinter import ttk\n",
    "root=Tk()"
   ]
  },
  {
   "cell_type": "markdown",
   "metadata": {},
   "source": [
    "# Check button"
   ]
  },
  {
   "cell_type": "code",
   "execution_count": 7,
   "metadata": {},
   "outputs": [
    {
     "name": "stdout",
     "output_type": "stream",
     "text": [
      "music 0 video 0\n",
      "music 0 video 1\n",
      "music 1 video 1\n"
     ]
    }
   ],
   "source": [
    "root=Tk()\n",
    "def click():\n",
    "    print(\"music\",var.get(),\"video\",var2.get())\n",
    "\n",
    "var=IntVar()\n",
    "var2=IntVar()\n",
    "check=Checkbutton(root,text=\"music\",variable=var).pack()\n",
    "ckeck2=Checkbutton(root,text=\"video\",variable=var2).pack()\n",
    "btn=ttk.Button(root,text=\"click\",command=click).pack()\n",
    "root.mainloop()"
   ]
  },
  {
   "cell_type": "code",
   "execution_count": 24,
   "metadata": {},
   "outputs": [],
   "source": [
    "root=Tk()\n",
    "def click():\n",
    "    v,v=var.get(),var2.get()\n",
    "    varb.set(v)\n",
    "    \n",
    "\n",
    "var=IntVar()\n",
    "var2=IntVar()\n",
    "varb=IntVar()\n",
    "check=Checkbutton(root,text=\"music\",variable=var2).pack()\n",
    "ckeck2=Checkbutton(root,text=\"video\",variable=var).pack()\n",
    "entry=Entry(root,textvariable=varb).pack()\n",
    "btn=ttk.Button(root,text=\"click\",command=click).pack()\n",
    "root.mainloop()"
   ]
  },
  {
   "cell_type": "code",
   "execution_count": null,
   "metadata": {},
   "outputs": [],
   "source": []
  },
  {
   "cell_type": "markdown",
   "metadata": {},
   "source": [
    "# Radio button"
   ]
  },
  {
   "cell_type": "code",
   "execution_count": null,
   "metadata": {},
   "outputs": [],
   "source": []
  },
  {
   "cell_type": "code",
   "execution_count": 18,
   "metadata": {},
   "outputs": [
    {
     "name": "stdout",
     "output_type": "stream",
     "text": [
      "music 0 video 2\n"
     ]
    }
   ],
   "source": [
    "root=Tk()\n",
    "def click():\n",
    "    print(\"music\",var.get(),\"video\",var2.get())\n",
    "    \n",
    "    \n",
    "\n",
    "var=IntVar()\n",
    "var2=IntVar()\n",
    "varb=IntVar()\n",
    "check=Radiobutton(root,text=\"music\",variable=var,value=1).pack()\n",
    "ckeck2=Radiobutton(root,text=\"video\",variable=var2,value=2).pack()\n",
    "entry=Entry(root,textvariable=varb).pack()\n",
    "btn=ttk.Button(root,text=\"click\",command=click).pack()\n",
    "root.mainloop()"
   ]
  },
  {
   "cell_type": "code",
   "execution_count": 23,
   "metadata": {},
   "outputs": [],
   "source": [
    "root=Tk()\n",
    "def click():\n",
    "    v,v=var.get(),var2.get()\n",
    "    varb.set(v)\n",
    "    \n",
    "\n",
    "var=IntVar()\n",
    "var2=IntVar()\n",
    "varb=IntVar()\n",
    "check=Radiobutton(root,text=\"music\",variable=var,value=1).pack()\n",
    "ckeck2=Radiobutton(root,text=\"video\",variable=var2,value=2).pack()\n",
    "entry=Entry(root,textvariable=varb).pack()\n",
    "btn=ttk.Button(root,text=\"click\",command=click).pack()\n",
    "root.mainloop()"
   ]
  },
  {
   "cell_type": "markdown",
   "metadata": {},
   "source": [
    "# scale"
   ]
  },
  {
   "cell_type": "code",
   "execution_count": 31,
   "metadata": {},
   "outputs": [],
   "source": [
    "root=Tk()\n",
    "def click():\n",
    "    v=var.get()\n",
    "    varb.set(v)\n",
    "    \n",
    "\n",
    "var=IntVar()\n",
    "varb=IntVar()\n",
    "\n",
    "check=Scale(root,from_=1,to=10,variable=var).pack()\n",
    "\n",
    "entry=Entry(root,textvariable=varb).pack()\n",
    "btn=ttk.Button(root,text=\"click\",command=click).pack()\n",
    "root.mainloop()"
   ]
  },
  {
   "cell_type": "code",
   "execution_count": 32,
   "metadata": {},
   "outputs": [],
   "source": [
    "root=Tk()\n",
    "def click():\n",
    "    v=var.get()\n",
    "    varb.set(v)\n",
    "    \n",
    "\n",
    "var=IntVar()\n",
    "varb=IntVar()\n",
    "\n",
    "check=Scale(root,from_=1,to=10,variable=var,orient=\"horizontal\").pack()\n",
    "\n",
    "entry=Entry(root,textvariable=varb).pack()\n",
    "btn=ttk.Button(root,text=\"click\",command=click).pack()\n",
    "root.mainloop()"
   ]
  },
  {
   "cell_type": "markdown",
   "metadata": {},
   "source": [
    "# spinbox"
   ]
  },
  {
   "cell_type": "code",
   "execution_count": 38,
   "metadata": {},
   "outputs": [],
   "source": [
    "root=Tk()\n",
    "root.geometry(\"200x200\")\n",
    "def click():\n",
    "    v=var.get()\n",
    "    varb.set(v)\n",
    "    \n",
    "\n",
    "var=IntVar()\n",
    "varb=IntVar()\n",
    "\n",
    "check=Spinbox(root,from_=1,to=10,textvariable=var).pack()\n",
    "\n",
    "entry=Entry(root,textvariable=varb).pack()\n",
    "btn=ttk.Button(root,text=\"click\",command=click).pack()\n",
    "root.mainloop()"
   ]
  },
  {
   "cell_type": "markdown",
   "metadata": {},
   "source": [
    "# Message"
   ]
  },
  {
   "cell_type": "code",
   "execution_count": 40,
   "metadata": {},
   "outputs": [],
   "source": [
    "root=Tk()\n",
    "root.geometry(\"200x200\")\n",
    "def click():\n",
    "    v=var.get()\n",
    "    varb.set(v)\n",
    "    \n",
    "\n",
    "var=IntVar()\n",
    "varb=IntVar()\n",
    "\n",
    "check=Spinbox(root,from_=1,to=10,textvariable=var).pack()\n",
    "\n",
    "entry=Message(root,textvariable=varb,bg=\"white\").pack()\n",
    "btn=ttk.Button(root,text=\"click\",command=click).pack()\n",
    "root.mainloop()"
   ]
  },
  {
   "cell_type": "markdown",
   "metadata": {},
   "source": [
    "# option menu or drop down list"
   ]
  },
  {
   "cell_type": "code",
   "execution_count": 11,
   "metadata": {},
   "outputs": [],
   "source": [
    "root=Tk()\n",
    "root.geometry(\"200x200\")\n",
    "\n",
    "def click():\n",
    "    va=v.get()\n",
    "    var.set(va)\n",
    "    \n",
    "    \n",
    "var=StringVar()\n",
    "v=StringVar()\n",
    "v.set(\"Select\")\n",
    "\n",
    "o=OptionMenu(root,v,'Select',\"msft\",\"googl\",\"aapl\")\n",
    "o.place(x=20,y=65)\n",
    "\n",
    "entry=Entry(root,textvariable=var,bg=\"white\").pack()\n",
    "\n",
    "btn=ttk.Button(root,text=\"click\",command=click).pack()\n",
    "root.mainloop()"
   ]
  },
  {
   "cell_type": "code",
   "execution_count": 12,
   "metadata": {},
   "outputs": [],
   "source": [
    "root=Tk()\n",
    "root.geometry(\"200x200\")\n",
    "\n",
    "def click():\n",
    "    va=v.get()\n",
    "    var.set(va)\n",
    "    \n",
    "    \n",
    "var=StringVar()\n",
    "v=StringVar()\n",
    "\n",
    "list1=[\"google\",\"aaple\",\"microsoft\"]\n",
    "\n",
    "v.set(\"Select\")\n",
    "\n",
    "o=OptionMenu(root,v, *list1)\n",
    "o.place(x=20,y=65)\n",
    "\n",
    "entry=Entry(root,textvariable=var,bg=\"white\").pack()\n",
    "\n",
    "btn=ttk.Button(root,text=\"click\",command=click).pack()\n",
    "root.mainloop()"
   ]
  },
  {
   "cell_type": "code",
   "execution_count": 13,
   "metadata": {},
   "outputs": [],
   "source": [
    "root=Tk()\n",
    "root.geometry(\"200x200\")\n",
    "\n",
    "def click():\n",
    "    va=v.get()\n",
    "    var.set(va)\n",
    "    \n",
    "    \n",
    "var=StringVar()\n",
    "v=StringVar()\n",
    "\n",
    "list1=[\"google\",\"aaple\",\"microsoft\"]\n",
    "\n",
    "v.set(list1[0])\n",
    "\n",
    "o=OptionMenu(root,v, *list1)\n",
    "o.place(x=20,y=65)\n",
    "\n",
    "entry=Entry(root,textvariable=var,bg=\"white\").pack()\n",
    "\n",
    "btn=ttk.Button(root,text=\"click\",command=click).pack()\n",
    "root.mainloop()"
   ]
  },
  {
   "cell_type": "markdown",
   "metadata": {},
   "source": [
    "# listbox"
   ]
  },
  {
   "cell_type": "code",
   "execution_count": 44,
   "metadata": {},
   "outputs": [],
   "source": [
    "root=Tk()\n",
    "# root.geometry(\"200x200\")\n",
    "\n",
    "def click():\n",
    "    va=listbox.get(ACTIVE)\n",
    "    var.set(va)\n",
    "    \n",
    "    \n",
    "var=StringVar()\n",
    "v=StringVar()\n",
    "\n",
    "listbox=Listbox(root)\n",
    "listbox.pack(side=LEFT,fill=BOTH)\n",
    "\n",
    "listbox.insert(1,\"python\")\n",
    "listbox.insert(2,\"java\")\n",
    "listbox.insert(3,\"c\")\n",
    "listbox.insert(4,\"c++\")\n",
    "listbox.insert(5,\"ruby\")\n",
    "listbox.insert(6,\".net\")\n",
    "\n",
    "\n",
    "\n",
    "entry=Entry(root,textvariable=var,bg=\"white\").pack()\n",
    "\n",
    "btn=ttk.Button(root,text=\"click\",command=click).pack()\n",
    "\n",
    "root.mainloop()"
   ]
  },
  {
   "cell_type": "markdown",
   "metadata": {},
   "source": [
    "# scrollbar"
   ]
  },
  {
   "cell_type": "code",
   "execution_count": 43,
   "metadata": {},
   "outputs": [],
   "source": [
    "root=Tk()\n",
    "# root.geometry(\"200x200\")\n",
    "\n",
    "def click():\n",
    "    va=listbox.get(ACTIVE)\n",
    "    var.set(va)\n",
    "    \n",
    "    \n",
    "var=StringVar()\n",
    "v=StringVar()\n",
    "\n",
    "listbox=Listbox(root)\n",
    "listbox.pack(side=LEFT,fill=BOTH)\n",
    "\n",
    "for i in range(100):\n",
    "    listbox.insert(END,i)\n",
    "\n",
    "o=Scrollbar(root)\n",
    "o.pack(side=RIGHT,fill=Y)\n",
    "\n",
    "\n",
    "# attach listbox to scrollbar\n",
    "\n",
    "listbox.config(yscrollcommand=o.set)\n",
    "\n",
    "o.config(command=listbox.yview)\n",
    "\n",
    "entry=Entry(root,textvariable=var,bg=\"white\").pack()\n",
    "\n",
    "btn=ttk.Button(root,text=\"click\",command=click).pack()\n",
    "\n",
    "root.mainloop()"
   ]
  },
  {
   "cell_type": "markdown",
   "metadata": {},
   "source": [
    "# combobox"
   ]
  },
  {
   "cell_type": "code",
   "execution_count": 65,
   "metadata": {},
   "outputs": [],
   "source": [
    "root=Tk()\n",
    "root.geometry(\"200x200\")\n",
    "\n",
    "def click():\n",
    "    va=v.get()\n",
    "    var.set(va)\n",
    "    \n",
    "    \n",
    "var=StringVar()\n",
    "v=StringVar()\n",
    "\n",
    "combo=ttk.Combobox(root,textvariable=v,width=16,height=30)\n",
    "\n",
    "# adding combobox drop down list\n",
    "combo[\"values\"]=(\"shani\",\n",
    "                   \"pradeep\",\n",
    "                   \"amit\",\n",
    "                   \"rahul\")\n",
    "v.set(\"select\")\n",
    "combo.pack(side=LEFT,fill=BOTH)\n",
    "\n",
    "\n",
    "\n",
    "\n",
    "entry=Entry(root,textvariable=var,bg=\"white\").pack()\n",
    "\n",
    "btn=ttk.Button(root,text=\"click\",command=click).pack()\n",
    "\n",
    "root.mainloop()"
   ]
  },
  {
   "cell_type": "code",
   "execution_count": 67,
   "metadata": {},
   "outputs": [],
   "source": [
    "root=Tk()\n",
    "root.geometry(\"200x200\")\n",
    "\n",
    "def click():\n",
    "    va=v.get()\n",
    "    var.set(va)\n",
    "    \n",
    "    \n",
    "var=StringVar()\n",
    "v=StringVar()\n",
    "\n",
    "combo=ttk.Combobox(root,textvariable=v,width=16,value=(\"shani\",\"pradeep\",\"amit\",\"rahul\"))\n",
    "\n",
    "v.set(\"select\")\n",
    "combo.pack(side=LEFT,fill=BOTH)\n",
    "\n",
    "\n",
    "\n",
    "\n",
    "entry=Entry(root,textvariable=var,bg=\"white\").pack()\n",
    "\n",
    "btn=ttk.Button(root,text=\"click\",command=click).pack()\n",
    "\n",
    "root.mainloop()"
   ]
  },
  {
   "cell_type": "markdown",
   "metadata": {},
   "source": [
    "# Menu"
   ]
  },
  {
   "cell_type": "code",
   "execution_count": 77,
   "metadata": {},
   "outputs": [],
   "source": [
    "root=Tk()\n",
    "root.geometry(\"200x200\")\n",
    "\n",
    "def click():\n",
    "    va=v.get()\n",
    "    var.set(va)\n",
    "    \n",
    "    \n",
    "var=StringVar()\n",
    "v=StringVar()\n",
    "\n",
    "menub=Menu(root)\n",
    "\n",
    "# adding file menu and command\n",
    "file=Menu(menub,tearoff=0)\n",
    "\n",
    "menub.add_cascade(label=\"File\",menu=file)\n",
    "\n",
    "file.add_command(label=\"open\",command=None)\n",
    "file.add_command(label=\"save\",command=None)\n",
    "file.add_command(label=\"exit\",command=None)\n",
    "file.add_separator()\n",
    "file.add_command(label=\"Exit\",command=root.destroy)\n",
    "\n",
    "# adding Edit menu and command\n",
    "edit=Menu(menub,tearoff=0)\n",
    "\n",
    "menub.add_cascade(label=\"edit\",menu=edit)\n",
    "\n",
    "edit.add_command(label=\"cut\",command=None)\n",
    "edit.add_command(label=\"copy\",command=None)\n",
    "edit.add_command(label=\"past\",command=None)\n",
    "edit.add_separator()\n",
    "edit.add_command(label=\"find\",command=None)\n",
    "\n",
    "# adding help menu and command\n",
    "\n",
    "help_=Menu(menub,tearoff=0)\n",
    "\n",
    "menub.add_cascade(label=\"help\",menu=help_)\n",
    "\n",
    "help_.add_command(label=\"tk help\",command=None)\n",
    "help_.add_command(label=\"demo\",command=None)\n",
    "help_.add_command(label=\"about\",command=None)\n",
    "help_.add_separator()\n",
    "help_.add_command(label=\"find\",command=None)\n",
    "\n",
    "root.config(menu=menub)\n",
    "\n",
    "\n",
    "entry=Entry(root,textvariable=var,bg=\"white\").pack()\n",
    "\n",
    "btn=ttk.Button(root,text=\"click\",command=click).pack()\n",
    "\n",
    "root.mainloop()"
   ]
  },
  {
   "cell_type": "markdown",
   "metadata": {},
   "source": [
    "# menubutton"
   ]
  },
  {
   "cell_type": "code",
   "execution_count": 80,
   "metadata": {},
   "outputs": [],
   "source": [
    "root=Tk()\n",
    "root.geometry(\"200x200\")\n",
    "\n",
    "def click():\n",
    "    va=v.get()\n",
    "    var.set(va)\n",
    "    \n",
    "    \n",
    "var=StringVar()\n",
    "v=StringVar()\n",
    "\n",
    "menubtn=Menubutton(root,text=\"shani\")\n",
    "menubtn.pack()\n",
    "\n",
    "menubtn.menu=Menu(menubtn,tearoff=0)\n",
    "\n",
    "\n",
    "\n",
    "\n",
    "entry=Entry(root,textvariable=var,bg=\"white\").pack()\n",
    "\n",
    "btn=ttk.Button(root,text=\"click\",command=click).pack()\n",
    "\n",
    "root.mainloop()"
   ]
  },
  {
   "cell_type": "code",
   "execution_count": null,
   "metadata": {},
   "outputs": [],
   "source": []
  }
 ],
 "metadata": {
  "kernelspec": {
   "display_name": "Python 3",
   "language": "python",
   "name": "python3"
  },
  "language_info": {
   "codemirror_mode": {
    "name": "ipython",
    "version": 3
   },
   "file_extension": ".py",
   "mimetype": "text/x-python",
   "name": "python",
   "nbconvert_exporter": "python",
   "pygments_lexer": "ipython3",
   "version": "3.6.5"
  }
 },
 "nbformat": 4,
 "nbformat_minor": 2
}
