{
 "cells": [
  {
   "cell_type": "code",
   "execution_count": 3,
   "metadata": {},
   "outputs": [],
   "source": [
    "from tkinter import*\n",
    "root=Tk()\n",
    "def click():\n",
    "    v=var.get()\n",
    "    varb.set(v)\n",
    "    \n",
    "\n",
    "var=IntVar()\n",
    "varb=IntVar()\n",
    "\n",
    "check=Scale(root,from_=1,to=10,variable=var,orient=\"horizontal\").pack()\n",
    "\n",
    "entry=Entry(root,textvariable=varb).pack()\n",
    "btn=Button(root,text=\"click\",command=lambda:click()).pack()\n",
    "\n",
    "root.mainloop()"
   ]
  },
  {
   "cell_type": "code",
   "execution_count": 2,
   "metadata": {},
   "outputs": [],
   "source": [
    "from tkinter import*\n",
    "root=Tk()\n",
    "def click(no):\n",
    "    v=var.get()\n",
    "    a=no+v\n",
    "    varb.set(a)\n",
    "    \n",
    "\n",
    "var=IntVar()\n",
    "varb=IntVar()\n",
    "\n",
    "check=Scale(root,from_=1,to=10,variable=var,orient=\"horizontal\").pack()\n",
    "\n",
    "entry=Entry(root,textvariable=varb).pack()\n",
    "btn=Button(root,text=\"click\",command=lambda:click(6)).pack()\n",
    "\n",
    "root.mainloop()"
   ]
  }
 ],
 "metadata": {
  "kernelspec": {
   "display_name": "Python 3",
   "language": "python",
   "name": "python3"
  },
  "language_info": {
   "codemirror_mode": {
    "name": "ipython",
    "version": 3
   },
   "file_extension": ".py",
   "mimetype": "text/x-python",
   "name": "python",
   "nbconvert_exporter": "python",
   "pygments_lexer": "ipython3",
   "version": "3.6.5"
  }
 },
 "nbformat": 4,
 "nbformat_minor": 2
}
