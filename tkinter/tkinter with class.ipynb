{
 "cells": [
  {
   "cell_type": "code",
   "execution_count": 19,
   "metadata": {},
   "outputs": [],
   "source": [
    "from tkinter import Tk\n",
    "from tkinter import* \n",
    "class exp(Tk):\n",
    "    def __init__(self):\n",
    "        super().__init__()\n",
    "        self.geometry(\"600x400\")\n",
    "        l=Label(self,text=\"shani kumar\")\n",
    "        l.pack()\n",
    "        btn=Button(self,text=\"click me\",command=lambda:self.click()).pack()\n",
    "        btn=Button(self,text=\"clear\",command=lambda:self.clear()).pack()\n",
    "        btn=Button(self,text=\"new window\",command=lambda:self.window()).pack()\n",
    "    def click(self):\n",
    "        self.l=Label(self,text=\"shani bhai kaise ho!\")\n",
    "        self.l.place(x=100,y=100)\n",
    "    def clear(self):\n",
    "        self.l.config(text=\"\")\n",
    "        \n",
    "    def window(self):\n",
    "        self.geometry(\"600x500\")\n",
    "        l=Label(self,text=\"shani kumar\").pack()\n",
    "                      \n",
    "obj=exp()\n",
    "obj.mainloop()"
   ]
  },
  {
   "cell_type": "code",
   "execution_count": null,
   "metadata": {},
   "outputs": [],
   "source": [
    "from tkinter import Tk\n",
    "from tkinter import* \n",
    "class exp(Tk):\n",
    "    def __init__(self):\n",
    "        super().__init__()\n",
    "        self.main()\n",
    "    def main(self,p=None):\n",
    "        if p!=None:\n",
    "            p.destroy()\n",
    "        self.geometry(\"600x400\")\n",
    "        self.F=Frame()\n",
    "        self.F.pack()\n",
    "        l=Label(self.F,text=\"shani kumar\")\n",
    "        l.pack()\n",
    "        btn=Button(self.F,text=\"click me\",command=lambda:self.click()).pack()\n",
    "        btn=Button(self.F,text=\"clear\",command=lambda:self.clear()).pack()\n",
    "        btn=Button(self.F,text=\"new window\",command=lambda:self.window(self.F)).pack()\n",
    "    def click(self):\n",
    "        self.l=Label(self.F,text=\"shani bhai kaise ho!\")\n",
    "        self.l.place(x=100,y=100)\n",
    "        print(\"hello shani\")\n",
    "    def clear(self):\n",
    "        self.l.config(text=\" \")\n",
    "        \n",
    "    def window(self,r):\n",
    "        r.destroy()\n",
    "        f2=Frame(self)\n",
    "        f2.pack()\n",
    "        l=Label(f2,text=\"shani kumar\").pack()\n",
    "        btn=Button(f2,text=\"back\",command=lambda:self.main(f2))\n",
    "        btn.pack()\n",
    "                          \n",
    "obj=exp()\n",
    "obj.mainloop()"
   ]
  },
  {
   "cell_type": "code",
   "execution_count": null,
   "metadata": {},
   "outputs": [],
   "source": []
  }
 ],
 "metadata": {
  "kernelspec": {
   "display_name": "Python 3",
   "language": "python",
   "name": "python3"
  },
  "language_info": {
   "codemirror_mode": {
    "name": "ipython",
    "version": 3
   },
   "file_extension": ".py",
   "mimetype": "text/x-python",
   "name": "python",
   "nbconvert_exporter": "python",
   "pygments_lexer": "ipython3",
   "version": "3.6.5"
  }
 },
 "nbformat": 4,
 "nbformat_minor": 2
}
