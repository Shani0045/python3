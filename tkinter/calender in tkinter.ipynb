{
 "cells": [
  {
   "cell_type": "code",
   "execution_count": 1,
   "metadata": {},
   "outputs": [],
   "source": [
    "from tkinter import*\n",
    "import calendar\n",
    "root=Tk()\n",
    "root.geometry(\"800x700\")\n",
    "def click():\n",
    "    a=x.get()\n",
    "    x.set(\"\")\n",
    "    b=calendar.calendar(a)\n",
    "    l1.config(text=b,bg=\"blue\")\n",
    "    \n",
    "l=Label(root,text=\"Calender\")\n",
    "l.pack()\n",
    "\n",
    "l=Label(root,text=\"Type the year\")\n",
    "l.pack()\n",
    "\n",
    "x=IntVar()\n",
    "e=Entry(root,textvariable=x)\n",
    "e.pack()\n",
    "\n",
    "btn=Button(root,text=\"click me\",command=click)\n",
    "btn.pack()\n",
    "\n",
    "l1=Label(root,font=(\"consolas 12 bold\"))\n",
    "l1.pack()\n",
    "\n",
    "root.mainloop()"
   ]
  },
  {
   "cell_type": "code",
   "execution_count": null,
   "metadata": {},
   "outputs": [],
   "source": []
  }
 ],
 "metadata": {
  "kernelspec": {
   "display_name": "Python 3",
   "language": "python",
   "name": "python3"
  },
  "language_info": {
   "codemirror_mode": {
    "name": "ipython",
    "version": 3
   },
   "file_extension": ".py",
   "mimetype": "text/x-python",
   "name": "python",
   "nbconvert_exporter": "python",
   "pygments_lexer": "ipython3",
   "version": "3.6.5"
  }
 },
 "nbformat": 4,
 "nbformat_minor": 2
}
