{
 "cells": [
  {
   "cell_type": "code",
   "execution_count": 1,
   "metadata": {},
   "outputs": [],
   "source": [
    "from math import sqrt  #cmath means complex math"
   ]
  },
  {
   "cell_type": "code",
   "execution_count": null,
   "metadata": {},
   "outputs": [],
   "source": [
    "def equation(a,b,c):\n",
    "    x1=(-b+sqrt(b**2-4*a*c))/2*a\n",
    "    x2=(-b-sqrt(b**2-4*a*c))/2*a\n",
    "    return x1,x2\n",
    "a1=float(input(\"enter the value of a : \"))\n",
    "b1=float(input(\"enter the value of b : \"))\n",
    "c1=float(input(\"enter the value of c : \"))\n",
    "#     a*x**2+b*x+c==0\n",
    "equation(a1,b1,c1)"
   ]
  },
  {
   "cell_type": "code",
   "execution_count": 37,
   "metadata": {
    "collapsed": true
   },
   "outputs": [
    {
     "name": "stdout",
     "output_type": "stream",
     "text": [
      "Help on built-in module cmath:\n",
      "\n",
      "NAME\n",
      "    cmath\n",
      "\n",
      "DESCRIPTION\n",
      "    This module is always available. It provides access to mathematical\n",
      "    functions for complex numbers.\n",
      "\n",
      "FUNCTIONS\n",
      "    acos(z, /)\n",
      "        Return the arc cosine of z.\n",
      "    \n",
      "    acosh(z, /)\n",
      "        Return the inverse hyperbolic cosine of z.\n",
      "    \n",
      "    asin(z, /)\n",
      "        Return the arc sine of z.\n",
      "    \n",
      "    asinh(z, /)\n",
      "        Return the inverse hyperbolic sine of z.\n",
      "    \n",
      "    atan(z, /)\n",
      "        Return the arc tangent of z.\n",
      "    \n",
      "    atanh(z, /)\n",
      "        Return the inverse hyperbolic tangent of z.\n",
      "    \n",
      "    cos(z, /)\n",
      "        Return the cosine of z.\n",
      "    \n",
      "    cosh(z, /)\n",
      "        Return the hyperbolic cosine of z.\n",
      "    \n",
      "    exp(z, /)\n",
      "        Return the exponential value e**z.\n",
      "    \n",
      "    isclose(a, b, *, rel_tol=1e-09, abs_tol=0.0)\n",
      "        Determine whether two complex numbers are close in value.\n",
      "        \n",
      "          rel_tol\n",
      "            maximum difference for being considered \"close\", relative to the\n",
      "            magnitude of the input values\n",
      "          abs_tol\n",
      "            maximum difference for being considered \"close\", regardless of the\n",
      "            magnitude of the input values\n",
      "        \n",
      "        Return True if a is close in value to b, and False otherwise.\n",
      "        \n",
      "        For the values to be considered close, the difference between them must be\n",
      "        smaller than at least one of the tolerances.\n",
      "        \n",
      "        -inf, inf and NaN behave similarly to the IEEE 754 Standard. That is, NaN is\n",
      "        not close to anything, even itself. inf and -inf are only close to themselves.\n",
      "    \n",
      "    isfinite(z, /)\n",
      "        Return True if both the real and imaginary parts of z are finite, else False.\n",
      "    \n",
      "    isinf(z, /)\n",
      "        Checks if the real or imaginary part of z is infinite.\n",
      "    \n",
      "    isnan(z, /)\n",
      "        Checks if the real or imaginary part of z not a number (NaN).\n",
      "    \n",
      "    log(x, y_obj=None, /)\n",
      "        The logarithm of z to the given base.\n",
      "        \n",
      "        If the base not specified, returns the natural logarithm (base e) of z.\n",
      "    \n",
      "    log10(z, /)\n",
      "        Return the base-10 logarithm of z.\n",
      "    \n",
      "    phase(z, /)\n",
      "        Return argument, also known as the phase angle, of a complex.\n",
      "    \n",
      "    polar(z, /)\n",
      "        Convert a complex from rectangular coordinates to polar coordinates.\n",
      "        \n",
      "        r is the distance from 0 and phi the phase angle.\n",
      "    \n",
      "    rect(r, phi, /)\n",
      "        Convert from polar coordinates to rectangular coordinates.\n",
      "    \n",
      "    sin(z, /)\n",
      "        Return the sine of z.\n",
      "    \n",
      "    sinh(z, /)\n",
      "        Return the hyperbolic sine of z.\n",
      "    \n",
      "    sqrt(z, /)\n",
      "        Return the square root of z.\n",
      "    \n",
      "    tan(z, /)\n",
      "        Return the tangent of z.\n",
      "    \n",
      "    tanh(z, /)\n",
      "        Return the hyperbolic tangent of z.\n",
      "\n",
      "DATA\n",
      "    e = 2.718281828459045\n",
      "    inf = inf\n",
      "    infj = infj\n",
      "    nan = nan\n",
      "    nanj = nanj\n",
      "    pi = 3.141592653589793\n",
      "    tau = 6.283185307179586\n",
      "\n",
      "FILE\n",
      "    (built-in)\n",
      "\n",
      "\n"
     ]
    }
   ],
   "source": [
    "help(cmath)"
   ]
  },
  {
   "cell_type": "code",
   "execution_count": 33,
   "metadata": {},
   "outputs": [],
   "source": [
    "import cmath"
   ]
  },
  {
   "cell_type": "code",
   "execution_count": 34,
   "metadata": {},
   "outputs": [
    {
     "data": {
      "text/plain": [
       "(2+0j)"
      ]
     },
     "execution_count": 34,
     "metadata": {},
     "output_type": "execute_result"
    }
   ],
   "source": [
    "cmath.sqrt(4)"
   ]
  },
  {
   "cell_type": "code",
   "execution_count": 44,
   "metadata": {},
   "outputs": [],
   "source": [
    "import array"
   ]
  },
  {
   "cell_type": "code",
   "execution_count": 47,
   "metadata": {},
   "outputs": [
    {
     "ename": "NameError",
     "evalue": "name 'n' is not defined",
     "output_type": "error",
     "traceback": [
      "\u001b[1;31m---------------------------------------------------------------------------\u001b[0m",
      "\u001b[1;31mNameError\u001b[0m                                 Traceback (most recent call last)",
      "\u001b[1;32m<ipython-input-47-9c015e72fd74>\u001b[0m in \u001b[0;36m<module>\u001b[1;34m\u001b[0m\n\u001b[1;32m----> 1\u001b[1;33m \u001b[0ma\u001b[0m\u001b[1;33m%\u001b[0m\u001b[0mn\u001b[0m\u001b[1;33m==\u001b[0m\u001b[1;36m1\u001b[0m\u001b[1;33m\u001b[0m\u001b[0m\n\u001b[0m",
      "\u001b[1;31mNameError\u001b[0m: name 'n' is not defined"
     ]
    }
   ],
   "source": [
    "a%n==1"
   ]
  },
  {
   "cell_type": "code",
   "execution_count": null,
   "metadata": {},
   "outputs": [],
   "source": []
  }
 ],
 "metadata": {
  "kernelspec": {
   "display_name": "Python 3",
   "language": "python",
   "name": "python3"
  },
  "language_info": {
   "codemirror_mode": {
    "name": "ipython",
    "version": 3
   },
   "file_extension": ".py",
   "mimetype": "text/x-python",
   "name": "python",
   "nbconvert_exporter": "python",
   "pygments_lexer": "ipython3",
   "version": "3.6.5"
  }
 },
 "nbformat": 4,
 "nbformat_minor": 2
}
