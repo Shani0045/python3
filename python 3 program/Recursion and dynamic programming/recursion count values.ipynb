{
 "cells": [
  {
   "cell_type": "code",
   "execution_count": 58,
   "metadata": {},
   "outputs": [],
   "source": [
    "def count_alpha_digits(st,a=0,d=0):\n",
    "    if st==\"\":\n",
    "        return (a,d)\n",
    "    elif st[0].isdigit():\n",
    "        d+=1\n",
    "    elif st[0].isalpha():\n",
    "        a+=1\n",
    "    return count_alpha_digits(st[1:],a,d)\n",
    "        "
   ]
  },
  {
   "cell_type": "code",
   "execution_count": 59,
   "metadata": {},
   "outputs": [
    {
     "name": "stdout",
     "output_type": "stream",
     "text": [
      "total alphabets = 5 and total digits = 2\n"
     ]
    }
   ],
   "source": [
    "result=count_alpha_digits(\"sha3ni2\")\n",
    "print(f\"total alphabets = {result[0]} and total digits = {result[1]}\")"
   ]
  },
  {
   "cell_type": "code",
   "execution_count": 1,
   "metadata": {},
   "outputs": [],
   "source": [
    "def count_upper_lower(s,u=0,l=0):\n",
    "    if s==\"\":\n",
    "        return u,l\n",
    "    elif s[0].isupper():\n",
    "        u+=1\n",
    "    elif s[0].islower():\n",
    "        l+=1\n",
    "    return count_upper_lower(s[1:],u,l)"
   ]
  },
  {
   "cell_type": "code",
   "execution_count": 3,
   "metadata": {},
   "outputs": [
    {
     "name": "stdout",
     "output_type": "stream",
     "text": [
      "total uppercase 2\n",
      "total lowercase = 8\n"
     ]
    }
   ],
   "source": [
    "s=\"ShaniKumar\"\n",
    "result=count_upper_lower(s)\n",
    "print(f\"total uppercase {result[0]}\\ntotal lowercase = {result[1]}\")"
   ]
  },
  {
   "cell_type": "code",
   "execution_count": 62,
   "metadata": {},
   "outputs": [],
   "source": [
    "def length(st,l=0):\n",
    "    if st==\"\":\n",
    "        return l\n",
    "    else:\n",
    "        l+=1\n",
    "    return length(st[1:],l)"
   ]
  },
  {
   "cell_type": "code",
   "execution_count": 63,
   "metadata": {},
   "outputs": [
    {
     "data": {
      "text/plain": [
       "9"
      ]
     },
     "execution_count": 63,
     "metadata": {},
     "output_type": "execute_result"
    }
   ],
   "source": [
    "length(\"Shanibhai\")"
   ]
  },
  {
   "cell_type": "code",
   "execution_count": 11,
   "metadata": {},
   "outputs": [],
   "source": [
    "def count(list1,i=0,f=0):\n",
    "    if len(list1)==0:\n",
    "        return i,f\n",
    "    elif type(list1[0])==int:\n",
    "        i+=1\n",
    "    elif type(list1[0])==float:\n",
    "        f+=1\n",
    "    return count(list1[1:],i,f)"
   ]
  },
  {
   "cell_type": "code",
   "execution_count": 12,
   "metadata": {},
   "outputs": [
    {
     "name": "stdout",
     "output_type": "stream",
     "text": [
      "total integer value = 5\n",
      "total float value = 3\n"
     ]
    }
   ],
   "source": [
    "result=count([1,2,3,4.5,3.2,7,3,5.4])\n",
    "print(f\"total integer value = {result[0]}\\ntotal float value = {result[1]}\")"
   ]
  },
  {
   "cell_type": "code",
   "execution_count": 4,
   "metadata": {},
   "outputs": [],
   "source": [
    "def find_integer_float(list1,integer=[],float1=[]):\n",
    "    if len(list1)==0:\n",
    "        return integer,float1\n",
    "    elif type(list1[0])==int:\n",
    "        integer.append(list1[0])\n",
    "    elif type(list1[0])==float:\n",
    "        float1.append(list1[0])\n",
    "    return find_integer_float(list1[1:],integer,float1)"
   ]
  },
  {
   "cell_type": "code",
   "execution_count": 5,
   "metadata": {},
   "outputs": [],
   "source": [
    "a=find_integer_float([1,2,3,4.5,6.7])"
   ]
  },
  {
   "cell_type": "code",
   "execution_count": 6,
   "metadata": {},
   "outputs": [
    {
     "name": "stdout",
     "output_type": "stream",
     "text": [
      "integer list = [1, 2, 3]\n",
      "Float list = [4.5, 6.7]\n"
     ]
    }
   ],
   "source": [
    "print(f\"integer list = {a[0]}\\nFloat list = {a[1]}\")"
   ]
  },
  {
   "cell_type": "code",
   "execution_count": 7,
   "metadata": {},
   "outputs": [
    {
     "name": "stdout",
     "output_type": "stream",
     "text": [
      "integer list = [1, 2, 3, 1, 2, 3]\n",
      "Float list = [4.5, 6.7, 4.5, 6.7]\n"
     ]
    }
   ],
   "source": [
    "b=find_integer_float([1,2,3,4.5,6.7])\n",
    "print(f\"integer list = {b[0]}\\nFloat list = {b[1]}\")"
   ]
  },
  {
   "cell_type": "code",
   "execution_count": 8,
   "metadata": {},
   "outputs": [],
   "source": [
    "def vowel_consonant(s,v=0,c=0):\n",
    "    if s==\"\":\n",
    "        return v,c\n",
    "    elif s[0].lower() in [\"a\",\"e\",\"i\",\"o\",\"u\"]:\n",
    "        v+=1\n",
    "    else:\n",
    "        c+=1\n",
    "    return vowel_consonant(s[1:],v,c)"
   ]
  },
  {
   "cell_type": "code",
   "execution_count": 9,
   "metadata": {},
   "outputs": [],
   "source": [
    "d=vowel_consonant(\"education\")"
   ]
  },
  {
   "cell_type": "code",
   "execution_count": 10,
   "metadata": {},
   "outputs": [
    {
     "name": "stdout",
     "output_type": "stream",
     "text": [
      "total vowel = 5 and consonant = 4\n"
     ]
    }
   ],
   "source": [
    "print(f\"total vowel = {d[0]} and consonant = {d[1]}\")"
   ]
  }
 ],
 "metadata": {
  "kernelspec": {
   "display_name": "Python 3",
   "language": "python",
   "name": "python3"
  },
  "language_info": {
   "codemirror_mode": {
    "name": "ipython",
    "version": 3
   },
   "file_extension": ".py",
   "mimetype": "text/x-python",
   "name": "python",
   "nbconvert_exporter": "python",
   "pygments_lexer": "ipython3",
   "version": "3.6.5"
  }
 },
 "nbformat": 4,
 "nbformat_minor": 2
}
