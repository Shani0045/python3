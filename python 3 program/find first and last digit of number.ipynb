{
 "cells": [
  {
   "cell_type": "code",
   "execution_count": 1,
   "metadata": {},
   "outputs": [
    {
     "name": "stdout",
     "output_type": "stream",
     "text": [
      "Enter the digits... 1234\n",
      "first digit 1 and last digit 4\n"
     ]
    }
   ],
   "source": [
    "n=int(input(\"Enter the digits... \"))\n",
    "last=n%10\n",
    "while n>0:\n",
    "    first=n%10\n",
    "    n=n//10\n",
    "print(f\"first digit {first} and last digit {last}\")"
   ]
  },
  {
   "cell_type": "code",
   "execution_count": 3,
   "metadata": {},
   "outputs": [
    {
     "name": "stdout",
     "output_type": "stream",
     "text": [
      "enter the number = 9444744636\n",
      "9 6\n"
     ]
    }
   ],
   "source": [
    "n=int(input(\"enter the number = \"))\n",
    "last=n%10\n",
    "while(n>0):\n",
    "    d=n%10\n",
    "    n=n//10\n",
    "print(d,last)"
   ]
  },
  {
   "cell_type": "code",
   "execution_count": null,
   "metadata": {},
   "outputs": [],
   "source": []
  }
 ],
 "metadata": {
  "kernelspec": {
   "display_name": "Python 3",
   "language": "python",
   "name": "python3"
  },
  "language_info": {
   "codemirror_mode": {
    "name": "ipython",
    "version": 3
   },
   "file_extension": ".py",
   "mimetype": "text/x-python",
   "name": "python",
   "nbconvert_exporter": "python",
   "pygments_lexer": "ipython3",
   "version": "3.6.5"
  }
 },
 "nbformat": 4,
 "nbformat_minor": 2
}
