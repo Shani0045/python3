{
 "cells": [
  {
   "cell_type": "markdown",
   "metadata": {},
   "source": [
    "# check prime no"
   ]
  },
  {
   "cell_type": "markdown",
   "metadata": {},
   "source": [
    "## natural no 1,2,3..... all +ve no except 0 and -ve no\n"
   ]
  },
  {
   "cell_type": "markdown",
   "metadata": {},
   "source": [
    "## 1 is prime no"
   ]
  },
  {
   "cell_type": "markdown",
   "metadata": {},
   "source": [
    "## 1& itself devide is known as prime no"
   ]
  },
  {
   "cell_type": "markdown",
   "metadata": {},
   "source": [
    "## exaple=1,2,3,5,7,11,13,17,19..etc"
   ]
  },
  {
   "cell_type": "code",
   "execution_count": 10,
   "metadata": {},
   "outputs": [
    {
     "name": "stdout",
     "output_type": "stream",
     "text": [
      "enter the no 3\n",
      "3 is prime no\n"
     ]
    }
   ],
   "source": [
    "n=int(input(\"enter the no \"))\n",
    "if (n<2) and (n!=1):\n",
    "    print(f\"{n} is not prime no\")\n",
    "else:\n",
    "    for i in range(2,n):\n",
    "        if n%i==0:\n",
    "            print(f\"{n} is not prime no\")\n",
    "            break\n",
    "    else:\n",
    "        print(f\"{n} is prime no\")\n",
    "                 "
   ]
  },
  {
   "cell_type": "code",
   "execution_count": 7,
   "metadata": {},
   "outputs": [
    {
     "name": "stdout",
     "output_type": "stream",
     "text": [
      "enter number.. 4\n",
      "number is not prime number!\n"
     ]
    }
   ],
   "source": [
    "n=int(input(\"enter number.. \"))\n",
    "if (n<2) and (n!=1):\n",
    "    print(\"number is not prime!\")\n",
    "else:\n",
    "    for i in range(2,n):\n",
    "        if n%i==0:\n",
    "            print(\"number is not prime number!\")\n",
    "            break\n",
    "    else:\n",
    "        print(\"number is prime number!\")"
   ]
  },
  {
   "cell_type": "code",
   "execution_count": null,
   "metadata": {},
   "outputs": [],
   "source": []
  },
  {
   "cell_type": "markdown",
   "metadata": {},
   "source": [
    "# using while loop"
   ]
  },
  {
   "cell_type": "code",
   "execution_count": 19,
   "metadata": {},
   "outputs": [
    {
     "name": "stdout",
     "output_type": "stream",
     "text": [
      "Enter the Number for check... 2\n",
      "2 is prime number \n"
     ]
    }
   ],
   "source": [
    "n=int(input(\"Enter the Number for check... \"))\n",
    "if (n<2) and (n!=1):\n",
    "    print(\"Number is not prime number\")\n",
    "else:\n",
    "    j=2\n",
    "    while (n>j):\n",
    "        if n%j==0:\n",
    "            print(f\"{n} is not prime number\")\n",
    "            break\n",
    "        else:\n",
    "            j+=1      \n",
    "    else:\n",
    "        print(f\"{n} is prime number \")"
   ]
  },
  {
   "cell_type": "markdown",
   "metadata": {},
   "source": [
    "# factorial no "
   ]
  },
  {
   "cell_type": "code",
   "execution_count": 20,
   "metadata": {},
   "outputs": [
    {
     "name": "stdout",
     "output_type": "stream",
     "text": [
      "the factorial of 5 is = 120\n"
     ]
    }
   ],
   "source": [
    "def fact(f):\n",
    "    n=f\n",
    "    for i in range(1,n):\n",
    "        f=f*i\n",
    "    print(f\"the factorial of {n} is = {f}\")\n",
    "fact(5)"
   ]
  },
  {
   "cell_type": "markdown",
   "metadata": {},
   "source": [
    "# using while loop"
   ]
  },
  {
   "cell_type": "code",
   "execution_count": 56,
   "metadata": {},
   "outputs": [
    {
     "name": "stdout",
     "output_type": "stream",
     "text": [
      "the factorial of 6 is = 720\n"
     ]
    }
   ],
   "source": [
    "def fact(n):\n",
    "    f=n\n",
    "    i=1\n",
    "    while n>i: \n",
    "        f=f*i\n",
    "        i+=1\n",
    "    print(f\"the factorial of {n} is = {f}\")\n",
    "fact(6)"
   ]
  },
  {
   "cell_type": "markdown",
   "metadata": {},
   "source": [
    "# using recursion"
   ]
  },
  {
   "cell_type": "code",
   "execution_count": 1,
   "metadata": {},
   "outputs": [],
   "source": [
    "def fact(n):\n",
    "    if (n==1) or (n==0):\n",
    "        return 1\n",
    "    else:\n",
    "        return fact(n-1)*n"
   ]
  },
  {
   "cell_type": "code",
   "execution_count": 5,
   "metadata": {},
   "outputs": [
    {
     "data": {
      "text/plain": [
       "120"
      ]
     },
     "execution_count": 5,
     "metadata": {},
     "output_type": "execute_result"
    }
   ],
   "source": [
    "fact(5)"
   ]
  },
  {
   "cell_type": "code",
   "execution_count": null,
   "metadata": {},
   "outputs": [],
   "source": [
    "n=int(input(\"enter the number\"))\n",
    "if n<2 or n!=1:\n",
    "    print(\"no is not prime\")\n",
    "else:\n",
    "    for i in range(2,n):\n",
    "        if n%i==0:\n",
    "            print(\"not prime no\")\n",
    "            break\n",
    "        el"
   ]
  }
 ],
 "metadata": {
  "kernelspec": {
   "display_name": "Python 3",
   "language": "python",
   "name": "python3"
  },
  "language_info": {
   "codemirror_mode": {
    "name": "ipython",
    "version": 3
   },
   "file_extension": ".py",
   "mimetype": "text/x-python",
   "name": "python",
   "nbconvert_exporter": "python",
   "pygments_lexer": "ipython3",
   "version": "3.6.5"
  }
 },
 "nbformat": 4,
 "nbformat_minor": 2
}
