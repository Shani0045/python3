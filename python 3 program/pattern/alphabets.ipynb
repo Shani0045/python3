{
 "cells": [
  {
   "cell_type": "code",
   "execution_count": 4,
   "metadata": {},
   "outputs": [
    {
     "name": "stdout",
     "output_type": "stream",
     "text": [
      "*      *\n",
      "*      *\n",
      "*      *\n",
      "*      *\n",
      "*      *\n",
      "*      *\n",
      "*      *\n",
      "*      *\n",
      "*      *\n"
     ]
    }
   ],
   "source": [
    "for row in range(9):\n",
    "    for col in range(8):\n",
    "        if (col==0 or col==7):\n",
    "            print(\"*\",end=\"\")\n",
    "        else:\n",
    "            print(\" \",end=\"\")\n",
    "    print()"
   ]
  },
  {
   "cell_type": "code",
   "execution_count": 7,
   "metadata": {},
   "outputs": [
    {
     "name": "stdout",
     "output_type": "stream",
     "text": [
      "********\n",
      "        \n",
      "        \n",
      "        \n",
      "        \n",
      "        \n",
      "        \n",
      "        \n",
      "********\n"
     ]
    }
   ],
   "source": [
    "for row in range(9):\n",
    "    for col in range(8):\n",
    "        if (row==0 or row==8):\n",
    "            print(\"*\",end=\"\")\n",
    "        else:\n",
    "            print(\" \",end=\"\")\n",
    "    print()"
   ]
  },
  {
   "cell_type": "code",
   "execution_count": 11,
   "metadata": {},
   "outputs": [
    {
     "name": "stdout",
     "output_type": "stream",
     "text": [
      "        \n",
      "*      *\n",
      "*      *\n",
      "*      *\n",
      "*      *\n",
      "*      *\n",
      "*      *\n",
      "*      *\n",
      "*      *\n"
     ]
    }
   ],
   "source": [
    "for row in range(9):\n",
    "    for col in range(8):\n",
    "        if ((col==0 or col==7) and (row!=0)):\n",
    "            print(\"*\",end=\"\")\n",
    "        else:\n",
    "            print(\" \",end=\"\")\n",
    "    print()"
   ]
  },
  {
   "cell_type": "code",
   "execution_count": 25,
   "metadata": {},
   "outputs": [
    {
     "name": "stdout",
     "output_type": "stream",
     "text": [
      "********\n",
      "*      *\n",
      "*      *\n",
      "*      *\n",
      "********\n",
      "*      *\n",
      "*      *\n",
      "*      *\n",
      "*      *\n"
     ]
    }
   ],
   "source": [
    "for row in range(9):\n",
    "    for col in range(8):\n",
    "        if ((col==0 or col==7)) or ((row==0 or row==4)):\n",
    "            print(\"*\",end=\"\")\n",
    "        else:\n",
    "            print(\" \",end=\"\")\n",
    "    print()"
   ]
  },
  {
   "cell_type": "code",
   "execution_count": 9,
   "metadata": {},
   "outputs": [
    {
     "name": "stdout",
     "output_type": "stream",
     "text": [
      " ###### \n",
      "#      #\n",
      "#      #\n",
      "#      #\n",
      "########\n",
      "#      #\n",
      "#      #\n",
      "#      #\n",
      "#      #\n"
     ]
    }
   ],
   "source": [
    "for row in range(9):\n",
    "    for col in range(8):\n",
    "        if ((col==0 or col==7) and row!=0) or (row==0 or row==4) and (col>0 and col<7):\n",
    "            print(\"#\",end=\"\")\n",
    "        else:\n",
    "            print(\" \",end=\"\")\n",
    "    print()"
   ]
  },
  {
   "cell_type": "code",
   "execution_count": 7,
   "metadata": {},
   "outputs": [
    {
     "name": "stdout",
     "output_type": "stream",
     "text": [
      " ###### \n",
      " ###### \n",
      " ###### \n",
      " ###### \n",
      " ###### \n",
      " ###### \n",
      " ###### \n",
      " ###### \n",
      " ###### \n"
     ]
    }
   ],
   "source": [
    "for row in range(9):\n",
    "    for col in range(8):\n",
    "        if (col>0 and col<7):\n",
    "            print(\"#\",end=\"\")\n",
    "        else:\n",
    "            print(\" \",end=\"\")\n",
    "    print()"
   ]
  },
  {
   "cell_type": "code",
   "execution_count": 25,
   "metadata": {},
   "outputs": [
    {
     "name": "stdout",
     "output_type": "stream",
     "text": [
      "@@@@@@@ \n",
      "@      @\n",
      "@      @\n",
      "@      @\n",
      "@@@@@@@ \n",
      "@      @\n",
      "@      @\n",
      "@      @\n",
      "@@@@@@@ \n"
     ]
    }
   ],
   "source": [
    "for row in range(9):\n",
    "    for col in range(8):\n",
    "        if (col==0) or (col==7 and (row!=0 and row!=4 and row!=8)) or ((row==0 or row==4 or row==8) and (col>0 and col<7)):\n",
    "            print(\"@\",end=\"\")\n",
    "        else:\n",
    "            print(\" \",end=\"\")\n",
    "    print()"
   ]
  },
  {
   "cell_type": "code",
   "execution_count": 33,
   "metadata": {},
   "outputs": [
    {
     "name": "stdout",
     "output_type": "stream",
     "text": [
      "********\n",
      "*      *\n",
      "*      *\n",
      "*      *\n",
      "*      *\n",
      "*      *\n",
      "*      *\n",
      "*      *\n",
      "********\n"
     ]
    }
   ],
   "source": [
    "for row in range(9):\n",
    "    for col in range(8):\n",
    "        if ((col==0 or col==7) or (row==0 or row==8)):\n",
    "            print(\"*\",end=\"\")\n",
    "        else:\n",
    "            print(\" \",end=\"\")\n",
    "    print()"
   ]
  },
  {
   "cell_type": "code",
   "execution_count": 38,
   "metadata": {},
   "outputs": [
    {
     "name": "stdout",
     "output_type": "stream",
     "text": [
      "********\n",
      "*       \n",
      "*       \n",
      "*       \n",
      "********\n",
      "*       \n",
      "*       \n",
      "*       \n",
      "********\n"
     ]
    }
   ],
   "source": [
    "for row in range(9):\n",
    "    for col in range(8):\n",
    "        if (col==0) or (row==0 or row==4 or row==8):\n",
    "            print(\"*\",end=\"\")\n",
    "        else:\n",
    "            print(\" \",end=\"\")\n",
    "    print()"
   ]
  },
  {
   "cell_type": "code",
   "execution_count": 40,
   "metadata": {},
   "outputs": [
    {
     "name": "stdout",
     "output_type": "stream",
     "text": [
      "########\n",
      "#       \n",
      "#       \n",
      "#       \n",
      "########\n",
      "#       \n",
      "#       \n",
      "#       \n",
      "#       \n"
     ]
    }
   ],
   "source": [
    "for row in range(9):\n",
    "    for col in range(8):\n",
    "        if (col==0) or (row==0 or row==4):\n",
    "            print(\"#\",end=\"\")\n",
    "        else:\n",
    "            print(\" \",end=\"\")\n",
    "    print()"
   ]
  },
  {
   "cell_type": "code",
   "execution_count": 43,
   "metadata": {},
   "outputs": [
    {
     "name": "stdout",
     "output_type": "stream",
     "text": [
      "#      #\n",
      "#      #\n",
      "#      #\n",
      "#      #\n",
      "########\n",
      "#      #\n",
      "#      #\n",
      "#      #\n",
      "#      #\n"
     ]
    }
   ],
   "source": [
    "for row in range(9):\n",
    "    for col in range(8):\n",
    "        if (col==0 or col==7) or (row==4):\n",
    "            print(\"#\",end=\"\")\n",
    "        else:\n",
    "            print(\" \",end=\"\")\n",
    "    print()"
   ]
  },
  {
   "cell_type": "code",
   "execution_count": 71,
   "metadata": {},
   "outputs": [
    {
     "name": "stdout",
     "output_type": "stream",
     "text": [
      "########\n",
      "   #    \n",
      "   #    \n",
      "   #    \n",
      "   #    \n",
      "   #    \n",
      "   #    \n",
      "   #    \n",
      "########\n"
     ]
    }
   ],
   "source": [
    "for row in range(9):\n",
    "    for col in range(8):\n",
    "        if (row==0 or row==8  or col==3):\n",
    "            print(\"#\",end=\"\")\n",
    "        else:\n",
    "            print(\" \",end=\"\")\n",
    "    print()"
   ]
  },
  {
   "cell_type": "code",
   "execution_count": 70,
   "metadata": {},
   "outputs": [
    {
     "name": "stdout",
     "output_type": "stream",
     "text": [
      "#       \n",
      "#       \n",
      "#       \n",
      "#       \n",
      "#       \n",
      "#       \n",
      "#       \n",
      "#       \n",
      "########\n"
     ]
    }
   ],
   "source": [
    "for row in range(9):\n",
    "    for col in range(8):\n",
    "        if (col==0 or row==8):\n",
    "            print(\"#\",end=\"\")\n",
    "        else:\n",
    "            print(\" \",end=\"\")\n",
    "    print()"
   ]
  },
  {
   "cell_type": "code",
   "execution_count": 68,
   "metadata": {},
   "outputs": [
    {
     "name": "stdout",
     "output_type": "stream",
     "text": [
      "########\n",
      "#      #\n",
      "#      #\n",
      "#      #\n",
      "########\n",
      "#       \n",
      "#       \n",
      "#       \n",
      "#       \n"
     ]
    }
   ],
   "source": [
    "for row in range(9):\n",
    "    for col in range(8):\n",
    "        if (col==0) or (row==0 or row==4) or (col==7) and (row!=5 and row!=6 and row!=7 and row!=8):\n",
    "            print(\"#\",end=\"\")\n",
    "        else:\n",
    "            print(\" \",end=\"\")\n",
    "    print()"
   ]
  },
  {
   "cell_type": "code",
   "execution_count": 69,
   "metadata": {},
   "outputs": [
    {
     "name": "stdout",
     "output_type": "stream",
     "text": [
      "#       \n",
      "#       \n",
      "#       \n",
      "#       \n",
      "#       \n",
      "#       \n",
      "#       \n",
      "#       \n",
      "########\n"
     ]
    }
   ],
   "source": [
    "for row in range(9):\n",
    "    for col in range(8):\n",
    "        if (col==0 or row==8) or ():\n",
    "            print(\"#\",end=\"\")\n",
    "        else:\n",
    "            print(\" \",end=\"\")\n",
    "    print()"
   ]
  },
  {
   "cell_type": "code",
   "execution_count": null,
   "metadata": {},
   "outputs": [],
   "source": [
    "for row in range(9):\n",
    "    for col in range(8):\n",
    "        if (row==0 or col=):\n",
    "            print(\"#\",end=\"\")\n",
    "        else:\n",
    "            print(\" \",end=\"\")\n",
    "    print()"
   ]
  },
  {
   "cell_type": "code",
   "execution_count": 3,
   "metadata": {},
   "outputs": [
    {
     "name": "stdout",
     "output_type": "stream",
     "text": [
      "*      *\n",
      "**     *\n",
      "* *    *\n",
      "*  *   *\n",
      "*   *  *\n",
      "*    * *\n",
      "*     **\n",
      "*      *\n"
     ]
    }
   ],
   "source": [
    "for i in range(1,9):\n",
    "    for j in range(1,9):\n",
    "        if (j==1 or j==8) or (i==j):\n",
    "            print(\"*\",end=\"\")\n",
    "        else:\n",
    "            print(\" \",end=\"\")\n",
    "    print()"
   ]
  },
  {
   "cell_type": "code",
   "execution_count": 8,
   "metadata": {},
   "outputs": [
    {
     "name": "stdout",
     "output_type": "stream",
     "text": [
      "*      *\n",
      "*      *\n",
      "*      *\n",
      "*      *\n",
      "*      *\n",
      "*      *\n",
      "*      *\n",
      "*      *\n"
     ]
    }
   ],
   "source": [
    "for i in range(1,9):\n",
    "    for j in range(1,9):\n",
    "        if (j==1 or j==8) or ():\n",
    "            print(\"*\",end=\"\")\n",
    "        else:\n",
    "            print(\" \",end=\"\")\n",
    "    print()"
   ]
  },
  {
   "cell_type": "code",
   "execution_count": 19,
   "metadata": {},
   "outputs": [
    {
     "name": "stdout",
     "output_type": "stream",
     "text": [
      "*        \n",
      "**       \n",
      "***      \n",
      "****     \n",
      "*****    \n",
      "******   \n",
      "*******  \n",
      "******** \n",
      "*********\n"
     ]
    }
   ],
   "source": [
    "for i in range(1,10):\n",
    "    for j in range(1,10):\n",
    "        if (i>=j):\n",
    "            print(\"*\",end=\"\")\n",
    "        else:\n",
    "            print(\" \",end=\"\")\n",
    "    print()"
   ]
  },
  {
   "cell_type": "code",
   "execution_count": null,
   "metadata": {},
   "outputs": [],
   "source": []
  }
 ],
 "metadata": {
  "kernelspec": {
   "display_name": "Python 3",
   "language": "python",
   "name": "python3"
  },
  "language_info": {
   "codemirror_mode": {
    "name": "ipython",
    "version": 3
   },
   "file_extension": ".py",
   "mimetype": "text/x-python",
   "name": "python",
   "nbconvert_exporter": "python",
   "pygments_lexer": "ipython3",
   "version": "3.6.5"
  }
 },
 "nbformat": 4,
 "nbformat_minor": 2
}
