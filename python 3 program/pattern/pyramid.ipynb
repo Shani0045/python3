{
 "cells": [
  {
   "cell_type": "code",
   "execution_count": 4,
   "metadata": {},
   "outputs": [
    {
     "name": "stdout",
     "output_type": "stream",
     "text": [
      "      *\n",
      "     ***\n",
      "    *****\n",
      "   *******\n",
      "  *********\n",
      " ***********\n"
     ]
    }
   ],
   "source": [
    "inc=1\n",
    "for i in range(6,0,-1):\n",
    "    for j in range(i,0,-1):\n",
    "        print(\" \",end=\"\")\n",
    "    print(\"*\"*inc)\n",
    "    inc+=2"
   ]
  },
  {
   "cell_type": "code",
   "execution_count": 9,
   "metadata": {},
   "outputs": [
    {
     "name": "stdout",
     "output_type": "stream",
     "text": [
      "      1\n",
      "     222\n",
      "    33333\n",
      "   4444444\n",
      "  555555555\n",
      " 66666666666\n"
     ]
    }
   ],
   "source": [
    "inc=1\n",
    "num=1\n",
    "for i in range(6,0,-1):\n",
    "    for j in range(i,0,-1):\n",
    "        print(\" \",end=\"\")\n",
    "    print(str(num)*inc)\n",
    "    inc+=2\n",
    "    num+=1"
   ]
  },
  {
   "cell_type": "code",
   "execution_count": 15,
   "metadata": {},
   "outputs": [
    {
     "name": "stdout",
     "output_type": "stream",
     "text": [
      "      A\n",
      "     BBB\n",
      "    CCCCC\n",
      "   DDDDDDD\n",
      "  EEEEEEEEE\n",
      " FFFFFFFFFFF\n"
     ]
    }
   ],
   "source": [
    "inc=1\n",
    "chrt=65\n",
    "for i in range(6,0,-1):\n",
    "    for j in range(i,0,-1):\n",
    "        print(\" \",end=\"\")\n",
    "    print(chr(chrt)*inc)\n",
    "    inc+=2\n",
    "    chrt+=1"
   ]
  },
  {
   "cell_type": "code",
   "execution_count": 18,
   "metadata": {},
   "outputs": [
    {
     "name": "stdout",
     "output_type": "stream",
     "text": [
      " *******\n",
      "  *****\n",
      "   ***\n",
      "    *\n"
     ]
    }
   ],
   "source": [
    "decrt=7\n",
    "for i in range(4,0,-1):\n",
    "    for j in range(i,5):\n",
    "        print(\" \",end=\"\")\n",
    "    print(\"*\"*decrt)\n",
    "    decrt-=2"
   ]
  },
  {
   "cell_type": "code",
   "execution_count": 30,
   "metadata": {},
   "outputs": [
    {
     "name": "stdout",
     "output_type": "stream",
     "text": [
      "      *\n",
      "     ***\n",
      "    *****\n",
      "   *******\n",
      "  *********\n",
      " ***********\n",
      "  *********\n",
      "   *******\n",
      "    *****\n",
      "     ***\n",
      "      *\n",
      "       \n"
     ]
    }
   ],
   "source": [
    "inc=1\n",
    "for i in range(6,0,-1):\n",
    "    for j in range(i,0,-1):\n",
    "        print(\" \",end=\"\")\n",
    "    print(\"*\"*inc)\n",
    "    inc+=2\n",
    "decrt=9\n",
    "for i in range(6,0,-1):\n",
    "    for j in range(i-1,7):\n",
    "        print(\" \",end=\"\")\n",
    "    print(\"*\"*decrt)\n",
    "    decrt-=2"
   ]
  },
  {
   "cell_type": "code",
   "execution_count": null,
   "metadata": {},
   "outputs": [],
   "source": []
  }
 ],
 "metadata": {
  "kernelspec": {
   "display_name": "Python 3",
   "language": "python",
   "name": "python3"
  },
  "language_info": {
   "codemirror_mode": {
    "name": "ipython",
    "version": 3
   },
   "file_extension": ".py",
   "mimetype": "text/x-python",
   "name": "python",
   "nbconvert_exporter": "python",
   "pygments_lexer": "ipython3",
   "version": "3.6.5"
  }
 },
 "nbformat": 4,
 "nbformat_minor": 2
}
