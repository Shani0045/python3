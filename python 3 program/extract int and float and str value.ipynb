{
 "cells": [
  {
   "cell_type": "code",
   "execution_count": 13,
   "metadata": {},
   "outputs": [
    {
     "data": {
      "text/plain": [
       "False"
      ]
     },
     "execution_count": 13,
     "metadata": {},
     "output_type": "execute_result"
    }
   ],
   "source": [
    "type(2) == float"
   ]
  },
  {
   "cell_type": "code",
   "execution_count": 14,
   "metadata": {},
   "outputs": [
    {
     "data": {
      "text/plain": [
       "True"
      ]
     },
     "execution_count": 14,
     "metadata": {},
     "output_type": "execute_result"
    }
   ],
   "source": [
    "type(2) is int"
   ]
  },
  {
   "cell_type": "code",
   "execution_count": 15,
   "metadata": {},
   "outputs": [
    {
     "data": {
      "text/plain": [
       "True"
      ]
     },
     "execution_count": 15,
     "metadata": {},
     "output_type": "execute_result"
    }
   ],
   "source": [
    "type(2)==int"
   ]
  },
  {
   "cell_type": "code",
   "execution_count": 16,
   "metadata": {},
   "outputs": [
    {
     "data": {
      "text/plain": [
       "True"
      ]
     },
     "execution_count": 16,
     "metadata": {},
     "output_type": "execute_result"
    }
   ],
   "source": [
    "type(2.3) is float"
   ]
  },
  {
   "cell_type": "code",
   "execution_count": 17,
   "metadata": {},
   "outputs": [
    {
     "data": {
      "text/plain": [
       "True"
      ]
     },
     "execution_count": 17,
     "metadata": {},
     "output_type": "execute_result"
    }
   ],
   "source": [
    "type(\"shant\") is str"
   ]
  },
  {
   "cell_type": "code",
   "execution_count": 1,
   "metadata": {},
   "outputs": [],
   "source": [
    "a=[1,2,\"shani\",3.4,\"ajay\",4.7,4,2,5,8,\"vijay\",\"rana\",66,4.9]"
   ]
  },
  {
   "cell_type": "code",
   "execution_count": 18,
   "metadata": {},
   "outputs": [],
   "source": [
    "def extract(l):\n",
    "    int1=[]\n",
    "    float1=[]\n",
    "    str1=[]\n",
    "    for i in l:\n",
    "        if type(i) is int:\n",
    "            int1.append(i)\n",
    "        elif type(i) is float:\n",
    "            float1.append(i)\n",
    "        elif type(i) is str:\n",
    "            str1.append(i)\n",
    "    print(int1)\n",
    "    print(float1)\n",
    "    print(str1)"
   ]
  },
  {
   "cell_type": "code",
   "execution_count": 19,
   "metadata": {},
   "outputs": [
    {
     "name": "stdout",
     "output_type": "stream",
     "text": [
      "[1, 2, 4, 2, 5, 8, 66]\n",
      "[3.4, 4.7, 4.9]\n",
      "['shani', 'ajay', 'vijay', 'rana']\n"
     ]
    }
   ],
   "source": [
    "extract(a)"
   ]
  },
  {
   "cell_type": "code",
   "execution_count": 20,
   "metadata": {},
   "outputs": [],
   "source": [
    "import os"
   ]
  },
  {
   "cell_type": "code",
   "execution_count": 22,
   "metadata": {},
   "outputs": [
    {
     "name": "stdout",
     "output_type": "stream",
     "text": [
      "['armstrong number.ipynb', 'check how many even and odd num.ipynb', 'count digits.ipynb', 'equation.ipynb', 'extract int and float and str value.ipynb', 'fibonanci series.ipynb', 'filter function.ipynb', 'find first and last digit of number.ipynb', 'find power of given number.ipynb', 'function tricks.ipynb', 'function.ipynb', 'leap year.ipynb', 'loop counting program.ipynb', 'numpy and scipy.ipynb', 'palidrome number.ipynb', 'pattern.ipynb', 'perfect number.ipynb', 'program like prime no, factorial etc.ipynb', 'program.ipynb', 'python pattern.ipynb', 'Reverse and sum digits.ipynb', 'shani.ipynb', 'swap number.ipynb', 'tricks in python3.ipynb', 'Untitled.ipynb', 'working ith csv file.ipynb']\n",
      "total ipynb=  26\n"
     ]
    }
   ],
   "source": [
    "ipynb=[]\n",
    "data=os.listdir()\n",
    "c=0\n",
    "for i in data:\n",
    "    if i.endswith(\"ipynb\"):\n",
    "        ipynb.append(i)\n",
    "        c+=1\n",
    "print(ipynb)\n",
    "print(\"total ipynb= \",c)"
   ]
  },
  {
   "cell_type": "code",
   "execution_count": null,
   "metadata": {},
   "outputs": [],
   "source": []
  },
  {
   "cell_type": "code",
   "execution_count": null,
   "metadata": {},
   "outputs": [],
   "source": []
  }
 ],
 "metadata": {
  "kernelspec": {
   "display_name": "Python 3",
   "language": "python",
   "name": "python3"
  },
  "language_info": {
   "codemirror_mode": {
    "name": "ipython",
    "version": 3
   },
   "file_extension": ".py",
   "mimetype": "text/x-python",
   "name": "python",
   "nbconvert_exporter": "python",
   "pygments_lexer": "ipython3",
   "version": "3.6.5"
  }
 },
 "nbformat": 4,
 "nbformat_minor": 2
}
