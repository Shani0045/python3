{
 "cells": [
  {
   "cell_type": "code",
   "execution_count": 7,
   "metadata": {},
   "outputs": [
    {
     "name": "stdout",
     "output_type": "stream",
     "text": [
      "enter the wordapple\n",
      "2\n"
     ]
    }
   ],
   "source": [
    "n=input(\"enter the word\")\n",
    "c=0\n",
    "for i in n:\n",
    "    if i.lower() in [\"a\",\"e\",\"i\",\"o\",\"u\"]:\n",
    "        c+=1\n",
    "print(c)\n",
    "        "
   ]
  },
  {
   "cell_type": "code",
   "execution_count": 6,
   "metadata": {},
   "outputs": [
    {
     "name": "stdout",
     "output_type": "stream",
     "text": [
      "enter value of a2\n",
      "enter value of b2\n",
      "enter value of c2\n",
      "6\n"
     ]
    }
   ],
   "source": [
    "a=int(input(\"enter value of a\"))\n",
    "b=int(input(\"enter value of b\"))\n",
    "c=int(input(\"enter value of c\"))\n",
    "p=a+b+c\n",
    "print(p)"
   ]
  },
  {
   "cell_type": "code",
   "execution_count": null,
   "metadata": {},
   "outputs": [],
   "source": []
  }
 ],
 "metadata": {
  "kernelspec": {
   "display_name": "Python 3",
   "language": "python",
   "name": "python3"
  },
  "language_info": {
   "codemirror_mode": {
    "name": "ipython",
    "version": 3
   },
   "file_extension": ".py",
   "mimetype": "text/x-python",
   "name": "python",
   "nbconvert_exporter": "python",
   "pygments_lexer": "ipython3",
   "version": "3.6.5"
  }
 },
 "nbformat": 4,
 "nbformat_minor": 2
}
