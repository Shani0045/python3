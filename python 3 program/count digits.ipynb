{
 "cells": [
  {
   "cell_type": "code",
   "execution_count": 1,
   "metadata": {},
   "outputs": [
    {
     "name": "stdout",
     "output_type": "stream",
     "text": [
      "enter digits....1234\n",
      "123\n",
      "12\n",
      "1\n",
      "0\n",
      "total digits 4\n"
     ]
    }
   ],
   "source": [
    "n=int(input(\"enter digits....\"))\n",
    "i=0\n",
    "while(n>0):\n",
    "    n=n//10\n",
    "    i+=1\n",
    "print(\"total digits\",i)"
   ]
  },
  {
   "cell_type": "code",
   "execution_count": 2,
   "metadata": {},
   "outputs": [
    {
     "name": "stdout",
     "output_type": "stream",
     "text": [
      "enter the digit12097\n",
      "5\n"
     ]
    }
   ],
   "source": [
    "n=input(\"enter the digit\")\n",
    "c=0\n",
    "for i in n:\n",
    "    c+=1\n",
    "print(c)"
   ]
  },
  {
   "cell_type": "code",
   "execution_count": 1,
   "metadata": {},
   "outputs": [
    {
     "name": "stdout",
     "output_type": "stream",
     "text": [
      "enter string....shani\n",
      "total character 5\n"
     ]
    }
   ],
   "source": [
    "s=input(\"enter string....\")\n",
    "c=0\n",
    "for i in s:\n",
    "    c+=1\n",
    "print(\"total character\",c)"
   ]
  },
  {
   "cell_type": "code",
   "execution_count": 2,
   "metadata": {},
   "outputs": [],
   "source": [
    "# n=input(\"enter string.. \")\n",
    "i=0\n",
    "while(i>10):\n",
    "    print(\"sjaaa\")\n",
    "    i+=1"
   ]
  },
  {
   "cell_type": "code",
   "execution_count": null,
   "metadata": {},
   "outputs": [],
   "source": []
  },
  {
   "cell_type": "code",
   "execution_count": 2,
   "metadata": {},
   "outputs": [
    {
     "name": "stdout",
     "output_type": "stream",
     "text": [
      "4\n"
     ]
    }
   ],
   "source": [
    "i=0\n",
    "n=1234\n",
    "while(n>0):\n",
    "    n=n//10\n",
    "    i+=1\n",
    "print(i)"
   ]
  },
  {
   "cell_type": "code",
   "execution_count": null,
   "metadata": {},
   "outputs": [],
   "source": []
  }
 ],
 "metadata": {
  "kernelspec": {
   "display_name": "Python 3",
   "language": "python",
   "name": "python3"
  },
  "language_info": {
   "codemirror_mode": {
    "name": "ipython",
    "version": 3
   },
   "file_extension": ".py",
   "mimetype": "text/x-python",
   "name": "python",
   "nbconvert_exporter": "python",
   "pygments_lexer": "ipython3",
   "version": "3.6.5"
  }
 },
 "nbformat": 4,
 "nbformat_minor": 2
}
