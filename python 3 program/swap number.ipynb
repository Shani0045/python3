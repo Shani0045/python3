{
 "cells": [
  {
   "cell_type": "markdown",
   "metadata": {},
   "source": [
    "# using third variable"
   ]
  },
  {
   "cell_type": "code",
   "execution_count": 2,
   "metadata": {},
   "outputs": [
    {
     "name": "stdout",
     "output_type": "stream",
     "text": [
      "Enter first number... 10\n",
      "Enter Second number... 20\n",
      "Before Swapping the number a=10,b=20\n",
      "after Swapping the number a=20,b=10\n"
     ]
    }
   ],
   "source": [
    "a=int(input(\"Enter first number... \"))\n",
    "b=int(input(\"Enter Second number... \"))\n",
    "print(f\"Before Swapping the number a={a},b={b}\")\n",
    "a,b=b,a\n",
    "print(f\"after Swapping the number a={a},b={b}\")"
   ]
  },
  {
   "cell_type": "markdown",
   "metadata": {},
   "source": [
    "# Second way"
   ]
  },
  {
   "cell_type": "code",
   "execution_count": 4,
   "metadata": {},
   "outputs": [
    {
     "name": "stdout",
     "output_type": "stream",
     "text": [
      "Enter first number... 10\n",
      "Enter Second number... 20\n",
      "Before Swapping the number a=10,b=20\n",
      "after Swapping the number a=20,b=10\n"
     ]
    }
   ],
   "source": [
    "a=int(input(\"Enter first number... \"))\n",
    "b=int(input(\"Enter Second number... \"))\n",
    "print(f\"Before Swapping the number a={a},b={b}\")\n",
    "temp=a\n",
    "a=b\n",
    "b=temp\n",
    "print(f\"after Swapping the number a={a},b={b}\")"
   ]
  },
  {
   "cell_type": "markdown",
   "metadata": {},
   "source": [
    "# without using third variable"
   ]
  },
  {
   "cell_type": "code",
   "execution_count": 5,
   "metadata": {},
   "outputs": [
    {
     "name": "stdout",
     "output_type": "stream",
     "text": [
      "Enter first number... 10\n",
      "Enter Second number... 20\n",
      "Before Swapping the number a=10,b=20\n",
      "after Swapping the number a=20,b=10\n"
     ]
    }
   ],
   "source": [
    "a=int(input(\"Enter first number... \"))\n",
    "b=int(input(\"Enter Second number... \"))\n",
    "print(f\"Before Swapping the number a={a},b={b}\")\n",
    "a=a+b\n",
    "b=a-b\n",
    "a=a-b\n",
    "print(f\"after Swapping the number a={a},b={b}\")"
   ]
  },
  {
   "cell_type": "code",
   "execution_count": null,
   "metadata": {},
   "outputs": [],
   "source": []
  }
 ],
 "metadata": {
  "kernelspec": {
   "display_name": "Python 3",
   "language": "python",
   "name": "python3"
  },
  "language_info": {
   "codemirror_mode": {
    "name": "ipython",
    "version": 3
   },
   "file_extension": ".py",
   "mimetype": "text/x-python",
   "name": "python",
   "nbconvert_exporter": "python",
   "pygments_lexer": "ipython3",
   "version": "3.6.5"
  }
 },
 "nbformat": 4,
 "nbformat_minor": 2
}
