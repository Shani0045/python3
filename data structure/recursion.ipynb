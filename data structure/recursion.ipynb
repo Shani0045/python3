{
 "cells": [
  {
   "cell_type": "code",
   "execution_count": 4,
   "metadata": {},
   "outputs": [
    {
     "name": "stdout",
     "output_type": "stream",
     "text": [
      "shani\n",
      "shani\n",
      "shani\n",
      "shani\n",
      "shani\n",
      "shani\n",
      "shani\n",
      "shani\n",
      "shani\n",
      "shani\n"
     ]
    }
   ],
   "source": [
    "def shani(n):\n",
    "    if n>0:\n",
    "        shani(n-1)\n",
    "        print(\"shani\")\n",
    "shani(10)"
   ]
  },
  {
   "cell_type": "code",
   "execution_count": 5,
   "metadata": {},
   "outputs": [
    {
     "name": "stdout",
     "output_type": "stream",
     "text": [
      "1\n",
      "2\n",
      "3\n",
      "4\n",
      "5\n",
      "6\n",
      "7\n",
      "8\n",
      "9\n",
      "10\n"
     ]
    }
   ],
   "source": [
    "def shani(n):\n",
    "    if n>0:\n",
    "        shani(n-1)\n",
    "        print(n)\n",
    "        \n",
    "shani(10)"
   ]
  },
  {
   "cell_type": "code",
   "execution_count": 6,
   "metadata": {},
   "outputs": [
    {
     "name": "stdout",
     "output_type": "stream",
     "text": [
      "10\n",
      "9\n",
      "8\n",
      "7\n",
      "6\n",
      "5\n",
      "4\n",
      "3\n",
      "2\n",
      "1\n"
     ]
    }
   ],
   "source": [
    "def shani(n):\n",
    "    if n>0:\n",
    "        print(n)\n",
    "        shani(n-1)    \n",
    "shani(10)"
   ]
  },
  {
   "cell_type": "code",
   "execution_count": 8,
   "metadata": {},
   "outputs": [
    {
     "name": "stdout",
     "output_type": "stream",
     "text": [
      "a\n",
      "j\n",
      "a\n",
      "y\n"
     ]
    }
   ],
   "source": [
    "def shani(n):\n",
    "    if len(n)>0:\n",
    "        print(n[0])\n",
    "        shani(n[1:])\n",
    "        \n",
    "shani(\"ajay\")"
   ]
  },
  {
   "cell_type": "code",
   "execution_count": 18,
   "metadata": {},
   "outputs": [
    {
     "name": "stdout",
     "output_type": "stream",
     "text": [
      "a\n",
      "j\n",
      "a\n",
      "y\n",
      "total character 4\n"
     ]
    }
   ],
   "source": [
    "def shani(n):\n",
    "    if n==\"\":\n",
    "        return 0\n",
    "    else:\n",
    "        print(n[0])\n",
    "        return 1+shani(n[1:])\n",
    "print(\"total character\",shani(\"ajay\"))"
   ]
  },
  {
   "cell_type": "code",
   "execution_count": 25,
   "metadata": {
    "scrolled": true
   },
   "outputs": [
    {
     "name": "stdout",
     "output_type": "stream",
     "text": [
      "1\n",
      "2\n",
      "3\n",
      "total character 3\n"
     ]
    }
   ],
   "source": [
    "def shani(n):\n",
    "    if n==\"\":\n",
    "        return 0\n",
    "    elif n[0].isnumeric():\n",
    "        print(n[0])\n",
    "        return 1+shani(n[1:])\n",
    "print(\"total character\",shani(\"123\"))"
   ]
  },
  {
   "cell_type": "code",
   "execution_count": 44,
   "metadata": {},
   "outputs": [
    {
     "name": "stdout",
     "output_type": "stream",
     "text": [
      "sjskskShani Kumar Bharati\n",
      "total upper case = 3 and lowercase = 14 total space=2\n"
     ]
    }
   ],
   "source": [
    "n=input(\"sjsksk\")\n",
    "c=0\n",
    "d=0\n",
    "s=0\n",
    "for i in n:\n",
    "    if i.isupper():\n",
    "        c+=1\n",
    "    elif i.islower():\n",
    "        d+=1\n",
    "    elif i.isspace():\n",
    "        s+=1\n",
    "print(f\"total upper case = {c} and lowercase = {d} total space={s}\")"
   ]
  },
  {
   "cell_type": "code",
   "execution_count": 81,
   "metadata": {},
   "outputs": [],
   "source": [
    "def string(s):\n",
    "    if len(s)==0:\n",
    "        return 0\n",
    "    else:\n",
    "        return 1+string(s[1:])"
   ]
  },
  {
   "cell_type": "code",
   "execution_count": 82,
   "metadata": {},
   "outputs": [
    {
     "data": {
      "text/plain": [
       "3"
      ]
     },
     "execution_count": 82,
     "metadata": {},
     "output_type": "execute_result"
    }
   ],
   "source": [
    "string(\"123\")"
   ]
  },
  {
   "cell_type": "code",
   "execution_count": 9,
   "metadata": {},
   "outputs": [],
   "source": [
    "def fibo(n):\n",
    "    if n<0:\n",
    "        print(\"enter correct output\")\n",
    "    elif n==0:\n",
    "        return 0\n",
    "    elif n==1 or n==2:\n",
    "        return 1\n",
    "    else:\n",
    "        return (fibo(n-1)+fibo(n-2))"
   ]
  },
  {
   "cell_type": "code",
   "execution_count": 11,
   "metadata": {},
   "outputs": [
    {
     "name": "stdout",
     "output_type": "stream",
     "text": [
      "3\n",
      "011"
     ]
    }
   ],
   "source": [
    "d=int(input(\"\"))\n",
    "if d<=0:\n",
    "    print(\"please enter positive no\")\n",
    "else:\n",
    "    for i in range(d):\n",
    "        print(fibo(i),end=\"\")"
   ]
  },
  {
   "cell_type": "code",
   "execution_count": null,
   "metadata": {},
   "outputs": [],
   "source": []
  }
 ],
 "metadata": {
  "kernelspec": {
   "display_name": "Python 3",
   "language": "python",
   "name": "python3"
  },
  "language_info": {
   "codemirror_mode": {
    "name": "ipython",
    "version": 3
   },
   "file_extension": ".py",
   "mimetype": "text/x-python",
   "name": "python",
   "nbconvert_exporter": "python",
   "pygments_lexer": "ipython3",
   "version": "3.6.5"
  }
 },
 "nbformat": 4,
 "nbformat_minor": 2
}
