{
 "cells": [
  {
   "cell_type": "code",
   "execution_count": 1,
   "metadata": {},
   "outputs": [],
   "source": [
    "class Node:\n",
    "    def __init__(self,data):\n",
    "        self.left=None\n",
    "        self.right=None\n",
    "        self.data=data\n",
    "    def show(self):\n",
    "        print(self.data)"
   ]
  },
  {
   "cell_type": "markdown",
   "metadata": {},
   "source": [
    "# inserting into tree"
   ]
  },
  {
   "cell_type": "code",
   "execution_count": 7,
   "metadata": {},
   "outputs": [],
   "source": [
    "class Node:\n",
    "    def __init__(self,data):\n",
    "        self.left=None\n",
    "        self.right=None\n",
    "        self.data=data\n",
    "    def insert(self,data):\n",
    "        if self.data:\n",
    "            if data<self.data:\n",
    "                if self.left is None:\n",
    "                    self.left=Node(data)\n",
    "                else:\n",
    "                    self.left.insert(data)\n",
    "            elif data>self.data:\n",
    "                if self.right is None:\n",
    "                    self.right=Node(data)\n",
    "                else:\n",
    "                    self.right.insert(data)\n",
    "        else:\n",
    "            self.data=data\n",
    "    def show(self):\n",
    "        if self.left:\n",
    "            self.left.show()\n",
    "        print(self.data)\n",
    "        if self.right:\n",
    "            self.right.show()\n",
    "                "
   ]
  },
  {
   "cell_type": "code",
   "execution_count": 8,
   "metadata": {},
   "outputs": [
    {
     "name": "stdout",
     "output_type": "stream",
     "text": [
      "3\n",
      "12\n",
      "15\n"
     ]
    }
   ],
   "source": [
    "root=Node(12)\n",
    "root.insert(3)\n",
    "root.insert(15)\n",
    "root.show()"
   ]
  }
 ],
 "metadata": {
  "kernelspec": {
   "display_name": "Python 3",
   "language": "python",
   "name": "python3"
  },
  "language_info": {
   "codemirror_mode": {
    "name": "ipython",
    "version": 3
   },
   "file_extension": ".py",
   "mimetype": "text/x-python",
   "name": "python",
   "nbconvert_exporter": "python",
   "pygments_lexer": "ipython3",
   "version": "3.6.5"
  }
 },
 "nbformat": 4,
 "nbformat_minor": 2
}
