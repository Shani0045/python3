{
 "cells": [
  {
   "cell_type": "code",
   "execution_count": 6,
   "metadata": {},
   "outputs": [],
   "source": [
    "def search(pat,txt):\n",
    "    M=len(pat)\n",
    "    N=len(txt)\n",
    "    for i in range(N-M+1):\n",
    "        j=0\n",
    "        while(j<M):\n",
    "            if (txt[i+j]!=pat[j]):\n",
    "                break\n",
    "            j+=1\n",
    "        if (j==M):\n",
    "            print(\"pattern found at index \",i)\n",
    "                "
   ]
  },
  {
   "cell_type": "code",
   "execution_count": 7,
   "metadata": {},
   "outputs": [],
   "source": [
    "txt=\"AABAACAADAABAAABAA\"\n",
    "pat=\"AABA\""
   ]
  },
  {
   "cell_type": "code",
   "execution_count": 8,
   "metadata": {},
   "outputs": [
    {
     "name": "stdout",
     "output_type": "stream",
     "text": [
      "pattern found at index  0\n",
      "pattern found at index  9\n",
      "pattern found at index  13\n"
     ]
    }
   ],
   "source": [
    "search(pat,txt)"
   ]
  },
  {
   "cell_type": "code",
   "execution_count": null,
   "metadata": {},
   "outputs": [],
   "source": []
  }
 ],
 "metadata": {
  "kernelspec": {
   "display_name": "Python 3",
   "language": "python",
   "name": "python3"
  },
  "language_info": {
   "codemirror_mode": {
    "name": "ipython",
    "version": 3
   },
   "file_extension": ".py",
   "mimetype": "text/x-python",
   "name": "python",
   "nbconvert_exporter": "python",
   "pygments_lexer": "ipython3",
   "version": "3.6.5"
  }
 },
 "nbformat": 4,
 "nbformat_minor": 2
}
