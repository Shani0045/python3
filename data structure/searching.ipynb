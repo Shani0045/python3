{
 "cells": [
  {
   "cell_type": "markdown",
   "metadata": {},
   "source": [
    "# linear search"
   ]
  },
  {
   "cell_type": "code",
   "execution_count": 43,
   "metadata": {},
   "outputs": [],
   "source": [
    "class Linear_search:\n",
    "    def __init__(self,lst):\n",
    "        self.lst=lst\n",
    "    def search(self,item):\n",
    "        \"search item in the list\"\n",
    "        if item in self.lst:\n",
    "            i=0\n",
    "            for j in self.lst:\n",
    "                if j==item:\n",
    "                    print(\"item found at index \",i)\n",
    "                else:\n",
    "                    i+=1\n",
    "        else:\n",
    "            print(\"item not in list...\")"
   ]
  },
  {
   "cell_type": "code",
   "execution_count": 44,
   "metadata": {},
   "outputs": [],
   "source": [
    "l=Linear_search([10,20,30,40,50,60])"
   ]
  },
  {
   "cell_type": "code",
   "execution_count": 16,
   "metadata": {},
   "outputs": [
    {
     "name": "stdout",
     "output_type": "stream",
     "text": [
      "item found at index  1\n"
     ]
    }
   ],
   "source": [
    "l.search(20)"
   ]
  },
  {
   "cell_type": "code",
   "execution_count": 17,
   "metadata": {},
   "outputs": [
    {
     "name": "stdout",
     "output_type": "stream",
     "text": [
      "item not in list...\n"
     ]
    }
   ],
   "source": [
    "l.search(90)"
   ]
  },
  {
   "cell_type": "markdown",
   "metadata": {},
   "source": [
    "# Second way"
   ]
  },
  {
   "cell_type": "code",
   "execution_count": 12,
   "metadata": {},
   "outputs": [],
   "source": [
    "def linearsearch(lst,itm):\n",
    "    j=0\n",
    "    if itm in lst:\n",
    "        for item in lst:\n",
    "            if item==itm:\n",
    "                print(f\"{item} found at index {j}\")\n",
    "            else:\n",
    "                j+=1\n",
    "    else:\n",
    "        print(\"item not in list\")"
   ]
  },
  {
   "cell_type": "code",
   "execution_count": 14,
   "metadata": {},
   "outputs": [
    {
     "name": "stdout",
     "output_type": "stream",
     "text": [
      "item not in list\n"
     ]
    }
   ],
   "source": [
    "linearsearch([10,20,30,40,50],4)"
   ]
  },
  {
   "cell_type": "markdown",
   "metadata": {},
   "source": [
    "# Binary Search"
   ]
  },
  {
   "cell_type": "code",
   "execution_count": null,
   "metadata": {},
   "outputs": [],
   "source": [
    "class BinarySearch:\n",
    "    def __init__(self,lst):\n",
    "        self.lst=lst\n",
    "    def \n",
    "    "
   ]
  }
 ],
 "metadata": {
  "kernelspec": {
   "display_name": "Python 3",
   "language": "python",
   "name": "python3"
  },
  "language_info": {
   "codemirror_mode": {
    "name": "ipython",
    "version": 3
   },
   "file_extension": ".py",
   "mimetype": "text/x-python",
   "name": "python",
   "nbconvert_exporter": "python",
   "pygments_lexer": "ipython3",
   "version": "3.6.5"
  }
 },
 "nbformat": 4,
 "nbformat_minor": 2
}
