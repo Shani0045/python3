{
 "cells": [
  {
   "cell_type": "markdown",
   "metadata": {},
   "source": [
    "# creation of lisnked list"
   ]
  },
  {
   "cell_type": "code",
   "execution_count": 14,
   "metadata": {},
   "outputs": [],
   "source": [
    "class Node:\n",
    "    def __init__(self,dataval=None):\n",
    "        self.dataval=dataval\n",
    "        self.nextval=None\n",
    "class Linkedlist:\n",
    "    def __init__(self):\n",
    "        self.headval=None\n"
   ]
  },
  {
   "cell_type": "code",
   "execution_count": 10,
   "metadata": {},
   "outputs": [],
   "source": [
    "list1=Linkedlist()\n",
    "e1=Node(\"Mon\")\n",
    "list1.headval=e1\n",
    "e2=Node(\"tue\")"
   ]
  },
  {
   "cell_type": "code",
   "execution_count": 12,
   "metadata": {},
   "outputs": [],
   "source": [
    "list1.headval.nextval=e2\n",
    "e3=Node(\"wed\")"
   ]
  },
  {
   "cell_type": "code",
   "execution_count": 13,
   "metadata": {},
   "outputs": [],
   "source": [
    "e2.nextval=e3"
   ]
  },
  {
   "cell_type": "markdown",
   "metadata": {},
   "source": [
    "# Insertion in Linked list"
   ]
  },
  {
   "cell_type": "code",
   "execution_count": 4,
   "metadata": {},
   "outputs": [],
   "source": [
    "class Node:\n",
    "    def __init__(self,dataval=None):\n",
    "        self.dataval=dataval\n",
    "        self.nextval=None\n",
    "class Linkedlist:\n",
    "    def __init__(self):\n",
    "        self.headval=None\n",
    "    def show(self):\n",
    "        printval=self.headval\n",
    "        while printval is not None:\n",
    "            print(printval.dataval)\n",
    "            printval=printval.nextval"
   ]
  },
  {
   "cell_type": "code",
   "execution_count": 5,
   "metadata": {},
   "outputs": [],
   "source": [
    "s=Linkedlist()\n",
    "e1=Node(\"mon\")\n",
    "e2=Node(\"tue\")\n",
    "e3=Node(\"wed\")\n",
    "s.headval=e1\n",
    "e1.nextval=e2\n",
    "e2.nextval=e3"
   ]
  },
  {
   "cell_type": "code",
   "execution_count": 6,
   "metadata": {},
   "outputs": [
    {
     "name": "stdout",
     "output_type": "stream",
     "text": [
      "mon\n",
      "tue\n",
      "wed\n"
     ]
    }
   ],
   "source": [
    "s.show()"
   ]
  },
  {
   "cell_type": "markdown",
   "metadata": {},
   "source": [
    "# inserting at the beginning"
   ]
  },
  {
   "cell_type": "code",
   "execution_count": 15,
   "metadata": {},
   "outputs": [],
   "source": [
    "class Node:\n",
    "    def __init__(self,dataval=None):\n",
    "        self.dataval=dataval\n",
    "        self.nextval=None\n",
    "class Linkedlist:\n",
    "    def __init__(self):\n",
    "        self.headval=None\n",
    "    def show(self):\n",
    "        printval=self.headval\n",
    "        while printval is not None:\n",
    "            print(printval.dataval)\n",
    "            printval=printval.nextval\n",
    "    def atBeginning(self,newdata):\n",
    "        newnode=Node(newdata)\n",
    "        newnode.nextval=self.headval\n",
    "        self.headval=newnode"
   ]
  },
  {
   "cell_type": "code",
   "execution_count": 18,
   "metadata": {},
   "outputs": [
    {
     "name": "stdout",
     "output_type": "stream",
     "text": [
      "wed\n",
      "tue\n",
      "mon\n",
      "sun\n"
     ]
    }
   ],
   "source": [
    "s=Linkedlist()\n",
    "s.atBeginning(\"sun\")\n",
    "s.atBeginning(\"mon\")\n",
    "s.atBeginning(\"tue\")\n",
    "s.atBeginning(\"wed\")\n",
    "s.show()\n"
   ]
  },
  {
   "cell_type": "markdown",
   "metadata": {},
   "source": [
    "# At End Insert data"
   ]
  },
  {
   "cell_type": "code",
   "execution_count": 19,
   "metadata": {},
   "outputs": [],
   "source": [
    "class Node:\n",
    "    def __init__(self,dataval=None):\n",
    "        self.dataval=dataval\n",
    "        self.nextval=None\n",
    "class Linkedlist:\n",
    "    def __init__(self):\n",
    "        self.headval=None\n",
    "    def show(self):\n",
    "        printval=self.headval\n",
    "        while printval is not None:\n",
    "            print(printval.dataval)\n",
    "            printval=printval.nextval\n",
    "    def atEnd(self,newdata):\n",
    "        newnode=Node(newdata)\n",
    "        if self.headval is None:\n",
    "            self.headval=newnode\n",
    "            return\n",
    "        last=self.headval\n",
    "        while last.nextval:\n",
    "            last=last.nextval\n",
    "        last.nextval=newnode\n",
    "        "
   ]
  },
  {
   "cell_type": "code",
   "execution_count": 20,
   "metadata": {},
   "outputs": [
    {
     "name": "stdout",
     "output_type": "stream",
     "text": [
      "sun\n",
      "mon\n",
      "tue\n",
      "wed\n"
     ]
    }
   ],
   "source": [
    "s=Linkedlist()\n",
    "s.atEnd(\"sun\")\n",
    "s.atEnd(\"mon\")\n",
    "s.atEnd(\"tue\")\n",
    "s.atEnd(\"wed\")\n",
    "s.show()"
   ]
  },
  {
   "cell_type": "markdown",
   "metadata": {},
   "source": [
    "# At Middle insert data"
   ]
  },
  {
   "cell_type": "code",
   "execution_count": 21,
   "metadata": {},
   "outputs": [],
   "source": [
    "class Node:\n",
    "    def __init__(self,dataval=None):\n",
    "        self.dataval=dataval\n",
    "        self.nextval=None\n",
    "class Linkedlist:\n",
    "    def __init__(self):\n",
    "        self.headval=None\n",
    "    def show(self):\n",
    "        printval=self.headval\n",
    "        while printval is not None:\n",
    "            print(printval.dataval)\n",
    "            printval=printval.nextval\n",
    "    def atMiddle(self,middlenode,newdata):\n",
    "        if middlenode is None:\n",
    "            print(\"the mentioned node is empty\")\n",
    "            return\n",
    "        newnode=Node(newdata)\n",
    "        newnode.nextval=middlenode.nextval\n",
    "        middlenode.nextval=newnode"
   ]
  },
  {
   "cell_type": "code",
   "execution_count": 22,
   "metadata": {},
   "outputs": [
    {
     "name": "stdout",
     "output_type": "stream",
     "text": [
      "sun\n",
      "mon\n",
      "shani\n",
      "tue\n"
     ]
    }
   ],
   "source": [
    "s=Linkedlist()\n",
    "e1=Node(\"sun\")\n",
    "e2=Node(\"mon\")\n",
    "e3=Node(\"tue\")\n",
    "s.headval=e1\n",
    "e1.nextval=e2\n",
    "e2.nextval=e3\n",
    "s.atMiddle(e2,\"shani\")\n",
    "s.show()"
   ]
  },
  {
   "cell_type": "markdown",
   "metadata": {},
   "source": [
    "# delete data"
   ]
  },
  {
   "cell_type": "code",
   "execution_count": null,
   "metadata": {},
   "outputs": [],
   "source": [
    "class Node:\n",
    "    def __init__(self,dataval=None):\n",
    "        self.dataval=dataval\n",
    "        self.nextval=None\n",
    "class Linkedlist:\n",
    "    def __init__(self):\n",
    "        self.headval=None\n",
    "    def show(self):\n",
    "        printval=self.headval\n",
    "        while printval is not None:\n",
    "            print(printval.dataval)\n",
    "            printval=printval.nextval\n",
    "    def atBeginning(self,newdata):\n",
    "        newnode=Node(newdata)\n",
    "        newnode.nextval=self.headval\n",
    "        self.headval=newnode\n",
    "        \n",
    "    def removeitem(self,removedata):\n",
    "        headval=self.head\n",
    "        if (headval is not None):\n",
    "            if (headval.data==removedata):\n",
    "                self.headval=headval\n",
    "            "
   ]
  }
 ],
 "metadata": {
  "kernelspec": {
   "display_name": "Python 3",
   "language": "python",
   "name": "python3"
  },
  "language_info": {
   "codemirror_mode": {
    "name": "ipython",
    "version": 3
   },
   "file_extension": ".py",
   "mimetype": "text/x-python",
   "name": "python",
   "nbconvert_exporter": "python",
   "pygments_lexer": "ipython3",
   "version": "3.6.5"
  }
 },
 "nbformat": 4,
 "nbformat_minor": 2
}
