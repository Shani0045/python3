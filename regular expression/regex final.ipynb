{
 "cells": [
  {
   "cell_type": "code",
   "execution_count": 1,
   "metadata": {},
   "outputs": [],
   "source": [
    "import re"
   ]
  },
  {
   "cell_type": "code",
   "execution_count": 2,
   "metadata": {},
   "outputs": [],
   "source": [
    "str=\"\"\"hi my name is shani kumar and my mobile no is 9889453698\n",
    "\"\"\""
   ]
  },
  {
   "cell_type": "code",
   "execution_count": 3,
   "metadata": {},
   "outputs": [
    {
     "data": {
      "text/plain": [
       "['9', '8', '8', '9', '4', '5', '3', '6', '9', '8']"
      ]
     },
     "execution_count": 3,
     "metadata": {},
     "output_type": "execute_result"
    }
   ],
   "source": [
    "pattern=re.compile(\"\\d\")\n",
    "a=pattern.findall(str)\n",
    "a"
   ]
  },
  {
   "cell_type": "code",
   "execution_count": 4,
   "metadata": {},
   "outputs": [
    {
     "data": {
      "text/plain": [
       "['9889453698']"
      ]
     },
     "execution_count": 4,
     "metadata": {},
     "output_type": "execute_result"
    }
   ],
   "source": [
    "pattern=re.compile(\"\\d+\")\n",
    "a=pattern.findall(str)\n",
    "a"
   ]
  },
  {
   "cell_type": "code",
   "execution_count": 20,
   "metadata": {},
   "outputs": [
    {
     "name": "stdout",
     "output_type": "stream",
     "text": [
      "9\n",
      "strat_index,end_index (46, 47)\n"
     ]
    }
   ],
   "source": [
    "pattern=re.compile(\"\\d\")\n",
    "a=pattern.search(str)\n",
    "print(a.group())\n",
    "print(\"strat_index,end_index\",a.span())"
   ]
  },
  {
   "cell_type": "code",
   "execution_count": 15,
   "metadata": {},
   "outputs": [
    {
     "name": "stdout",
     "output_type": "stream",
     "text": [
      "None\n"
     ]
    }
   ],
   "source": [
    "pattern=re.compile(\"\\d\")\n",
    "a=pattern.match(str)\n",
    "print(a)"
   ]
  },
  {
   "cell_type": "code",
   "execution_count": 14,
   "metadata": {},
   "outputs": [
    {
     "name": "stdout",
     "output_type": "stream",
     "text": [
      "9889453698\n"
     ]
    }
   ],
   "source": [
    "pattern=re.compile(\"\\d\")\n",
    "a=pattern.findall(str)\n",
    "phone=\"\".join(a)\n",
    "print(phone)"
   ]
  },
  {
   "cell_type": "code",
   "execution_count": 6,
   "metadata": {},
   "outputs": [
    {
     "data": {
      "text/plain": [
       "['9889', '4536']"
      ]
     },
     "execution_count": 6,
     "metadata": {},
     "output_type": "execute_result"
    }
   ],
   "source": [
    "pattern=re.compile(\"\\d\\d\\d\\d\")\n",
    "a=pattern.findall(str)\n",
    "a"
   ]
  },
  {
   "cell_type": "code",
   "execution_count": 7,
   "metadata": {},
   "outputs": [
    {
     "data": {
      "text/plain": [
       "['9889453698']"
      ]
     },
     "execution_count": 7,
     "metadata": {},
     "output_type": "execute_result"
    }
   ],
   "source": [
    "pattern=re.compile(\"\\d{10}\")\n",
    "a=pattern.findall(str)\n",
    "a"
   ]
  },
  {
   "cell_type": "code",
   "execution_count": 8,
   "metadata": {},
   "outputs": [
    {
     "data": {
      "text/plain": [
       "['9889453698']"
      ]
     },
     "execution_count": 8,
     "metadata": {},
     "output_type": "execute_result"
    }
   ],
   "source": [
    "pattern=re.compile(\"\\d+\")\n",
    "a=pattern.findall(str)\n",
    "a"
   ]
  },
  {
   "cell_type": "code",
   "execution_count": 9,
   "metadata": {},
   "outputs": [
    {
     "data": {
      "text/plain": [
       "['9288282822', '8978675645', '9192938465', '9089675645']"
      ]
     },
     "execution_count": 9,
     "metadata": {},
     "output_type": "execute_result"
    }
   ],
   "source": [
    "str=\"my mobile no is 9288282822 and 8978675645,9192938465,9089675645\"\n",
    "re.findall(\"\\d+\",str)"
   ]
  },
  {
   "cell_type": "code",
   "execution_count": 10,
   "metadata": {},
   "outputs": [
    {
     "name": "stdout",
     "output_type": "stream",
     "text": [
      "9288282822\n",
      "8978675645\n",
      "9192938465\n",
      "9089675645\n"
     ]
    }
   ],
   "source": [
    "for i in re.finditer(\"\\d+\",str):\n",
    "    print(i.group())\n",
    "    "
   ]
  },
  {
   "cell_type": "code",
   "execution_count": 11,
   "metadata": {},
   "outputs": [
    {
     "name": "stdout",
     "output_type": "stream",
     "text": [
      "9288282822\n",
      "8978675645\n",
      "9192938465\n",
      "9089675645\n"
     ]
    }
   ],
   "source": [
    "for i in re.findall(\"\\d+\",str):\n",
    "    print(i)\n",
    "    "
   ]
  },
  {
   "cell_type": "code",
   "execution_count": 12,
   "metadata": {},
   "outputs": [
    {
     "name": "stdout",
     "output_type": "stream",
     "text": [
      "9288282822\n",
      "8978675645\n",
      "9192938465\n",
      "9089675645\n"
     ]
    }
   ],
   "source": [
    "for i in re.finditer(\"\\d{10}\",str):  # this is right way to fimd mobile no 10 no hi chahiye.\n",
    "    print(i.group())\n",
    "    "
   ]
  },
  {
   "cell_type": "code",
   "execution_count": 6,
   "metadata": {},
   "outputs": [],
   "source": [
    "str=\"my emailid is shanikumar546@gmail.com and brother emailid is amit87@gmail.com my friend emailid is pradeepazamgrah@gmail.com\""
   ]
  },
  {
   "cell_type": "code",
   "execution_count": 7,
   "metadata": {},
   "outputs": [
    {
     "data": {
      "text/plain": [
       "['shanikumar546@gmail.com', 'amit87@gmail.com', 'pradeepazamgrah@gmail.com']"
      ]
     },
     "execution_count": 7,
     "metadata": {},
     "output_type": "execute_result"
    }
   ],
   "source": [
    "email=re.findall(\"\\w+@\\w+.com\",str)\n",
    "email"
   ]
  },
  {
   "cell_type": "code",
   "execution_count": 15,
   "metadata": {},
   "outputs": [
    {
     "data": {
      "text/plain": [
       "['shanikumar546@gmail.com', 'amit87@gmail.com', 'pradeepazamgrah@gmail.com']"
      ]
     },
     "execution_count": 15,
     "metadata": {},
     "output_type": "execute_result"
    }
   ],
   "source": [
    "email=re.findall(\"\\S+@\\S+\",str)\n",
    "email"
   ]
  },
  {
   "cell_type": "code",
   "execution_count": 16,
   "metadata": {},
   "outputs": [],
   "source": [
    "st=\"shani kumar bharati b.tech 4th year start date 20-07-2016 and end date 12/06/2020 emaiid pradeep9988@gmail.com college name BBS college of engineering 20/9/2020 emailid shanikumar0067@gmail.com 2-1-1998\""
   ]
  },
  {
   "cell_type": "code",
   "execution_count": 17,
   "metadata": {},
   "outputs": [
    {
     "data": {
      "text/plain": [
       "['20-07-2016', '12/06/2020', '20/9/2020', '2-1-1998']"
      ]
     },
     "execution_count": 17,
     "metadata": {},
     "output_type": "execute_result"
    }
   ],
   "source": [
    "date=re.findall(\"(\\d{1,2}-\\d{1,2}-\\d{2,4}|\\d{1,2}/\\d{1,2}/\\d{2,4})\",st)\n",
    "date"
   ]
  },
  {
   "cell_type": "code",
   "execution_count": 23,
   "metadata": {},
   "outputs": [
    {
     "data": {
      "text/plain": [
       "['4th', '20-07-2016', '12/06/2020', '20/9/2020', '2-1-1998']"
      ]
     },
     "execution_count": 23,
     "metadata": {},
     "output_type": "execute_result"
    }
   ],
   "source": [
    "date=re.findall(\"(\\d{1,2}-\\d{1,2}-\\d{2,4}|\\d{1,2}/\\d{1,2}/\\d{2,4}|\\d{1}th)\",st)\n",
    "date"
   ]
  },
  {
   "cell_type": "code",
   "execution_count": 80,
   "metadata": {},
   "outputs": [
    {
     "name": "stdout",
     "output_type": "stream",
     "text": [
      "['4th year', '20-07-2016', '12/06/2020', '20/9/2020', '2-1-1998']\n"
     ]
    }
   ],
   "source": [
    "d=re.findall(\"(\\d{1,2}/\\d{1,2}/\\d{2,4}|\\d{1,2}-\\d{1,2}-\\d{2,4}|\\d{1}th year)\",st)\n",
    "print(d)"
   ]
  },
  {
   "cell_type": "code",
   "execution_count": null,
   "metadata": {},
   "outputs": [],
   "source": [
    "s="
   ]
  }
 ],
 "metadata": {
  "kernelspec": {
   "display_name": "Python 3",
   "language": "python",
   "name": "python3"
  },
  "language_info": {
   "codemirror_mode": {
    "name": "ipython",
    "version": 3
   },
   "file_extension": ".py",
   "mimetype": "text/x-python",
   "name": "python",
   "nbconvert_exporter": "python",
   "pygments_lexer": "ipython3",
   "version": "3.6.5"
  }
 },
 "nbformat": 4,
 "nbformat_minor": 2
}
