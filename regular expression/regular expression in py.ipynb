{
 "cells": [
  {
   "cell_type": "code",
   "execution_count": 1,
   "metadata": {},
   "outputs": [],
   "source": [
    "import re"
   ]
  },
  {
   "cell_type": "markdown",
   "metadata": {},
   "source": [
    "# compile"
   ]
  },
  {
   "cell_type": "code",
   "execution_count": 2,
   "metadata": {},
   "outputs": [],
   "source": [
    "p=re.compile('[a-e]')  #  compile create regular exp character class [a-e] which is equivalent to [abcde]"
   ]
  },
  {
   "cell_type": "code",
   "execution_count": 3,
   "metadata": {},
   "outputs": [
    {
     "data": {
      "text/plain": [
       "['a', 'e', 'a', 'd', 'b', 'e', 'a']"
      ]
     },
     "execution_count": 3,
     "metadata": {},
     "output_type": "execute_result"
    }
   ],
   "source": [
    "p.findall(\"aye, said gibension stark\")"
   ]
  },
  {
   "cell_type": "code",
   "execution_count": 8,
   "metadata": {},
   "outputs": [],
   "source": [
    "p=re.compile(\"\\d\")"
   ]
  },
  {
   "cell_type": "code",
   "execution_count": 9,
   "metadata": {},
   "outputs": [
    {
     "name": "stdout",
     "output_type": "stream",
     "text": [
      "['1', '0', '9']\n"
     ]
    }
   ],
   "source": [
    "print(p.findall(\"i want to go school 10 o' clcok,to 9 \"))"
   ]
  },
  {
   "cell_type": "code",
   "execution_count": 10,
   "metadata": {},
   "outputs": [
    {
     "name": "stdout",
     "output_type": "stream",
     "text": [
      "['1', '0', '9', '5', '4']\n"
     ]
    }
   ],
   "source": [
    "p=re.compile(\"\\d\")  # contains digits baki remove\n",
    "print(p.findall(\"i want to go school 10 o' clcok,to 9 -54_$,% \"))"
   ]
  },
  {
   "cell_type": "code",
   "execution_count": 11,
   "metadata": {},
   "outputs": [
    {
     "name": "stdout",
     "output_type": "stream",
     "text": [
      "['i', ' ', 'w', 'a', 'n', 't', ' ', 't', 'o', ' ', 'g', 'o', ' ', 's', 'c', 'h', 'o', 'o', 'l', ' ', ' ', 'o', \"'\", ' ', 'c', 'l', 'c', 'o', 'k', ',', 't', 'o', ' ', ' ', '-', '_', '$', ',', '%', ' ']\n"
     ]
    }
   ],
   "source": [
    "p=re.compile(\"\\D\")  # digit hata ke baki sab  alphabet,symbol,whitespace \n",
    "print(p.findall(\"i want to go school 10 o' clcok,to 9 -54_$,% \"))"
   ]
  },
  {
   "cell_type": "code",
   "execution_count": 14,
   "metadata": {},
   "outputs": [
    {
     "name": "stdout",
     "output_type": "stream",
     "text": [
      "[' ', ' ', ' ', ' ', ' ', ' ', ' ', ' ', ' ', ' ']\n"
     ]
    }
   ],
   "source": [
    "p=re.compile(\"\\s\")  # contains whitespace baki sab remove\n",
    "print(p.findall(\"i want to go school 10 o' clcok,to 9 -54_$,% \"))"
   ]
  },
  {
   "cell_type": "code",
   "execution_count": 17,
   "metadata": {},
   "outputs": [
    {
     "name": "stdout",
     "output_type": "stream",
     "text": [
      "['i', 'want', 'to', 'go', 'school', '10', \"o'\", 'clcok,to', '9', '-54_$,%']\n"
     ]
    }
   ],
   "source": [
    "p=re.compile(\"\\S+\")  # whitespace hatake baki sab\n",
    "print(p.findall(\"i want to go school 10 o' clcok,to 9 -54_$,% \"))"
   ]
  },
  {
   "cell_type": "code",
   "execution_count": 10,
   "metadata": {},
   "outputs": [
    {
     "name": "stdout",
     "output_type": "stream",
     "text": [
      "['']\n"
     ]
    }
   ],
   "source": [
    "p=re.compile(\"\\A\")  \n",
    "print(p.findall(\"i want to go school 10 o' clcok,to 9 -54_$,% \"))"
   ]
  },
  {
   "cell_type": "code",
   "execution_count": 11,
   "metadata": {},
   "outputs": [
    {
     "name": "stdout",
     "output_type": "stream",
     "text": [
      "[]\n"
     ]
    }
   ],
   "source": [
    "p=re.compile(\"\\b\")\n",
    "print(p.findall(\"i want to go school 10 o' clcok,to 9 -54_$,% \"))"
   ]
  },
  {
   "cell_type": "code",
   "execution_count": 18,
   "metadata": {},
   "outputs": [
    {
     "name": "stdout",
     "output_type": "stream",
     "text": [
      "['i', 'want', 'to', 'go', 'school', '10', 'o', 'clcok', 'to', '9', '54_']\n"
     ]
    }
   ],
   "source": [
    "p=re.compile(\"\\w+\")   # contains alphabet,number,and under score baki sab remove whitespace symbol\n",
    "print(p.findall(\"i want to go school 10 o' clcok,to 9 -54_$,% \"))"
   ]
  },
  {
   "cell_type": "code",
   "execution_count": 19,
   "metadata": {},
   "outputs": [
    {
     "name": "stdout",
     "output_type": "stream",
     "text": [
      "[' ', ' ', ' ', ' ', ' ', ' ', \"' \", ',', ' ', ' -', '$,% ']\n"
     ]
    }
   ],
   "source": [
    "p=re.compile(\"\\W+\")  # digit alphabet underscore hta ke baki sab\n",
    "print(p.findall(\"i want to go school 10 o' clcok,to 9 -54_$,% \"))"
   ]
  },
  {
   "cell_type": "code",
   "execution_count": 21,
   "metadata": {},
   "outputs": [
    {
     "name": "stdout",
     "output_type": "stream",
     "text": [
      "['']\n"
     ]
    }
   ],
   "source": [
    "p=re.compile(\"\\Z\")\n",
    "print(p.findall(\"i want to go school 10 o' clcok,to 9 -54_$,% \"))"
   ]
  },
  {
   "cell_type": "code",
   "execution_count": 15,
   "metadata": {},
   "outputs": [
    {
     "data": {
      "text/plain": [
       "['ab', 'abb', 'a', 'abbb']"
      ]
     },
     "execution_count": 15,
     "metadata": {},
     "output_type": "execute_result"
    }
   ],
   "source": [
    "p=re.compile(\"ab*\")   #0 or more occurances\n",
    "p.findall(\"ababbaabbb\")   "
   ]
  },
  {
   "cell_type": "code",
   "execution_count": 16,
   "metadata": {},
   "outputs": [
    {
     "data": {
      "text/plain": [
       "['ab', 'ab', 'b', 'aab', 'b', 'b']"
      ]
     },
     "execution_count": 16,
     "metadata": {},
     "output_type": "execute_result"
    }
   ],
   "source": [
    "p=re.compile(\"a*b\")   #0 or more occurances\n",
    "p.findall(\"ababbaabbb\")   "
   ]
  },
  {
   "cell_type": "code",
   "execution_count": 17,
   "metadata": {},
   "outputs": [
    {
     "data": {
      "text/plain": [
       "['ab', 'ab', 'ab']"
      ]
     },
     "execution_count": 17,
     "metadata": {},
     "output_type": "execute_result"
    }
   ],
   "source": [
    "p=re.compile(\"ab\")   #0 or more occurances\n",
    "p.findall(\"ababbaabbb\")   "
   ]
  },
  {
   "cell_type": "code",
   "execution_count": 18,
   "metadata": {},
   "outputs": [
    {
     "data": {
      "text/plain": [
       "['ab', 'abb', 'abbb']"
      ]
     },
     "execution_count": 18,
     "metadata": {},
     "output_type": "execute_result"
    }
   ],
   "source": [
    "p=re.compile(\"ab+\")   #0 or more occurances\n",
    "p.findall(\"ababbaabbb\")   "
   ]
  },
  {
   "cell_type": "code",
   "execution_count": 19,
   "metadata": {},
   "outputs": [
    {
     "data": {
      "text/plain": [
       "['abb', 'abbb']"
      ]
     },
     "execution_count": 19,
     "metadata": {},
     "output_type": "execute_result"
    }
   ],
   "source": [
    "p=re.compile(\"abbb*\")   #0 or more occurances\n",
    "p.findall(\"ababbaabbb\")   "
   ]
  },
  {
   "cell_type": "code",
   "execution_count": 20,
   "metadata": {},
   "outputs": [
    {
     "data": {
      "text/plain": [
       "['ab', 'ab', 'b', 'aab', 'b', 'b']"
      ]
     },
     "execution_count": 20,
     "metadata": {},
     "output_type": "execute_result"
    }
   ],
   "source": [
    "p=re.compile(\"a*b\")   #0 or more occurances  sigle b hoga but a nhi\n",
    "p.findall(\"ababbaabbb\")   "
   ]
  },
  {
   "cell_type": "code",
   "execution_count": 21,
   "metadata": {},
   "outputs": [
    {
     "data": {
      "text/plain": [
       "['ab', 'ab', 'aaab']"
      ]
     },
     "execution_count": 21,
     "metadata": {},
     "output_type": "execute_result"
    }
   ],
   "source": [
    "p=re.compile(\"a+b\")   #1 or more occurances\n",
    "p.findall(\"ababbaaabbb\")   "
   ]
  },
  {
   "cell_type": "code",
   "execution_count": 22,
   "metadata": {},
   "outputs": [
    {
     "data": {
      "text/plain": [
       "['abb', 'abbb']"
      ]
     },
     "execution_count": 22,
     "metadata": {},
     "output_type": "execute_result"
    }
   ],
   "source": [
    "p=re.compile(\"abb+\")   #1 or more occurances\n",
    "p.findall(\"ababbaabbb\")   "
   ]
  },
  {
   "cell_type": "code",
   "execution_count": 23,
   "metadata": {},
   "outputs": [
    {
     "data": {
      "text/plain": [
       "['abb', 'abb']"
      ]
     },
     "execution_count": 23,
     "metadata": {},
     "output_type": "execute_result"
    }
   ],
   "source": [
    "p=re.compile(\"abb\") \n",
    "p.findall(\"ababbaabbb\")   "
   ]
  },
  {
   "cell_type": "code",
   "execution_count": 24,
   "metadata": {},
   "outputs": [
    {
     "data": {
      "text/plain": [
       "['ab', 'ab', 'a', 'ab']"
      ]
     },
     "execution_count": 24,
     "metadata": {},
     "output_type": "execute_result"
    }
   ],
   "source": [
    "p=re.compile(\"ab?\")   #0 or 1 occurances # a single ayega b nhi\n",
    "p.findall(\"ababbaabbb\")   "
   ]
  },
  {
   "cell_type": "code",
   "execution_count": 25,
   "metadata": {},
   "outputs": [
    {
     "data": {
      "text/plain": [
       "['ab', 'ab', 'b', 'ab', 'b', 'b']"
      ]
     },
     "execution_count": 25,
     "metadata": {},
     "output_type": "execute_result"
    }
   ],
   "source": [
    "p=re.compile(\"a?b\")   # #b sigle aayega a nhi\n",
    "p.findall(\"ababbaabbb\")   "
   ]
  },
  {
   "cell_type": "code",
   "execution_count": 26,
   "metadata": {},
   "outputs": [
    {
     "data": {
      "text/plain": [
       "['ab']"
      ]
     },
     "execution_count": 26,
     "metadata": {},
     "output_type": "execute_result"
    }
   ],
   "source": [
    "p=re.compile(\"^ab\")   #ab pahle se match krke result eturn karega\n",
    "p.findall(\"ababbaabbb\")   "
   ]
  },
  {
   "cell_type": "code",
   "execution_count": 27,
   "metadata": {},
   "outputs": [
    {
     "data": {
      "text/plain": [
       "['bb']"
      ]
     },
     "execution_count": 27,
     "metadata": {},
     "output_type": "execute_result"
    }
   ],
   "source": [
    "p=re.compile(\"bb$\")   #last se match krega result dega\n",
    "p.findall(\"ababbaabbb\")   "
   ]
  },
  {
   "cell_type": "code",
   "execution_count": 28,
   "metadata": {},
   "outputs": [
    {
     "data": {
      "text/plain": [
       "['a', 'b', 'a', 'b', 'b', 'a', 'a', 'b', 'b', 'b']"
      ]
     },
     "execution_count": 28,
     "metadata": {},
     "output_type": "execute_result"
    }
   ],
   "source": [
    "p=re.compile(\"[a-z]\")   #0 or more occurances\n",
    "p.findall(\"ababbaabbb\")   "
   ]
  },
  {
   "cell_type": "code",
   "execution_count": 29,
   "metadata": {},
   "outputs": [
    {
     "data": {
      "text/plain": [
       "['a', 'b', 'a', 'b', 'b', 'a', 'a', 'b', 'b', 'b']"
      ]
     },
     "execution_count": 29,
     "metadata": {},
     "output_type": "execute_result"
    }
   ],
   "source": [
    "p=re.compile(\"[1-2 a-z]\")   #0 or more occurances\n",
    "p.findall(\"ababbaabbb\")   "
   ]
  },
  {
   "cell_type": "code",
   "execution_count": 30,
   "metadata": {},
   "outputs": [
    {
     "data": {
      "text/plain": [
       "['abab', 'abbb']"
      ]
     },
     "execution_count": 30,
     "metadata": {},
     "output_type": "execute_result"
    }
   ],
   "source": [
    "p=re.compile(\"ab..\")   #0 or more occurances\n",
    "p.findall(\"ababbaabbb\")   "
   ]
  },
  {
   "cell_type": "code",
   "execution_count": 31,
   "metadata": {},
   "outputs": [
    {
     "data": {
      "text/plain": [
       "['abb', 'aab']"
      ]
     },
     "execution_count": 31,
     "metadata": {},
     "output_type": "execute_result"
    }
   ],
   "source": [
    "p=re.compile(\"a.b\")   #0 or more occurances\n",
    "p.findall(\"ababbaabbb\")   "
   ]
  },
  {
   "cell_type": "code",
   "execution_count": 32,
   "metadata": {},
   "outputs": [
    {
     "data": {
      "text/plain": [
       "['a', 'b', 'a', 'b', 'b', 'a', 'a', 'b', 'b', 'b']"
      ]
     },
     "execution_count": 32,
     "metadata": {},
     "output_type": "execute_result"
    }
   ],
   "source": [
    "p=re.compile(\"[\\D]\")   #0 or more occurances\n",
    "p.findall(\"ababbaabbb\")   "
   ]
  },
  {
   "cell_type": "code",
   "execution_count": 33,
   "metadata": {},
   "outputs": [
    {
     "data": {
      "text/plain": [
       "['', '', '', '', '', '', '', '', '', '', '']"
      ]
     },
     "execution_count": 33,
     "metadata": {},
     "output_type": "execute_result"
    }
   ],
   "source": [
    "p=re.compile(\"()\")   #0 or more occurances\n",
    "p.findall(\"ababbaabbb\")   "
   ]
  },
  {
   "cell_type": "code",
   "execution_count": 34,
   "metadata": {},
   "outputs": [
    {
     "data": {
      "text/plain": [
       "['ab', 'abb', 'a', 'abbb']"
      ]
     },
     "execution_count": 34,
     "metadata": {},
     "output_type": "execute_result"
    }
   ],
   "source": [
    "p=re.compile(\"ab*\")   #0 or more occurances\n",
    "p.findall(\"ababbaabbb\")   "
   ]
  },
  {
   "cell_type": "markdown",
   "metadata": {},
   "source": [
    "# example"
   ]
  },
  {
   "cell_type": "code",
   "execution_count": 23,
   "metadata": {},
   "outputs": [],
   "source": [
    "nameage='''my name is Shani and my age is 22\n",
    "and my brother Amit age is 19'''"
   ]
  },
  {
   "cell_type": "code",
   "execution_count": 24,
   "metadata": {},
   "outputs": [
    {
     "data": {
      "text/plain": [
       "['22', '19']"
      ]
     },
     "execution_count": 24,
     "metadata": {},
     "output_type": "execute_result"
    }
   ],
   "source": [
    "re.findall(r\"\\d{1,3}\",nameage)  # find age numeric[1  ho ya 2 digits]"
   ]
  },
  {
   "cell_type": "code",
   "execution_count": 26,
   "metadata": {},
   "outputs": [
    {
     "data": {
      "text/plain": [
       "['Shani', 'Amit']"
      ]
     },
     "execution_count": 26,
     "metadata": {},
     "output_type": "execute_result"
    }
   ],
   "source": [
    "nameage='''my name is Shani and my age is 22\n",
    "and my brother Amit age is 19'''\n",
    "name=re.findall(r'[A-Z][a-z]+',nameage)  # find name starting capital uskebad small\n",
    "name"
   ]
  },
  {
   "cell_type": "code",
   "execution_count": 27,
   "metadata": {},
   "outputs": [
    {
     "name": "stdout",
     "output_type": "stream",
     "text": [
      "{'Shani': '22', 'Amit': '19'}\n"
     ]
    }
   ],
   "source": [
    "nameage='''my name is Shani and my age is 22\n",
    "and my brother Amit age is 19'''\n",
    "age=re.findall(r\"\\d{1,3}\",nameage)\n",
    "name=re.findall(r'[A-Z][a-z]*',nameage)  # find name starting capital uskebad small\n",
    "dict={}\n",
    "x=0\n",
    "for i in name:\n",
    "    dict[i]=age[x]\n",
    "    x+=1\n",
    "print(dict)  "
   ]
  },
  {
   "cell_type": "code",
   "execution_count": 32,
   "metadata": {},
   "outputs": [],
   "source": [
    "nameage='''my name is Shani and my age is 22\n",
    "and my brother Amit age is 19'''\n",
    "age=re.findall(r\"\\d{1,3}\",nameage)\n",
    "name=re.findall(r'[A-Z][a-z]*',nameage)\n",
    "d={i:j for (i,j) in zip(name,age) }"
   ]
  },
  {
   "cell_type": "code",
   "execution_count": 33,
   "metadata": {},
   "outputs": [
    {
     "name": "stdout",
     "output_type": "stream",
     "text": [
      "{'Shani': '22', 'Amit': '19'}\n"
     ]
    }
   ],
   "source": [
    "print(d)"
   ]
  },
  {
   "cell_type": "markdown",
   "metadata": {},
   "source": [
    "## search"
   ]
  },
  {
   "cell_type": "code",
   "execution_count": 41,
   "metadata": {},
   "outputs": [],
   "source": [
    "a=re.search('inform',\"we need to inform rahul \")"
   ]
  },
  {
   "cell_type": "code",
   "execution_count": 42,
   "metadata": {},
   "outputs": [
    {
     "data": {
      "text/plain": [
       "<_sre.SRE_Match object; span=(11, 17), match='inform'>"
      ]
     },
     "execution_count": 42,
     "metadata": {},
     "output_type": "execute_result"
    }
   ],
   "source": [
    "a"
   ]
  },
  {
   "cell_type": "code",
   "execution_count": 43,
   "metadata": {},
   "outputs": [
    {
     "data": {
      "text/plain": [
       "'inform'"
      ]
     },
     "execution_count": 43,
     "metadata": {},
     "output_type": "execute_result"
    }
   ],
   "source": [
    "a.group()"
   ]
  },
  {
   "cell_type": "code",
   "execution_count": 44,
   "metadata": {},
   "outputs": [],
   "source": [
    "b=re.match('inform',\"we need to inform rahul \")"
   ]
  },
  {
   "cell_type": "code",
   "execution_count": 45,
   "metadata": {},
   "outputs": [
    {
     "name": "stdout",
     "output_type": "stream",
     "text": [
      "(11, 17)\n",
      "(38, 44)\n"
     ]
    }
   ],
   "source": [
    "str=\"we need to inform him with the latest information\"\n",
    "for i in re.finditer(\"inform\",str):\n",
    "    loc=i.span()\n",
    "    print(loc)"
   ]
  },
  {
   "cell_type": "code",
   "execution_count": 46,
   "metadata": {},
   "outputs": [
    {
     "name": "stdout",
     "output_type": "stream",
     "text": [
      "['mat', 'pat']\n"
     ]
    }
   ],
   "source": [
    "str=\"sta,mat,pat,cat\"\n",
    "allstr=re.findall(\"[shmap]at\",str)\n",
    "print(allstr)"
   ]
  },
  {
   "cell_type": "code",
   "execution_count": 116,
   "metadata": {},
   "outputs": [
    {
     "name": "stdout",
     "output_type": "stream",
     "text": [
      "['pat']\n"
     ]
    }
   ],
   "source": [
    "str=\"sta,mat,pat,cat\"\n",
    "allstr=re.findall(\"[^c-m]at\",str)   # c se m nhi chahiye start me\n",
    "print(allstr)"
   ]
  },
  {
   "cell_type": "markdown",
   "metadata": {},
   "source": [
    "# substitute"
   ]
  },
  {
   "cell_type": "code",
   "execution_count": 48,
   "metadata": {},
   "outputs": [
    {
     "data": {
      "text/plain": [
       "'hat food mat pat'"
      ]
     },
     "execution_count": 48,
     "metadata": {},
     "output_type": "execute_result"
    }
   ],
   "source": [
    "food=\"hat rat mat pat\"\n",
    "reg=re.compile('[r]at')\n",
    "reg.sub(\"food\",food)"
   ]
  },
  {
   "cell_type": "code",
   "execution_count": 49,
   "metadata": {},
   "outputs": [],
   "source": [
    "a=\"333-999-333 is a phone no and 222-567-998 is second phone no 223-980-678\""
   ]
  },
  {
   "cell_type": "code",
   "execution_count": 50,
   "metadata": {},
   "outputs": [
    {
     "data": {
      "text/plain": [
       "['333-999-333', '222-567-998', '223-980-678']"
      ]
     },
     "execution_count": 50,
     "metadata": {},
     "output_type": "execute_result"
    }
   ],
   "source": [
    "re.findall('\\d{3}-\\d{3}-\\d{3}',a)"
   ]
  },
  {
   "cell_type": "code",
   "execution_count": 51,
   "metadata": {},
   "outputs": [
    {
     "data": {
      "text/plain": [
       "['333-999-333', '222-567-998', '223-980-678']"
      ]
     },
     "execution_count": 51,
     "metadata": {},
     "output_type": "execute_result"
    }
   ],
   "source": [
    "re.findall('\\d{1,4}-\\d{1,4}-\\d{1,4}',a)"
   ]
  },
  {
   "cell_type": "code",
   "execution_count": 52,
   "metadata": {},
   "outputs": [],
   "source": [
    "a=\"Amit9988@gmail.com is a phone no and shanikumar0009@gmail.com is second phone no pradeep67@gmail.com\""
   ]
  },
  {
   "cell_type": "code",
   "execution_count": null,
   "metadata": {},
   "outputs": [],
   "source": []
  },
  {
   "cell_type": "code",
   "execution_count": 187,
   "metadata": {},
   "outputs": [
    {
     "data": {
      "text/plain": [
       "['9988', '0009', '67']"
      ]
     },
     "execution_count": 187,
     "metadata": {},
     "output_type": "execute_result"
    }
   ],
   "source": [
    "re.findall(\"\\d+\",a)"
   ]
  },
  {
   "cell_type": "code",
   "execution_count": 184,
   "metadata": {},
   "outputs": [
    {
     "data": {
      "text/plain": [
       "['Amit9988@gmail.com', 'shanikumar0009@gmail.com', 'pradeep67@gmail.com']"
      ]
     },
     "execution_count": 184,
     "metadata": {},
     "output_type": "execute_result"
    }
   ],
   "source": [
    "re.findall(\"\\S+@\\S+\",a)"
   ]
  },
  {
   "cell_type": "code",
   "execution_count": 54,
   "metadata": {},
   "outputs": [
    {
     "data": {
      "text/plain": [
       "['Amit9988@gmail.com',\n",
       " 'is',\n",
       " 'a',\n",
       " 'phone',\n",
       " 'no',\n",
       " 'and',\n",
       " 'shanikumar0009@gmail.com',\n",
       " 'is',\n",
       " 'second',\n",
       " 'phone',\n",
       " 'no',\n",
       " 'pradeep67@gmail.com']"
      ]
     },
     "execution_count": 54,
     "metadata": {},
     "output_type": "execute_result"
    }
   ],
   "source": [
    "re.findall(\"\\S+\",a)"
   ]
  },
  {
   "cell_type": "code",
   "execution_count": null,
   "metadata": {},
   "outputs": [],
   "source": []
  },
  {
   "cell_type": "markdown",
   "metadata": {},
   "source": [
    "# regular expression in dataframe"
   ]
  },
  {
   "cell_type": "code",
   "execution_count": 55,
   "metadata": {},
   "outputs": [],
   "source": [
    "import pandas as pd"
   ]
  },
  {
   "cell_type": "code",
   "execution_count": 62,
   "metadata": {},
   "outputs": [
    {
     "data": {
      "text/html": [
       "<div>\n",
       "<style scoped>\n",
       "    .dataframe tbody tr th:only-of-type {\n",
       "        vertical-align: middle;\n",
       "    }\n",
       "\n",
       "    .dataframe tbody tr th {\n",
       "        vertical-align: top;\n",
       "    }\n",
       "\n",
       "    .dataframe thead th {\n",
       "        text-align: right;\n",
       "    }\n",
       "</style>\n",
       "<table border=\"1\" class=\"dataframe\">\n",
       "  <thead>\n",
       "    <tr style=\"text-align: right;\">\n",
       "      <th></th>\n",
       "      <th>label</th>\n",
       "      <th>message</th>\n",
       "      <th>length</th>\n",
       "      <th>punct</th>\n",
       "    </tr>\n",
       "  </thead>\n",
       "  <tbody>\n",
       "    <tr>\n",
       "      <th>0</th>\n",
       "      <td>ham</td>\n",
       "      <td>Go until jurong point, crazy.. Available only ...</td>\n",
       "      <td>111</td>\n",
       "      <td>9</td>\n",
       "    </tr>\n",
       "    <tr>\n",
       "      <th>1</th>\n",
       "      <td>ham</td>\n",
       "      <td>Ok lar... Joking wif u oni...</td>\n",
       "      <td>29</td>\n",
       "      <td>6</td>\n",
       "    </tr>\n",
       "    <tr>\n",
       "      <th>2</th>\n",
       "      <td>spam</td>\n",
       "      <td>Free entry in 2 a wkly comp to win FA Cup fina...</td>\n",
       "      <td>155</td>\n",
       "      <td>6</td>\n",
       "    </tr>\n",
       "    <tr>\n",
       "      <th>3</th>\n",
       "      <td>ham</td>\n",
       "      <td>U dun say so early hor... U c already then say...</td>\n",
       "      <td>49</td>\n",
       "      <td>6</td>\n",
       "    </tr>\n",
       "    <tr>\n",
       "      <th>4</th>\n",
       "      <td>ham</td>\n",
       "      <td>Nah I don't think he goes to usf, he lives aro...</td>\n",
       "      <td>61</td>\n",
       "      <td>2</td>\n",
       "    </tr>\n",
       "  </tbody>\n",
       "</table>\n",
       "</div>"
      ],
      "text/plain": [
       "  label                                            message  length  punct\n",
       "0   ham  Go until jurong point, crazy.. Available only ...     111      9\n",
       "1   ham                      Ok lar... Joking wif u oni...      29      6\n",
       "2  spam  Free entry in 2 a wkly comp to win FA Cup fina...     155      6\n",
       "3   ham  U dun say so early hor... U c already then say...      49      6\n",
       "4   ham  Nah I don't think he goes to usf, he lives aro...      61      2"
      ]
     },
     "execution_count": 62,
     "metadata": {},
     "output_type": "execute_result"
    }
   ],
   "source": [
    "dt=pd.read_csv(\"spam.tsv\",sep=\"\\t\")\n",
    "dt.head()"
   ]
  },
  {
   "cell_type": "code",
   "execution_count": 85,
   "metadata": {
    "collapsed": true
   },
   "outputs": [
    {
     "data": {
      "text/html": [
       "<div>\n",
       "<style scoped>\n",
       "    .dataframe tbody tr th:only-of-type {\n",
       "        vertical-align: middle;\n",
       "    }\n",
       "\n",
       "    .dataframe tbody tr th {\n",
       "        vertical-align: top;\n",
       "    }\n",
       "\n",
       "    .dataframe thead th {\n",
       "        text-align: right;\n",
       "    }\n",
       "</style>\n",
       "<table border=\"1\" class=\"dataframe\">\n",
       "  <thead>\n",
       "    <tr style=\"text-align: right;\">\n",
       "      <th></th>\n",
       "      <th>0</th>\n",
       "    </tr>\n",
       "  </thead>\n",
       "  <tbody>\n",
       "    <tr>\n",
       "      <th>0</th>\n",
       "      <td>ham</td>\n",
       "    </tr>\n",
       "    <tr>\n",
       "      <th>1</th>\n",
       "      <td>ham</td>\n",
       "    </tr>\n",
       "    <tr>\n",
       "      <th>2</th>\n",
       "      <td>NaN</td>\n",
       "    </tr>\n",
       "    <tr>\n",
       "      <th>3</th>\n",
       "      <td>ham</td>\n",
       "    </tr>\n",
       "    <tr>\n",
       "      <th>4</th>\n",
       "      <td>ham</td>\n",
       "    </tr>\n",
       "    <tr>\n",
       "      <th>5</th>\n",
       "      <td>NaN</td>\n",
       "    </tr>\n",
       "    <tr>\n",
       "      <th>6</th>\n",
       "      <td>ham</td>\n",
       "    </tr>\n",
       "    <tr>\n",
       "      <th>7</th>\n",
       "      <td>ham</td>\n",
       "    </tr>\n",
       "    <tr>\n",
       "      <th>8</th>\n",
       "      <td>NaN</td>\n",
       "    </tr>\n",
       "    <tr>\n",
       "      <th>9</th>\n",
       "      <td>NaN</td>\n",
       "    </tr>\n",
       "    <tr>\n",
       "      <th>10</th>\n",
       "      <td>ham</td>\n",
       "    </tr>\n",
       "    <tr>\n",
       "      <th>11</th>\n",
       "      <td>NaN</td>\n",
       "    </tr>\n",
       "    <tr>\n",
       "      <th>12</th>\n",
       "      <td>NaN</td>\n",
       "    </tr>\n",
       "    <tr>\n",
       "      <th>13</th>\n",
       "      <td>ham</td>\n",
       "    </tr>\n",
       "    <tr>\n",
       "      <th>14</th>\n",
       "      <td>ham</td>\n",
       "    </tr>\n",
       "    <tr>\n",
       "      <th>15</th>\n",
       "      <td>NaN</td>\n",
       "    </tr>\n",
       "    <tr>\n",
       "      <th>16</th>\n",
       "      <td>ham</td>\n",
       "    </tr>\n",
       "    <tr>\n",
       "      <th>17</th>\n",
       "      <td>ham</td>\n",
       "    </tr>\n",
       "    <tr>\n",
       "      <th>18</th>\n",
       "      <td>ham</td>\n",
       "    </tr>\n",
       "    <tr>\n",
       "      <th>19</th>\n",
       "      <td>NaN</td>\n",
       "    </tr>\n",
       "    <tr>\n",
       "      <th>20</th>\n",
       "      <td>ham</td>\n",
       "    </tr>\n",
       "    <tr>\n",
       "      <th>21</th>\n",
       "      <td>ham</td>\n",
       "    </tr>\n",
       "    <tr>\n",
       "      <th>22</th>\n",
       "      <td>ham</td>\n",
       "    </tr>\n",
       "    <tr>\n",
       "      <th>23</th>\n",
       "      <td>ham</td>\n",
       "    </tr>\n",
       "    <tr>\n",
       "      <th>24</th>\n",
       "      <td>ham</td>\n",
       "    </tr>\n",
       "    <tr>\n",
       "      <th>25</th>\n",
       "      <td>ham</td>\n",
       "    </tr>\n",
       "    <tr>\n",
       "      <th>26</th>\n",
       "      <td>ham</td>\n",
       "    </tr>\n",
       "    <tr>\n",
       "      <th>27</th>\n",
       "      <td>ham</td>\n",
       "    </tr>\n",
       "    <tr>\n",
       "      <th>28</th>\n",
       "      <td>ham</td>\n",
       "    </tr>\n",
       "    <tr>\n",
       "      <th>29</th>\n",
       "      <td>ham</td>\n",
       "    </tr>\n",
       "    <tr>\n",
       "      <th>...</th>\n",
       "      <td>...</td>\n",
       "    </tr>\n",
       "    <tr>\n",
       "      <th>5542</th>\n",
       "      <td>ham</td>\n",
       "    </tr>\n",
       "    <tr>\n",
       "      <th>5543</th>\n",
       "      <td>ham</td>\n",
       "    </tr>\n",
       "    <tr>\n",
       "      <th>5544</th>\n",
       "      <td>ham</td>\n",
       "    </tr>\n",
       "    <tr>\n",
       "      <th>5545</th>\n",
       "      <td>ham</td>\n",
       "    </tr>\n",
       "    <tr>\n",
       "      <th>5546</th>\n",
       "      <td>ham</td>\n",
       "    </tr>\n",
       "    <tr>\n",
       "      <th>5547</th>\n",
       "      <td>NaN</td>\n",
       "    </tr>\n",
       "    <tr>\n",
       "      <th>5548</th>\n",
       "      <td>ham</td>\n",
       "    </tr>\n",
       "    <tr>\n",
       "      <th>5549</th>\n",
       "      <td>ham</td>\n",
       "    </tr>\n",
       "    <tr>\n",
       "      <th>5550</th>\n",
       "      <td>ham</td>\n",
       "    </tr>\n",
       "    <tr>\n",
       "      <th>5551</th>\n",
       "      <td>ham</td>\n",
       "    </tr>\n",
       "    <tr>\n",
       "      <th>5552</th>\n",
       "      <td>ham</td>\n",
       "    </tr>\n",
       "    <tr>\n",
       "      <th>5553</th>\n",
       "      <td>ham</td>\n",
       "    </tr>\n",
       "    <tr>\n",
       "      <th>5554</th>\n",
       "      <td>ham</td>\n",
       "    </tr>\n",
       "    <tr>\n",
       "      <th>5555</th>\n",
       "      <td>ham</td>\n",
       "    </tr>\n",
       "    <tr>\n",
       "      <th>5556</th>\n",
       "      <td>ham</td>\n",
       "    </tr>\n",
       "    <tr>\n",
       "      <th>5557</th>\n",
       "      <td>ham</td>\n",
       "    </tr>\n",
       "    <tr>\n",
       "      <th>5558</th>\n",
       "      <td>ham</td>\n",
       "    </tr>\n",
       "    <tr>\n",
       "      <th>5559</th>\n",
       "      <td>ham</td>\n",
       "    </tr>\n",
       "    <tr>\n",
       "      <th>5560</th>\n",
       "      <td>ham</td>\n",
       "    </tr>\n",
       "    <tr>\n",
       "      <th>5561</th>\n",
       "      <td>ham</td>\n",
       "    </tr>\n",
       "    <tr>\n",
       "      <th>5562</th>\n",
       "      <td>ham</td>\n",
       "    </tr>\n",
       "    <tr>\n",
       "      <th>5563</th>\n",
       "      <td>ham</td>\n",
       "    </tr>\n",
       "    <tr>\n",
       "      <th>5564</th>\n",
       "      <td>ham</td>\n",
       "    </tr>\n",
       "    <tr>\n",
       "      <th>5565</th>\n",
       "      <td>ham</td>\n",
       "    </tr>\n",
       "    <tr>\n",
       "      <th>5566</th>\n",
       "      <td>NaN</td>\n",
       "    </tr>\n",
       "    <tr>\n",
       "      <th>5567</th>\n",
       "      <td>NaN</td>\n",
       "    </tr>\n",
       "    <tr>\n",
       "      <th>5568</th>\n",
       "      <td>ham</td>\n",
       "    </tr>\n",
       "    <tr>\n",
       "      <th>5569</th>\n",
       "      <td>ham</td>\n",
       "    </tr>\n",
       "    <tr>\n",
       "      <th>5570</th>\n",
       "      <td>ham</td>\n",
       "    </tr>\n",
       "    <tr>\n",
       "      <th>5571</th>\n",
       "      <td>ham</td>\n",
       "    </tr>\n",
       "  </tbody>\n",
       "</table>\n",
       "<p>5572 rows × 1 columns</p>\n",
       "</div>"
      ],
      "text/plain": [
       "        0\n",
       "0     ham\n",
       "1     ham\n",
       "2     NaN\n",
       "3     ham\n",
       "4     ham\n",
       "5     NaN\n",
       "6     ham\n",
       "7     ham\n",
       "8     NaN\n",
       "9     NaN\n",
       "10    ham\n",
       "11    NaN\n",
       "12    NaN\n",
       "13    ham\n",
       "14    ham\n",
       "15    NaN\n",
       "16    ham\n",
       "17    ham\n",
       "18    ham\n",
       "19    NaN\n",
       "20    ham\n",
       "21    ham\n",
       "22    ham\n",
       "23    ham\n",
       "24    ham\n",
       "25    ham\n",
       "26    ham\n",
       "27    ham\n",
       "28    ham\n",
       "29    ham\n",
       "...   ...\n",
       "5542  ham\n",
       "5543  ham\n",
       "5544  ham\n",
       "5545  ham\n",
       "5546  ham\n",
       "5547  NaN\n",
       "5548  ham\n",
       "5549  ham\n",
       "5550  ham\n",
       "5551  ham\n",
       "5552  ham\n",
       "5553  ham\n",
       "5554  ham\n",
       "5555  ham\n",
       "5556  ham\n",
       "5557  ham\n",
       "5558  ham\n",
       "5559  ham\n",
       "5560  ham\n",
       "5561  ham\n",
       "5562  ham\n",
       "5563  ham\n",
       "5564  ham\n",
       "5565  ham\n",
       "5566  NaN\n",
       "5567  NaN\n",
       "5568  ham\n",
       "5569  ham\n",
       "5570  ham\n",
       "5571  ham\n",
       "\n",
       "[5572 rows x 1 columns]"
      ]
     },
     "execution_count": 85,
     "metadata": {},
     "output_type": "execute_result"
    }
   ],
   "source": [
    "dt.label.str.extract(r\"([amh]..)\")"
   ]
  },
  {
   "cell_type": "code",
   "execution_count": 94,
   "metadata": {},
   "outputs": [
    {
     "data": {
      "text/plain": [
       "0    Go until jurong point, crazy.. Available only ...\n",
       "1                        Ok lar... Joking wif u oni...\n",
       "2    Free entry in 2 a wkly comp to win FA Cup fina...\n",
       "3    U dun say so early hor... U c already then say...\n",
       "4    Nah I don't think he goes to usf, he lives aro...\n",
       "Name: message, dtype: object"
      ]
     },
     "execution_count": 94,
     "metadata": {},
     "output_type": "execute_result"
    }
   ],
   "source": [
    "dt.message.head()"
   ]
  },
  {
   "cell_type": "code",
   "execution_count": 206,
   "metadata": {},
   "outputs": [
    {
     "data": {
      "text/plain": [
       "0                                             []\n",
       "1                                             []\n",
       "2          [2, 21, 2005, 87121, 08452810075, 18]\n",
       "3                                             []\n",
       "4                                             []\n",
       "5                                     [3, 1, 50]\n",
       "6                                             []\n",
       "7                                            [9]\n",
       "8                    [900, 09061701461, 341, 12]\n",
       "9                              [11, 08002986030]\n",
       "10                                            []\n",
       "11      [100, 20, 000, 11, 87575, 150, 6, 16, 4]\n",
       "12          [1, 100, 000, 81010, 4403, 1, 7, 18]\n",
       "13                                            []\n",
       "14                                            []\n",
       "15                                            []\n",
       "16                                            []\n",
       "17                                           [2]\n",
       "18                                            []\n",
       "19       [87077, 87077, 4, 1, 20, 36504, 45, 16]\n",
       "20                                            []\n",
       "21                                           [2]\n",
       "22                                            []\n",
       "23                                           [3]\n",
       "24                                            []\n",
       "25                                            []\n",
       "26                                            []\n",
       "27                                            []\n",
       "28                                            []\n",
       "29                                            []\n",
       "                          ...                   \n",
       "5542                                          []\n",
       "5543                                          []\n",
       "5544                                          []\n",
       "5545                                          []\n",
       "5546                                          []\n",
       "5547                                        [11]\n",
       "5548                                          []\n",
       "5549                                          []\n",
       "5550                                          []\n",
       "5551                                          []\n",
       "5552                                          []\n",
       "5553                                          []\n",
       "5554                                          []\n",
       "5555                                [4, 2, 2, 4]\n",
       "5556                                          []\n",
       "5557                                         [4]\n",
       "5558                                          []\n",
       "5559                                          []\n",
       "5560                                          []\n",
       "5561                                          []\n",
       "5562                                         [2]\n",
       "5563                                         [6]\n",
       "5564                                          []\n",
       "5565                                          []\n",
       "5566                               [2, 2, 50, 2]\n",
       "5567         [2, 2, 750, 2, 087187272008, 1, 10]\n",
       "5568                                          []\n",
       "5569                                          []\n",
       "5570                                          []\n",
       "5571                                          []\n",
       "Name: message, Length: 5572, dtype: object"
      ]
     },
     "execution_count": 206,
     "metadata": {},
     "output_type": "execute_result"
    }
   ],
   "source": [
    "dt.message.str.findall(r\"[0-9]+\")"
   ]
  },
  {
   "cell_type": "code",
   "execution_count": 200,
   "metadata": {},
   "outputs": [
    {
     "data": {
      "text/plain": [
       "0                                   [Go, Available, Cine]\n",
       "1                                            [Ok, Joking]\n",
       "2                                  [Free, Cup, May, Text]\n",
       "3                                                      []\n",
       "4                                                   [Nah]\n",
       "5                                [Free, Msg, Hey, Tb, Xx]\n",
       "6                                            [Even, They]\n",
       "7       [As, Melle, Melle, Oru, Minnaminunginte, Nurun...\n",
       "8                                  [As, To, Claim, Valid]\n",
       "9       [Had, Update, Free, Call, The, Mobile, Update,...\n",
       "10                                                     []\n",
       "11                         [From, Cost, Tsand, Cs, Reply]\n",
       "12                         [You, Prize, Jackpot, Txt, No]\n",
       "13                                                  [You]\n",
       "14                                                     []\n",
       "15                              [Mobile, Movie, Club, To]\n",
       "16                                                   [Oh]\n",
       "17                                          [Eh, Yes, He]\n",
       "18                                           [Fine, That]\n",
       "19                    [England, Macedonia, Txt, Try, Xox]\n",
       "20                                                   [Is]\n",
       "21                                                     []\n",
       "22                                             [So, Then]\n",
       "23                                             [Aft, Ard]\n",
       "24                                  [Ffffffffff, Alright]\n",
       "25                            [Just, This, Mark, He, Lol]\n",
       "26                                                  [Lol]\n",
       "27                         [Did, Are, Did, Are, Do, Love]\n",
       "28                                                     []\n",
       "29                                [Ahhh, Work, What, Lol]\n",
       "                              ...                        \n",
       "5542                                             [Armand]\n",
       "5543                                                   []\n",
       "5544                                                   []\n",
       "5545                                                 [Hi]\n",
       "5546                                          [Ic, There]\n",
       "5547    [Had, Mnths, Latest, Motorola, Nokia, Double, ...\n",
       "5548                                                 [No]\n",
       "5549                                    [You, We, Cribbs]\n",
       "5550                                               [Cool]\n",
       "5551                                          [Wen, That]\n",
       "5552                                [Have, Nigeria, Wish]\n",
       "5553                                             [Hahaha]\n",
       "5554                                               [Well]\n",
       "5555            [Yeh, Indians, Tho, We, Mite, Love, Pete]\n",
       "5556                                     [Yes, So, Pshew]\n",
       "5557                 [No, That, This, Have, Because, And]\n",
       "5558                                              [Sorry]\n",
       "5559                                                   []\n",
       "5560                                      [Anything, Juz]\n",
       "5561                                            [Get, My]\n",
       "5562                                           [Ok, Sony]\n",
       "5563                                                [Ard]\n",
       "5564                                                [Why]\n",
       "5565                                                [Huh]\n",
       "5566                                                 [To]\n",
       "5567                                  [This, Pound, Only]\n",
       "5568                                               [Will]\n",
       "5569                                           [Pity, So]\n",
       "5570                                                [The]\n",
       "5571                                          [Rofl, Its]\n",
       "Name: message, Length: 5572, dtype: object"
      ]
     },
     "execution_count": 200,
     "metadata": {},
     "output_type": "execute_result"
    }
   ],
   "source": [
    "dt.message.str.findall(r\"[A-Z][a-z]+\")"
   ]
  },
  {
   "cell_type": "code",
   "execution_count": null,
   "metadata": {},
   "outputs": [],
   "source": []
  },
  {
   "cell_type": "code",
   "execution_count": 193,
   "metadata": {
    "collapsed": true
   },
   "outputs": [
    {
     "data": {
      "text/plain": [
       "0       [Go until jurong]\n",
       "1                      []\n",
       "2                      []\n",
       "3                      []\n",
       "4                      []\n",
       "5                      []\n",
       "6                      []\n",
       "7                      []\n",
       "8                      []\n",
       "9                      []\n",
       "10                     []\n",
       "11                     []\n",
       "12                     []\n",
       "13                     []\n",
       "14                     []\n",
       "15                     []\n",
       "16                     []\n",
       "17                     []\n",
       "18                     []\n",
       "19                     []\n",
       "20                     []\n",
       "21                     []\n",
       "22                     []\n",
       "23                     []\n",
       "24                     []\n",
       "25                     []\n",
       "26                     []\n",
       "27                     []\n",
       "28                     []\n",
       "29                     []\n",
       "              ...        \n",
       "5542                   []\n",
       "5543                   []\n",
       "5544                   []\n",
       "5545                   []\n",
       "5546                   []\n",
       "5547                   []\n",
       "5548                   []\n",
       "5549                   []\n",
       "5550                   []\n",
       "5551                   []\n",
       "5552                   []\n",
       "5553                   []\n",
       "5554                   []\n",
       "5555                   []\n",
       "5556                   []\n",
       "5557                   []\n",
       "5558                   []\n",
       "5559                   []\n",
       "5560                   []\n",
       "5561                   []\n",
       "5562                   []\n",
       "5563                   []\n",
       "5564                   []\n",
       "5565                   []\n",
       "5566                   []\n",
       "5567                   []\n",
       "5568                   []\n",
       "5569                   []\n",
       "5570                   []\n",
       "5571                   []\n",
       "Name: message, Length: 5572, dtype: object"
      ]
     },
     "execution_count": 193,
     "metadata": {},
     "output_type": "execute_result"
    }
   ],
   "source": [
    "dt.message.str.findall(r\"Go \\S+ ju\\S+\")"
   ]
  },
  {
   "cell_type": "code",
   "execution_count": 154,
   "metadata": {
    "collapsed": true
   },
   "outputs": [
    {
     "data": {
      "text/plain": [
       "0         [jurong]\n",
       "1               []\n",
       "2               []\n",
       "3               []\n",
       "4               []\n",
       "5               []\n",
       "6               []\n",
       "7               []\n",
       "8               []\n",
       "9               []\n",
       "10              []\n",
       "11              []\n",
       "12              []\n",
       "13              []\n",
       "14              []\n",
       "15              []\n",
       "16              []\n",
       "17              []\n",
       "18              []\n",
       "19              []\n",
       "20              []\n",
       "21        [joking]\n",
       "22              []\n",
       "23              []\n",
       "24              []\n",
       "25              []\n",
       "26              []\n",
       "27              []\n",
       "28              []\n",
       "29              []\n",
       "           ...    \n",
       "5542            []\n",
       "5543      [jacket]\n",
       "5544        [just]\n",
       "5545            []\n",
       "5546            []\n",
       "5547            []\n",
       "5548            []\n",
       "5549    [jumpers,]\n",
       "5550            []\n",
       "5551            []\n",
       "5552            []\n",
       "5553            []\n",
       "5554            []\n",
       "5555            []\n",
       "5556            []\n",
       "5557        [just]\n",
       "5558            []\n",
       "5559            []\n",
       "5560            []\n",
       "5561            []\n",
       "5562            []\n",
       "5563            []\n",
       "5564            []\n",
       "5565            []\n",
       "5566            []\n",
       "5567            []\n",
       "5568            []\n",
       "5569            []\n",
       "5570            []\n",
       "5571            []\n",
       "Name: message, Length: 5572, dtype: object"
      ]
     },
     "execution_count": 154,
     "metadata": {},
     "output_type": "execute_result"
    }
   ],
   "source": [
    "dt.message.str.findall(r\"(j\\S+)\")"
   ]
  },
  {
   "cell_type": "code",
   "execution_count": 133,
   "metadata": {
    "collapsed": true
   },
   "outputs": [
    {
     "data": {
      "text/plain": [
       "0                                             []\n",
       "1                                             []\n",
       "2          [2, 21, 2005, 87121, 08452810075, 18]\n",
       "3                                             []\n",
       "4                                             []\n",
       "5                                     [3, 1, 50]\n",
       "6                                             []\n",
       "7                                            [9]\n",
       "8                    [900, 09061701461, 341, 12]\n",
       "9                              [11, 08002986030]\n",
       "10                                            []\n",
       "11      [100, 20, 000, 11, 87575, 150, 6, 16, 4]\n",
       "12          [1, 100, 000, 81010, 4403, 1, 7, 18]\n",
       "13                                            []\n",
       "14                                            []\n",
       "15                                            []\n",
       "16                                            []\n",
       "17                                           [2]\n",
       "18                                            []\n",
       "19       [87077, 87077, 4, 1, 20, 36504, 45, 16]\n",
       "20                                            []\n",
       "21                                           [2]\n",
       "22                                            []\n",
       "23                                           [3]\n",
       "24                                            []\n",
       "25                                            []\n",
       "26                                            []\n",
       "27                                            []\n",
       "28                                            []\n",
       "29                                            []\n",
       "                          ...                   \n",
       "5542                                          []\n",
       "5543                                          []\n",
       "5544                                          []\n",
       "5545                                          []\n",
       "5546                                          []\n",
       "5547                                        [11]\n",
       "5548                                          []\n",
       "5549                                          []\n",
       "5550                                          []\n",
       "5551                                          []\n",
       "5552                                          []\n",
       "5553                                          []\n",
       "5554                                          []\n",
       "5555                                [4, 2, 2, 4]\n",
       "5556                                          []\n",
       "5557                                         [4]\n",
       "5558                                          []\n",
       "5559                                          []\n",
       "5560                                          []\n",
       "5561                                          []\n",
       "5562                                         [2]\n",
       "5563                                         [6]\n",
       "5564                                          []\n",
       "5565                                          []\n",
       "5566                               [2, 2, 50, 2]\n",
       "5567         [2, 2, 750, 2, 087187272008, 1, 10]\n",
       "5568                                          []\n",
       "5569                                          []\n",
       "5570                                          []\n",
       "5571                                          []\n",
       "Name: message, Length: 5572, dtype: object"
      ]
     },
     "execution_count": 133,
     "metadata": {},
     "output_type": "execute_result"
    }
   ],
   "source": [
    "dt.message.str.findall(r\"\\d+\")"
   ]
  },
  {
   "cell_type": "code",
   "execution_count": 182,
   "metadata": {},
   "outputs": [
    {
     "data": {
      "text/plain": [
       "0       [jurong point,]\n",
       "1                    []\n",
       "2                    []\n",
       "3                    []\n",
       "4                    []\n",
       "5                    []\n",
       "6                    []\n",
       "7                    []\n",
       "8                    []\n",
       "9                    []\n",
       "10                   []\n",
       "11                   []\n",
       "12                   []\n",
       "13                   []\n",
       "14                   []\n",
       "15                   []\n",
       "16                   []\n",
       "17                   []\n",
       "18                   []\n",
       "19                   []\n",
       "20                   []\n",
       "21                   []\n",
       "22                   []\n",
       "23                   []\n",
       "24                   []\n",
       "25                   []\n",
       "26                   []\n",
       "27                   []\n",
       "28                   []\n",
       "29                   []\n",
       "             ...       \n",
       "5542                 []\n",
       "5543                 []\n",
       "5544                 []\n",
       "5545                 []\n",
       "5546                 []\n",
       "5547                 []\n",
       "5548                 []\n",
       "5549                 []\n",
       "5550                 []\n",
       "5551                 []\n",
       "5552                 []\n",
       "5553                 []\n",
       "5554                 []\n",
       "5555                 []\n",
       "5556                 []\n",
       "5557                 []\n",
       "5558                 []\n",
       "5559                 []\n",
       "5560                 []\n",
       "5561                 []\n",
       "5562                 []\n",
       "5563                 []\n",
       "5564                 []\n",
       "5565                 []\n",
       "5566                 []\n",
       "5567                 []\n",
       "5568                 []\n",
       "5569                 []\n",
       "5570                 []\n",
       "5571                 []\n",
       "Name: message, Length: 5572, dtype: object"
      ]
     },
     "execution_count": 182,
     "metadata": {},
     "output_type": "execute_result"
    }
   ],
   "source": [
    "dt.message.str.findall(\"jurong \\S+\")"
   ]
  },
  {
   "cell_type": "code",
   "execution_count": null,
   "metadata": {},
   "outputs": [],
   "source": []
  }
 ],
 "metadata": {
  "kernelspec": {
   "display_name": "Python 3",
   "language": "python",
   "name": "python3"
  },
  "language_info": {
   "codemirror_mode": {
    "name": "ipython",
    "version": 3
   },
   "file_extension": ".py",
   "mimetype": "text/x-python",
   "name": "python",
   "nbconvert_exporter": "python",
   "pygments_lexer": "ipython3",
   "version": "3.6.5"
  }
 },
 "nbformat": 4,
 "nbformat_minor": 2
}
