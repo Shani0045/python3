{
 "cells": [
  {
   "cell_type": "code",
   "execution_count": 7,
   "metadata": {},
   "outputs": [
    {
     "name": "stdout",
     "output_type": "stream",
     "text": [
      "this is m1 instance method\n",
      "this is class method\n",
      "this is static method\n"
     ]
    }
   ],
   "source": [
    "class Test:\n",
    "    def m1(self):  # instance method\n",
    "        print(\"this is m1 instance method\")\n",
    "    @classmethod\n",
    "    def m2(cls):  #class method\n",
    "        print(\"this is class method\")\n",
    "    @staticmethod\n",
    "    def m3():    #static method\n",
    "        print(\"this is static method\")\n",
    "        \n",
    "a=Test()\n",
    "a.m1()\n",
    "Test.m2()\n",
    "Test.m3()"
   ]
  },
  {
   "cell_type": "code",
   "execution_count": 10,
   "metadata": {},
   "outputs": [
    {
     "name": "stdout",
     "output_type": "stream",
     "text": [
      "addition is  10\n"
     ]
    }
   ],
   "source": [
    "class shani:\n",
    "    a=10 # class variable\n",
    "    def __init__(self,b):\n",
    "        self.b=b  # instance variable\n",
    "    @classmethod\n",
    "    def add(cls):\n",
    "        print(\"addition is \",cls.a)\n",
    "s=shani(10)\n",
    "s.a=30\n",
    "s.add()"
   ]
  },
  {
   "cell_type": "code",
   "execution_count": 25,
   "metadata": {},
   "outputs": [
    {
     "name": "stdout",
     "output_type": "stream",
     "text": [
      "addition is  30\n",
      "multiply is  200\n"
     ]
    }
   ],
   "source": [
    "class shani:\n",
    "    x=10\n",
    "    y=20\n",
    "    @classmethod\n",
    "    def add(cls):\n",
    "        print(\"addition is \",cls.x+cls.y)\n",
    "        \n",
    "    @classmethod\n",
    "    def mul(cls):\n",
    "        print(\"multiply is \",cls.x*cls.y)\n",
    "shani.add()\n",
    "shani.mul()"
   ]
  },
  {
   "cell_type": "code",
   "execution_count": 2,
   "metadata": {},
   "outputs": [
    {
     "ename": "SyntaxError",
     "evalue": "invalid syntax (<ipython-input-2-87eaade552e9>, line 5)",
     "output_type": "error",
     "traceback": [
      "\u001b[1;36m  File \u001b[1;32m\"<ipython-input-2-87eaade552e9>\"\u001b[1;36m, line \u001b[1;32m5\u001b[0m\n\u001b[1;33m    print(self.10+self.20)\u001b[0m\n\u001b[1;37m                ^\u001b[0m\n\u001b[1;31mSyntaxError\u001b[0m\u001b[1;31m:\u001b[0m invalid syntax\n"
     ]
    }
   ],
   "source": [
    "class shani:\n",
    "    x=10\n",
    "    y=20\n",
    "    def add1(self):\n",
    "        print(10+20)\n",
    "    @classmethod\n",
    "    def add(cls):\n",
    "        print(\"addition is \",cls.add1())\n",
    "        \n",
    "    @classmethod\n",
    "    def mul(cls):\n",
    "        print(\"multiply is \",cls.x*cls.y)\n",
    "shani.add()\n",
    "shani.mul()"
   ]
  },
  {
   "cell_type": "code",
   "execution_count": 31,
   "metadata": {},
   "outputs": [
    {
     "name": "stdout",
     "output_type": "stream",
     "text": [
      "addition is  5\n",
      "multiply is=  8\n"
     ]
    }
   ],
   "source": [
    "class shani:\n",
    "    @staticmethod\n",
    "    def add(c,d):\n",
    "        print(\"addition is \",c+d)\n",
    "    @staticmethod\n",
    "    def mul(c,d):\n",
    "        print(\"multiply is= \",c*d)\n",
    "shani.add(2,3)\n",
    "shani.mul(2,4)"
   ]
  },
  {
   "cell_type": "code",
   "execution_count": null,
   "metadata": {},
   "outputs": [],
   "source": []
  }
 ],
 "metadata": {
  "kernelspec": {
   "display_name": "Python 3",
   "language": "python",
   "name": "python3"
  },
  "language_info": {
   "codemirror_mode": {
    "name": "ipython",
    "version": 3
   },
   "file_extension": ".py",
   "mimetype": "text/x-python",
   "name": "python",
   "nbconvert_exporter": "python",
   "pygments_lexer": "ipython3",
   "version": "3.6.5"
  }
 },
 "nbformat": 4,
 "nbformat_minor": 2
}
