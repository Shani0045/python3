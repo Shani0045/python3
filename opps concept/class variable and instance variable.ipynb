{
 "cells": [
  {
   "cell_type": "code",
   "execution_count": 1,
   "metadata": {},
   "outputs": [
    {
     "name": "stdout",
     "output_type": "stream",
     "text": [
      "20\n"
     ]
    }
   ],
   "source": [
    "class abc:\n",
    "    a=10 # class variable\n",
    "    def fun(self,b):\n",
    "        print(b)\n",
    "o=abc()\n",
    "abc.fun(o,20)"
   ]
  },
  {
   "cell_type": "code",
   "execution_count": 3,
   "metadata": {},
   "outputs": [
    {
     "name": "stdout",
     "output_type": "stream",
     "text": [
      "100\n"
     ]
    }
   ],
   "source": [
    "class shani:\n",
    "    a=10 # class variable\n",
    "    def __init__(self,b):\n",
    "        self.b=b  # instance variable\n",
    "        print(shani.a*self.b)\n",
    "s=shani(10)\n"
   ]
  },
  {
   "cell_type": "code",
   "execution_count": 4,
   "metadata": {},
   "outputs": [
    {
     "name": "stdout",
     "output_type": "stream",
     "text": [
      "200\n",
      "{'__module__': '__main__', 'a': 20, '__init__': <function shani.__init__ at 0x000002380ABCE378>, '__dict__': <attribute '__dict__' of 'shani' objects>, '__weakref__': <attribute '__weakref__' of 'shani' objects>, '__doc__': None}\n",
      "shani\n"
     ]
    }
   ],
   "source": [
    "class shani:\n",
    "    a=10 # class variable\n",
    "    def __init__(self,b):\n",
    "        self.b=b  # instance variable\n",
    "        print(self.a*self.b)\n",
    "shani.a=20\n",
    "s=shani(10)\n",
    "\n",
    "print(shani.__dict__)\n",
    "print(shani.__name__)"
   ]
  },
  {
   "cell_type": "code",
   "execution_count": 5,
   "metadata": {},
   "outputs": [],
   "source": [
    "class shani:\n",
    "    a=10 # class variable\n",
    "    def __init__(self,b):\n",
    "        self.b=b  # instance variable\n",
    " \n",
    "    def add(self):\n",
    "        print(\"addition is \",shani.a)\n",
    "shani.a=20\n",
    "s=shani(10)"
   ]
  },
  {
   "cell_type": "code",
   "execution_count": 6,
   "metadata": {},
   "outputs": [
    {
     "name": "stdout",
     "output_type": "stream",
     "text": [
      "{'__module__': '__main__', 'a': 20, '__init__': <function shani.__init__ at 0x000002380ABCE268>, 'add': <function shani.add at 0x000002380ABCE598>, '__dict__': <attribute '__dict__' of 'shani' objects>, '__weakref__': <attribute '__weakref__' of 'shani' objects>, '__doc__': None}\n"
     ]
    }
   ],
   "source": [
    "print(shani.__dict__)"
   ]
  },
  {
   "cell_type": "code",
   "execution_count": 7,
   "metadata": {},
   "outputs": [
    {
     "name": "stdout",
     "output_type": "stream",
     "text": [
      "addition is  40\n"
     ]
    }
   ],
   "source": [
    "class shani:\n",
    "    a=10 # class variable\n",
    "    def __init__(self,b):\n",
    "        self.b=b  # instance variable\n",
    "    def add(self):\n",
    "        print(\"addition is \",self.a+self.b)\n",
    "s=shani(10)\n",
    "shani.a=30\n",
    "s.add()"
   ]
  },
  {
   "cell_type": "code",
   "execution_count": 8,
   "metadata": {},
   "outputs": [
    {
     "name": "stdout",
     "output_type": "stream",
     "text": [
      "addition is  20\n"
     ]
    }
   ],
   "source": [
    "class shani:\n",
    "    a=10 # class variable\n",
    "    def __init__(self,b):\n",
    "        self.b=b  # instance variable\n",
    "    def add(self):\n",
    "        print(\"addition is \",shani.a+self.b)\n",
    "s=shani(10)\n",
    "s.a=30\n",
    "s.add()"
   ]
  },
  {
   "cell_type": "code",
   "execution_count": 9,
   "metadata": {},
   "outputs": [
    {
     "name": "stdout",
     "output_type": "stream",
     "text": [
      "addition is  40\n"
     ]
    }
   ],
   "source": [
    "class shani:\n",
    "    a=10 # class variable\n",
    "    def __init__(self,b):\n",
    "        self.b=b  # instance variable\n",
    "    def add(instance):\n",
    "        print(\"addition is \",instance.a+instance.b)\n",
    "s=shani(10)\n",
    "s.a=30\n",
    "s.add()"
   ]
  },
  {
   "cell_type": "markdown",
   "metadata": {},
   "source": [
    "# @classmethod"
   ]
  },
  {
   "cell_type": "code",
   "execution_count": 11,
   "metadata": {},
   "outputs": [
    {
     "name": "stdout",
     "output_type": "stream",
     "text": [
      "addition is  10\n"
     ]
    }
   ],
   "source": [
    "class shani:\n",
    "    a=10 # class variable\n",
    "    def __init__(self,b):\n",
    "        self.b=b  # instance variable\n",
    "    @classmethod\n",
    "    def add(cls):\n",
    "        print(\"addition is \",cls.a)\n",
    "s=shani(10)\n",
    "s.a=30\n",
    "s.add()"
   ]
  },
  {
   "cell_type": "code",
   "execution_count": 4,
   "metadata": {},
   "outputs": [
    {
     "name": "stdout",
     "output_type": "stream",
     "text": [
      "addition is  10\n"
     ]
    }
   ],
   "source": [
    "class shani:\n",
    "    a=10 # class variable\n",
    "    def __init__(self,b):\n",
    "        self.b=b  # instance variable\n",
    "    @classmethod\n",
    "    def add(cls):\n",
    "        print(\"addition is \",cls.a)\n",
    "s=shani(10)\n",
    "s.a=30\n",
    "s.add()"
   ]
  },
  {
   "cell_type": "code",
   "execution_count": 1,
   "metadata": {},
   "outputs": [
    {
     "name": "stdout",
     "output_type": "stream",
     "text": [
      "addition is  5\n"
     ]
    }
   ],
   "source": [
    "class shani:\n",
    "    a=10 # class variable\n",
    "    def __init__(self,b):\n",
    "        self.b=b  # instance variable\n",
    "    @staticmethod\n",
    "    def add(c,d):\n",
    "        print(\"addition is \",c+d)\n",
    "s=shani(10)\n",
    "s.a=30\n",
    "s.add(2,3)"
   ]
  },
  {
   "cell_type": "code",
   "execution_count": null,
   "metadata": {},
   "outputs": [],
   "source": []
  }
 ],
 "metadata": {
  "kernelspec": {
   "display_name": "Python 3",
   "language": "python",
   "name": "python3"
  },
  "language_info": {
   "codemirror_mode": {
    "name": "ipython",
    "version": 3
   },
   "file_extension": ".py",
   "mimetype": "text/x-python",
   "name": "python",
   "nbconvert_exporter": "python",
   "pygments_lexer": "ipython3",
   "version": "3.6.5"
  }
 },
 "nbformat": 4,
 "nbformat_minor": 2
}
