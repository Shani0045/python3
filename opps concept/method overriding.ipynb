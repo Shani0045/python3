{
 "cells": [
  {
   "cell_type": "code",
   "execution_count": 1,
   "metadata": {},
   "outputs": [],
   "source": [
    "class A:\n",
    "    def m1(self):\n",
    "        print(\"this is method m1 from A\")\n",
    "        \n",
    "    def m2(self):\n",
    "        print(\"this is method m2 from A\")\n",
    "class B(A):\n",
    "    def m1(self):\n",
    "        print(\"this is method m1 from B\")"
   ]
  },
  {
   "cell_type": "code",
   "execution_count": 5,
   "metadata": {},
   "outputs": [
    {
     "name": "stdout",
     "output_type": "stream",
     "text": [
      "this is method m1 from B\n"
     ]
    }
   ],
   "source": [
    "c=B()\n",
    "c.m1()"
   ]
  },
  {
   "cell_type": "code",
   "execution_count": 6,
   "metadata": {},
   "outputs": [],
   "source": [
    "class A:\n",
    "    def m1(self):\n",
    "        print(\"this is method m1 from A\")\n",
    "        \n",
    "    def m2(self):\n",
    "        print(\"this is method m2 from A\")\n",
    "class B(A):\n",
    "    def m1(self):\n",
    "        print(\"this is method m1 from B\")\n",
    "        super().m1()"
   ]
  },
  {
   "cell_type": "code",
   "execution_count": 7,
   "metadata": {},
   "outputs": [
    {
     "name": "stdout",
     "output_type": "stream",
     "text": [
      "this is method m1 from B\n",
      "this is method m1 from A\n"
     ]
    }
   ],
   "source": [
    "d=B()\n",
    "d.m1()"
   ]
  },
  {
   "cell_type": "code",
   "execution_count": null,
   "metadata": {},
   "outputs": [],
   "source": []
  }
 ],
 "metadata": {
  "kernelspec": {
   "display_name": "Python 3",
   "language": "python",
   "name": "python3"
  },
  "language_info": {
   "codemirror_mode": {
    "name": "ipython",
    "version": 3
   },
   "file_extension": ".py",
   "mimetype": "text/x-python",
   "name": "python",
   "nbconvert_exporter": "python",
   "pygments_lexer": "ipython3",
   "version": "3.6.5"
  }
 },
 "nbformat": 4,
 "nbformat_minor": 2
}
