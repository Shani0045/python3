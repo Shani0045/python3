{
 "cells": [
  {
   "cell_type": "markdown",
   "metadata": {},
   "source": [
    "# single inheritance"
   ]
  },
  {
   "cell_type": "code",
   "execution_count": 5,
   "metadata": {},
   "outputs": [
    {
     "name": "stdout",
     "output_type": "stream",
     "text": [
      "feature 1 working\n",
      "feature 2 working\n",
      "feature 3 working\n",
      "feature 4 working\n"
     ]
    }
   ],
   "source": [
    "class A:\n",
    "    def feature1(self):\n",
    "        print(\"feature 1 working\")\n",
    "    def feature2(self):\n",
    "        print(\"feature 2 working\")\n",
    "               \n",
    "class B(A):\n",
    "    def feature3(self):\n",
    "        print(\"feature 3 working\")\n",
    "    def feature4(self):\n",
    "        print(\"feature 4 working\")\n",
    "        \n",
    "a1=B()\n",
    "a1.feature1()\n",
    "a1.feature2()\n",
    "a1.feature3()\n",
    "a1.feature4()"
   ]
  },
  {
   "cell_type": "markdown",
   "metadata": {},
   "source": [
    "# constructor"
   ]
  },
  {
   "cell_type": "code",
   "execution_count": 7,
   "metadata": {},
   "outputs": [
    {
     "name": "stdout",
     "output_type": "stream",
     "text": [
      "init method of A\n"
     ]
    }
   ],
   "source": [
    "class A:\n",
    "    def __init__(self):\n",
    "        print(\"init method of A\")\n",
    "    def feature1(self):\n",
    "        print(\"feature 1 working\")\n",
    "    def feature2(self):\n",
    "        print(\"feature 2 working\")\n",
    "       \n",
    "\n",
    "class B(A):\n",
    "    def feature3(self):\n",
    "        print(\"feature 3 working\")\n",
    "    def feature4(self):\n",
    "        print(\"feature 4 working\")\n",
    "        \n",
    "a1=B()"
   ]
  },
  {
   "cell_type": "code",
   "execution_count": 9,
   "metadata": {},
   "outputs": [
    {
     "name": "stdout",
     "output_type": "stream",
     "text": [
      "init method of B\n"
     ]
    }
   ],
   "source": [
    "class A:\n",
    "    def __init__(self):\n",
    "        print(\"init method of A\")\n",
    "        \n",
    "    def feature1(self):\n",
    "        print(\"feature 1 working\")\n",
    "    def feature2(self):\n",
    "        print(\"feature 2 working\")\n",
    "        \n",
    "        \n",
    "class B(A):\n",
    "    def __init__(self):\n",
    "        print(\"init method of B\")\n",
    "    def feature3(self):\n",
    "        print(\"feature 3 working\")\n",
    "    def feature4(self):\n",
    "        print(\"feature 4 working\")\n",
    "        \n",
    "a1=B()"
   ]
  },
  {
   "cell_type": "code",
   "execution_count": 10,
   "metadata": {},
   "outputs": [
    {
     "name": "stdout",
     "output_type": "stream",
     "text": [
      "init method of A\n",
      "init method of B\n"
     ]
    }
   ],
   "source": [
    "class A:\n",
    "    def __init__(self):\n",
    "        print(\"init method of A\")\n",
    "        \n",
    "    def feature1(self):\n",
    "        print(\"feature 1 working\")\n",
    "    def feature2(self):\n",
    "        print(\"feature 2 working\")\n",
    "        \n",
    "        \n",
    "class B(A):\n",
    "    def __init__(self):\n",
    "        super().__init__()\n",
    "        print(\"init method of B\")\n",
    "    def feature3(self):\n",
    "        print(\"feature 3 working\")\n",
    "    def feature4(self):\n",
    "        print(\"feature 4 working\")\n",
    "        \n",
    "a1=B()"
   ]
  },
  {
   "cell_type": "code",
   "execution_count": 12,
   "metadata": {},
   "outputs": [
    {
     "name": "stdout",
     "output_type": "stream",
     "text": [
      "init method in c\n"
     ]
    }
   ],
   "source": [
    "class A:\n",
    "    def __init__(self):\n",
    "        print(\"init method of A\")\n",
    "        \n",
    "    def feature1(self):\n",
    "        print(\"feature 1 working\")\n",
    "    def feature2(self):\n",
    "        print(\"feature 2 working\")\n",
    "               \n",
    "class B:\n",
    "    def __init__(self):\n",
    "        print(\"init method of B\")\n",
    "    def feature3(self):\n",
    "        print(\"feature 3 working\")\n",
    "    def feature4(self):\n",
    "        print(\"feature 4 working\")\n",
    "        \n",
    "class C(A,B):\n",
    "    def __init__(self):\n",
    "        print(\"init method in c\")\n",
    "        \n",
    "        \n",
    "a1=C()"
   ]
  },
  {
   "cell_type": "code",
   "execution_count": 13,
   "metadata": {},
   "outputs": [
    {
     "name": "stdout",
     "output_type": "stream",
     "text": [
      "init method of A\n",
      "init method in c\n"
     ]
    }
   ],
   "source": [
    "class A:\n",
    "    def __init__(self):\n",
    "        print(\"init method of A\")  \n",
    "    def feature1(self):\n",
    "        print(\"feature 1 working\")\n",
    "    def feature2(self):\n",
    "        print(\"feature 2 working\")        \n",
    "class B:\n",
    "    def __init__(self):\n",
    "        print(\"init method of B\")\n",
    "    def feature3(self):\n",
    "        print(\"feature 3 working\")\n",
    "    def feature4(self):\n",
    "        print(\"feature 4 working\")\n",
    "        \n",
    "class C(A,B):\n",
    "    def __init__(self):\n",
    "        super().__init__()\n",
    "        print(\"init method in c\")\n",
    "a1=C()"
   ]
  },
  {
   "cell_type": "code",
   "execution_count": 14,
   "metadata": {},
   "outputs": [
    {
     "name": "stdout",
     "output_type": "stream",
     "text": [
      "init method of A\n",
      "init method in c\n",
      "feature 2 working\n"
     ]
    }
   ],
   "source": [
    "class A:\n",
    "    def __init__(self):\n",
    "        print(\"init method of A\")\n",
    "        \n",
    "    def feature1(self):\n",
    "        print(\"feature 1 working\")\n",
    "    def feature2(self):\n",
    "        print(\"feature 2 working\")\n",
    "        \n",
    "        \n",
    "class B:\n",
    "    def __init__(self):\n",
    "        print(\"init method of B\")\n",
    "    def feature3(self):\n",
    "        print(\"feature 3 working\")\n",
    "    def feature4(self):\n",
    "        print(\"feature 4 working\")\n",
    "        \n",
    "class C(A,B):\n",
    "    def __init__(self):\n",
    "        super().__init__()\n",
    "        print(\"init method in c\")\n",
    "    def feat(self):\n",
    "        super().feature2()\n",
    "             \n",
    "a1=C()\n",
    "a1.feat()"
   ]
  },
  {
   "cell_type": "code",
   "execution_count": 10,
   "metadata": {},
   "outputs": [],
   "source": [
    "class shani:\n",
    "    def __init__(self,x,y):\n",
    "        self.x=x\n",
    "        self.y=y\n",
    "    def add(self):\n",
    "        print(\"addition is {}\".format(self.x+self.y))\n",
    "class amit(shani):\n",
    "    def __init__(self,x,y):\n",
    "        super().__init__(x,y)\n",
    "    def sub(self):\n",
    "        print(\"substraction is {}\".format(self.x-self.y))      "
   ]
  },
  {
   "cell_type": "code",
   "execution_count": 11,
   "metadata": {},
   "outputs": [],
   "source": [
    "obj=amit(20,10)"
   ]
  },
  {
   "cell_type": "code",
   "execution_count": 12,
   "metadata": {},
   "outputs": [
    {
     "name": "stdout",
     "output_type": "stream",
     "text": [
      "addition is 30\n"
     ]
    }
   ],
   "source": [
    "obj.add()"
   ]
  },
  {
   "cell_type": "code",
   "execution_count": 13,
   "metadata": {},
   "outputs": [
    {
     "name": "stdout",
     "output_type": "stream",
     "text": [
      "substraction is 10\n"
     ]
    }
   ],
   "source": [
    "obj.sub()"
   ]
  }
 ],
 "metadata": {
  "kernelspec": {
   "display_name": "Python 3",
   "language": "python",
   "name": "python3"
  },
  "language_info": {
   "codemirror_mode": {
    "name": "ipython",
    "version": 3
   },
   "file_extension": ".py",
   "mimetype": "text/x-python",
   "name": "python",
   "nbconvert_exporter": "python",
   "pygments_lexer": "ipython3",
   "version": "3.6.5"
  }
 },
 "nbformat": 4,
 "nbformat_minor": 2
}
