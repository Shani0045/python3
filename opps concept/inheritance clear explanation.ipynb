{
 "cells": [
  {
   "cell_type": "markdown",
   "metadata": {},
   "source": [
    "# single inheritance"
   ]
  },
  {
   "cell_type": "code",
   "execution_count": 3,
   "metadata": {},
   "outputs": [
    {
     "name": "stdout",
     "output_type": "stream",
     "text": [
      "phone model is Mi price is 10200 and company name is china\n",
      "smartphone specification HD camera  and price 10200 and os is android\n",
      "phone model is iphone price is 70000 and company name is apple\n",
      "smartphone specification dslr camera  and price 70000 and os is ios\n"
     ]
    }
   ],
   "source": [
    "class phone:\n",
    "    def __init__(self,model,price,company):\n",
    "        self.model=model\n",
    "        self.price=price\n",
    "        self.company=company\n",
    "    def details(self):\n",
    "        print(f\"phone model is {self.model} price is {self.price} and company name is {self.company}\")\n",
    "class smart_phone(phone):\n",
    "    def __init__(self,model,price,company,camera,os):\n",
    "        self.camera=camera\n",
    "        self.os=os\n",
    "        super().__init__(model,price,company)\n",
    "    def specification(self):\n",
    "        print(f\"smartphone specification {self.camera} camera  and price {self.price} and os is {self.os}\")\n",
    "    \n",
    "        \n",
    "s=phone(\"nokia\",1100,\"india\")\n",
    "d=smart_phone(\"Mi\",10200,\"china\",\"HD\",\"android\")\n",
    "d.details()\n",
    "d.specification()\n",
    "\n",
    "#second for ios\n",
    "\n",
    "i=smart_phone(\"iphone\",70000,'apple','dslr','ios')\n",
    "i.details()\n",
    "i.specification()"
   ]
  },
  {
   "cell_type": "code",
   "execution_count": 12,
   "metadata": {},
   "outputs": [
    {
     "name": "stdout",
     "output_type": "stream",
     "text": [
      "phone model is Mi price is 10300 and company name is china\n",
      "smartphone specification HD camera and os is android\n"
     ]
    }
   ],
   "source": [
    "class phone:\n",
    "    def __init__(self,model,price,company):\n",
    "        self.model=model\n",
    "        self.price=price\n",
    "        self.company=company\n",
    "    def details(self):\n",
    "        print(f\"phone model is {self.model} price is {self.price} and company name is {self.company}\")\n",
    "class smart_phone(phone):\n",
    "    def __init__(self,camera,os):\n",
    "        self.camera=camera\n",
    "        self.os=os\n",
    "        super().__init__(\"Mi\",10300,'china')\n",
    "    def specification(self):\n",
    "        print(f\"smartphone specification {self.camera} camera and os is {self.os}\")\n",
    "        \n",
    "s=phone(\"nokia\",1100,\"india\")\n",
    "d=smart_phone(\"HD\",\"android\")\n",
    "d.details()\n",
    "d.specification()\n"
   ]
  },
  {
   "cell_type": "markdown",
   "metadata": {},
   "source": [
    "# inplace of super() you can be use Class name"
   ]
  },
  {
   "cell_type": "code",
   "execution_count": 13,
   "metadata": {},
   "outputs": [
    {
     "name": "stdout",
     "output_type": "stream",
     "text": [
      "phone model is Mi price is 10300 and company name is china\n",
      "smartphone specification HD camera and os is android\n",
      "phone model is Mi price is 10300 and company name is china\n"
     ]
    }
   ],
   "source": [
    "class phone:\n",
    "    def __init__(self,model,price,company):\n",
    "        self.model=model\n",
    "        self.price=price\n",
    "        self.company=company\n",
    "    def details(self):\n",
    "        print(f\"phone model is {self.model} price is {self.price} and company name is {self.company}\")\n",
    "class smart_phone(phone):\n",
    "    def __init__(self,camera,os):\n",
    "        self.camera=camera\n",
    "        self.os=os\n",
    "        phone.__init__(self,\"Mi\",10300,'china')\n",
    "    def specification(self):\n",
    "        print(f\"smartphone specification {self.camera} camera and os is {self.os}\")\n",
    "        phone.details(self) # you can access the base class function by class namea\n",
    "        \n",
    "s=phone(\"nokia\",1100,\"india\")\n",
    "d=smart_phone(\"HD\",\"android\")\n",
    "d.details()\n",
    "d.specification()\n"
   ]
  },
  {
   "cell_type": "code",
   "execution_count": 10,
   "metadata": {},
   "outputs": [
    {
     "name": "stdout",
     "output_type": "stream",
     "text": [
      "phone model is Mi price is 10300 and company name is china\n",
      "phone model is Mi price is 10300 and company name is china\n",
      "smartphone specification HD camera and os is android\n"
     ]
    }
   ],
   "source": [
    "class phone:\n",
    "    def __init__(self,model,price,company):\n",
    "        self.model=model\n",
    "        self.price=price\n",
    "        self.company=company\n",
    "    def details(self):\n",
    "        print(f\"phone model is {self.model} price is {self.price} and company name is {self.company}\")\n",
    "class smart_phone(phone):\n",
    "    def __init__(self,camera,os):\n",
    "        self.camera=camera\n",
    "        self.os=os\n",
    "        phone.__init__(self,\"Mi\",10300,'china')\n",
    "        super().details() # you can access the base class function by super function.\n",
    "    def specification(self):\n",
    "        print(f\"smartphone specification {self.camera} camera and os is {self.os}\")\n",
    "        \n",
    "s=phone(\"nokia\",1100,\"india\")\n",
    "d=smart_phone(\"HD\",\"android\")\n",
    "d.details()\n",
    "d.specification()\n"
   ]
  },
  {
   "cell_type": "markdown",
   "metadata": {},
   "source": [
    "# pass argument value in super function"
   ]
  },
  {
   "cell_type": "code",
   "execution_count": 2,
   "metadata": {},
   "outputs": [
    {
     "name": "stdout",
     "output_type": "stream",
     "text": [
      "phone model is Mi price is 10300 and company name is china\n",
      "smartphone specification HD camera and os is android\n"
     ]
    }
   ],
   "source": [
    "class phone:\n",
    "    def __init__(self,model,price,company):\n",
    "        self.model=model\n",
    "        self.price=price\n",
    "        self.company=company\n",
    "    def details(self):\n",
    "        print(f\"phone model is {self.model} price is {self.price} and company name is {self.company}\")\n",
    "class smart_phone(phone):\n",
    "    def __init__(self,camera,os):\n",
    "        self.camera=camera\n",
    "        self.os=os\n",
    "        super().__init__(\"Mi\",10300,'china')\n",
    "    def specification(self):\n",
    "        print(f\"smartphone specification {self.camera} camera and os is {self.os}\")\n",
    "        \n",
    "s=phone(\"nokia\",1100,\"india\")\n",
    "d=smart_phone(\"HD\",\"android\")\n",
    "d.details()\n",
    "d.specification()\n"
   ]
  },
  {
   "cell_type": "code",
   "execution_count": null,
   "metadata": {},
   "outputs": [],
   "source": []
  }
 ],
 "metadata": {
  "kernelspec": {
   "display_name": "Python 3",
   "language": "python",
   "name": "python3"
  },
  "language_info": {
   "codemirror_mode": {
    "name": "ipython",
    "version": 3
   },
   "file_extension": ".py",
   "mimetype": "text/x-python",
   "name": "python",
   "nbconvert_exporter": "python",
   "pygments_lexer": "ipython3",
   "version": "3.6.5"
  }
 },
 "nbformat": 4,
 "nbformat_minor": 2
}
