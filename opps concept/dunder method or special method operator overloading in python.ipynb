{
 "cells": [
  {
   "cell_type": "code",
   "execution_count": 3,
   "metadata": {},
   "outputs": [
    {
     "name": "stdout",
     "output_type": "stream",
     "text": [
      "<__main__.phone object at 0x000001AF916BBE10>\n"
     ]
    }
   ],
   "source": [
    "class phone:\n",
    "    def __init__(self,brand,model,price):\n",
    "        self.brand=brand\n",
    "        self.model=model\n",
    "        self.price=price\n",
    "    def phone_name(self):\n",
    "        return f\"{self.brand} {self.model}\"\n",
    "obj=phone(\"Nokia\",\"Nokia A52\",12000)\n",
    "print(obj)\n",
    "    "
   ]
  },
  {
   "cell_type": "code",
   "execution_count": 27,
   "metadata": {},
   "outputs": [
    {
     "name": "stdout",
     "output_type": "stream",
     "text": [
      "Nokia Nokia A52\n"
     ]
    }
   ],
   "source": [
    "class Phone:\n",
    "    def __init__(self,brand,model,price):\n",
    "        self.brand=brand\n",
    "        self.model=model\n",
    "        self.price=price\n",
    "    def phone_name(self):\n",
    "        return f\"{self.brand} {self.model}\"\n",
    "    \n",
    "    def __repr__(self):\n",
    "        return f\"{self.brand} {self.model}\"\n",
    "    \n",
    "ob=Phone(\"Nokia\",\"Nokia A52\",12000)\n",
    "print(ob)"
   ]
  },
  {
   "cell_type": "code",
   "execution_count": 28,
   "metadata": {},
   "outputs": [
    {
     "name": "stdout",
     "output_type": "stream",
     "text": [
      "Nokia Nokia A52\n"
     ]
    }
   ],
   "source": [
    "class Phone:\n",
    "    def __init__(self,brand,model,price):\n",
    "        self.brand=brand\n",
    "        self.model=model\n",
    "        self.price=price\n",
    "    def phone_name(self):\n",
    "        return f\"{self.brand} {self.model}\"\n",
    "    \n",
    "    def __str__(self):\n",
    "        return f\"{self.brand} {self.model}\"\n",
    "    \n",
    "ob=Phone(\"Nokia\",\"Nokia A52\",12000)\n",
    "print(ob)"
   ]
  },
  {
   "cell_type": "code",
   "execution_count": 3,
   "metadata": {},
   "outputs": [
    {
     "name": "stdout",
     "output_type": "stream",
     "text": [
      "5\n"
     ]
    }
   ],
   "source": [
    "class Phone:\n",
    "    def __init__(self,brand,model,price):\n",
    "        self.brand=brand\n",
    "        self.model=model\n",
    "        self.price=price\n",
    "    def phone_name(self):\n",
    "        return f\"{self.brand} {self.model}\"\n",
    "    \n",
    "    def __len__(self):\n",
    "        return len(self.brand)\n",
    "    \n",
    "ob=Phone(\"Nokia\",\"Nokia A52\",12000)\n",
    "print(ob.__len__())"
   ]
  },
  {
   "cell_type": "code",
   "execution_count": null,
   "metadata": {},
   "outputs": [],
   "source": []
  }
 ],
 "metadata": {
  "kernelspec": {
   "display_name": "Python 3",
   "language": "python",
   "name": "python3"
  },
  "language_info": {
   "codemirror_mode": {
    "name": "ipython",
    "version": 3
   },
   "file_extension": ".py",
   "mimetype": "text/x-python",
   "name": "python",
   "nbconvert_exporter": "python",
   "pygments_lexer": "ipython3",
   "version": "3.6.5"
  }
 },
 "nbformat": 4,
 "nbformat_minor": 2
}
