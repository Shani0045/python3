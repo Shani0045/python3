{
 "cells": [
  {
   "cell_type": "code",
   "execution_count": 3,
   "metadata": {},
   "outputs": [
    {
     "name": "stdout",
     "output_type": "stream",
     "text": [
      "i5,16gb,1TB\n"
     ]
    }
   ],
   "source": [
    "class Computer:\n",
    "    def config(self):\n",
    "        print(\"i5,16gb,1TB\")\n",
    "\n",
    "comp1=Computer()\n",
    "Computer.config(comp1)"
   ]
  },
  {
   "cell_type": "code",
   "execution_count": 4,
   "metadata": {},
   "outputs": [
    {
     "name": "stdout",
     "output_type": "stream",
     "text": [
      "i5,16gb,1TB\n",
      "i5,16gb,1TB\n"
     ]
    }
   ],
   "source": [
    "class Computer:\n",
    "    def config(self):\n",
    "        print(\"i5,16gb,1TB\")\n",
    "\n",
    "comp1=Computer()\n",
    "comp2=Computer()\n",
    "Computer.config(comp1)\n",
    "Computer.config(comp2)"
   ]
  },
  {
   "cell_type": "code",
   "execution_count": 5,
   "metadata": {},
   "outputs": [
    {
     "name": "stdout",
     "output_type": "stream",
     "text": [
      "i5,16gb,1TB\n"
     ]
    }
   ],
   "source": [
    "class Computer:\n",
    "    def config(self):\n",
    "        print(\"i5,16gb,1TB\")\n",
    "\n",
    "comp1=Computer()\n",
    "comp1.config()"
   ]
  },
  {
   "cell_type": "markdown",
   "metadata": {},
   "source": [
    "# __init__ method"
   ]
  },
  {
   "cell_type": "code",
   "execution_count": 6,
   "metadata": {},
   "outputs": [
    {
     "name": "stdout",
     "output_type": "stream",
     "text": [
      "config is i5 16\n",
      "config is Ryzen 8\n"
     ]
    }
   ],
   "source": [
    "class Computer:\n",
    "    def __init__(self,cpu,ram):\n",
    "        self.cpu=cpu\n",
    "        self.ram=ram     \n",
    "    def config(self):\n",
    "        print(\"config is\",self.cpu,self.ram)\n",
    "\n",
    "comp1=Computer(\"i5\",16)\n",
    "comp2=Computer(\"Ryzen\",8)\n",
    "comp1.config()\n",
    "comp2.config()"
   ]
  },
  {
   "cell_type": "code",
   "execution_count": 9,
   "metadata": {},
   "outputs": [
    {
     "name": "stdout",
     "output_type": "stream",
     "text": [
      "shani kumar\n",
      "shani kumar\n"
     ]
    }
   ],
   "source": [
    "class Example:\n",
    "    def __init__(self):\n",
    "        self.name=\"shani kumar\"\n",
    "        self.age=29\n",
    "\n",
    "o1=Example()\n",
    "o2=Example()\n",
    "print(o1.name)\n",
    "print(o2.name)"
   ]
  },
  {
   "cell_type": "code",
   "execution_count": 12,
   "metadata": {},
   "outputs": [
    {
     "name": "stdout",
     "output_type": "stream",
     "text": [
      "amit kumar\n",
      "raju rastogi\n"
     ]
    }
   ],
   "source": [
    "class Example:\n",
    "    def __init__(self):\n",
    "        self.name=\"shani kumar\"\n",
    "        self.age=29\n",
    "\n",
    "o1=Example()\n",
    "o2=Example()\n",
    "o1.name=\"amit kumar\"\n",
    "o2.name=\"raju rastogi\"\n",
    "print(o1.name)\n",
    "print(o2.name)"
   ]
  },
  {
   "cell_type": "code",
   "execution_count": 14,
   "metadata": {},
   "outputs": [
    {
     "name": "stdout",
     "output_type": "stream",
     "text": [
      "they are not same\n"
     ]
    }
   ],
   "source": [
    "class Example:\n",
    "    def __init__(self):\n",
    "        self.name=\"shani kumar\"\n",
    "        self.age=29\n",
    "    def compare(self,other):\n",
    "        if self.age==other.age:\n",
    "            return True\n",
    "        else:\n",
    "            return False\n",
    "\n",
    "o1=Example()\n",
    "o2=Example()\n",
    "o1.age=35\n",
    "if o1.compare(o2):\n",
    "    print(\"they are same\")\n",
    "else:\n",
    "    print(\"they are not same\")"
   ]
  },
  {
   "cell_type": "code",
   "execution_count": 17,
   "metadata": {},
   "outputs": [
    {
     "name": "stdout",
     "output_type": "stream",
     "text": [
      "BMW 29 4\n",
      "BMW 10 4\n"
     ]
    }
   ],
   "source": [
    "class Car:\n",
    "    wheels=4   # class variable\n",
    "    def __init__(self):\n",
    "        self.mil=10      #instance variable\n",
    "        self.com=\"BMW\"\n",
    "\n",
    "c1=Car()\n",
    "c2=Car()\n",
    "c1.mil=29\n",
    "print(c1.com,c1.mil,c1.wheels)\n",
    "print(c2.com,c2.mil,c2.wheels)"
   ]
  },
  {
   "cell_type": "code",
   "execution_count": 19,
   "metadata": {},
   "outputs": [
    {
     "name": "stdout",
     "output_type": "stream",
     "text": [
      "BMW 29 5\n",
      "BMW 10 5\n"
     ]
    }
   ],
   "source": [
    "class Car:\n",
    "    wheels=4   # class variable or attributes\n",
    "    def __init__(self):\n",
    "        self.mil=10      #instance variable\n",
    "        self.com=\"BMW\"\n",
    "\n",
    "c1=Car()\n",
    "c2=Car()\n",
    "c1.mil=29\n",
    "Car.wheels=5\n",
    "print(c1.com,c1.mil,c1.wheels)\n",
    "print(c2.com,c2.mil,c2.wheels)"
   ]
  },
  {
   "cell_type": "markdown",
   "metadata": {},
   "source": [
    "# Types of methods"
   ]
  },
  {
   "cell_type": "markdown",
   "metadata": {},
   "source": [
    "instance method, \n",
    "class methods, \n",
    "static methods"
   ]
  },
  {
   "cell_type": "code",
   "execution_count": 22,
   "metadata": {},
   "outputs": [],
   "source": [
    "class Student:\n",
    "    school=\"Janta Inter College\"\n",
    "    def __init__(self,m1,m2,m3):\n",
    "        self.m1=m1\n",
    "        self.m2=m2\n",
    "        self.m3=m3\n",
    "    def avg(self):\n",
    "        return (self.m1+self.m2+self.m3)/3\n",
    "        \n",
    "s1=Student(25,45,67)\n",
    "s2=Student(29,39,48)"
   ]
  },
  {
   "cell_type": "code",
   "execution_count": 23,
   "metadata": {},
   "outputs": [
    {
     "data": {
      "text/plain": [
       "45.666666666666664"
      ]
     },
     "execution_count": 23,
     "metadata": {},
     "output_type": "execute_result"
    }
   ],
   "source": [
    "s1.avg()"
   ]
  },
  {
   "cell_type": "code",
   "execution_count": 27,
   "metadata": {},
   "outputs": [
    {
     "name": "stdout",
     "output_type": "stream",
     "text": [
      "Janta Inter College\n"
     ]
    }
   ],
   "source": [
    "class Student:\n",
    "    school=\"Janta Inter College\"\n",
    "    def __init__(self,m1,m2,m3):\n",
    "        self.m1=m1          #instance method\n",
    "        self.m2=m2\n",
    "        self.m3=m3\n",
    "    def avg(self):\n",
    "        return (self.m1+self.m2+self.m3)/3\n",
    "    @classmethod\n",
    "    def info(cls):         #class method\n",
    "        return cls.school\n",
    "        \n",
    "s1=Student(25,45,67)\n",
    "s2=Student(29,39,48)\n",
    "print(Student.info())"
   ]
  },
  {
   "cell_type": "code",
   "execution_count": 28,
   "metadata": {},
   "outputs": [
    {
     "name": "stdout",
     "output_type": "stream",
     "text": [
      "this is information method....\n",
      "None\n"
     ]
    }
   ],
   "source": [
    "class Student:\n",
    "    school=\"Janta Inter College\"\n",
    "    def __init__(self,m1,m2,m3):\n",
    "        self.m1=m1\n",
    "        self.m2=m2\n",
    "        self.m3=m3\n",
    "    def avg(self):\n",
    "        return (self.m1+self.m2+self.m3)/3\n",
    "    @staticmethod\n",
    "    def information():\n",
    "        print(\"this is information method....\")\n",
    "        \n",
    "s1=Student(25,45,67)\n",
    "s2=Student(29,39,48)\n",
    "print(Student.information())"
   ]
  },
  {
   "cell_type": "code",
   "execution_count": 30,
   "metadata": {},
   "outputs": [
    {
     "name": "stdout",
     "output_type": "stream",
     "text": [
      "shani 1\n",
      "amit 2\n"
     ]
    }
   ],
   "source": [
    "class student:\n",
    "    def __init__(self,name,roll):\n",
    "        self.name=name\n",
    "        self.roll=roll\n",
    "    def show(self):\n",
    "        print(self.name,self.roll)\n",
    "s1=student(\"shani\",1)\n",
    "s2=student(\"amit\",2)\n",
    "s1.show()\n",
    "s2.show()"
   ]
  },
  {
   "cell_type": "code",
   "execution_count": 32,
   "metadata": {},
   "outputs": [
    {
     "name": "stdout",
     "output_type": "stream",
     "text": [
      "shani 1\n",
      "HP i5 8\n"
     ]
    }
   ],
   "source": [
    "class student:\n",
    "    def __init__(self,name,roll):\n",
    "        self.name=name\n",
    "        self.roll=roll\n",
    "        self.lap=self.Laptop()\n",
    "    def show(self):\n",
    "        print(self.name,self.roll)\n",
    "        self.lap.show()\n",
    "    class Laptop:\n",
    "        def __init__(self):\n",
    "            self.brand=\"HP\"\n",
    "            self.cpu=\"i5\"\n",
    "            self.ram=8\n",
    "        def show(self):\n",
    "            print(self.brand,self.cpu,self.ram)\n",
    "            \n",
    "            \n",
    "            \n",
    "s1=student(\"shani\",1)\n",
    "s2=student(\"amit\",2)\n",
    "s1.show()"
   ]
  },
  {
   "cell_type": "code",
   "execution_count": null,
   "metadata": {},
   "outputs": [],
   "source": []
  }
 ],
 "metadata": {
  "kernelspec": {
   "display_name": "Python 3",
   "language": "python",
   "name": "python3"
  },
  "language_info": {
   "codemirror_mode": {
    "name": "ipython",
    "version": 3
   },
   "file_extension": ".py",
   "mimetype": "text/x-python",
   "name": "python",
   "nbconvert_exporter": "python",
   "pygments_lexer": "ipython3",
   "version": "3.6.5"
  }
 },
 "nbformat": 4,
 "nbformat_minor": 2
}
