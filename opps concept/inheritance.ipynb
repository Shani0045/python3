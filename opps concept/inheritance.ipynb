{
 "cells": [
  {
   "cell_type": "markdown",
   "metadata": {},
   "source": [
    "# single inheritance"
   ]
  },
  {
   "cell_type": "code",
   "execution_count": 3,
   "metadata": {},
   "outputs": [
    {
     "name": "stdout",
     "output_type": "stream",
     "text": [
      "dog barking\n",
      "animal speaking\n"
     ]
    }
   ],
   "source": [
    "class animal:\n",
    "    def speak(self):\n",
    "        print(\"animal speaking\")\n",
    "class dog(animal):\n",
    "    def bark(self):\n",
    "        print(\"dog barking\")\n",
    "d=dog()\n",
    "d.bark()\n",
    "d.speak()"
   ]
  },
  {
   "cell_type": "code",
   "execution_count": 2,
   "metadata": {},
   "outputs": [
    {
     "name": "stdout",
     "output_type": "stream",
     "text": [
      "my full name is shani kumar\n"
     ]
    },
    {
     "data": {
      "text/plain": [
       "'kumar'"
      ]
     },
     "execution_count": 2,
     "metadata": {},
     "output_type": "execute_result"
    }
   ],
   "source": [
    "class person:\n",
    "    def __init__(self,fname,surname):\n",
    "        self.fname=fname\n",
    "        self.surname=surname\n",
    "    def name(self):\n",
    "        print(\"my full name is {} {}\".format(self.fname,self.surname))\n",
    "class student(person):\n",
    "    pass\n",
    "obj=student(\"shani\",\"kumar\")\n",
    "obj.name()\n",
    "obj.surname"
   ]
  },
  {
   "cell_type": "code",
   "execution_count": 5,
   "metadata": {},
   "outputs": [
    {
     "name": "stdout",
     "output_type": "stream",
     "text": [
      "i am child class\n",
      "i am parent 1 shani\n",
      "(<class '__main__.bc'>, <class '__main__.abc'>, <class 'object'>)\n"
     ]
    }
   ],
   "source": [
    "class abc:\n",
    "    def __init__(self,name):\n",
    "        print(\"i am parent 1\",name)\n",
    "class bc(abc):\n",
    "    def __init__(self):\n",
    "        print(\"i am child class\")\n",
    "        super().__init__(\"shani\")\n",
    "s=bc()\n",
    "print(bc.__mro__)  # mro stand for method resolution order ye batata hai ki kis order me execution hota hai"
   ]
  },
  {
   "cell_type": "code",
   "execution_count": 3,
   "metadata": {},
   "outputs": [
    {
     "ename": "TypeError",
     "evalue": "__init__() missing 1 required positional argument: 'surname'",
     "output_type": "error",
     "traceback": [
      "\u001b[1;31m---------------------------------------------------------------------------\u001b[0m",
      "\u001b[1;31mTypeError\u001b[0m                                 Traceback (most recent call last)",
      "\u001b[1;32m<ipython-input-3-76c045958b97>\u001b[0m in \u001b[0;36m<module>\u001b[1;34m\u001b[0m\n\u001b[0;32m      9\u001b[0m         \u001b[0mperson\u001b[0m\u001b[1;33m.\u001b[0m\u001b[0m__init__\u001b[0m\u001b[1;33m(\u001b[0m\u001b[0mself\u001b[0m\u001b[1;33m,\u001b[0m\u001b[0mfname\u001b[0m\u001b[1;33m)\u001b[0m\u001b[1;33m\u001b[0m\u001b[0m\n\u001b[0;32m     10\u001b[0m \u001b[1;33m\u001b[0m\u001b[0m\n\u001b[1;32m---> 11\u001b[1;33m \u001b[0mobj\u001b[0m\u001b[1;33m=\u001b[0m\u001b[0mstudent\u001b[0m\u001b[1;33m(\u001b[0m\u001b[1;34m\"shani\"\u001b[0m\u001b[1;33m,\u001b[0m\u001b[1;34m\"kumar\"\u001b[0m\u001b[1;33m)\u001b[0m\u001b[1;33m\u001b[0m\u001b[0m\n\u001b[0m\u001b[0;32m     12\u001b[0m \u001b[0mobj\u001b[0m\u001b[1;33m.\u001b[0m\u001b[0mname\u001b[0m\u001b[1;33m(\u001b[0m\u001b[1;33m)\u001b[0m\u001b[1;33m\u001b[0m\u001b[0m\n",
      "\u001b[1;32m<ipython-input-3-76c045958b97>\u001b[0m in \u001b[0;36m__init__\u001b[1;34m(self, fname, surname)\u001b[0m\n\u001b[0;32m      7\u001b[0m \u001b[1;32mclass\u001b[0m \u001b[0mstudent\u001b[0m\u001b[1;33m(\u001b[0m\u001b[0mperson\u001b[0m\u001b[1;33m)\u001b[0m\u001b[1;33m:\u001b[0m\u001b[1;33m\u001b[0m\u001b[0m\n\u001b[0;32m      8\u001b[0m     \u001b[1;32mdef\u001b[0m \u001b[0m__init__\u001b[0m\u001b[1;33m(\u001b[0m\u001b[0mself\u001b[0m\u001b[1;33m,\u001b[0m\u001b[0mfname\u001b[0m\u001b[1;33m,\u001b[0m\u001b[0msurname\u001b[0m\u001b[1;33m)\u001b[0m\u001b[1;33m:\u001b[0m\u001b[1;33m\u001b[0m\u001b[0m\n\u001b[1;32m----> 9\u001b[1;33m         \u001b[0mperson\u001b[0m\u001b[1;33m.\u001b[0m\u001b[0m__init__\u001b[0m\u001b[1;33m(\u001b[0m\u001b[0mself\u001b[0m\u001b[1;33m,\u001b[0m\u001b[0mfname\u001b[0m\u001b[1;33m)\u001b[0m\u001b[1;33m\u001b[0m\u001b[0m\n\u001b[0m\u001b[0;32m     10\u001b[0m \u001b[1;33m\u001b[0m\u001b[0m\n\u001b[0;32m     11\u001b[0m \u001b[0mobj\u001b[0m\u001b[1;33m=\u001b[0m\u001b[0mstudent\u001b[0m\u001b[1;33m(\u001b[0m\u001b[1;34m\"shani\"\u001b[0m\u001b[1;33m,\u001b[0m\u001b[1;34m\"kumar\"\u001b[0m\u001b[1;33m)\u001b[0m\u001b[1;33m\u001b[0m\u001b[0m\n",
      "\u001b[1;31mTypeError\u001b[0m: __init__() missing 1 required positional argument: 'surname'"
     ]
    }
   ],
   "source": [
    "class person:\n",
    "    def __init__(self,fname,surname):\n",
    "        self.fname=fname\n",
    "        self.surname=surname\n",
    "    def name(self):\n",
    "        print(\"my full name is {} {}\".format(self.fname,self.surname))\n",
    "class student(person):\n",
    "    def __init__(self,fname,surname):\n",
    "        person.__init__(self,fname)        \n",
    "obj=student(\"shani\",\"kumar\")\n",
    "obj.name()"
   ]
  },
  {
   "cell_type": "markdown",
   "metadata": {},
   "source": [
    "## super() function"
   ]
  },
  {
   "cell_type": "code",
   "execution_count": 24,
   "metadata": {},
   "outputs": [
    {
     "name": "stdout",
     "output_type": "stream",
     "text": [
      "my full name is shani kumar\n"
     ]
    },
    {
     "data": {
      "text/plain": [
       "2020"
      ]
     },
     "execution_count": 24,
     "metadata": {},
     "output_type": "execute_result"
    }
   ],
   "source": [
    "class person:\n",
    "    def __init__(self,fname,surname):\n",
    "        self.fname=fname\n",
    "        self.surname=surname\n",
    "    def name(self):\n",
    "        print(\"my full name is {} {}\".format(self.fname,self.surname))\n",
    "class student(person):\n",
    "    def __init__(self,fname,surname,year):\n",
    "        super().__init__(fname,surname)\n",
    "        self.graduationyear=year\n",
    "        \n",
    "obj=student(\"shani\",\"kumar\",2020)\n",
    "obj.name()\n",
    "obj.graduationyear"
   ]
  },
  {
   "cell_type": "code",
   "execution_count": 29,
   "metadata": {},
   "outputs": [
    {
     "name": "stdout",
     "output_type": "stream",
     "text": [
      "welcome shani kumar to the class of 2020\n"
     ]
    }
   ],
   "source": [
    "class person:\n",
    "    def __init__(self,fname,surname):\n",
    "        self.fname=fname\n",
    "        self.surname=surname\n",
    "    def name(self):\n",
    "        print(\"my full name is {} {}\".format(self.fname,self.surname))\n",
    "class student(person):\n",
    "    def __init__(self,fname,surname,year):\n",
    "        super().__init__(fname,surname)\n",
    "        self.graduationyear=year\n",
    "    def welcome(self):\n",
    "        print(f\"welcome {self.fname} {self.surname} to the class of {self.graduationyear}\")\n",
    "        \n",
    "obj=student(\"shani\",\"kumar\",2020)\n",
    "# obj.name()\n",
    "obj.welcome()"
   ]
  },
  {
   "cell_type": "markdown",
   "metadata": {},
   "source": [
    "# multiple inheritance"
   ]
  },
  {
   "cell_type": "code",
   "execution_count": 65,
   "metadata": {},
   "outputs": [
    {
     "name": "stdout",
     "output_type": "stream",
     "text": [
      "i am child class\n",
      "i am parent 1 shani\n",
      "i am parent 2 pradeep\n",
      "(<class '__main__.child'>, <class '__main__.abc'>, <class '__main__.bc'>, <class 'object'>)\n"
     ]
    }
   ],
   "source": [
    "class parent1:\n",
    "    def __init__(self,name):\n",
    "        print(\"i am parent 1\",name)\n",
    "class parent2:\n",
    "    def __init__(self,name):\n",
    "        print(\"i am parent 2\",name)\n",
    "class child(abc,bc):\n",
    "    def __init__(self):\n",
    "        print(\"i am child class\")\n",
    "        parent1.__init__(self,\"shani\")\n",
    "        parent2.__init__(self,\"pradeep\")\n",
    "s=child()\n",
    "print(child.__mro__)  # mro stand for mrthod resolution order ye batata hai ki kis order me execution hota hai"
   ]
  },
  {
   "cell_type": "code",
   "execution_count": 66,
   "metadata": {},
   "outputs": [
    {
     "name": "stdout",
     "output_type": "stream",
     "text": [
      "i am child class  1 2\n",
      "my name is shani\n",
      "i am child class  10 20\n",
      "my name is shani\n"
     ]
    }
   ],
   "source": [
    "class parent1:\n",
    "    def __init__(self,c,d):\n",
    "        self.c=c\n",
    "        self.d=c                \n",
    "class parent2:\n",
    "    def __init__(self,a,b,c):\n",
    "        self.a=a\n",
    "        self.b=b\n",
    "        self.c=c\n",
    "    def secondclass(self):\n",
    "        print(\"second\")\n",
    "class child(abc,bc):\n",
    "    def __init__(self,c,d):\n",
    "        super().__init__(c,d)\n",
    "        print(\"i am child class \",c,d)\n",
    "    def ch(self):\n",
    "        print(\"my name is shani\")\n",
    "s=child(1,2)\n",
    "s.ch()\n",
    "x=child(10,20)\n",
    "x.ch()\n",
    "\n",
    "    "
   ]
  },
  {
   "cell_type": "code",
   "execution_count": 18,
   "metadata": {},
   "outputs": [
    {
     "name": "stdout",
     "output_type": "stream",
     "text": [
      "i am child class 1 2 3\n"
     ]
    }
   ],
   "source": [
    "class abc:\n",
    "    def __init__(self,c,d):\n",
    "        self.c=c\n",
    "        self.d=c                \n",
    "class bc:\n",
    "    def __init__(self,a,b,c):\n",
    "        self.a=a\n",
    "        self.b=b\n",
    "        self.c=c\n",
    "class child(bc,abc):\n",
    "    def __init__(self,a,b,c):\n",
    "        super().__init__(a,b,c)\n",
    "        print(\"i am child class\",a,b,c)\n",
    "s=child(1,2,3)\n",
    "    "
   ]
  },
  {
   "cell_type": "code",
   "execution_count": 77,
   "metadata": {},
   "outputs": [
    {
     "name": "stdout",
     "output_type": "stream",
     "text": [
      "i am parent1 3 5\n",
      "i am parent2 10 20 30\n",
      "i am child class\n"
     ]
    }
   ],
   "source": [
    "class parent1:\n",
    "    def __init__(self,c,d):\n",
    "        self.c=c\n",
    "        self.d=d\n",
    "        print(\"i am parent1\",self.c,self.d)\n",
    "class parent2:\n",
    "    def __init__(self,x,y,z):\n",
    "        self.x=x\n",
    "        self.y=y\n",
    "        self.z=z\n",
    "        print(\"i am parent2\",self.x,self.y,self.z)\n",
    "class child(parent2,parent1):\n",
    "    def __init__(self):\n",
    "        parent1.__init__(self,3,5)\n",
    "        parent2.__init__(self,10,20,30)\n",
    "        print(\"i am child class\")\n",
    "        \n",
    "s=child()\n",
    "\n",
    "    "
   ]
  },
  {
   "cell_type": "markdown",
   "metadata": {},
   "source": [
    "# Multilevel inheritance"
   ]
  },
  {
   "cell_type": "code",
   "execution_count": 89,
   "metadata": {},
   "outputs": [
    {
     "name": "stdout",
     "output_type": "stream",
     "text": [
      "i am child class\n",
      "i am parent 2 pradeep\n",
      "i am parent 1 shani\n"
     ]
    },
    {
     "data": {
      "text/plain": [
       "(__main__.child, __main__.bc, __main__.abc, object)"
      ]
     },
     "execution_count": 89,
     "metadata": {},
     "output_type": "execute_result"
    }
   ],
   "source": [
    "class abc:\n",
    "    def __init__(self,name):\n",
    "        print(\"i am parent 1\",name)\n",
    "class bc(abc):\n",
    "    def __init__(self,name):\n",
    "        print(\"i am parent 2\",name)\n",
    "        super().__init__(\"shani\")\n",
    "    \n",
    "class child(bc):\n",
    "    def __init__(self):\n",
    "        print(\"i am child class\")\n",
    "        super().__init__(\"pradeep\")        \n",
    "s=child()\n",
    "child.__mro__"
   ]
  },
  {
   "cell_type": "code",
   "execution_count": 42,
   "metadata": {},
   "outputs": [
    {
     "name": "stdout",
     "output_type": "stream",
     "text": [
      "i am parent 2 with 20 30\n",
      "i am parent 1 with  2 3\n",
      "i am child class\n"
     ]
    }
   ],
   "source": [
    "class parent:\n",
    "    def __init__(self,c,d):\n",
    "        self.c=c\n",
    "        self.d=d\n",
    "        print(\"i am parent 1 with \",self.c,self.d)\n",
    "class parent2(parent):\n",
    "    def __init__(self,x,y):\n",
    "        self.x=x\n",
    "        self.y=y\n",
    "        print(\"i am parent 2 with\",self.x,self.y)\n",
    "        parent.__init__(self,2,3)\n",
    "class parent3(parent2):\n",
    "    def __init__(self):\n",
    "        parent2.__init__(self,20,30)\n",
    "        print(\"i am child class\")\n",
    "s=parent3()"
   ]
  },
  {
   "cell_type": "code",
   "execution_count": 49,
   "metadata": {},
   "outputs": [
    {
     "name": "stdout",
     "output_type": "stream",
     "text": [
      "i am parent 1 with  2 3\n",
      "i am parent 2 with  20 30\n",
      "i am child class\n"
     ]
    }
   ],
   "source": [
    "class parent:\n",
    "    def __init__(self,c,d):\n",
    "        self.c=c\n",
    "        self.d=d\n",
    "    def shani(self):\n",
    "        print(\"i am parent 1 with \",self.c,self.d)\n",
    "class parent2(parent):\n",
    "    def __init__(self,x,y):\n",
    "        self.x=x\n",
    "        self.y=y\n",
    "        parent.__init__(self,2,3)\n",
    "        self.shani()\n",
    "    def pradeep(self):\n",
    "        print(\"i am parent 2 with \",self.x,self.y)\n",
    "class parent3(parent2):\n",
    "    def __init__(self):\n",
    "        parent2.__init__(self,20,30)\n",
    "        self.pradeep()\n",
    "        print(\"i am child class\")   \n",
    "s=parent3()"
   ]
  },
  {
   "cell_type": "code",
   "execution_count": 50,
   "metadata": {},
   "outputs": [
    {
     "name": "stdout",
     "output_type": "stream",
     "text": [
      "i am parent 1 with  2 3\n",
      "i am parent 2 with  20 30\n",
      "i am child class\n"
     ]
    }
   ],
   "source": [
    "class parent:\n",
    "    def __init__(self,c,d):\n",
    "        self.c=c\n",
    "        self.d=d\n",
    "    def shani(self):\n",
    "        print(\"i am parent 1 with \",self.c,self.d)\n",
    "class parent2(parent):\n",
    "    def __init__(self,x,y):\n",
    "        self.x=x\n",
    "        self.y=y\n",
    "    def pradeep(self):\n",
    "        parent.__init__(self,2,3)\n",
    "        self.shani()\n",
    "        print(\"i am parent 2 with \",self.x,self.y)\n",
    "class parent3(parent2):\n",
    "    def __init__(self):\n",
    "        parent2.__init__(self,20,30)\n",
    "        self.pradeep()\n",
    "        print(\"i am child class\")   \n",
    "s=parent3()"
   ]
  },
  {
   "cell_type": "markdown",
   "metadata": {},
   "source": [
    "# hierarchical inheritance"
   ]
  },
  {
   "cell_type": "code",
   "execution_count": 63,
   "metadata": {},
   "outputs": [
    {
     "name": "stdout",
     "output_type": "stream",
     "text": [
      "i am parent with  2 3\n",
      "i am parent with  20 30\n",
      "i am child 2 class\n"
     ]
    }
   ],
   "source": [
    "class parent:\n",
    "    def __init__(self,c,d):\n",
    "        self.c=c\n",
    "        self.d=d\n",
    "    def shani(self):\n",
    "        print(\"i am parent with \",self.c,self.d)\n",
    "class child1(parent):\n",
    "    def __init__(self):\n",
    "        parent.__init__(self,2,3)\n",
    "        self.shani()\n",
    "class child2(parent):\n",
    "    def __init__(self):\n",
    "        parent.__init__(self,20,30)\n",
    "        self.shani()\n",
    "        print(\"i am child 2 class\")   \n",
    "s=child1()\n",
    "s=child2()"
   ]
  },
  {
   "cell_type": "code",
   "execution_count": 1,
   "metadata": {},
   "outputs": [],
   "source": [
    "class ATM:\n",
    "    def amount(self,amt):\n",
    "        return amt\n",
    "    "
   ]
  },
  {
   "cell_type": "code",
   "execution_count": null,
   "metadata": {},
   "outputs": [],
   "source": []
  },
  {
   "cell_type": "code",
   "execution_count": null,
   "metadata": {},
   "outputs": [],
   "source": []
  }
 ],
 "metadata": {
  "kernelspec": {
   "display_name": "Python 3",
   "language": "python",
   "name": "python3"
  },
  "language_info": {
   "codemirror_mode": {
    "name": "ipython",
    "version": 3
   },
   "file_extension": ".py",
   "mimetype": "text/x-python",
   "name": "python",
   "nbconvert_exporter": "python",
   "pygments_lexer": "ipython3",
   "version": "3.6.5"
  }
 },
 "nbformat": 4,
 "nbformat_minor": 2
}
