{
 "cells": [
  {
   "cell_type": "markdown",
   "metadata": {},
   "source": [
    "# abstract class:\n",
    "    > we can not create object of abstract class.\n",
    "    > class must contain atleast one abstract method.\n",
    "    > class must inherit ABC class."
   ]
  },
  {
   "cell_type": "code",
   "execution_count": 4,
   "metadata": {},
   "outputs": [
    {
     "name": "stdout",
     "output_type": "stream",
     "text": [
      "i am in class B x\n",
      "i am in class B y\n"
     ]
    }
   ],
   "source": [
    "from abc import ABC,abstractmethod\n",
    "class A(ABC):\n",
    "    @abstractmethod\n",
    "    def x(self):\n",
    "        pass\n",
    "    @abstractmethod\n",
    "    def y(self):\n",
    "        pass\n",
    "class B(A):\n",
    "    def x(self):\n",
    "        print(\"i am in class B x\")\n",
    "    def y(self):\n",
    "        print(\"i am in class B y\")\n",
    "    \n",
    "    \n",
    "o=B()\n",
    "o.x()\n",
    "o.y()"
   ]
  },
  {
   "cell_type": "code",
   "execution_count": null,
   "metadata": {},
   "outputs": [],
   "source": []
  }
 ],
 "metadata": {
  "kernelspec": {
   "display_name": "Python 3",
   "language": "python",
   "name": "python3"
  },
  "language_info": {
   "codemirror_mode": {
    "name": "ipython",
    "version": 3
   },
   "file_extension": ".py",
   "mimetype": "text/x-python",
   "name": "python",
   "nbconvert_exporter": "python",
   "pygments_lexer": "ipython3",
   "version": "3.6.5"
  }
 },
 "nbformat": 4,
 "nbformat_minor": 2
}
