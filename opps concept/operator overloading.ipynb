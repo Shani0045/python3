{
 "cells": [
  {
   "cell_type": "markdown",
   "metadata": {},
   "source": [
    "# operator overloading"
   ]
  },
  {
   "cell_type": "code",
   "execution_count": 8,
   "metadata": {},
   "outputs": [
    {
     "name": "stdout",
     "output_type": "stream",
     "text": [
      "(30, 50)\n"
     ]
    }
   ],
   "source": [
    "class point2d:\n",
    "    def __init__(self,x,y):\n",
    "        self.x=x\n",
    "        self.y=y\n",
    "    def __add__(self,other):\n",
    "        return (self.x+other.x,self.y+other.y)\n",
    "p1=point2d(10,20)\n",
    "p2=point2d(20,30)\n",
    "print(p1+p2)"
   ]
  },
  {
   "cell_type": "code",
   "execution_count": 14,
   "metadata": {},
   "outputs": [
    {
     "name": "stdout",
     "output_type": "stream",
     "text": [
      "(3, 2)\n"
     ]
    }
   ],
   "source": [
    "class point2d:\n",
    "    def __init__(self,x,y):\n",
    "        self.x=x\n",
    "        self.y=y\n",
    "    def __sub__(self,other):\n",
    "        return (self.x-other.x,self.y-other.y)\n",
    "p1=point2d(5,6)\n",
    "p2=point2d(2,4)\n",
    "print(p1-p2)"
   ]
  },
  {
   "cell_type": "code",
   "execution_count": 15,
   "metadata": {},
   "outputs": [
    {
     "name": "stdout",
     "output_type": "stream",
     "text": [
      "(10, 24)\n"
     ]
    }
   ],
   "source": [
    "class point2d:\n",
    "    def __init__(self,x,y):\n",
    "        self.x=x\n",
    "        self.y=y\n",
    "    def __mul__(self,other):\n",
    "        return (self.x*other.x,self.y*other.y)\n",
    "p1=point2d(5,6)\n",
    "p2=point2d(2,4)\n",
    "print(p1*p2)"
   ]
  },
  {
   "cell_type": "code",
   "execution_count": 1,
   "metadata": {},
   "outputs": [
    {
     "name": "stdout",
     "output_type": "stream",
     "text": [
      "(2.5, 1.5)\n"
     ]
    }
   ],
   "source": [
    "class point2d:\n",
    "    def __init__(self,x,y):\n",
    "        self.x=x\n",
    "        self.y=y\n",
    "    def __truediv__(self,other):\n",
    "        return (self.x/other.x,self.y/other.y)\n",
    "p1=point2d(5,6)\n",
    "p2=point2d(2,4)\n",
    "print(p1/p2)"
   ]
  },
  {
   "cell_type": "code",
   "execution_count": null,
   "metadata": {},
   "outputs": [],
   "source": [
    "class exp:\n",
    "    def __init__(self,x):\n",
    "        self.x=x\n",
    "    def __eq__(self,other):\n",
    "        if self.x==other.x:\n",
    "            print(\"both are equal!\")\n",
    "        else:\n",
    "            print(\"both object are not equal!\")\n",
    "o1=exp()"
   ]
  },
  {
   "cell_type": "code",
   "execution_count": null,
   "metadata": {},
   "outputs": [],
   "source": []
  }
 ],
 "metadata": {
  "kernelspec": {
   "display_name": "Python 3",
   "language": "python",
   "name": "python3"
  },
  "language_info": {
   "codemirror_mode": {
    "name": "ipython",
    "version": 3
   },
   "file_extension": ".py",
   "mimetype": "text/x-python",
   "name": "python",
   "nbconvert_exporter": "python",
   "pygments_lexer": "ipython3",
   "version": "3.6.5"
  }
 },
 "nbformat": 4,
 "nbformat_minor": 2
}
