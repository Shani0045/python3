{
 "cells": [
  {
   "cell_type": "code",
   "execution_count": 1,
   "metadata": {},
   "outputs": [
    {
     "name": "stdout",
     "output_type": "stream",
     "text": [
      "my name is shani\n"
     ]
    }
   ],
   "source": [
    "class abc:\n",
    "    print(\"my name is shani\")\n",
    "a=abc()"
   ]
  },
  {
   "cell_type": "code",
   "execution_count": 10,
   "metadata": {},
   "outputs": [
    {
     "name": "stdout",
     "output_type": "stream",
     "text": [
      "this is the documentation of the class \n",
      "\n",
      "\n",
      "['__class__', '__delattr__', '__dict__', '__dir__', '__doc__', '__eq__', '__format__', '__ge__', '__getattribute__', '__gt__', '__hash__', '__init__', '__init_subclass__', '__le__', '__lt__', '__module__', '__ne__', '__new__', '__reduce__', '__reduce_ex__', '__repr__', '__setattr__', '__sizeof__', '__str__', '__subclasshook__', '__weakref__'] \n",
      "\n",
      "\n",
      "<class '__main__.abc'>\n"
     ]
    }
   ],
   "source": [
    "class abc:\n",
    "    \"this is the documentation of the class\"\n",
    "obj=abc()\n",
    "print(obj.__doc__,\"\\n\\n\")\n",
    "print(dir(abc),\"\\n\\n\")\n",
    "print(obj.__class__)"
   ]
  },
  {
   "cell_type": "code",
   "execution_count": 2,
   "metadata": {},
   "outputs": [
    {
     "name": "stdout",
     "output_type": "stream",
     "text": [
      "10\n",
      "my name is shani\n"
     ]
    }
   ],
   "source": [
    "class abc:\n",
    "    a=10  # class varible\n",
    "    b=\"my name is shani\"\n",
    "    c=20\n",
    "x=abc()\n",
    "print(x.a)\n",
    "print(x.b)\n"
   ]
  },
  {
   "cell_type": "code",
   "execution_count": 3,
   "metadata": {},
   "outputs": [
    {
     "name": "stdout",
     "output_type": "stream",
     "text": [
      "220\n",
      "220\n"
     ]
    }
   ],
   "source": [
    "class car:\n",
    "    pass\n",
    "ford=car()\n",
    "honda=car()\n",
    "audi=car()\n",
    "ford.speed=220  #this is attritude after created a class\n",
    "honda.speed=220\n",
    "audi.speed=250\n",
    "print(ford.speed)\n",
    "print(honda.speed)"
   ]
  },
  {
   "cell_type": "markdown",
   "metadata": {},
   "source": [
    "## class with function"
   ]
  },
  {
   "cell_type": "code",
   "execution_count": 4,
   "metadata": {},
   "outputs": [
    {
     "name": "stdout",
     "output_type": "stream",
     "text": [
      "id 10\n",
      "name is shani\n"
     ]
    }
   ],
   "source": [
    "class abc:\n",
    "    id=10\n",
    "    name=\"shani\"\n",
    "    def shani(self):\n",
    "        a=10 # isntance varible\n",
    "        print(\"id %d\\nname is %s\" %(self.id,self.name))\n",
    "obj=abc()\n",
    "obj.shani()      "
   ]
  },
  {
   "cell_type": "markdown",
   "metadata": {},
   "source": [
    "## init function"
   ]
  },
  {
   "cell_type": "code",
   "execution_count": 5,
   "metadata": {},
   "outputs": [
    {
     "name": "stdout",
     "output_type": "stream",
     "text": [
      "value of a is 1 and value of b is 2\n",
      "value of a is 2 and value of b is 3\n"
     ]
    }
   ],
   "source": [
    "class Abc:\n",
    "    def __init__(self,a,b):\n",
    "        self.a=a\n",
    "        self.b=b\n",
    "    def fun(self):\n",
    "        print(\"value of a is\",self.a,\"and value of b is\",self.b)\n",
    "obj=Abc(1,2)\n",
    "a=Abc(2,3)\n",
    "obj.fun()\n",
    "a.fun()"
   ]
  },
  {
   "cell_type": "markdown",
   "metadata": {},
   "source": [
    "# counting the no of object in class"
   ]
  },
  {
   "cell_type": "code",
   "execution_count": 2,
   "metadata": {},
   "outputs": [
    {
     "name": "stdout",
     "output_type": "stream",
     "text": [
      "Here is 3 object of this class\n"
     ]
    }
   ],
   "source": [
    "class Student:\n",
    "    count=0\n",
    "    def __init__(self):\n",
    "        Student.count=Student.count+1\n",
    "s1=Student()\n",
    "s2=Student()\n",
    "s3=Student()\n",
    "print(f\"Here is {Student.count} object of this class\")"
   ]
  },
  {
   "cell_type": "markdown",
   "metadata": {},
   "source": [
    "# default or non parametrized constructor"
   ]
  },
  {
   "cell_type": "code",
   "execution_count": 51,
   "metadata": {},
   "outputs": [
    {
     "name": "stdout",
     "output_type": "stream",
     "text": [
      "default constructor\n",
      "the value of a is 2\n",
      "and b is 3\n"
     ]
    }
   ],
   "source": [
    "class abc:\n",
    "    def __init__(self):\n",
    "        print(\"default constructor\")\n",
    "    def fun(self,a,b):\n",
    "        print(f\"the value of a is {a}\\nand b is {b}\")\n",
    "obj=abc()\n",
    "obj.fun(2,3)"
   ]
  },
  {
   "cell_type": "markdown",
   "metadata": {},
   "source": [
    "## paramertrized construcor"
   ]
  },
  {
   "cell_type": "code",
   "execution_count": 13,
   "metadata": {},
   "outputs": [
    {
     "name": "stdout",
     "output_type": "stream",
     "text": [
      "parametrized constructor\n",
      "value of a is  2 \n",
      "and b is  3\n"
     ]
    }
   ],
   "source": [
    "class abc:\n",
    "    def __init__(self,a,b):\n",
    "        print(\"parametrized constructor\")\n",
    "        self.a=a\n",
    "        self.b=b\n",
    "    def fun(self):\n",
    "        print(\"value of a is \",self.a,\"\\nand b is \",self.b)\n",
    "obj=abc(2,3)\n",
    "obj.fun()"
   ]
  },
  {
   "cell_type": "code",
   "execution_count": 28,
   "metadata": {},
   "outputs": [
    {
     "name": "stdout",
     "output_type": "stream",
     "text": [
      "shani\n",
      "23\n"
     ]
    }
   ],
   "source": [
    "class shani:\n",
    "    def __init__(self,name,age):\n",
    "        self.name=name\n",
    "        self.age=age\n",
    "obj=shani(\"shani\",23)\n",
    "print(obj.name)\n",
    "print(obj.age)\n",
    "        "
   ]
  },
  {
   "cell_type": "code",
   "execution_count": 30,
   "metadata": {},
   "outputs": [
    {
     "name": "stdout",
     "output_type": "stream",
     "text": [
      "hello my name is shani\n"
     ]
    }
   ],
   "source": [
    "class shani:\n",
    "    def __init__(self,name,age):\n",
    "        self.name=name\n",
    "        self.age=age\n",
    "    def myfun(self):\n",
    "        print(\"hello my name is \"+self.name)\n",
    "obj=shani(\"shani\",23)\n",
    "obj.myfun()\n"
   ]
  },
  {
   "cell_type": "code",
   "execution_count": 3,
   "metadata": {},
   "outputs": [
    {
     "name": "stdout",
     "output_type": "stream",
     "text": [
      "addition is 5 \n",
      "multiply is 6\n"
     ]
    }
   ],
   "source": [
    "class shani:\n",
    "    def __init__(self,a,b):\n",
    "        self.a=a\n",
    "        self.b=b\n",
    "    def add(self):\n",
    "        print(\"addition is {} \".format(self.a+self.b))\n",
    "    def mul(self):\n",
    "        print(\"multiply is {}\".format(self.a*self.b))\n",
    "obj=shani(2,3)\n",
    "obj.add()\n",
    "obj.mul()\n"
   ]
  },
  {
   "cell_type": "code",
   "execution_count": 35,
   "metadata": {},
   "outputs": [
    {
     "name": "stdout",
     "output_type": "stream",
     "text": [
      "hello my name is shani\n",
      "and my age is 23\n"
     ]
    }
   ],
   "source": [
    "class shani:\n",
    "    def __init__(self,name,age):\n",
    "        self.name=name\n",
    "        self.age=age\n",
    "    def myfun(self):\n",
    "        print(\"hello my name is \"+self.name)\n",
    "    def fun(self):\n",
    "        print(\"and my age is {}\".format(self.age))\n",
    "obj=shani(\"shani\",23)\n",
    "obj.myfun()\n",
    "obj.fun()\n"
   ]
  },
  {
   "cell_type": "code",
   "execution_count": 38,
   "metadata": {},
   "outputs": [
    {
     "name": "stdout",
     "output_type": "stream",
     "text": [
      "hello my name is shani\n",
      "and my age is 23\n",
      "hello my name is amit\n",
      "and my age is 34\n"
     ]
    }
   ],
   "source": [
    "class shani:\n",
    "    def __init__(self,name,age):\n",
    "        self.name=name\n",
    "        self.age=age\n",
    "    def myfun(self):\n",
    "        print(\"hello my name is \"+self.name)\n",
    "    def fun(self):\n",
    "        print(\"and my age is {}\".format(self.age))\n",
    "obj=shani(\"shani\",23)\n",
    "obj.myfun()\n",
    "obj.fun()\n",
    "ob=shani(\"amit\",34)\n",
    "ob.myfun()\n",
    "ob.fun()\n"
   ]
  },
  {
   "cell_type": "code",
   "execution_count": 41,
   "metadata": {},
   "outputs": [
    {
     "name": "stdout",
     "output_type": "stream",
     "text": [
      "hello my name is shani\n",
      "and my age is 23\n",
      "hello my name is amit\n",
      "and my age is 34\n"
     ]
    }
   ],
   "source": [
    "class shani:\n",
    "    def __init__(self,name,age):\n",
    "        self.name=name\n",
    "        self.age=age\n",
    "    def myfun(self):\n",
    "        print(\"hello my name is \"+self.name)\n",
    "    def fun(self):\n",
    "        print(\"and my age is {}\".format(self.age))\n",
    "obj=shani(\"shani\",23)\n",
    "obj.myfun()\n",
    "obj.fun()\n",
    "ob=shani(\"amit\",34)\n",
    "ob.myfun()\n",
    "ob.fun()\n"
   ]
  },
  {
   "cell_type": "code",
   "execution_count": 3,
   "metadata": {},
   "outputs": [
    {
     "name": "stdout",
     "output_type": "stream",
     "text": [
      "enter the roll no12\n",
      "the roll no is 12\n"
     ]
    }
   ],
   "source": [
    "class shani:\n",
    "    def __init__(self):\n",
    "        self.a=0\n",
    "    def roll(self):\n",
    "        self.a=int(input(\"enter the roll no\"))\n",
    "    def show(self):\n",
    "        print(\"the roll no is\",self.a)\n",
    "a=shani()\n",
    "a.roll()\n",
    "a.show()"
   ]
  },
  {
   "cell_type": "code",
   "execution_count": 4,
   "metadata": {},
   "outputs": [
    {
     "name": "stdout",
     "output_type": "stream",
     "text": [
      "enter the roll no20\n",
      "enter nameshani\n",
      "the roll no is 20\n",
      "name is  shani\n"
     ]
    }
   ],
   "source": [
    "class shani:\n",
    "    def __init__(self):\n",
    "        self.a=0\n",
    "        self.b=\"\"\n",
    "    def roll(self):\n",
    "        self.a=int(input(\"enter the roll no\"))\n",
    "        self.b=input(\"enter name\")\n",
    "    def show(self):\n",
    "        print(\"the roll no is\",self.a)\n",
    "        print(\"name is \",self.b)\n",
    "a=shani()\n",
    "a.roll()\n",
    "a.show()"
   ]
  },
  {
   "cell_type": "code",
   "execution_count": 13,
   "metadata": {},
   "outputs": [
    {
     "name": "stdout",
     "output_type": "stream",
     "text": [
      "enter the roll no 1613810080\n",
      "enter name shani kumar bharati\n",
      "the roll no is 1613810080.0\n",
      "name is  shani kumar bharati\n",
      "enter the roll no 1613810065\n",
      "enter name pradeep kumar\n",
      "the roll no is 1613810065.0\n",
      "name is  pradeep kumar\n"
     ]
    }
   ],
   "source": [
    "class shani:\n",
    "    def __init__(self):\n",
    "        self.a=0\n",
    "        self.b=\"\"\n",
    "    def roll(self):\n",
    "        self.a=float(input(\"enter the roll no \"))\n",
    "        self.b=input(\"enter name \")\n",
    "    def show(self):\n",
    "        print(\"the roll no is\",self.a)\n",
    "        print(\"name is \",self.b)\n",
    "a=shani()\n",
    "a.roll()\n",
    "a.show()\n",
    "b=shani()\n",
    "b.roll()\n",
    "b.show()"
   ]
  },
  {
   "cell_type": "code",
   "execution_count": 21,
   "metadata": {},
   "outputs": [
    {
     "name": "stdout",
     "output_type": "stream",
     "text": [
      "enter first no12\n",
      "enter second no12\n",
      "the addition no is 24\n"
     ]
    }
   ],
   "source": [
    "class shani:\n",
    "    def __init__(self,a,b):\n",
    "        self.a=\"<no no>\"\n",
    "        self.b=\"<no no>\"\n",
    "    def roll(self):\n",
    "        self.a=int(input(\"enter first no\"))\n",
    "        self.b=int(input(\"enter second no\"))\n",
    "    def show(self):\n",
    "        x=self.a+self.b\n",
    "        print(\"the addition no is\",x)\n",
    "a=shani(a,b)\n",
    "a.roll()\n",
    "a.show()"
   ]
  },
  {
   "cell_type": "code",
   "execution_count": 22,
   "metadata": {},
   "outputs": [
    {
     "name": "stdout",
     "output_type": "stream",
     "text": [
      "enter first no1\n",
      "enter second no2\n",
      "the addition no is 6\n"
     ]
    }
   ],
   "source": [
    "class shani:\n",
    "    def __init__(self,a,b):\n",
    "        self.a=\"<no no>\"\n",
    "        self.b=\"<no no>\"\n",
    "    def roll(self):\n",
    "        self.a=int(input(\"enter first no\"))\n",
    "        self.b=int(input(\"enter second no\"))\n",
    "    def show(self,c,d):\n",
    "        x=self.a+self.b+c+d\n",
    "        print(\"the addition no is\",x)\n",
    "a=shani(a,b)\n",
    "a.roll()\n",
    "a.show(1,2)"
   ]
  },
  {
   "cell_type": "code",
   "execution_count": 11,
   "metadata": {},
   "outputs": [],
   "source": [
    "class math:\n",
    "    def add(self,a,b):\n",
    "        self.a=a\n",
    "        self.b=b\n",
    "        c=self.a+self.b\n",
    "        print(\"ADDITION IS = \",c)\n",
    "    def substract(self,a,b):\n",
    "        self.a=a\n",
    "        self.b=b\n",
    "        d=self.a-self.b\n",
    "        print(\"SUBSTRACTION IS = \",d)\n",
    "    def mul(self,a,b):\n",
    "        self.a=a\n",
    "        self.b=b\n",
    "        e=self.a*self.b\n",
    "        print(\"MULTIPLICATION IS = \",e)\n",
    "    def div(self,a,b):\n",
    "        self.a=a\n",
    "        self.b=b\n",
    "        f=self.a/self.b\n",
    "        print(\"DIVISON IS = \",f)"
   ]
  },
  {
   "cell_type": "code",
   "execution_count": 12,
   "metadata": {},
   "outputs": [],
   "source": [
    "obj=math()"
   ]
  },
  {
   "cell_type": "code",
   "execution_count": 13,
   "metadata": {},
   "outputs": [
    {
     "name": "stdout",
     "output_type": "stream",
     "text": [
      "ADDITION IS =  30\n"
     ]
    }
   ],
   "source": [
    "obj.add(10,20)"
   ]
  },
  {
   "cell_type": "code",
   "execution_count": 14,
   "metadata": {},
   "outputs": [
    {
     "name": "stdout",
     "output_type": "stream",
     "text": [
      "SUBSTRACTION IS =  10\n"
     ]
    }
   ],
   "source": [
    "obj.substract(30,20)"
   ]
  },
  {
   "cell_type": "code",
   "execution_count": 15,
   "metadata": {},
   "outputs": [
    {
     "name": "stdout",
     "output_type": "stream",
     "text": [
      "DIVISON IS =  1.2857142857142858\n"
     ]
    }
   ],
   "source": [
    "obj.div(9,7)"
   ]
  },
  {
   "cell_type": "code",
   "execution_count": 28,
   "metadata": {},
   "outputs": [
    {
     "name": "stdout",
     "output_type": "stream",
     "text": [
      "shani kumar\n"
     ]
    }
   ],
   "source": [
    "class shani:\n",
    "    \"mai shani kumar hu\"\n",
    "    def __init__(self):\n",
    "        print(\"shani kumar\")\n",
    "a=shani()"
   ]
  },
  {
   "cell_type": "code",
   "execution_count": 29,
   "metadata": {},
   "outputs": [
    {
     "name": "stdout",
     "output_type": "stream",
     "text": [
      "mai shani kumar hu\n"
     ]
    }
   ],
   "source": [
    "print(shani.__doc__)"
   ]
  },
  {
   "cell_type": "code",
   "execution_count": 30,
   "metadata": {},
   "outputs": [
    {
     "name": "stdout",
     "output_type": "stream",
     "text": [
      "{'__module__': '__main__', '__doc__': 'mai shani kumar hu', '__init__': <function shani.__init__ at 0x00000116851431E0>, '__dict__': <attribute '__dict__' of 'shani' objects>, '__weakref__': <attribute '__weakref__' of 'shani' objects>}\n"
     ]
    }
   ],
   "source": [
    "print(shani.__dict__)"
   ]
  },
  {
   "cell_type": "code",
   "execution_count": 31,
   "metadata": {},
   "outputs": [
    {
     "name": "stdout",
     "output_type": "stream",
     "text": [
      "shani\n"
     ]
    }
   ],
   "source": [
    "print(shani.__name__)"
   ]
  },
  {
   "cell_type": "code",
   "execution_count": 32,
   "metadata": {},
   "outputs": [
    {
     "data": {
      "text/plain": [
       "1196218263592"
      ]
     },
     "execution_count": 32,
     "metadata": {},
     "output_type": "execute_result"
    }
   ],
   "source": [
    "id(shani)"
   ]
  },
  {
   "cell_type": "code",
   "execution_count": 30,
   "metadata": {},
   "outputs": [
    {
     "name": "stdout",
     "output_type": "stream",
     "text": [
      "shani kumar 30\n"
     ]
    }
   ],
   "source": [
    "class shani:\n",
    "    def __init__(self):\n",
    "        self.a=10\n",
    "    def value(self):\n",
    "        print(\"shani kumar\",self.a)\n",
    "                \n",
    "b=shani()\n",
    "b.a=30\n",
    "b.value()\n"
   ]
  },
  {
   "cell_type": "code",
   "execution_count": 18,
   "metadata": {},
   "outputs": [
    {
     "name": "stdout",
     "output_type": "stream",
     "text": [
      "5\n"
     ]
    }
   ],
   "source": [
    "class abc:\n",
    "    def __init__(self):\n",
    "        pass\n",
    "    def add(self,a,b):\n",
    "        print(a+b)\n",
    "        \n",
    "a=abc()\n",
    "a.add(2,3)"
   ]
  },
  {
   "cell_type": "code",
   "execution_count": 10,
   "metadata": {},
   "outputs": [
    {
     "name": "stdout",
     "output_type": "stream",
     "text": [
      "20\n",
      "30\n",
      "50\n"
     ]
    }
   ],
   "source": [
    "class example:\n",
    "    def __init__(self,x):\n",
    "        self.x=x\n",
    "        print(self.x)\n",
    "    def data(self,y):\n",
    "        self.y=y\n",
    "        print(self.y)\n",
    "    def add(self):\n",
    "        print(self.x+self.y)\n",
    "    \n",
    "a=example(20)\n",
    "a.data(30)\n",
    "a.add()"
   ]
  },
  {
   "cell_type": "markdown",
   "metadata": {},
   "source": [
    "# list class"
   ]
  },
  {
   "cell_type": "code",
   "execution_count": 84,
   "metadata": {},
   "outputs": [
    {
     "name": "stdout",
     "output_type": "stream",
     "text": [
      "[1, 2, 3, 4, 5, 6, 7, 8]\n",
      "8\n"
     ]
    }
   ],
   "source": [
    "class list1:\n",
    "    def __init__(self,*a):\n",
    "        self.a=a\n",
    "        print(list(self.a))\n",
    "    def length(self):\n",
    "        print(len(self.a))\n",
    "    def max1(self):\n",
    "        print(max(self.a))\n",
    "    def append1(self,p):\n",
    "        new=list(self.a)+[p]\n",
    "        print(list(new))\n",
    "        \n",
    "        \n",
    "t=list1(1,2,3,4,5,6,7,8)\n",
    "t.length()"
   ]
  },
  {
   "cell_type": "code",
   "execution_count": 80,
   "metadata": {},
   "outputs": [
    {
     "name": "stdout",
     "output_type": "stream",
     "text": [
      "8\n"
     ]
    }
   ],
   "source": [
    "t.max1()"
   ]
  },
  {
   "cell_type": "code",
   "execution_count": 82,
   "metadata": {},
   "outputs": [
    {
     "name": "stdout",
     "output_type": "stream",
     "text": [
      "[1, 2, 3, 4, 5, 6, 7, 8, 20]\n"
     ]
    }
   ],
   "source": [
    "t.append1(20)"
   ]
  },
  {
   "cell_type": "code",
   "execution_count": 83,
   "metadata": {},
   "outputs": [
    {
     "name": "stdout",
     "output_type": "stream",
     "text": [
      "[1, 2, 3, 4, 5, 6, 7, 8, 30]\n"
     ]
    }
   ],
   "source": [
    "t.append1(30)"
   ]
  }
 ],
 "metadata": {
  "kernelspec": {
   "display_name": "Python 3",
   "language": "python",
   "name": "python3"
  },
  "language_info": {
   "codemirror_mode": {
    "name": "ipython",
    "version": 3
   },
   "file_extension": ".py",
   "mimetype": "text/x-python",
   "name": "python",
   "nbconvert_exporter": "python",
   "pygments_lexer": "ipython3",
   "version": "3.6.5"
  }
 },
 "nbformat": 4,
 "nbformat_minor": 2
}
